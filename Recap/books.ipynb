{
 "cells": [
  {
   "cell_type": "markdown",
   "metadata": {},
   "source": [
    "# CSV + API\n",
    "\n",
    "In this reboot, we are going to use:\n",
    "\n",
    "- The [Goodreads books](https://www.kaggle.com/jealousleopard/goodreadsbooks) dataset from Kaggle.\n",
    "- The [Open Library Books API](https://openlibrary.org/dev/docs/api/books)\n",
    "\n",
    "The goal of this livecode is to load the data from a CSV + loop over rows to enrich each row with information such as:\n",
    "\n",
    "- List of subjects (Science, Humor, Travel, etc.)\n",
    "- The cover URL of the book\n",
    "- Other information you'd find useful in the JSON API"
   ]
  },
  {
   "cell_type": "markdown",
   "metadata": {},
   "source": [
    "First, download the CSV in the local folder:"
   ]
  },
  {
   "cell_type": "code",
   "execution_count": 1,
   "metadata": {},
   "outputs": [
    {
     "name": "stdout",
     "output_type": "stream",
     "text": [
      "  % Total    % Received % Xferd  Average Speed   Time    Time     Time  Current\n",
      "                                 Dload  Upload   Total   Spent    Left  Speed\n",
      "100 1509k  100 1509k    0     0   125k      0  0:00:12  0:00:12 --:--:-- 67160\n"
     ]
    }
   ],
   "source": [
    "!curl -L https://gist.githubusercontent.com/ssaunier/351b17f5a7a009808b60aeacd1f4a036/raw/books.csv > books.csv"
   ]
  },
  {
   "cell_type": "code",
   "execution_count": 4,
   "metadata": {},
   "outputs": [
    {
     "name": "stdout",
     "output_type": "stream",
     "text": [
      "bookID,title,authors,average_rating,isbn,isbn13,language_code,# num_pages,ratings_count,text_reviews_count\r\n",
      "1,Harry Potter and the Half-Blood Prince (Harry Potter  #6),J.K. Rowling-Mary GrandPré,4.56,0439785960,9780439785969,eng,652,1944099,26249\r\n",
      "2,Harry Potter and the Order of the Phoenix (Harry Potter  #5),J.K. Rowling-Mary GrandPré,4.49,0439358078,9780439358071,eng,870,1996446,27613\r\n"
     ]
    }
   ],
   "source": [
    "!head -n 3 books.csv"
   ]
  },
  {
   "cell_type": "markdown",
   "metadata": {},
   "source": [
    "Then import the usual suspects!"
   ]
  },
  {
   "cell_type": "code",
   "execution_count": 5,
   "metadata": {},
   "outputs": [],
   "source": [
    "import requests\n",
    "import pandas as pd\n",
    "import numpy as np"
   ]
  },
  {
   "cell_type": "markdown",
   "metadata": {},
   "source": [
    "## Load books from CSV"
   ]
  },
  {
   "cell_type": "code",
   "execution_count": 6,
   "metadata": {
    "tags": [
     "challengify"
    ]
   },
   "outputs": [],
   "source": [
    "books_df = pd.read_csv('books.csv')"
   ]
  },
  {
   "cell_type": "code",
   "execution_count": 15,
   "metadata": {},
   "outputs": [],
   "source": [
    "books_df.set_index('isbn', inplace=True)"
   ]
  },
  {
   "cell_type": "code",
   "execution_count": 39,
   "metadata": {},
   "outputs": [],
   "source": [
    "books_df['price'] = ''"
   ]
  },
  {
   "cell_type": "code",
   "execution_count": 40,
   "metadata": {},
   "outputs": [
    {
     "data": {
      "text/html": [
       "<div>\n",
       "<style scoped>\n",
       "    .dataframe tbody tr th:only-of-type {\n",
       "        vertical-align: middle;\n",
       "    }\n",
       "\n",
       "    .dataframe tbody tr th {\n",
       "        vertical-align: top;\n",
       "    }\n",
       "\n",
       "    .dataframe thead th {\n",
       "        text-align: right;\n",
       "    }\n",
       "</style>\n",
       "<table border=\"1\" class=\"dataframe\">\n",
       "  <thead>\n",
       "    <tr style=\"text-align: right;\">\n",
       "      <th></th>\n",
       "      <th>bookID</th>\n",
       "      <th>title</th>\n",
       "      <th>authors</th>\n",
       "      <th>average_rating</th>\n",
       "      <th>isbn13</th>\n",
       "      <th>language_code</th>\n",
       "      <th># num_pages</th>\n",
       "      <th>ratings_count</th>\n",
       "      <th>text_reviews_count</th>\n",
       "      <th>price</th>\n",
       "    </tr>\n",
       "    <tr>\n",
       "      <th>isbn</th>\n",
       "      <th></th>\n",
       "      <th></th>\n",
       "      <th></th>\n",
       "      <th></th>\n",
       "      <th></th>\n",
       "      <th></th>\n",
       "      <th></th>\n",
       "      <th></th>\n",
       "      <th></th>\n",
       "      <th></th>\n",
       "    </tr>\n",
       "  </thead>\n",
       "  <tbody>\n",
       "    <tr>\n",
       "      <th>0439785960</th>\n",
       "      <td>1</td>\n",
       "      <td>Harry Potter and the Half-Blood Prince (Harry ...</td>\n",
       "      <td>J.K. Rowling-Mary GrandPré</td>\n",
       "      <td>4.56</td>\n",
       "      <td>9780439785969</td>\n",
       "      <td>eng</td>\n",
       "      <td>652</td>\n",
       "      <td>1944099</td>\n",
       "      <td>26249</td>\n",
       "      <td></td>\n",
       "    </tr>\n",
       "    <tr>\n",
       "      <th>0439358078</th>\n",
       "      <td>2</td>\n",
       "      <td>Harry Potter and the Order of the Phoenix (Har...</td>\n",
       "      <td>J.K. Rowling-Mary GrandPré</td>\n",
       "      <td>4.49</td>\n",
       "      <td>9780439358071</td>\n",
       "      <td>eng</td>\n",
       "      <td>870</td>\n",
       "      <td>1996446</td>\n",
       "      <td>27613</td>\n",
       "      <td></td>\n",
       "    </tr>\n",
       "    <tr>\n",
       "      <th>0439554934</th>\n",
       "      <td>3</td>\n",
       "      <td>Harry Potter and the Sorcerer's Stone (Harry P...</td>\n",
       "      <td>J.K. Rowling-Mary GrandPré</td>\n",
       "      <td>4.47</td>\n",
       "      <td>9780439554930</td>\n",
       "      <td>eng</td>\n",
       "      <td>320</td>\n",
       "      <td>5629932</td>\n",
       "      <td>70390</td>\n",
       "      <td></td>\n",
       "    </tr>\n",
       "    <tr>\n",
       "      <th>0439554896</th>\n",
       "      <td>4</td>\n",
       "      <td>Harry Potter and the Chamber of Secrets (Harry...</td>\n",
       "      <td>J.K. Rowling</td>\n",
       "      <td>4.41</td>\n",
       "      <td>9780439554893</td>\n",
       "      <td>eng</td>\n",
       "      <td>352</td>\n",
       "      <td>6267</td>\n",
       "      <td>272</td>\n",
       "      <td></td>\n",
       "    </tr>\n",
       "    <tr>\n",
       "      <th>043965548X</th>\n",
       "      <td>5</td>\n",
       "      <td>Harry Potter and the Prisoner of Azkaban (Harr...</td>\n",
       "      <td>J.K. Rowling-Mary GrandPré</td>\n",
       "      <td>4.55</td>\n",
       "      <td>9780439655484</td>\n",
       "      <td>eng</td>\n",
       "      <td>435</td>\n",
       "      <td>2149872</td>\n",
       "      <td>33964</td>\n",
       "      <td></td>\n",
       "    </tr>\n",
       "    <tr>\n",
       "      <th>...</th>\n",
       "      <td>...</td>\n",
       "      <td>...</td>\n",
       "      <td>...</td>\n",
       "      <td>...</td>\n",
       "      <td>...</td>\n",
       "      <td>...</td>\n",
       "      <td>...</td>\n",
       "      <td>...</td>\n",
       "      <td>...</td>\n",
       "      <td>...</td>\n",
       "    </tr>\n",
       "    <tr>\n",
       "      <th>0061186422</th>\n",
       "      <td>47699</td>\n",
       "      <td>M Is for Magic</td>\n",
       "      <td>Neil Gaiman-Teddy Kristiansen</td>\n",
       "      <td>3.82</td>\n",
       "      <td>9780061186424</td>\n",
       "      <td>eng</td>\n",
       "      <td>260</td>\n",
       "      <td>11317</td>\n",
       "      <td>1060</td>\n",
       "      <td></td>\n",
       "    </tr>\n",
       "    <tr>\n",
       "      <th>0930289552</th>\n",
       "      <td>47700</td>\n",
       "      <td>Black Orchid</td>\n",
       "      <td>Neil Gaiman-Dave McKean</td>\n",
       "      <td>3.72</td>\n",
       "      <td>9780930289553</td>\n",
       "      <td>eng</td>\n",
       "      <td>160</td>\n",
       "      <td>8710</td>\n",
       "      <td>361</td>\n",
       "      <td></td>\n",
       "    </tr>\n",
       "    <tr>\n",
       "      <th>0061238961</th>\n",
       "      <td>47701</td>\n",
       "      <td>InterWorld (InterWorld  #1)</td>\n",
       "      <td>Neil Gaiman-Michael Reaves</td>\n",
       "      <td>3.53</td>\n",
       "      <td>9780061238963</td>\n",
       "      <td>en-US</td>\n",
       "      <td>239</td>\n",
       "      <td>14334</td>\n",
       "      <td>1485</td>\n",
       "      <td></td>\n",
       "    </tr>\n",
       "    <tr>\n",
       "      <th>0743201116</th>\n",
       "      <td>47708</td>\n",
       "      <td>The Faeries' Oracle</td>\n",
       "      <td>Brian Froud-Jessica Macbeth</td>\n",
       "      <td>4.43</td>\n",
       "      <td>9780743201117</td>\n",
       "      <td>eng</td>\n",
       "      <td>224</td>\n",
       "      <td>1550</td>\n",
       "      <td>38</td>\n",
       "      <td></td>\n",
       "    </tr>\n",
       "    <tr>\n",
       "      <th>1862056242</th>\n",
       "      <td>47709</td>\n",
       "      <td>The World of The Dark Crystal</td>\n",
       "      <td>Brian Froud</td>\n",
       "      <td>4.29</td>\n",
       "      <td>9781862056244</td>\n",
       "      <td>eng</td>\n",
       "      <td>132</td>\n",
       "      <td>3572</td>\n",
       "      <td>33</td>\n",
       "      <td></td>\n",
       "    </tr>\n",
       "  </tbody>\n",
       "</table>\n",
       "<p>13719 rows × 10 columns</p>\n",
       "</div>"
      ],
      "text/plain": [
       "            bookID                                              title  \\\n",
       "isbn                                                                    \n",
       "0439785960       1  Harry Potter and the Half-Blood Prince (Harry ...   \n",
       "0439358078       2  Harry Potter and the Order of the Phoenix (Har...   \n",
       "0439554934       3  Harry Potter and the Sorcerer's Stone (Harry P...   \n",
       "0439554896       4  Harry Potter and the Chamber of Secrets (Harry...   \n",
       "043965548X       5  Harry Potter and the Prisoner of Azkaban (Harr...   \n",
       "...            ...                                                ...   \n",
       "0061186422   47699                                     M Is for Magic   \n",
       "0930289552   47700                                       Black Orchid   \n",
       "0061238961   47701                        InterWorld (InterWorld  #1)   \n",
       "0743201116   47708                                The Faeries' Oracle   \n",
       "1862056242   47709                      The World of The Dark Crystal   \n",
       "\n",
       "                                  authors  average_rating         isbn13  \\\n",
       "isbn                                                                       \n",
       "0439785960     J.K. Rowling-Mary GrandPré            4.56  9780439785969   \n",
       "0439358078     J.K. Rowling-Mary GrandPré            4.49  9780439358071   \n",
       "0439554934     J.K. Rowling-Mary GrandPré            4.47  9780439554930   \n",
       "0439554896                   J.K. Rowling            4.41  9780439554893   \n",
       "043965548X     J.K. Rowling-Mary GrandPré            4.55  9780439655484   \n",
       "...                                   ...             ...            ...   \n",
       "0061186422  Neil Gaiman-Teddy Kristiansen            3.82  9780061186424   \n",
       "0930289552        Neil Gaiman-Dave McKean            3.72  9780930289553   \n",
       "0061238961     Neil Gaiman-Michael Reaves            3.53  9780061238963   \n",
       "0743201116    Brian Froud-Jessica Macbeth            4.43  9780743201117   \n",
       "1862056242                    Brian Froud            4.29  9781862056244   \n",
       "\n",
       "           language_code  # num_pages  ratings_count  text_reviews_count price  \n",
       "isbn                                                                            \n",
       "0439785960           eng          652        1944099               26249        \n",
       "0439358078           eng          870        1996446               27613        \n",
       "0439554934           eng          320        5629932               70390        \n",
       "0439554896           eng          352           6267                 272        \n",
       "043965548X           eng          435        2149872               33964        \n",
       "...                  ...          ...            ...                 ...   ...  \n",
       "0061186422           eng          260          11317                1060        \n",
       "0930289552           eng          160           8710                 361        \n",
       "0061238961         en-US          239          14334                1485        \n",
       "0743201116           eng          224           1550                  38        \n",
       "1862056242           eng          132           3572                  33        \n",
       "\n",
       "[13719 rows x 10 columns]"
      ]
     },
     "execution_count": 40,
     "metadata": {},
     "output_type": "execute_result"
    }
   ],
   "source": [
    "books_df"
   ]
  },
  {
   "cell_type": "code",
   "execution_count": 37,
   "metadata": {},
   "outputs": [],
   "source": [
    "google_api_key = '' #Replace with your own api key\n",
    "\n",
    "def fetch_from_google_books(title):\n",
    "#     url = f'https://www.googleapis.com/books/v1/volumes?q=isbn:{isbn}&key={google_api_key}'\n",
    "    url = f'https://www.googleapis.com/books/v1/volumes?q=intitle:{title}&key={google_api_key}'\n",
    "\n",
    "    try:\n",
    "        response = requests.get(url)\n",
    "        for book in response.json()['items']:\n",
    "#             if 'saleInfo' in book:# and ('listPrice' in book['saleInfo'] or 'retailPrice' in book['saleInfo']):\n",
    "            if ('listPrice' not in book['saleInfo']) and ('retailPrice' not in book['saleInfo']):\n",
    "                return ''\n",
    "            if 'listPrice' in book['saleInfo']:\n",
    "                return book['saleInfo']['listPrice']['amount']\n",
    "            else:\n",
    "                return book['saleInfo']['retailPrice']['amount']\n",
    "    except KeyError:\n",
    "        return ''"
   ]
  },
  {
   "cell_type": "code",
   "execution_count": 50,
   "metadata": {},
   "outputs": [
    {
     "name": "stdout",
     "output_type": "stream",
     "text": [
      "Fetching for:  0439785960\n",
      "Fetching for:  0439358078\n",
      "Fetching for:  0439554934\n",
      "Fetching for:  0439554896\n",
      "Fetching for:  043965548X\n",
      "Fetching for:  0439682584\n",
      "Fetching for:  0976540606\n",
      "Fetching for:  0439827604\n",
      "Fetching for:  0517226952\n",
      "Fetching for:  0345453743\n",
      "Fetching for:  1400052920\n",
      "Fetching for:  0739322206\n",
      "Fetching for:  0517149257\n",
      "Fetching for:  076790818X\n",
      "Fetching for:  0767915062\n",
      "Fetching for:  0767910435\n",
      "Fetching for:  0767903862\n",
      "Fetching for:  076790382X\n",
      "Fetching for:  0060920084\n",
      "Fetching for:  0380713802\n",
      "Fetching for:  0380727501\n",
      "Fetching for:  0380715430\n",
      "Fetching for:  0345538374\n",
      "Fetching for:  0618517650\n",
      "Fetching for:  0618346244\n",
      "Fetching for:  0618346252\n",
      "Fetching for:  0618260587\n",
      "Fetching for:  0618391002\n",
      "Fetching for:  0618510826\n",
      "Fetching for:  0618153977\n",
      "Fetching for:  193337201X\n",
      "Fetching for:  097669400X\n",
      "Fetching for:  0689840926\n",
      "Fetching for:  1557344493\n",
      "Fetching for:  0385326505\n",
      "Fetching for:  1575606240\n",
      "Fetching for:  1595580271\n",
      "Fetching for:  1595962808\n",
      "Fetching for:  0670059676\n",
      "Fetching for:  0141312629\n",
      "Fetching for:  0595321801\n",
      "Fetching for:  1590301943\n",
      "Fetching for:  0449146979\n",
      "Fetching for:  0061159174\n",
      "Fetching for:  006076273X\n",
      "Fetching for:  0060749911\n",
      "Fetching for:  0273704745\n",
      "Fetching for:  1932386106\n",
      "Fetching for:  096513671X\n",
      "Fetching for:  0374517193\n",
      "Fetching for:  0374280398\n",
      "Fetching for:  0374519749\n",
      "Fetching for:  0374522596\n",
      "Fetching for:  0374518734\n",
      "Fetching for:  0374522871\n",
      "Fetching for:  0374519323\n",
      "Fetching for:  0374516006\n",
      "Fetching for:  0374520658\n",
      "Fetching for:  0822205106\n",
      "Fetching for:  0679734996\n",
      "Fetching for:  1596670231\n",
      "Fetching for:  1581807740\n",
      "Fetching for:  0800793617\n",
      "Fetching for:  0871202867\n",
      "Fetching for:  0753454947\n",
      "Fetching for:  0871209993\n",
      "Fetching for:  1852402873\n",
      "Fetching for:  0761129588\n",
      "Fetching for:  0972016414\n",
      "Fetching for:  1581805632\n",
      "Fetching for:  0441294677\n",
      "Fetching for:  0441102670\n",
      "Fetching for:  0441172695\n",
      "Fetching for:  0765306476\n",
      "Fetching for:  0399128980\n",
      "Fetching for:  0765353709\n",
      "Fetching for:  0441104029\n",
      "Fetching for:  0441328008\n",
      "Fetching for:  034541005X\n",
      "Fetching for:  0385732546\n",
      "Fetching for:  0785260056\n",
      "Fetching for:  0471780936\n",
      "Fetching for:  0325001537\n",
      "Fetching for:  006076287X\n",
      "Fetching for:  0470045299\n",
      "Fetching for:  0072262788\n",
      "Fetching for:  0764569244\n",
      "Fetching for:  0471933821\n",
      "Fetching for:  0764559915\n",
      "Fetching for:  0764584383\n",
      "Fetching for:  0596523696\n",
      "Fetching for:  0806523492\n",
      "Fetching for:  0806525363\n",
      "Fetching for:  0596527314\n",
      "Fetching for:  0143035002\n",
      "Fetching for:  0451528611\n",
      "Fetching for:  0140449175\n",
      "Fetching for:  0822001837\n",
      "Fetching for:  1593080271\n",
      "Fetching for:  0486437965\n"
     ]
    }
   ],
   "source": [
    "for index, book in books_df.head(100).iterrows():\n",
    "    print('Fetching for: ', index)\n",
    "    books_df.loc[index, 'price'] = fetch_from_google_books(book['title'])"
   ]
  },
  {
   "cell_type": "markdown",
   "metadata": {},
   "source": [
    "Let's add a new column"
   ]
  },
  {
   "cell_type": "code",
   "execution_count": 59,
   "metadata": {
    "scrolled": true
   },
   "outputs": [
    {
     "data": {
      "text/plain": [
       "<AxesSubplot:xlabel='average_rating', ylabel='ratings_count'>"
      ]
     },
     "execution_count": 59,
     "metadata": {},
     "output_type": "execute_result"
    },
    {
     "data": {
      "image/png": "[encoded data removed]",
      "text/plain": [
       "<Figure size 640x480 with 1 Axes>"
      ]
     },
     "metadata": {},
     "output_type": "display_data"
    }
   ],
   "source": [
    "books_df[books_df['price']!=''].plot.scatter(x='average_rating', y='ratings_count')"
   ]
  },
  {
   "cell_type": "code",
   "execution_count": 55,
   "metadata": {
    "tags": [
     "challengify"
    ]
   },
   "outputs": [
    {
     "data": {
      "text/plain": [
       "<AxesSubplot:xlabel='isbn'>"
      ]
     },
     "execution_count": 55,
     "metadata": {},
     "output_type": "execute_result"
    },
    {
     "data": {
      "image/png": "[encoded data removed]",
      "text/plain": [
       "<Figure size 640x480 with 1 Axes>"
      ]
     },
     "metadata": {},
     "output_type": "display_data"
    }
   ],
   "source": [
    "books_df[books_df['price']!='']['price'].plot()"
   ]
  },
  {
   "cell_type": "code",
   "execution_count": null,
   "metadata": {},
   "outputs": [],
   "source": []
  },
  {
   "cell_type": "markdown",
   "metadata": {},
   "source": [
    "## API - Open Library"
   ]
  },
  {
   "cell_type": "code",
   "execution_count": null,
   "metadata": {
    "tags": [
     "challengify"
    ]
   },
   "outputs": [],
   "source": [
    "# YOUR CODE HERE"
   ]
  },
  {
   "cell_type": "markdown",
   "metadata": {},
   "source": [
    "## Calling the API with multiple ISBNs at a time"
   ]
  },
  {
   "cell_type": "code",
   "execution_count": null,
   "metadata": {
    "tags": [
     "challengify"
    ]
   },
   "outputs": [],
   "source": [
    "# YOUR CODE HERE"
   ]
  }
 ],
 "metadata": {
  "kernelspec": {
   "display_name": "Python 3 (ipykernel)",
   "language": "python",
   "name": "python3"
  },
  "language_info": {
   "codemirror_mode": {
    "name": "ipython",
    "version": 3
   },
   "file_extension": ".py",
   "mimetype": "text/x-python",
   "name": "python",
   "nbconvert_exporter": "python",
   "pygments_lexer": "ipython3",
   "version": "3.10.6"
  },
  "toc": {
   "base_numbering": 1,
   "nav_menu": {},
   "number_sections": true,
   "sideBar": true,
   "skip_h1_title": false,
   "title_cell": "Table of Contents",
   "title_sidebar": "Contents",
   "toc_cell": false,
   "toc_position": {},
   "toc_section_display": true,
   "toc_window_display": false
  }
 },
 "nbformat": 4,
 "nbformat_minor": 4
}
