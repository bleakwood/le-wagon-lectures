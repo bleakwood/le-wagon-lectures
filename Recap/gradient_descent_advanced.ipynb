{
 "cells": [
  {
   "cell_type": "code",
   "execution_count": 13,
   "metadata": {},
   "outputs": [],
   "source": [
    "import pandas as pd\n",
    "import numpy as np\n",
    "import matplotlib.pyplot as plt\n",
    "import seaborn as sns\n",
    "\n",
    "from sklearn import datasets\n",
    "from sklearn.linear_model import LinearRegression\n",
    "from sklearn.model_selection import train_test_split\n",
    "from sklearn.metrics import mean_squared_error"
   ]
  },
  {
   "cell_type": "markdown",
   "metadata": {},
   "source": [
    "# Gradient Descent (Advanced)"
   ]
  },
  {
   "cell_type": "markdown",
   "metadata": {},
   "source": [
    "In this exercise, we will\n",
    "\n",
    "- Code our Gradient Descent in vectorized form for a high-dimensional Loss Function\n",
    "- Fine-tune your choice of # of epochs on GD"
   ]
  },
  {
   "cell_type": "markdown",
   "metadata": {},
   "source": [
    "## 1. Our Dataset"
   ]
  },
  {
   "cell_type": "markdown",
   "metadata": {},
   "source": [
    "We are going to study the [diabetes dataset](https://scikit-learn.org/stable/datasets/toy_dataset.html#diabetes-dataset) and try to predict the **intensity of the disease** based on **10 quantitative features**, such as body-mass-index, age, etc. (regression problem)"
   ]
  },
  {
   "cell_type": "code",
   "execution_count": 14,
   "metadata": {},
   "outputs": [
    {
     "name": "stdout",
     "output_type": "stream",
     "text": [
      "(442, 10)\n",
      "(442,)\n"
     ]
    }
   ],
   "source": [
    "X, y = datasets.load_diabetes(return_X_y = True, as_frame = True)\n",
    "\n",
    "print(X.shape)\n",
    "print(y.shape)"
   ]
  },
  {
   "cell_type": "code",
   "execution_count": 15,
   "metadata": {},
   "outputs": [
    {
     "data": {
      "text/plain": [
       "0      151.0\n",
       "1       75.0\n",
       "2      141.0\n",
       "3      206.0\n",
       "4      135.0\n",
       "       ...  \n",
       "437    178.0\n",
       "438    104.0\n",
       "439    132.0\n",
       "440    220.0\n",
       "441     57.0\n",
       "Name: target, Length: 442, dtype: float64"
      ]
     },
     "execution_count": 15,
     "metadata": {},
     "output_type": "execute_result"
    }
   ],
   "source": [
    "y"
   ]
  },
  {
   "cell_type": "code",
   "execution_count": 16,
   "metadata": {},
   "outputs": [
    {
     "data": {
      "text/plain": [
       "(442, 10)"
      ]
     },
     "execution_count": 16,
     "metadata": {},
     "output_type": "execute_result"
    }
   ],
   "source": [
    "X.shape"
   ]
  },
  {
   "cell_type": "code",
   "execution_count": 17,
   "metadata": {},
   "outputs": [
    {
     "data": {
      "text/html": [
       "<div>\n",
       "<style scoped>\n",
       "    .dataframe tbody tr th:only-of-type {\n",
       "        vertical-align: middle;\n",
       "    }\n",
       "\n",
       "    .dataframe tbody tr th {\n",
       "        vertical-align: top;\n",
       "    }\n",
       "\n",
       "    .dataframe thead th {\n",
       "        text-align: right;\n",
       "    }\n",
       "</style>\n",
       "<table border=\"1\" class=\"dataframe\">\n",
       "  <thead>\n",
       "    <tr style=\"text-align: right;\">\n",
       "      <th></th>\n",
       "      <th>age</th>\n",
       "      <th>sex</th>\n",
       "      <th>bmi</th>\n",
       "      <th>bp</th>\n",
       "      <th>s1</th>\n",
       "      <th>s2</th>\n",
       "      <th>s3</th>\n",
       "      <th>s4</th>\n",
       "      <th>s5</th>\n",
       "      <th>s6</th>\n",
       "    </tr>\n",
       "  </thead>\n",
       "  <tbody>\n",
       "    <tr>\n",
       "      <th>0</th>\n",
       "      <td>0.038076</td>\n",
       "      <td>0.050680</td>\n",
       "      <td>0.061696</td>\n",
       "      <td>0.021872</td>\n",
       "      <td>-0.044223</td>\n",
       "      <td>-0.034821</td>\n",
       "      <td>-0.043401</td>\n",
       "      <td>-0.002592</td>\n",
       "      <td>0.019907</td>\n",
       "      <td>-0.017646</td>\n",
       "    </tr>\n",
       "    <tr>\n",
       "      <th>1</th>\n",
       "      <td>-0.001882</td>\n",
       "      <td>-0.044642</td>\n",
       "      <td>-0.051474</td>\n",
       "      <td>-0.026328</td>\n",
       "      <td>-0.008449</td>\n",
       "      <td>-0.019163</td>\n",
       "      <td>0.074412</td>\n",
       "      <td>-0.039493</td>\n",
       "      <td>-0.068332</td>\n",
       "      <td>-0.092204</td>\n",
       "    </tr>\n",
       "    <tr>\n",
       "      <th>2</th>\n",
       "      <td>0.085299</td>\n",
       "      <td>0.050680</td>\n",
       "      <td>0.044451</td>\n",
       "      <td>-0.005670</td>\n",
       "      <td>-0.045599</td>\n",
       "      <td>-0.034194</td>\n",
       "      <td>-0.032356</td>\n",
       "      <td>-0.002592</td>\n",
       "      <td>0.002861</td>\n",
       "      <td>-0.025930</td>\n",
       "    </tr>\n",
       "    <tr>\n",
       "      <th>3</th>\n",
       "      <td>-0.089063</td>\n",
       "      <td>-0.044642</td>\n",
       "      <td>-0.011595</td>\n",
       "      <td>-0.036656</td>\n",
       "      <td>0.012191</td>\n",
       "      <td>0.024991</td>\n",
       "      <td>-0.036038</td>\n",
       "      <td>0.034309</td>\n",
       "      <td>0.022688</td>\n",
       "      <td>-0.009362</td>\n",
       "    </tr>\n",
       "    <tr>\n",
       "      <th>4</th>\n",
       "      <td>0.005383</td>\n",
       "      <td>-0.044642</td>\n",
       "      <td>-0.036385</td>\n",
       "      <td>0.021872</td>\n",
       "      <td>0.003935</td>\n",
       "      <td>0.015596</td>\n",
       "      <td>0.008142</td>\n",
       "      <td>-0.002592</td>\n",
       "      <td>-0.031988</td>\n",
       "      <td>-0.046641</td>\n",
       "    </tr>\n",
       "  </tbody>\n",
       "</table>\n",
       "</div>"
      ],
      "text/plain": [
       "        age       sex       bmi        bp        s1        s2        s3  \\\n",
       "0  0.038076  0.050680  0.061696  0.021872 -0.044223 -0.034821 -0.043401   \n",
       "1 -0.001882 -0.044642 -0.051474 -0.026328 -0.008449 -0.019163  0.074412   \n",
       "2  0.085299  0.050680  0.044451 -0.005670 -0.045599 -0.034194 -0.032356   \n",
       "3 -0.089063 -0.044642 -0.011595 -0.036656  0.012191  0.024991 -0.036038   \n",
       "4  0.005383 -0.044642 -0.036385  0.021872  0.003935  0.015596  0.008142   \n",
       "\n",
       "         s4        s5        s6  \n",
       "0 -0.002592  0.019907 -0.017646  \n",
       "1 -0.039493 -0.068332 -0.092204  \n",
       "2 -0.002592  0.002861 -0.025930  \n",
       "3  0.034309  0.022688 -0.009362  \n",
       "4 -0.002592 -0.031988 -0.046641  "
      ]
     },
     "execution_count": 17,
     "metadata": {},
     "output_type": "execute_result"
    }
   ],
   "source": [
    "X.head()"
   ]
  },
  {
   "cell_type": "code",
   "execution_count": 18,
   "metadata": {},
   "outputs": [
    {
     "data": {
      "image/png": "[encoded data removed]",
      "text/plain": [
       "<Figure size 640x480 with 1 Axes>"
      ]
     },
     "metadata": {},
     "output_type": "display_data"
    }
   ],
   "source": [
    "sns.histplot(y, kde = True);"
   ]
  },
  {
   "cell_type": "markdown",
   "metadata": {},
   "source": [
    "## 2. Code a Vectorial Gradient Descent"
   ]
  },
  {
   "cell_type": "markdown",
   "metadata": {},
   "source": [
    "We're modeling a linear regression $\\hat{y} = X\\beta$"
   ]
  },
  {
   "cell_type": "markdown",
   "metadata": {},
   "source": [
    "<img src=\"https://wagon-public-datasets.s3.amazonaws.com/05-Machine-Learning/04-Under-the-Hood/vectorial-gradient.jpg\">"
   ]
  },
  {
   "cell_type": "markdown",
   "metadata": {},
   "source": [
    "So, first, let's add an \"intercept\" column of \"ones\" to our feature matrix X"
   ]
  },
  {
   "cell_type": "code",
   "execution_count": 19,
   "metadata": {},
   "outputs": [],
   "source": [
    "# Let's add an intercept column of \"ones\" \n",
    "X = np.hstack((X, np.ones((X.shape[0], 1))))"
   ]
  },
  {
   "cell_type": "code",
   "execution_count": 20,
   "metadata": {},
   "outputs": [
    {
     "data": {
      "text/html": [
       "<div>\n",
       "<style scoped>\n",
       "    .dataframe tbody tr th:only-of-type {\n",
       "        vertical-align: middle;\n",
       "    }\n",
       "\n",
       "    .dataframe tbody tr th {\n",
       "        vertical-align: top;\n",
       "    }\n",
       "\n",
       "    .dataframe thead th {\n",
       "        text-align: right;\n",
       "    }\n",
       "</style>\n",
       "<table border=\"1\" class=\"dataframe\">\n",
       "  <thead>\n",
       "    <tr style=\"text-align: right;\">\n",
       "      <th></th>\n",
       "      <th>0</th>\n",
       "      <th>1</th>\n",
       "      <th>2</th>\n",
       "      <th>3</th>\n",
       "      <th>4</th>\n",
       "      <th>5</th>\n",
       "      <th>6</th>\n",
       "      <th>7</th>\n",
       "      <th>8</th>\n",
       "      <th>9</th>\n",
       "      <th>10</th>\n",
       "    </tr>\n",
       "  </thead>\n",
       "  <tbody>\n",
       "    <tr>\n",
       "      <th>0</th>\n",
       "      <td>0.038076</td>\n",
       "      <td>0.050680</td>\n",
       "      <td>0.061696</td>\n",
       "      <td>0.021872</td>\n",
       "      <td>-0.044223</td>\n",
       "      <td>-0.034821</td>\n",
       "      <td>-0.043401</td>\n",
       "      <td>-0.002592</td>\n",
       "      <td>0.019907</td>\n",
       "      <td>-0.017646</td>\n",
       "      <td>1.0</td>\n",
       "    </tr>\n",
       "    <tr>\n",
       "      <th>1</th>\n",
       "      <td>-0.001882</td>\n",
       "      <td>-0.044642</td>\n",
       "      <td>-0.051474</td>\n",
       "      <td>-0.026328</td>\n",
       "      <td>-0.008449</td>\n",
       "      <td>-0.019163</td>\n",
       "      <td>0.074412</td>\n",
       "      <td>-0.039493</td>\n",
       "      <td>-0.068332</td>\n",
       "      <td>-0.092204</td>\n",
       "      <td>1.0</td>\n",
       "    </tr>\n",
       "    <tr>\n",
       "      <th>2</th>\n",
       "      <td>0.085299</td>\n",
       "      <td>0.050680</td>\n",
       "      <td>0.044451</td>\n",
       "      <td>-0.005670</td>\n",
       "      <td>-0.045599</td>\n",
       "      <td>-0.034194</td>\n",
       "      <td>-0.032356</td>\n",
       "      <td>-0.002592</td>\n",
       "      <td>0.002861</td>\n",
       "      <td>-0.025930</td>\n",
       "      <td>1.0</td>\n",
       "    </tr>\n",
       "    <tr>\n",
       "      <th>3</th>\n",
       "      <td>-0.089063</td>\n",
       "      <td>-0.044642</td>\n",
       "      <td>-0.011595</td>\n",
       "      <td>-0.036656</td>\n",
       "      <td>0.012191</td>\n",
       "      <td>0.024991</td>\n",
       "      <td>-0.036038</td>\n",
       "      <td>0.034309</td>\n",
       "      <td>0.022688</td>\n",
       "      <td>-0.009362</td>\n",
       "      <td>1.0</td>\n",
       "    </tr>\n",
       "    <tr>\n",
       "      <th>4</th>\n",
       "      <td>0.005383</td>\n",
       "      <td>-0.044642</td>\n",
       "      <td>-0.036385</td>\n",
       "      <td>0.021872</td>\n",
       "      <td>0.003935</td>\n",
       "      <td>0.015596</td>\n",
       "      <td>0.008142</td>\n",
       "      <td>-0.002592</td>\n",
       "      <td>-0.031988</td>\n",
       "      <td>-0.046641</td>\n",
       "      <td>1.0</td>\n",
       "    </tr>\n",
       "  </tbody>\n",
       "</table>\n",
       "</div>"
      ],
      "text/plain": [
       "         0         1         2         3         4         5         6   \\\n",
       "0  0.038076  0.050680  0.061696  0.021872 -0.044223 -0.034821 -0.043401   \n",
       "1 -0.001882 -0.044642 -0.051474 -0.026328 -0.008449 -0.019163  0.074412   \n",
       "2  0.085299  0.050680  0.044451 -0.005670 -0.045599 -0.034194 -0.032356   \n",
       "3 -0.089063 -0.044642 -0.011595 -0.036656  0.012191  0.024991 -0.036038   \n",
       "4  0.005383 -0.044642 -0.036385  0.021872  0.003935  0.015596  0.008142   \n",
       "\n",
       "         7         8         9    10  \n",
       "0 -0.002592  0.019907 -0.017646  1.0  \n",
       "1 -0.039493 -0.068332 -0.092204  1.0  \n",
       "2 -0.002592  0.002861 -0.025930  1.0  \n",
       "3  0.034309  0.022688 -0.009362  1.0  \n",
       "4 -0.002592 -0.031988 -0.046641  1.0  "
      ]
     },
     "execution_count": 20,
     "metadata": {},
     "output_type": "execute_result"
    }
   ],
   "source": [
    "pd.DataFrame(X).head()"
   ]
  },
  {
   "cell_type": "markdown",
   "metadata": {},
   "source": [
    "We've created a train/test split for you with `test_size=0.3` and `random_state=1` (so that we all have repeatable results)"
   ]
  },
  {
   "cell_type": "code",
   "execution_count": 21,
   "metadata": {},
   "outputs": [],
   "source": [
    "X_train, X_test, y_train, y_test = train_test_split(X, y, test_size = .3, random_state = 1)"
   ]
  },
  {
   "cell_type": "markdown",
   "metadata": {},
   "source": [
    "\n",
    "Let's recall the definition of the gradient descent algorithm\n",
    "\n",
    "$$\\text{Gradient descent - vector formula}$$\n",
    "$$\\beta^{\\color {red}{(k+1)}} = \\beta^{\\color {red}{(k)}} - \\eta \\ \\nabla L(\\beta^{\\color{red}{(k)}})$$\n",
    "\n",
    "The MSE Loss for an OLS regression is\n",
    "\n",
    "$$L(\\beta) = \\frac{1}{n}\\|X \\beta - y\\|^2 = \\frac{1}{n}(X \\beta - y)^T(X \\beta - y)$$\n",
    "\n",
    "and its gradient is\n",
    "$${\\displaystyle \\nabla L(\\beta)=\n",
    "{\\begin{bmatrix}{\\frac {\\partial L}{\\partial \\beta_{0}}}(\\beta)\\\\\\vdots \\\\{\\frac {\\partial L}{\\partial \\beta_{p}}}(\\beta)\\end{bmatrix}} = \\frac{2}{n} X^T (X\\beta - y) \n",
    "}$$"
   ]
  },
  {
   "cell_type": "markdown",
   "metadata": {},
   "source": [
    "Let's store our main problem parameters below:"
   ]
  },
  {
   "cell_type": "code",
   "execution_count": 22,
   "metadata": {},
   "outputs": [],
   "source": [
    "# n observations\n",
    "n = X.shape[0] \n",
    "n_train = X_train.shape[0]\n",
    "n_test = X_test.shape[0]\n",
    "\n",
    "# p features (including the intercept)\n",
    "p = X.shape[1]\n",
    "\n",
    "# Gradient Descent hyper-params\n",
    "eta = .1\n",
    "n_epochs= 100"
   ]
  },
  {
   "cell_type": "markdown",
   "metadata": {},
   "source": [
    "❓ Initialize a $\\beta$ vector of zeros of shape **p**"
   ]
  },
  {
   "cell_type": "code",
   "execution_count": 39,
   "metadata": {
    "tags": [
     "challengify"
    ]
   },
   "outputs": [
    {
     "data": {
      "text/plain": [
       "array([0, 0, 0, 0, 0, 0, 0, 0, 0, 0, 0])"
      ]
     },
     "execution_count": 39,
     "metadata": {},
     "output_type": "execute_result"
    }
   ],
   "source": [
    "# YOUR CODE HERE\n",
    "beta = np.array([0 for _ in range(p)])\n",
    "beta"
   ]
  },
  {
   "cell_type": "code",
   "execution_count": null,
   "metadata": {},
   "outputs": [],
   "source": []
  },
  {
   "cell_type": "code",
   "execution_count": null,
   "metadata": {},
   "outputs": [],
   "source": []
  },
  {
   "cell_type": "code",
   "execution_count": 44,
   "metadata": {},
   "outputs": [
    {
     "data": {
      "text/plain": [
       "array([167.0782383 , 159.17854204, 154.34791753, 156.0044073 ,\n",
       "       163.82190812, 148.63901625, 142.49685175, 161.51887683,\n",
       "       144.41517244, 152.7128788 , 146.48481275, 154.83301232,\n",
       "       154.7662227 , 147.62873091, 155.45840912, 159.80594668,\n",
       "       154.94112117, 171.17377171, 160.42310271, 156.72807838,\n",
       "       156.40788704, 151.06403978, 147.25151149, 158.11873096,\n",
       "       160.69192127, 142.30592388, 137.50944488, 154.69999059,\n",
       "       152.64542199, 143.35590625, 147.44027318, 156.2285134 ,\n",
       "       165.47755681, 160.16579294, 164.09770664, 146.52033951,\n",
       "       140.90667682, 151.24968891, 155.15684817, 146.08723964,\n",
       "       164.37036852, 146.3985834 , 169.29968319, 164.75422413,\n",
       "       148.39429391, 155.53149843, 151.95309767, 155.98614667,\n",
       "       158.03626668, 156.81884525, 148.79630256, 158.44008949,\n",
       "       153.55787767, 151.18613656, 159.78756061, 161.92916737,\n",
       "       148.55211574, 150.29701178, 145.26649117, 149.92668473,\n",
       "       168.37168662, 157.19266142, 157.96137048, 160.5192194 ,\n",
       "       167.61418552, 141.2525009 , 144.18526256, 162.9898739 ,\n",
       "       157.2482288 , 156.63990467, 159.38073345, 161.96506648,\n",
       "       143.98461638, 151.93631377, 143.83502829, 164.30199691,\n",
       "       151.37756663, 150.79001793, 141.80511193, 151.32691807,\n",
       "       162.03961886, 147.6780028 , 146.93405576, 151.26987885,\n",
       "       168.47076959, 161.87316986, 160.67615172, 163.89569947,\n",
       "       155.7665867 , 142.24384288, 155.15532554, 144.32590268,\n",
       "       148.87389202, 154.82585521, 150.03862793, 160.79645576,\n",
       "       147.70251459, 156.48765916, 146.93515204, 158.9981158 ,\n",
       "       146.95223156, 145.67577142, 159.10088103, 162.80964301,\n",
       "       147.11835325, 168.37651202, 163.87964777, 143.87867116,\n",
       "       154.10533166, 161.62493925, 156.37235396, 164.15056387,\n",
       "       145.95543702, 160.55139239, 155.66726164, 138.88954854,\n",
       "       156.24203638, 167.00029046, 152.20375187, 161.83053891,\n",
       "       156.9736019 , 166.21707654, 152.50403858, 147.65914221,\n",
       "       173.90371147, 143.20142925, 143.02733812, 157.79830016,\n",
       "       147.89547043, 162.24996767, 157.69476507, 143.97194021,\n",
       "       148.18591601, 147.33358066, 156.15443654, 160.99511676,\n",
       "       163.29652584, 151.68953654, 163.28287077, 146.13945124,\n",
       "       152.79205479, 145.81600381, 167.75107407, 156.14067142,\n",
       "       159.19515058, 150.65049568, 156.9310404 , 156.99633979,\n",
       "       148.3543406 , 163.0678353 , 154.15736166, 153.81394237,\n",
       "       164.57813425, 159.26558765, 153.75119667, 162.38856634,\n",
       "       155.44278447, 156.146209  , 152.5389288 , 157.06462378,\n",
       "       147.92824768, 161.39214175, 166.97344358, 153.98540959,\n",
       "       158.59872379, 149.15720382, 144.38940955, 145.79463976,\n",
       "       150.64498293, 157.19265133, 149.74128174, 148.04961753,\n",
       "       161.84460491, 140.47791806, 158.89594908, 143.64530759,\n",
       "       163.59713369, 137.46132181, 142.77020505, 143.88250506,\n",
       "       158.83454958, 156.17458227, 152.09651732, 161.85904605,\n",
       "       164.88234749, 158.9400502 , 141.09260405, 143.63410251,\n",
       "       162.09648908, 149.9241297 , 164.05253463, 138.69416845,\n",
       "       154.16091335, 143.51726051, 155.71196936, 166.0961067 ,\n",
       "       146.7122256 , 152.09071549, 152.82857209, 150.50984741,\n",
       "       142.80444878, 142.05698237, 148.75326527, 156.54049579,\n",
       "       147.44182802, 156.18089106, 151.32505811, 166.04633274,\n",
       "       162.67187106, 152.74748763, 159.34799139, 173.10651394,\n",
       "       157.17144713, 149.58475503, 150.98392311, 159.48587811,\n",
       "       157.02121868, 156.21190943, 148.77972279, 148.9554703 ,\n",
       "       149.84520819, 152.19163759, 158.15611465, 147.37254309,\n",
       "       167.41792387, 140.890639  , 151.30784568, 138.36940868,\n",
       "       140.42641587, 148.09934353, 170.02932399, 163.71995423,\n",
       "       148.24574641, 149.79104324, 138.70707686, 159.74362257,\n",
       "       152.6332469 , 163.0152808 , 149.59970159, 153.68761112,\n",
       "       157.45444603, 143.70155725, 166.57062488, 153.42154552,\n",
       "       148.74725952, 149.31694752, 161.72543143, 145.04401104,\n",
       "       162.06985876, 159.2270267 , 169.07570809, 140.73838943,\n",
       "       140.76140204, 153.45477039, 145.37795098, 155.94712367,\n",
       "       153.86943464, 154.62717237, 158.90629679, 144.90222094,\n",
       "       151.01281726, 150.83062543, 159.52948458, 162.73029855,\n",
       "       157.09893905, 168.12811548, 152.14300159, 157.13585319,\n",
       "       160.69882551, 154.0655851 , 141.53873585, 162.95208181,\n",
       "       147.30297373, 159.79562004, 154.71734113, 157.44448429,\n",
       "       138.40748423, 166.57934575, 143.43389668, 140.10499224,\n",
       "       154.3207399 , 166.38190385, 150.80786421, 151.54915824,\n",
       "       154.3826361 , 148.75840387, 148.82567391, 157.26685685,\n",
       "       151.06702116, 158.99468205, 156.22330955, 170.36987996,\n",
       "       159.48538218, 147.50183105, 147.17022758, 167.64976168,\n",
       "       144.68288736, 162.68798448, 161.59601727, 160.85555577,\n",
       "       144.38230048, 142.81960009, 162.99326098, 144.67496803,\n",
       "       147.94808421, 157.31318679, 142.48770494, 158.0612229 ,\n",
       "       150.01266053])"
      ]
     },
     "execution_count": 44,
     "metadata": {},
     "output_type": "execute_result"
    }
   ],
   "source": [
    "np.dot(X_train, beta.T)"
   ]
  },
  {
   "cell_type": "code",
   "execution_count": 40,
   "metadata": {},
   "outputs": [
    {
     "data": {
      "text/plain": [
       "array([-270., -172.,  -78.,  -94., -131., -109.,  -52., -275., -101.,\n",
       "        -85., -111.,  -95., -111., -178., -151., -164.,  -58., -217.,\n",
       "       -244., -161., -170., -200., -179.,  -91., -277.,  -57., -143.,\n",
       "        -84.,  -85., -140.,  -88., -206., -295., -181., -192.,  -42.,\n",
       "       -158., -121.,  -66., -118., -139.,  -39.,  -84., -336.,  -59.,\n",
       "       -225., -246., -310., -219., -166.,  -53., -151., -124.,  -53.,\n",
       "        -67., -120., -103.,  -71.,  -48., -187., -252., -288., -178.,\n",
       "       -131., -220.,  -51., -150., -261., -174., -259., -257., -236.,\n",
       "        -93.,  -61.,  -53., -272.,  -60.,  -44., -125.,  -49., -208.,\n",
       "       -182., -144.,  -84., -248., -123., -128., -303., -128.,  -65.,\n",
       "       -141., -104., -127., -104., -108., -272., -136., -197., -168.,\n",
       "       -235., -182.,  -96., -275., -259., -129., -264., -297.,  -89.,\n",
       "        -70., -232., -245., -152., -113., -257., -110.,  -65., -110.,\n",
       "       -341.,  -83., -132., -281., -243., -252., -131., -242., -128.,\n",
       "        -42., -263.,  -75., -321., -142.,  -87., -102., -128., -202.,\n",
       "       -246., -173.,  -53., -225., -185., -113.,  -49., -258.,  -90.,\n",
       "       -280., -184., -265.,  -99., -103., -275.,  -73., -198., -121.,\n",
       "       -248., -154., -296.,  -52., -139., -200., -140.,  -64., -279.,\n",
       "       -258., -102., -179., -135.,  -47.,  -40., -182., -237.,  -86.,\n",
       "       -142., -138.,  -90., -198.,  -78., -274.,  -72.,  -61.,  -90.,\n",
       "       -116., -118.,  -96., -196., -292.,  -91., -101.,  -87., -150.,\n",
       "       -191., -275.,  -37.,  -65.,  -72., -265., -273.,  -68., -118.,\n",
       "        -42., -158., -200., -116.,  -64., -126.,  -72., -141.,  -59.,\n",
       "       -308., -150.,  -50., -164., -230., -185.,  -88.,  -55., -198.,\n",
       "       -292.,  -85., -148.,  -47.,  -67., -134., -262.,  -60., -233.,\n",
       "        -45.,  -80.,  -85.,  -70., -210., -310., -186.,  -54., -200.,\n",
       "        -99., -122.,  -74., -281.,  -95.,  -71., -230.,  -77., -242.,\n",
       "       -202.,  -72.,  -71., -171.,  -31., -197.,  -81., -306., -114.,\n",
       "       -137., -170.,  -92., -265., -206., -293., -142., -201., -183.,\n",
       "       -129., -173., -229., -209., -248., -145.,  -77., -220.,  -69.,\n",
       "        -75., -163.,  -68., -190., -191.,  -63.,  -48., -317.,  -55.,\n",
       "        -77., -177., -263., -160., -155., -242., -113.,  -25.,  -91.,\n",
       "       -258., -168., -221., -310., -283.,  -81.,  -94., -277.,  -72.,\n",
       "       -270., -268., -174.,  -96.,  -83., -222.,  -69., -153., -202.,\n",
       "        -43., -124., -276.])"
      ]
     },
     "execution_count": 40,
     "metadata": {},
     "output_type": "execute_result"
    }
   ],
   "source": [
    "np.dot(X_train, beta)  - np.array(y_train)"
   ]
  },
  {
   "cell_type": "markdown",
   "metadata": {},
   "source": [
    "❓ Using the vectorized formula given above, create a Gradient Descent that loops over `n_epochs` to find the best $\\beta$ of an OLS using the `train` set\n",
    "- make use of NumPy's matrix operations and broadcasting capabilities\n",
    "- this shouldn't take more than 4 lines of code!"
   ]
  },
  {
   "cell_type": "code",
   "execution_count": 41,
   "metadata": {},
   "outputs": [],
   "source": [
    "for epoch in range(n_epochs):\n",
    "    gradient = 2 / n_train * np.dot(X_train.T, (np.dot(X_train, beta) - y_train))\n",
    "    beta = beta - eta * gradient"
   ]
  },
  {
   "cell_type": "code",
   "execution_count": 42,
   "metadata": {},
   "outputs": [
    {
     "name": "stdout",
     "output_type": "stream",
     "text": [
      "Best ß:  [ 13.88877812   1.6767504   45.64204342  31.67134515  13.17780485\n",
      "   9.52749193 -28.21620784  30.03382058  41.48427879  27.12324669\n",
      " 153.73815888]\n"
     ]
    }
   ],
   "source": [
    "print('Best ß: ', beta)"
   ]
  },
  {
   "cell_type": "markdown",
   "metadata": {},
   "source": [
    "## Predict"
   ]
  },
  {
   "cell_type": "markdown",
   "metadata": {},
   "source": [
    "❓Compute predictions on your test set (`y_pred`), and the resulting `loss_test` (MSE loss for OLS)."
   ]
  },
  {
   "cell_type": "code",
   "execution_count": 46,
   "metadata": {
    "tags": [
     "challengify"
    ]
   },
   "outputs": [
    {
     "data": {
      "text/plain": [
       "array([150.74106835, 140.58204582, 155.69440939, 140.07461937,\n",
       "       159.89074013, 159.31314105, 164.1522936 , 152.44786812,\n",
       "       153.2840896 , 150.07094077, 157.96445853, 160.07205564,\n",
       "       148.92966229, 144.15856941, 160.17122473, 158.33463073,\n",
       "       159.28694356, 147.41446028, 157.41810351, 157.48070772,\n",
       "       160.99948146, 143.67756889, 147.65257234, 140.45764636,\n",
       "       143.87845055, 157.76656091, 142.46008096, 153.10001841,\n",
       "       158.39865721, 161.32085969, 158.29922879, 156.1533201 ,\n",
       "       160.22568465, 142.09473009, 149.78850612, 162.59498792,\n",
       "       142.1044204 , 163.47441725, 159.04296246, 160.02841624,\n",
       "       151.78826806, 155.12104316, 150.35096029, 151.74406181,\n",
       "       150.70119821, 160.97108403, 150.8763396 , 150.08758806,\n",
       "       159.6761608 , 165.22832067, 144.57098824, 155.80793487,\n",
       "       150.86742234, 150.74987937, 160.08111861, 153.1152697 ,\n",
       "       154.77340213, 149.33863153, 140.04981601, 143.3861143 ,\n",
       "       149.47490636, 160.21680333, 158.3206457 , 148.52254481,\n",
       "       171.09022963, 142.39730474, 144.90907829, 164.35486429,\n",
       "       161.18951792, 143.37992454, 156.74468124, 142.92991373,\n",
       "       142.50138447, 150.66772892, 157.54780352, 143.23049662,\n",
       "       150.45140536, 143.44103064, 163.96055047, 152.25443703,\n",
       "       147.12872034, 149.62646122, 150.315178  , 160.4403477 ,\n",
       "       144.42100633, 153.70483165, 147.02385205, 139.70260202,\n",
       "       162.09224777, 154.57736675, 159.39020647, 157.35386402,\n",
       "       146.19470908, 144.40686223, 142.68854244, 152.18026768,\n",
       "       148.55039469, 153.79845136, 152.84213261, 155.87942725,\n",
       "       149.36799046, 141.47034856, 147.58834749, 156.9198132 ,\n",
       "       166.4255214 , 152.67647557, 167.61169631, 160.41816163,\n",
       "       151.06517867, 140.54754848, 155.21018199, 169.11243082,\n",
       "       164.23217852, 140.11598836, 157.54471713, 150.24027643,\n",
       "       147.63239354, 140.37373925, 154.41206785, 156.39923487,\n",
       "       141.4644809 , 171.02599368, 160.60961669, 155.09181521,\n",
       "       157.08763697, 157.35642819, 148.67140608, 155.82617229,\n",
       "       152.79490617, 153.37601096, 148.57824641, 160.59617258,\n",
       "       149.38693193])"
      ]
     },
     "execution_count": 46,
     "metadata": {},
     "output_type": "execute_result"
    }
   ],
   "source": [
    "# YOUR CODE HERE\n",
    "y_pred = np.dot(X_test, beta)\n",
    "y_pred"
   ]
  },
  {
   "cell_type": "code",
   "execution_count": 50,
   "metadata": {
    "tags": [
     "challengify"
    ]
   },
   "outputs": [
    {
     "data": {
      "text/plain": [
       "4477.6183367564"
      ]
     },
     "execution_count": 50,
     "metadata": {},
     "output_type": "execute_result"
    }
   ],
   "source": [
    "# YOUR CODE HERE\n",
    "((y_test-y_pred)**2).sum() / y_test.shape[0]"
   ]
  },
  {
   "cell_type": "code",
   "execution_count": 51,
   "metadata": {},
   "outputs": [
    {
     "data": {
      "text/plain": [
       "(133,)"
      ]
     },
     "execution_count": 51,
     "metadata": {},
     "output_type": "execute_result"
    }
   ],
   "source": [
    "y_test.shape"
   ]
  },
  {
   "cell_type": "markdown",
   "metadata": {},
   "source": [
    "## Wrap these into a function called `gradient_decent`\n",
    "\n",
    "❓ Wrap this logic into a function called `gradient_descent`, which takes as input some (`X_train`, `y_train`, `X_test`, `y_test`, `eta`, `n_epoch`) values, and returns:\n",
    "- the final value for $\\beta$ fitted on the train set\n",
    "- the values of the `loss_train` at each epoch as a list called `loss_train_history`\n",
    "- the values of the `loss_test` at each epoch as a list called `loss_test_history`\n",
    "- (optional) make the function robust to call with only a train_set"
   ]
  },
  {
   "cell_type": "code",
   "execution_count": 85,
   "metadata": {},
   "outputs": [],
   "source": [
    "def gradient_descent(X_train, y_train, X_test, y_test, eta = eta, n_epochs = 100):\n",
    "    n_train = X_train.shape[0]\n",
    "    n_test = X_test.shape[0]\n",
    "    p = X_train.shape[1]\n",
    "\n",
    "    beta = np.zeros(p)\n",
    "\n",
    "    loss_train_history = []\n",
    "    loss_test_history = [np.inf]\n",
    "\n",
    "    for epoch in range(n_epochs):\n",
    "        gradient = 2 / n_train * np.dot(X_train.T, (np.dot(X_train, beta) - y_train))\n",
    "        saved_beta = beta\n",
    "        beta = beta - eta * gradient\n",
    "        \n",
    "        y_pred_test = np.dot(X_test, beta)\n",
    "        loss = ((y_test-y_pred_test)**2).sum() / y_test.shape[0]\n",
    "        \n",
    "        if loss_test_history[-1] < loss:\n",
    "            loss_test_history.pop(0)\n",
    "            return saved_beta, loss_train_history, loss_test_history\n",
    "        \n",
    "        loss_test_history.append(loss)\n",
    "        \n",
    "        y_pred_train = np.dot(X_train, beta)\n",
    "        loss_train_history.append(((y_train-y_pred_train)**2).sum() / y_train.shape[0])\n",
    "    \n",
    "    loss_test_history.pop(0)\n",
    "    return beta, loss_train_history, loss_test_history"
   ]
  },
  {
   "cell_type": "code",
   "execution_count": 86,
   "metadata": {},
   "outputs": [
    {
     "data": {
      "text/plain": [
       "True"
      ]
     },
     "execution_count": 86,
     "metadata": {},
     "output_type": "execute_result"
    }
   ],
   "source": [
    "np.inf > 1"
   ]
  },
  {
   "cell_type": "markdown",
   "metadata": {},
   "source": [
    "## Early stopping criteria?"
   ]
  },
  {
   "cell_type": "markdown",
   "metadata": {},
   "source": [
    "❓Plot the loss as a function of epochs, on your train dataset. \n",
    "- Try it with `n_epochs=10000` and `eta=0.1` as was initially set\n",
    "- Zoom in with `plt.ylim(ymin=2800, ymax=3000)` to see the behavior of the Loss Function on the test set\n",
    "- What can you conclude? Should you always \"descend\" the gradient down to the absolute minimum?"
   ]
  },
  {
   "cell_type": "code",
   "execution_count": 122,
   "metadata": {},
   "outputs": [],
   "source": [
    "beta, loss_train_history, loss_test_history = gradient_descent(X_train, y_train, X_test, y_test, eta = 0.1, n_epochs = 10000)"
   ]
  },
  {
   "cell_type": "code",
   "execution_count": 88,
   "metadata": {},
   "outputs": [
    {
     "data": {
      "text/plain": [
       "[18679.210233471847,\n",
       " 13520.775012940421,\n",
       " 10267.27543205838,\n",
       " 8222.778811592307,\n",
       " 6943.939313696506,\n",
       " 6148.652380170698,\n",
       " 5657.677406349046,\n",
       " 5357.3430680773445,\n",
       " 5175.73200284291,\n",
       " 5067.481491557609,\n",
       " 5004.089786569438,\n",
       " 4967.7392026333855,\n",
       " 4947.364473551976,\n",
       " 4936.153721826954,\n",
       " 4929.962824706561,\n",
       " 4926.311580423919,\n",
       " 4923.750013227372,\n",
       " 4921.4598007425375,\n",
       " 4919.004769631836,\n",
       " 4916.175669443206,\n",
       " 4912.894386006738,\n",
       " 4909.155478850333,\n",
       " 4904.991033332919,\n",
       " 4900.449977000918,\n",
       " 4895.586288022829,\n",
       " 4890.452603113082,\n",
       " 4885.097048435262,\n",
       " 4879.561947421331,\n",
       " 4873.883581473792,\n",
       " 4868.092506068486,\n",
       " 4862.214127741457,\n",
       " 4856.269372529703,\n",
       " 4850.275352649215,\n",
       " 4844.245983903038,\n",
       " 4838.19253311708,\n",
       " 4832.124090101095,\n",
       " 4826.04796679882,\n",
       " 4819.970030271186,\n",
       " 4813.89497770831,\n",
       " 4807.826561864335,\n",
       " 4801.767774801617,\n",
       " 4795.720996999036,\n",
       " 4789.688117942582,\n",
       " 4783.670633393597,\n",
       " 4777.669723681791,\n",
       " 4771.686316621119,\n",
       " 4765.721138002887,\n",
       " 4759.77475207709,\n",
       " 4753.847593980469,\n",
       " 4747.93999569636,\n",
       " 4742.052206825622,\n",
       " 4736.184411198886,\n",
       " 4730.336740158275,\n",
       " 4724.509283173467,\n",
       " 4718.702096325256,\n",
       " 4712.9152090837615,\n",
       " 4707.148629723343,\n",
       " 4701.402349647876,\n",
       " 4695.676346845312,\n",
       " 4689.970588646603,\n",
       " 4684.285033928842,\n",
       " 4678.61963487454,\n",
       " 4672.974338376284,\n",
       " 4667.349087158264,\n",
       " 4661.7438206716115,\n",
       " 4656.158475809161,\n",
       " 4650.592987475971,\n",
       " 4645.047289044682,\n",
       " 4639.521312718921,\n",
       " 4634.014989823254,\n",
       " 4628.528251034518,\n",
       " 4623.061026566321,\n",
       " 4617.613246316171,\n",
       " 4612.1848399827395,\n",
       " 4606.775737159313,\n",
       " 4601.385867408188,\n",
       " 4596.015160319894,\n",
       " 4590.663545560271,\n",
       " 4585.330952907879,\n",
       " 4580.017312283654,\n",
       " 4574.7225537744025,\n",
       " 4569.4466076513745,\n",
       " 4564.189404384873,\n",
       " 4558.950874655765,\n",
       " 4553.730949364447,\n",
       " 4548.529559637833,\n",
       " 4543.346636834735,\n",
       " 4538.182112549978,\n",
       " 4533.0359186174755,\n",
       " 4527.907987112531,\n",
       " 4522.798250353459,\n",
       " 4517.706640902704,\n",
       " 4512.633091567549,\n",
       " 4507.577535400494,\n",
       " 4502.539905699376,\n",
       " 4497.5201360072715,\n",
       " 4492.5181601122495,\n",
       " 4487.533912046984,\n",
       " 4482.567326088259,\n",
       " 4477.6183367564,\n",
       " 4472.686878814636,\n",
       " 4467.772887268408,\n",
       " 4462.87629736464,\n",
       " 4457.997044590985,\n",
       " 4453.135064675026,\n",
       " 4448.290293583484,\n",
       " 4443.462667521392,\n",
       " 4438.652122931267,\n",
       " 4433.858596492274,\n",
       " 4429.082025119384,\n",
       " 4424.322345962515,\n",
       " 4419.579496405697,\n",
       " 4414.853414066216,\n",
       " 4410.144036793752,\n",
       " 4405.451302669545,\n",
       " 4400.775150005527,\n",
       " 4396.115517343485,\n",
       " 4391.4723434542075,\n",
       " 4386.845567336639,\n",
       " 4382.235128217038,\n",
       " 4377.640965548134,\n",
       " 4373.063019008294,\n",
       " 4368.501228500674,\n",
       " 4363.955534152403,\n",
       " 4359.425876313737,\n",
       " 4354.912195557238,\n",
       " 4350.414432676954,\n",
       " 4345.932528687585,\n",
       " 4341.466424823675,\n",
       " 4337.016062538789,\n",
       " 4332.581383504704,\n",
       " 4328.1623296105945,\n",
       " 4323.758842962232,\n",
       " 4319.370865881172,\n",
       " 4314.998340903959,\n",
       " 4310.641210781325,\n",
       " 4306.299418477397,\n",
       " 4301.972907168901,\n",
       " 4297.661620244372,\n",
       " 4293.365501303373,\n",
       " 4289.084494155702,\n",
       " 4284.81854282062,\n",
       " 4280.567591526067,\n",
       " 4276.331584707891,\n",
       " 4272.110467009069,\n",
       " 4267.9041832789435,\n",
       " 4263.71267857246,\n",
       " 4259.53589814939,\n",
       " 4255.373787473579,\n",
       " 4251.226292212187,\n",
       " 4247.093358234938,\n",
       " 4242.974931613353,\n",
       " 4238.870958620018,\n",
       " 4234.781385727822,\n",
       " 4230.7061596092235,\n",
       " 4226.645227135501,\n",
       " 4222.598535376025,\n",
       " 4218.5660315975065,\n",
       " 4214.547663263276,\n",
       " 4210.543378032549,\n",
       " 4206.553123759701,\n",
       " 4202.576848493535,\n",
       " 4198.614500476562,\n",
       " 4194.666028144288,\n",
       " 4190.731380124493,\n",
       " 4186.810505236506,\n",
       " 4182.903352490508,\n",
       " 4179.009871086818,\n",
       " 4175.130010415183,\n",
       " 4171.263720054079,\n",
       " 4167.410949770002,\n",
       " 4163.571649516779,\n",
       " 4159.745769434863,\n",
       " 4155.933259850648,\n",
       " 4152.134071275767,\n",
       " 4148.348154406419,\n",
       " 4144.575460122661,\n",
       " 4140.815939487752,\n",
       " 4137.069543747445,\n",
       " 4133.336224329327,\n",
       " 4129.615932842139,\n",
       " 4125.908621075097,\n",
       " 4122.214240997227,\n",
       " 4118.532744756695,\n",
       " 4114.864084680141,\n",
       " 4111.2082132720125,\n",
       " 4107.565083213913,\n",
       " 4103.934647363929,\n",
       " 4100.3168587559885,\n",
       " 4096.711670599195,\n",
       " 4093.119036277188,\n",
       " 4089.538909347482,\n",
       " 4085.971243540832,\n",
       " 4082.4159927605792,\n",
       " 4078.873111082016,\n",
       " 4075.342552751744,\n",
       " 4071.824272187037,\n",
       " 4068.3182239752086,\n",
       " 4064.824362872979,\n",
       " 4061.342643805841,\n",
       " 4057.8730218674377,\n",
       " 4054.415452318942,\n",
       " 4050.9698905884165,\n",
       " 4047.536292270212,\n",
       " 4044.1146131243377,\n",
       " 4040.704809075848,\n",
       " 4037.3068362142317,\n",
       " 4033.9206507927984,\n",
       " 4030.5462092280677,\n",
       " 4027.183468099162,\n",
       " 4023.832384147207,\n",
       " 4020.4929142747246,\n",
       " 4017.165015545033,\n",
       " 4013.8486451816525,\n",
       " 4010.543760567702,\n",
       " 4007.250319245316,\n",
       " 4003.968278915042,\n",
       " 4000.6975974352617,\n",
       " 3997.438232821598,\n",
       " 3994.190143246328,\n",
       " 3990.953287037808,\n",
       " 3987.727622679888,\n",
       " 3984.5131088113326,\n",
       " 3981.309704225246,\n",
       " 3978.117367868501,\n",
       " 3974.936058841162,\n",
       " 3971.7657363959183,\n",
       " 3968.606359937515,\n",
       " 3965.457889022191,\n",
       " 3962.320283357108,\n",
       " 3959.193502799797,\n",
       " 3956.0775073575946,\n",
       " 3952.972257187084,\n",
       " 3949.877712593547,\n",
       " 3946.793834030404,\n",
       " 3943.7205820986633,\n",
       " 3940.6579175463785,\n",
       " 3937.6058012680933,\n",
       " 3934.564194304302,\n",
       " 3931.5330578409025,\n",
       " 3928.51235320866,\n",
       " 3925.5020418826643,\n",
       " 3922.502085481793,\n",
       " 3919.5124457681804,\n",
       " 3916.5330846466795,\n",
       " 3913.563964164333,\n",
       " 3910.6050465098456,\n",
       " 3907.6562940130543,\n",
       " 3904.7176691444065,\n",
       " 3901.789134514433,\n",
       " 3898.870652873229,\n",
       " 3895.9621871099366,\n",
       " 3893.063700252222,\n",
       " 3890.175155465767,\n",
       " 3887.296516053748,\n",
       " 3884.4277454563303,\n",
       " 3881.568807250155,\n",
       " 3878.7196651478334,\n",
       " 3875.880282997437,\n",
       " 3873.0506247820003,\n",
       " 3870.230654619011,\n",
       " 3867.4203367599134,\n",
       " 3864.619635589612,\n",
       " 3861.8285156259676,\n",
       " 3859.0469415193106,\n",
       " 3856.274878051944,\n",
       " 3853.5122901376517,\n",
       " 3850.75914282121,\n",
       " 3848.015401277901,\n",
       " 3845.2810308130247,\n",
       " 3842.555996861417,\n",
       " 3839.8402649869668,\n",
       " 3837.1338008821344,\n",
       " 3834.436570367476,\n",
       " 3831.7485393911643,\n",
       " 3829.0696740285125,\n",
       " 3826.3999404815045,\n",
       " 3823.7393050783216,\n",
       " 3821.087734272871,\n",
       " 3818.4451946443196,\n",
       " 3815.811652896629,\n",
       " 3813.187075858088,\n",
       " 3810.57143048085,\n",
       " 3807.9646838404756,\n",
       " 3805.366803135468,\n",
       " 3802.7777556868195,\n",
       " 3800.197508937551,\n",
       " 3797.626030452264,\n",
       " 3795.0632879166806,\n",
       " 3792.509249137198,\n",
       " 3789.963882040437,\n",
       " 3787.427154672795,\n",
       " 3784.8990351999996,\n",
       " 3782.379491906662,\n",
       " 3779.86849319584,\n",
       " 3777.3660075885928,\n",
       " 3774.8720037235394,\n",
       " 3772.3864503564273,\n",
       " 3769.9093163596913,\n",
       " 3767.440570722019,\n",
       " 3764.9801825479226,\n",
       " 3762.528121057301,\n",
       " 3760.084355585015,\n",
       " 3757.648855580457,\n",
       " 3755.221590607124,\n",
       " 3752.802530342196,\n",
       " 3750.3916445761083,\n",
       " 3747.98890321213,\n",
       " 3745.5942762659474,\n",
       " 3743.2077338652443,\n",
       " 3740.82924624928,\n",
       " 3738.4587837684803,\n",
       " 3736.096316884019,\n",
       " 3733.7418161674073,\n",
       " 3731.3952523000826,\n",
       " 3729.056596072998,\n",
       " 3726.7258183862155,\n",
       " 3724.4028902485,\n",
       " 3722.0877827769127,\n",
       " 3719.780467196408,\n",
       " 3717.4809148394315,\n",
       " 3715.1890971455227,\n",
       " 3712.9049856609104,\n",
       " 3710.6285520381202,\n",
       " 3708.359768035577,\n",
       " 3706.098605517207,\n",
       " 3703.8450364520495,\n",
       " 3701.5990329138644,\n",
       " 3699.36056708074,\n",
       " 3697.129611234703,\n",
       " 3694.906137761337,\n",
       " 3692.6901191493916,\n",
       " 3690.4815279903987,\n",
       " 3688.2803369782923,\n",
       " 3686.0865189090223,\n",
       " 3683.9000466801795,\n",
       " 3681.7208932906133,\n",
       " 3679.549031840055,\n",
       " 3677.3844355287415,\n",
       " 3675.227077657044,\n",
       " 3673.0769316250908,\n",
       " 3670.9339709323963,\n",
       " 3668.798169177493,\n",
       " 3666.6695000575596,\n",
       " 3664.547937368056,\n",
       " 3662.433455002354,\n",
       " 3660.3260269513753,\n",
       " 3658.225627303224,\n",
       " 3656.1322302428316,\n",
       " 3654.0458100515875,\n",
       " 3651.966341106985,\n",
       " 3649.893797882262,\n",
       " 3647.828154946042,\n",
       " 3645.7693869619816,\n",
       " 3643.7174686884146,\n",
       " 3641.672374978,\n",
       " 3639.6340807773677,\n",
       " 3637.6025611267714,\n",
       " 3635.577791159739,\n",
       " 3633.559746102724,\n",
       " 3631.548401274759,\n",
       " 3629.5437320871097,\n",
       " 3627.545714042935,\n",
       " 3625.554322736939,\n",
       " 3623.5695338550345,\n",
       " 3621.5913231739996,\n",
       " 3619.6196665611405,\n",
       " 3617.6545399739525,\n",
       " 3615.695919459786,\n",
       " 3613.7437811555114,\n",
       " 3611.798101287181,\n",
       " 3609.8588561697024,\n",
       " 3607.9260222065036,\n",
       " 3605.9995758892037,\n",
       " 3604.079493797283,\n",
       " 3602.165752597758,\n",
       " 3600.2583290448533,\n",
       " 3598.3571999796754,\n",
       " 3596.4623423298913,\n",
       " 3594.5737331094033,\n",
       " 3592.6913494180285,\n",
       " 3590.815168441178,\n",
       " 3588.9451674495376,\n",
       " 3587.0813237987504,\n",
       " 3585.2236149291007,\n",
       " 3583.3720183651963,\n",
       " 3581.5265117156523,\n",
       " 3579.6870726727857,\n",
       " 3577.853679012294,\n",
       " 3576.0263085929487,\n",
       " 3574.204939356284,\n",
       " 3572.3895493262917,\n",
       " 3570.5801166091087,\n",
       " 3568.7766193927127,\n",
       " 3566.9790359466183,\n",
       " 3565.187344621568,\n",
       " 3563.401523849238,\n",
       " 3561.621552141925,\n",
       " 3559.847408092257,\n",
       " 3558.0790703728826,\n",
       " 3556.3165177361816,\n",
       " 3554.559729013962,\n",
       " 3552.8086831171663,\n",
       " 3551.0633590355737,\n",
       " 3549.323735837511,\n",
       " 3547.589792669552,\n",
       " 3545.8615087562325,\n",
       " 3544.1388633997567,\n",
       " 3542.421835979705,\n",
       " 3540.7104059527487,\n",
       " 3539.0045528523633,\n",
       " 3537.3042562885375,\n",
       " 3535.6094959474894,\n",
       " 3533.920251591386,\n",
       " 3532.2365030580527,\n",
       " 3530.558230260697,\n",
       " 3528.885413187625,\n",
       " 3527.2180319019594,\n",
       " 3525.556066541363,\n",
       " 3523.8994973177605,\n",
       " 3522.248304517057,\n",
       " 3520.602468498869,\n",
       " 3518.961969696244,\n",
       " 3517.3267886153853,\n",
       " 3515.696905835386,\n",
       " 3514.0723020079504,\n",
       " 3512.4529578571264,\n",
       " 3510.8388541790296,\n",
       " 3509.2299718415843,\n",
       " 3507.626291784247,\n",
       " 3506.0277950177438,\n",
       " 3504.434462623802,\n",
       " 3502.8462757548864,\n",
       " 3501.263215633935,\n",
       " 3499.6852635540954,\n",
       " 3498.112400878464,\n",
       " 3496.5446090398214,\n",
       " 3494.981869540377,\n",
       " 3493.424163951508,\n",
       " 3491.8714739134984,\n",
       " 3490.3237811352865,\n",
       " 3488.781067394204,\n",
       " 3487.2433145357245,\n",
       " 3485.710504473206,\n",
       " 3484.1826191876403,\n",
       " 3482.6596407273964,\n",
       " 3481.141551207975,\n",
       " 3479.628332811751,\n",
       " 3478.119967787728,\n",
       " 3476.6164384512904,\n",
       " 3475.117727183951,\n",
       " 3473.623816433109,\n",
       " 3472.1346887117998,\n",
       " 3470.650326598453,\n",
       " 3469.1707127366462,\n",
       " 3467.695829834864,\n",
       " 3466.225660666251,\n",
       " 3464.760188068377,\n",
       " 3463.2993949429897,\n",
       " 3461.8432642557805,\n",
       " 3460.391779036141,\n",
       " 3458.9449223769293,\n",
       " 3457.502677434228,\n",
       " 3456.0650274271156,\n",
       " 3454.631955637422,\n",
       " 3453.203445409501,\n",
       " 3451.779480149995,\n",
       " 3450.3600433275997,\n",
       " 3448.945118472836,\n",
       " 3447.5346891778163,\n",
       " 3446.128739096017,\n",
       " 3444.727251942045,\n",
       " 3443.330211491415,\n",
       " 3441.9376015803186,\n",
       " 3440.549406105396,\n",
       " 3439.1656090235147,\n",
       " 3437.786194351539,\n",
       " 3436.411146166112,\n",
       " 3435.0404486034286,\n",
       " 3433.674085859011,\n",
       " 3432.3120421874914,\n",
       " 3430.95430190239,\n",
       " 3429.600849375892,\n",
       " 3428.2516690386315,\n",
       " 3426.9067453794737,\n",
       " 3425.566062945293,\n",
       " 3424.229606340763,\n",
       " 3422.8973602281308,\n",
       " 3421.5693093270124,\n",
       " 3420.2454384141715,\n",
       " 3418.9257323233087,\n",
       " 3417.6101759448475,\n",
       " 3416.298754225721,\n",
       " 3414.9914521691658,\n",
       " 3413.6882548345056,\n",
       " 3412.3891473369454,\n",
       " 3411.0941148473603,\n",
       " 3409.8031425920894,\n",
       " 3408.516215852728,\n",
       " 3407.2333199659192,\n",
       " 3405.9544403231507,\n",
       " 3404.679562370548,\n",
       " 3403.4086716086726,\n",
       " 3402.1417535923138,\n",
       " 3400.8787939302924,\n",
       " 3399.6197782852514,\n",
       " 3398.3646923734614,\n",
       " 3397.1135219646167,\n",
       " 3395.8662528816367,\n",
       " 3394.6228710004652,\n",
       " 3393.3833622498737,\n",
       " 3392.147712611265,\n",
       " 3390.915908118474,\n",
       " 3389.6879348575712,\n",
       " 3388.463778966672,\n",
       " 3387.2434266357373,\n",
       " 3386.02686410638,\n",
       " 3384.814077671676,\n",
       " 3383.6050536759667,\n",
       " 3382.3997785146707,\n",
       " 3381.198238634091,\n",
       " 3380.0004205312257,\n",
       " 3378.8063107535786,\n",
       " 3377.615895898968,\n",
       " 3376.429162615344,\n",
       " 3375.246097600592,\n",
       " 3374.066687602356,\n",
       " 3372.890919417846,\n",
       " 3371.7187798936534,\n",
       " 3370.5502559255697,\n",
       " 3369.3853344583995,\n",
       " 3368.224002485775,\n",
       " 3367.0662470499806,\n",
       " 3365.9120552417626,\n",
       " 3364.7614142001544,\n",
       " 3363.6143111122915,\n",
       " 3362.470733213236,\n",
       " 3361.330667785791,\n",
       " 3360.1941021603293,\n",
       " 3359.061023714609,\n",
       " 3357.9314198736006,\n",
       " 3356.805278109309,\n",
       " 3355.6825859405967,\n",
       " 3354.563330933008,\n",
       " 3353.4475006985986,\n",
       " 3352.335082895757,\n",
       " 3351.2260652290306,\n",
       " 3350.1204354489596,\n",
       " 3349.0181813518957,\n",
       " 3347.9192907798397,\n",
       " 3346.823751620261,\n",
       " 3345.731551805938,\n",
       " 3344.6426793147816,\n",
       " 3343.5571221696678,\n",
       " 3342.4748684382685,\n",
       " 3341.3959062328863,\n",
       " 3340.3202237102887,\n",
       " 3339.247809071536,\n",
       " 3338.1786505618193,\n",
       " 3337.112736470295,\n",
       " 3336.050055129921,\n",
       " 3334.990594917293,\n",
       " 3333.9343442524764,\n",
       " 3332.88129159885,\n",
       " 3331.8314254629418,\n",
       " 3330.7847343942644,\n",
       " 3329.741206985159,\n",
       " 3328.7008318706307,\n",
       " 3327.663597728192,\n",
       " 3326.629493277702,\n",
       " 3325.598507281208,\n",
       " 3324.570628542791,\n",
       " 3323.5458459083984,\n",
       " 3322.5241482657007,\n",
       " 3321.505524543928,\n",
       " 3320.4899637137114,\n",
       " 3319.477454786934,\n",
       " 3318.4679868165745,\n",
       " 3317.4615488965537,\n",
       " 3316.458130161579,\n",
       " 3315.4577197869944,\n",
       " 3314.4603069886252,\n",
       " 3313.4658810226306,\n",
       " 3312.474431185352,\n",
       " 3311.485946813157,\n",
       " 3310.5004172822964,\n",
       " 3309.51783200875,\n",
       " 3308.5381804480826,\n",
       " 3307.561452095291,\n",
       " 3306.5876364846586,\n",
       " 3305.6167231896084,\n",
       " 3304.6487018225566,\n",
       " 3303.6835620347656,\n",
       " 3302.721293516199,\n",
       " 3301.7618859953755,\n",
       " 3300.805329239227,\n",
       " 3299.851613052954,\n",
       " 3298.90072727988,\n",
       " 3297.9526618013106,\n",
       " 3297.0074065363915,\n",
       " 3296.0649514419665,\n",
       " 3295.1252865124357,\n",
       " 3294.188401779614,\n",
       " 3293.254287312594,\n",
       " 3292.3229332176033,\n",
       " 3291.3943296378675,\n",
       " 3290.468466753469,\n",
       " 3289.5453347812113,\n",
       " 3288.624923974482,\n",
       " 3287.707224623113,\n",
       " 3286.7922270532454,\n",
       " 3285.879921627194,\n",
       " 3284.970298743312,\n",
       " 3284.063348835852,\n",
       " 3283.1590623748407,\n",
       " 3282.257429865931,\n",
       " 3281.3584418502833,\n",
       " 3280.462088904423,\n",
       " 3279.5683616401093,\n",
       " 3278.677250704205,\n",
       " 3277.7887467785454,\n",
       " 3276.902840579806,\n",
       " 3276.019522859371,\n",
       " 3275.1387844032056,\n",
       " 3274.2606160317237,\n",
       " 3273.3850085996623,\n",
       " 3272.511952995949,\n",
       " 3271.641440143577,\n",
       " 3270.7734609994745,\n",
       " 3269.908006554382,\n",
       " 3269.0450678327184,\n",
       " 3268.184635892464,\n",
       " 3267.326701825025,\n",
       " 3266.4712567551164,\n",
       " 3265.618291840633,\n",
       " 3264.7677982725254,\n",
       " 3263.9197672746745,\n",
       " 3263.0741901037745,\n",
       " 3262.2310580492003,\n",
       " 3261.3903624328955,\n",
       " 3260.5520946092392,\n",
       " 3259.7162459649326,\n",
       " 3258.8828079188784,\n",
       " 3258.0517719220525,\n",
       " 3257.223129457389,\n",
       " 3256.396872039661,\n",
       " 3255.5729912153597,\n",
       " 3254.7514785625754,\n",
       " 3253.932325690877,\n",
       " 3253.115524241201,\n",
       " 3252.301065885724,\n",
       " 3251.488942327754,\n",
       " 3250.679145301609,\n",
       " 3249.8716665725015,\n",
       " 3249.066497936425,\n",
       " 3248.263631220035,\n",
       " 3247.4630582805357,\n",
       " 3246.664771005567,\n",
       " 3245.8687613130874,\n",
       " 3245.0750211512623,\n",
       " 3244.283542498349,\n",
       " 3243.4943173625893,\n",
       " 3242.7073377820852,\n",
       " 3241.922595824701,\n",
       " 3241.140083587942,\n",
       " 3240.359793198847,\n",
       " 3239.581716813877,\n",
       " 3238.805846618805,\n",
       " 3238.0321748286046,\n",
       " 3237.2606936873435,\n",
       " 3236.4913954680715,\n",
       " 3235.724272472712,\n",
       " 3234.9593170319563,\n",
       " 3234.1965215051514,\n",
       " 3233.4358782801983,\n",
       " 3232.6773797734377,\n",
       " 3231.921018429551,\n",
       " 3231.1667867214464,\n",
       " 3230.4146771501587,\n",
       " 3229.664682244742,\n",
       " 3228.9167945621634,\n",
       " 3228.171006687199,\n",
       " 3227.4273112323303,\n",
       " 3226.68570083764,\n",
       " 3225.946168170707,\n",
       " 3225.208705926506,\n",
       " 3224.473306827301,\n",
       " 3223.739963622547,\n",
       " 3223.008669088783,\n",
       " 3222.279416029535,\n",
       " 3221.552197275215,\n",
       " 3220.827005683013,\n",
       " 3220.103834136806,\n",
       " 3219.3826755470523,\n",
       " 3218.6635228506907,\n",
       " 3217.9463690110456,\n",
       " 3217.2312070177245,\n",
       " 3216.5180298865203,\n",
       " 3215.806830659314,\n",
       " 3215.0976024039746,\n",
       " 3214.3903382142644,\n",
       " 3213.685031209738,\n",
       " 3212.98167453565,\n",
       " 3212.280261362856,\n",
       " 3211.580784887715,\n",
       " 3210.883238331997,\n",
       " 3210.187614942784,\n",
       " 3209.4939079923806,\n",
       " 3208.8021107782115,\n",
       " 3208.1122166227346,\n",
       " 3207.424218873341,\n",
       " 3206.7381109022676,\n",
       " 3206.053886106496,\n",
       " 3205.371537907668,\n",
       " 3204.691059751986,\n",
       " 3204.0124451101246,\n",
       " 3203.335687477139,\n",
       " 3202.6607803723714,\n",
       " 3201.98771733936,\n",
       " 3201.316491945749,\n",
       " 3200.647097783199,\n",
       " 3199.979528467294,\n",
       " 3199.313777637455,\n",
       " 3198.6498389568483,\n",
       " 3197.9877061122947,\n",
       " 3197.327372814185,\n",
       " 3196.668832796387,\n",
       " 3196.012079816163,\n",
       " 3195.3571076540748,\n",
       " 3194.7039101139003,\n",
       " 3194.052481022549,\n",
       " 3193.402814229967,\n",
       " 3192.754903609059,\n",
       " 3192.108743055597,\n",
       " 3191.464326488136,\n",
       " 3190.821647847928,\n",
       " 3190.1807010988377,\n",
       " 3189.5414802272558,\n",
       " 3188.9039792420162,\n",
       " 3188.268192174309,\n",
       " 3187.634113077601,\n",
       " 3187.001736027548,\n",
       " 3186.3710551219124,\n",
       " 3185.7420644804806,\n",
       " 3185.1147582449817,\n",
       " 3184.4891305790015,\n",
       " 3183.865175667904,\n",
       " 3183.242887718746,\n",
       " 3182.622260960199,\n",
       " 3182.0032896424673,\n",
       " 3181.3859680372025,\n",
       " 3180.7702904374323,\n",
       " 3180.1562511574703,\n",
       " 3179.5438445328414,\n",
       " 3178.933064920201,\n",
       " 3178.3239066972556,\n",
       " 3177.7163642626833,\n",
       " 3177.1104320360573,\n",
       " 3176.506104457762,\n",
       " 3175.9033759889194,\n",
       " 3175.3022411113107,\n",
       " 3174.702694327298,\n",
       " 3174.1047301597464,\n",
       " 3173.508343151945,\n",
       " 3172.913527867536,\n",
       " 3172.320278890432,\n",
       " 3171.7285908247436,\n",
       " 3171.138458294703,\n",
       " 3170.549875944586,\n",
       " 3169.9628384386374,\n",
       " 3169.3773404610015,\n",
       " 3168.793376715636,\n",
       " 3168.2109419262497,\n",
       " 3167.63003083622,\n",
       " 3167.050638208521,\n",
       " 3166.4727588256524,\n",
       " 3165.8963874895617,\n",
       " 3165.3215190215765,\n",
       " 3164.7481482623252,\n",
       " 3164.176270071671,\n",
       " 3163.605879328632,\n",
       " 3163.03697093132,\n",
       " 3162.469539796855,\n",
       " 3161.9035808613066,\n",
       " 3161.3390890796145,\n",
       " 3160.77605942552,\n",
       " 3160.2144868914966,\n",
       " 3159.6543664886763,\n",
       " 3159.0956932467834,\n",
       " 3158.5384622140627,\n",
       " 3157.9826684572085,\n",
       " 3157.4283070612983,\n",
       " 3156.875373129718,\n",
       " 3156.323861784102,\n",
       " 3155.773768164257,\n",
       " 3155.225087428093,\n",
       " 3154.6778147515647,\n",
       " 3154.131945328592,\n",
       " 3153.587474370999,\n",
       " 3153.044397108448,\n",
       " 3152.502708788363,\n",
       " 3151.962404675878,\n",
       " 3151.423480053756,\n",
       " 3150.8859302223295,\n",
       " 3150.3497504994352,\n",
       " 3149.814936220345,\n",
       " 3149.2814827377015,\n",
       " 3148.749385421454,\n",
       " 3148.218639658793,\n",
       " 3147.6892408540816,\n",
       " 3147.161184428798,\n",
       " 3146.634465821463,\n",
       " 3146.1090804875826,\n",
       " 3145.585023899581,\n",
       " 3145.062291546736,\n",
       " 3144.540878935119,\n",
       " 3144.0207815875265,\n",
       " 3143.5019950434244,\n",
       " 3142.9845148588765,\n",
       " 3142.468336606491,\n",
       " 3141.953455875353,\n",
       " 3141.4398682709607,\n",
       " 3140.927569415169,\n",
       " 3140.416554946125,\n",
       " 3139.906820518206,\n",
       " 3139.398361801961,\n",
       " 3138.891174484046,\n",
       " 3138.385254267168,\n",
       " 3137.880596870021,\n",
       " 3137.377198027224,\n",
       " 3136.87505348927,\n",
       " 3136.3741590224568,\n",
       " 3135.8745104088302,\n",
       " 3135.376103446128,\n",
       " 3134.8789339477153,\n",
       " 3134.382997742533,\n",
       " 3133.8882906750296,\n",
       " 3133.394808605112,\n",
       " 3132.902547408083,\n",
       " 3132.4115029745826,\n",
       " 3131.9216712105317,\n",
       " 3131.433048037075,\n",
       " 3130.945629390522,\n",
       " 3130.4594112222917,\n",
       " 3129.9743894988537,\n",
       " 3129.4905602016743,\n",
       " 3129.007919327156,\n",
       " 3128.526462886587,\n",
       " 3128.046186906078,\n",
       " 3127.567087426514,\n",
       " 3127.0891605034913,\n",
       " 3126.6124022072677,\n",
       " 3126.136808622704,\n",
       " 3125.662375849212,\n",
       " 3125.189100000696,\n",
       " 3124.7169772055004,\n",
       " 3124.246003606356,\n",
       " 3123.776175360325,\n",
       " 3123.307488638744,\n",
       " 3122.8399396271766,\n",
       " 3122.373524525355,\n",
       " 3121.9082395471264,\n",
       " 3121.4440809204043,\n",
       " 3120.981044887108,\n",
       " 3120.5191277031213,\n",
       " 3120.0583256382247,\n",
       " 3119.5986349760587,\n",
       " 3119.1400520140583,\n",
       " 3118.682573063411,\n",
       " 3118.2261944489996,\n",
       " 3117.7709125093506,\n",
       " 3117.3167235965875,\n",
       " 3116.8636240763713,\n",
       " 3116.411610327858,\n",
       " 3115.9606787436423,\n",
       " 3115.510825729711,\n",
       " 3115.0620477053876,\n",
       " 3114.614341103286,\n",
       " 3114.1677023692587,\n",
       " 3113.722127962349,\n",
       " 3113.277614354738,\n",
       " 3112.834158031696,\n",
       " 3112.3917554915356,\n",
       " 3111.95040324556,\n",
       " 3111.5100978180158,\n",
       " 3111.0708357460426,\n",
       " 3110.6326135796253,\n",
       " 3110.195427881544,\n",
       " 3109.759275227331,\n",
       " 3109.324152205215,\n",
       " 3108.890055416078,\n",
       " 3108.456981473411,\n",
       " 3108.024927003257,\n",
       " 3107.59388864417,\n",
       " 3107.1638630471703,\n",
       " 3106.7348468756904,\n",
       " 3106.3068368055337,\n",
       " 3105.8798295248243,\n",
       " 3105.453821733967,\n",
       " 3105.028810145588,\n",
       " 3104.604791484505,\n",
       " 3104.1817624876694,\n",
       " 3103.759719904125,\n",
       " 3103.338660494963,\n",
       " 3102.918581033273,\n",
       " 3102.4994783041034,\n",
       " 3102.081349104411,\n",
       " 3101.66419024302,\n",
       " 3101.2479985405726,\n",
       " 3100.83277082949,\n",
       " 3100.418503953924,\n",
       " 3100.0051947697148,\n",
       " 3099.592840144346,\n",
       " 3099.1814369569006,\n",
       " 3098.7709820980162,\n",
       " 3098.361472469847,\n",
       " 3097.952904986011,\n",
       " 3097.5452765715554,\n",
       " 3097.1385841629085,\n",
       " 3096.73282470784,\n",
       " 3096.327995165412,\n",
       " 3095.9240925059466,\n",
       " 3095.521113710974,\n",
       " 3095.119055773196,\n",
       " 3094.7179156964403,\n",
       " 3094.3176904956204,\n",
       " 3093.9183771966937,\n",
       " 3093.5199728366197,\n",
       " 3093.1224744633187,\n",
       " 3092.725879135629,\n",
       " 3092.330183923268,\n",
       " 3091.9353859067887,\n",
       " 3091.541482177541,\n",
       " 3091.148469837631,\n",
       " 3090.756345999876,\n",
       " 3090.365107787773,\n",
       " 3089.9747523354476,\n",
       " 3089.585276787623,\n",
       " 3089.196678299574,\n",
       " 3088.808954037092,\n",
       " 3088.4221011764394,\n",
       " 3088.0361169043167,\n",
       " 3087.6509984178183,\n",
       " 3087.2667429243957,\n",
       " 3086.883347641816,\n",
       " 3086.500809798126,\n",
       " 3086.119126631613,\n",
       " 3085.738295390762,\n",
       " 3085.3583133342236,\n",
       " 3084.9791777307696,\n",
       " 3084.600885859262,\n",
       " 3084.223435008604,\n",
       " 3083.8468224777143,\n",
       " 3083.471045575481,\n",
       " 3083.0961016207275,\n",
       " 3082.721987942173,\n",
       " 3082.3487018783976,\n",
       " 3081.9762407778035,\n",
       " 3081.604601998577,\n",
       " 3081.233782908653,\n",
       " 3080.863780885681,\n",
       " 3080.49459331698,\n",
       " 3080.1262175995125,\n",
       " 3079.758651139839,\n",
       " 3079.391891354088,\n",
       " 3079.025935667917,\n",
       " 3078.660781516478,\n",
       " 3078.2964263443787,\n",
       " 3077.9328676056516,\n",
       " 3077.570102763713,\n",
       " 3077.2081292913317,\n",
       " 3076.846944670592,\n",
       " 3076.486546392861,\n",
       " 3076.126931958747,\n",
       " 3075.7680988780726,\n",
       " 3075.4100446698344,\n",
       " 3075.052766862171,\n",
       " 3074.696262992328,\n",
       " 3074.340530606622,\n",
       " 3073.9855672604103,\n",
       " 3073.63137051805,\n",
       " 3073.2779379528733,\n",
       " 3072.9252671471445,\n",
       " 3072.573355692032,\n",
       " 3072.2222011875706,\n",
       " 3071.8718012426343,\n",
       " 3071.5221534748966,\n",
       " 3071.173255510799,\n",
       " 3070.8251049855207,\n",
       " 3070.4776995429406,\n",
       " 3070.1310368356108,\n",
       " 3069.785114524716,\n",
       " 3069.439930280048,\n",
       " 3069.0954817799716,\n",
       " 3068.7517667113875,\n",
       " 3068.4087827697062,\n",
       " 3068.0665276588115,\n",
       " 3067.724999091032,\n",
       " 3067.384194787106,\n",
       " 3067.044112476151,\n",
       " ...]"
      ]
     },
     "execution_count": 88,
     "metadata": {},
     "output_type": "execute_result"
    }
   ],
   "source": [
    "loss_test_history"
   ]
  },
  {
   "cell_type": "code",
   "execution_count": 89,
   "metadata": {
    "tags": [
     "challengify"
    ]
   },
   "outputs": [
    {
     "data": {
      "image/png": "[encoded data removed]",
      "text/plain": [
       "<Figure size 640x480 with 1 Axes>"
      ]
     },
     "metadata": {},
     "output_type": "display_data"
    }
   ],
   "source": [
    "# YOUR CODE HERE\n",
    "x = np.array([x for x in range(1, len(loss_test_history)+1)])\n",
    "plt.plot(x, loss_test_history)\n",
    "plt.plot();"
   ]
  },
  {
   "cell_type": "code",
   "execution_count": 90,
   "metadata": {},
   "outputs": [
    {
     "data": {
      "text/plain": [
       "<matplotlib.legend.Legend at 0x12966beb0>"
      ]
     },
     "execution_count": 90,
     "metadata": {},
     "output_type": "execute_result"
    },
    {
     "data": {
      "image/png": "[encoded data removed]",
      "text/plain": [
       "<Figure size 640x480 with 1 Axes>"
      ]
     },
     "metadata": {},
     "output_type": "display_data"
    }
   ],
   "source": [
    "# Plot train and test histories\n",
    "plt.plot(loss_train_history, label = 'loss_train')\n",
    "plt.plot(loss_test_history, label = 'loss_test')\n",
    "\n",
    "# Set title and labels\n",
    "plt.title('Loss')\n",
    "plt.ylabel('MSE Loss')\n",
    "plt.xlabel('Epochs')\n",
    "\n",
    "# Change limits\n",
    "plt.ylim(ymin = 2800, ymax = 3000)\n",
    "\n",
    "# Generate legend\n",
    "plt.legend()"
   ]
  },
  {
   "cell_type": "code",
   "execution_count": 91,
   "metadata": {},
   "outputs": [
    {
     "data": {
      "text/plain": [
       "4425"
      ]
     },
     "execution_count": 91,
     "metadata": {},
     "output_type": "execute_result"
    }
   ],
   "source": [
    "np.argmin(np.array(loss_test_history))"
   ]
  },
  {
   "cell_type": "markdown",
   "metadata": {},
   "source": [
    "❓ What do you notice?"
   ]
  },
  {
   "cell_type": "markdown",
   "metadata": {
    "tags": [
     "challengify"
    ]
   },
   "source": [
    "> YOUR ANSWER HERE"
   ]
  },
  {
   "cell_type": "markdown",
   "metadata": {},
   "source": [
    "❓Can you think of a method to improve the performance of your model? Take time to write it in pseudo-code below before looking at the hints."
   ]
  },
  {
   "cell_type": "markdown",
   "metadata": {},
   "source": [
    "<details>\n",
    "    <summary>Hints</summary>\n",
    "\n",
    "- We could decide to stop the GD as soon as the test loss starts to increase again.\n",
    "- ⚠️ Yet we can't use the \"test set\" created initially to decide when to stop descending gradient; this would create data leakage! Never use your test set to optimize your model's `hyperparameters`.\n",
    "- Create instead a train/test split **within** your current training set and optimize your early stopping based on the loss of this new test set only. This one is usually called a **validation set**. \n",
    "</details>"
   ]
  },
  {
   "cell_type": "code",
   "execution_count": 92,
   "metadata": {},
   "outputs": [],
   "source": [
    "#PSEUDO-CODE\n",
    "optimal_epoch = 4425"
   ]
  },
  {
   "cell_type": "markdown",
   "metadata": {},
   "source": [
    "❓ Update your `gradient_descent` method based on the Hints above!"
   ]
  },
  {
   "cell_type": "code",
   "execution_count": null,
   "metadata": {
    "tags": [
     "challengify"
    ]
   },
   "outputs": [],
   "source": [
    "# YOUR CODE HERE"
   ]
  },
  {
   "cell_type": "markdown",
   "metadata": {},
   "source": [
    "❓ Create your train/val set and try to improve your MSE with early stopping, using `random_state = 1`\n",
    "\n",
    "It should stop earlier than before!"
   ]
  },
  {
   "cell_type": "code",
   "execution_count": null,
   "metadata": {
    "tags": [
     "challengify"
    ]
   },
   "outputs": [],
   "source": [
    "# YOUR CODE HERE"
   ]
  },
  {
   "cell_type": "code",
   "execution_count": 94,
   "metadata": {},
   "outputs": [],
   "source": [
    "def gradient_descent_early_stopping(X_train, y_train, X_test, y_test, eta = eta, n_epochs = 100):\n",
    "    n_train = X_train.shape[0]\n",
    "    n_test = X_test.shape[0]\n",
    "    p = X_train.shape[1]\n",
    "\n",
    "    beta = np.zeros(p)\n",
    "\n",
    "    loss_train_history = []\n",
    "    loss_test_history = [np.inf]\n",
    "\n",
    "    for epoch in range(n_epochs):\n",
    "        gradient = 2 / n_train * np.dot(X_train.T, (np.dot(X_train, beta) - y_train))\n",
    "        saved_beta = beta\n",
    "        beta = beta - eta * gradient\n",
    "        \n",
    "        y_pred_test = np.dot(X_test, beta)\n",
    "        loss = ((y_test-y_pred_test)**2).sum() / y_test.shape[0]\n",
    "        \n",
    "        if loss_test_history[-1] < loss:\n",
    "            loss_test_history.pop(0)\n",
    "            return saved_beta, loss_train_history, loss_test_history\n",
    "        \n",
    "        loss_test_history.append(loss)\n",
    "        \n",
    "        y_pred_train = np.dot(X_train, beta)\n",
    "        loss_train_history.append(((y_train-y_pred_train)**2).sum() / y_train.shape[0])\n",
    "    \n",
    "    loss_test_history.pop(0)\n",
    "    return beta, loss_train_history, loss_test_history"
   ]
  },
  {
   "cell_type": "code",
   "execution_count": 95,
   "metadata": {},
   "outputs": [
    {
     "ename": "NameError",
     "evalue": "name 'X_train_train' is not defined",
     "output_type": "error",
     "traceback": [
      "\u001b[0;31m---------------------------------------------------------------------------\u001b[0m",
      "\u001b[0;31mNameError\u001b[0m                                 Traceback (most recent call last)",
      "Cell \u001b[0;32mIn [95], line 1\u001b[0m\n\u001b[0;32m----> 1\u001b[0m beta_es, loss_train_history, loss_val_history \u001b[38;5;241m=\u001b[39m gradient_descent_early_stopping(\u001b[43mX_train_train\u001b[49m, y_train_train, X_val, y_val, n_epochs \u001b[38;5;241m=\u001b[39m \u001b[38;5;241m10000\u001b[39m, eta \u001b[38;5;241m=\u001b[39m \u001b[38;5;241m.1\u001b[39m)\n\u001b[1;32m      3\u001b[0m \u001b[38;5;66;03m# Plot train and test histories\u001b[39;00m\n\u001b[1;32m      4\u001b[0m plt\u001b[38;5;241m.\u001b[39mplot(loss_train_history, label \u001b[38;5;241m=\u001b[39m \u001b[38;5;124m'\u001b[39m\u001b[38;5;124mloss_train\u001b[39m\u001b[38;5;124m'\u001b[39m)\n",
      "\u001b[0;31mNameError\u001b[0m: name 'X_train_train' is not defined"
     ]
    }
   ],
   "source": [
    "beta_es, loss_train_history, loss_val_history = gradient_descent_early_stopping(X_train_train, y_train_train, X_val, y_val, n_epochs = 10000, eta = .1)\n",
    "\n",
    "# Plot train and test histories\n",
    "plt.plot(loss_train_history, label = 'loss_train')\n",
    "plt.plot(loss_val_history, label = 'loss_test')\n",
    "\n",
    "# Set title and labels\n",
    "plt.title('Loss')\n",
    "plt.ylabel('MSE Loss')\n",
    "plt.xlabel('Epochs')\n",
    "\n",
    "# Change limits\n",
    "plt.ylim(ymin = 2500, ymax = 4000)\n",
    "\n",
    "# Generate legend\n",
    "plt.legend()"
   ]
  },
  {
   "cell_type": "markdown",
   "metadata": {},
   "source": [
    "## Mini-Batch Descent"
   ]
  },
  {
   "cell_type": "markdown",
   "metadata": {},
   "source": [
    "❓ Modify your gradient_descent function into a `minibatch_gradient_descent` one."
   ]
  },
  {
   "cell_type": "code",
   "execution_count": null,
   "metadata": {},
   "outputs": [],
   "source": [
    "def gradient_descent_early_stopping(X_train, y_train, X_test, y_test, eta = eta, n_epochs = 100):\n",
    "    n_train = X_train.shape[0]\n",
    "    n_test = X_test.shape[0]\n",
    "    p = X_train.shape[1]\n",
    "\n",
    "    beta = np.zeros(p)\n",
    "\n",
    "    loss_train_history = []\n",
    "    loss_test_history = [np.inf]\n",
    "\n",
    "    for epoch in range(n_epochs):\n",
    "        gradient = 2 / n_train * np.dot(X_train.T, (np.dot(X_train, beta) - y_train))\n",
    "        saved_beta = beta\n",
    "        beta = beta - eta * gradient\n",
    "        \n",
    "        y_pred_test = np.dot(X_test, beta)\n",
    "        loss = ((y_test-y_pred_test)**2).sum() / y_test.shape[0]\n",
    "        \n",
    "        if loss_test_history[-1] < loss:\n",
    "            loss_test_history.pop(0)\n",
    "            return saved_beta, loss_train_history, loss_test_history\n",
    "        \n",
    "        loss_test_history.append(loss)\n",
    "        \n",
    "        y_pred_train = np.dot(X_train, beta)\n",
    "        loss_train_history.append(((y_train-y_pred_train)**2).sum() / y_train.shape[0])\n",
    "    \n",
    "    loss_test_history.pop(0)\n",
    "    return beta, loss_train_history, loss_test_history"
   ]
  },
  {
   "cell_type": "code",
   "execution_count": 127,
   "metadata": {},
   "outputs": [],
   "source": [
    "from sklearn.utils import resample\n",
    "from sklearn.utils import shuffle\n",
    "\n",
    "def minibatch_gradient_descent(X_train, y_train, X_test, y_test, batch_size = 16, eta = eta, n_epochs = n_epochs):\n",
    "    n_train = X_train.shape[0]\n",
    "    n_test = X_test.shape[0]\n",
    "\n",
    "    p = X_train.shape[1]\n",
    "\n",
    "    beta = np.zeros(p)\n",
    "    print(beta)\n",
    "\n",
    "    loss_train_history = []\n",
    "    loss_test_history = []\n",
    "\n",
    "    if isinstance(y_train, pd.Series):\n",
    "        y_train = y_train.to_numpy()\n",
    "\n",
    "    for epoch in range(n_epochs):\n",
    "        \n",
    "        X_train, y_train = shuffle(X_train, y_train, random_state=0)\n",
    "        \n",
    "        # Loop over your dataset in mini-batches, and for each mini-batch update your beta\n",
    "        max_n_batch = int(X_train.shape[0]/batch_size)\n",
    "        \n",
    "        for x in range(max_n_batch):\n",
    "            start_point = x*batch_size\n",
    "            X_mini_batch = X_train[start_point: start_point + batch_size]\n",
    "            y_mini_batch = y_train[start_point: start_point + batch_size]\n",
    "            \n",
    "            gradient = 2 / n_train * np.dot(X_mini_batch.T, (np.dot(X_mini_batch, beta) - y_mini_batch))\n",
    "            saved_beta = beta\n",
    "            beta = beta - eta * gradient\n",
    "\n",
    "        y_pred_test = np.dot(X_test, beta)\n",
    "        loss = ((y_test-y_pred_test)**2).sum() / y_test.shape[0]\n",
    "        loss_test_history.append(loss)\n",
    "\n",
    "        y_pred_train = np.dot(X_train, beta)\n",
    "        loss_train_history.append(((y_train-y_pred_train)**2).sum() / y_train.shape[0])\n",
    "\n",
    "    return beta, loss_train_history, loss_test_history"
   ]
  },
  {
   "cell_type": "markdown",
   "metadata": {},
   "source": [
    "❓ Plot the evolution of your train and val losses per epoch. What if you chose minibatch = 1?"
   ]
  },
  {
   "cell_type": "code",
   "execution_count": 128,
   "metadata": {
    "tags": [
     "challengify"
    ]
   },
   "outputs": [
    {
     "name": "stdout",
     "output_type": "stream",
     "text": [
      "[0. 0. 0. 0. 0. 0. 0. 0. 0. 0. 0.]\n"
     ]
    }
   ],
   "source": [
    "# YOUR CODE HERE\n",
    "beta, loss_train_history_mb, loss_test_history_mb = minibatch_gradient_descent(X_train, y_train, X_test, y_test, batch_size = 16, eta = 0.01, n_epochs = 10_000)\n"
   ]
  },
  {
   "cell_type": "code",
   "execution_count": 129,
   "metadata": {},
   "outputs": [
    {
     "data": {
      "text/plain": [
       "<matplotlib.legend.Legend at 0x1295a2560>"
      ]
     },
     "execution_count": 129,
     "metadata": {},
     "output_type": "execute_result"
    },
    {
     "data": {
      "image/png": "[encoded data removed]",
      "text/plain": [
       "<Figure size 640x480 with 1 Axes>"
      ]
     },
     "metadata": {},
     "output_type": "display_data"
    }
   ],
   "source": [
    "# Plot train and test histories\n",
    "plt.plot(loss_train_history_mb, label = 'loss_train')\n",
    "plt.plot(loss_test_history_mb, label = 'loss_test')\n",
    "\n",
    "# Set title and labels\n",
    "plt.title('Loss')\n",
    "plt.ylabel('MSE Loss')\n",
    "plt.xlabel('Epochs')\n",
    "\n",
    "# Generate legend\n",
    "plt.legend()"
   ]
  },
  {
   "cell_type": "code",
   "execution_count": 130,
   "metadata": {},
   "outputs": [
    {
     "data": {
      "text/plain": [
       "<matplotlib.legend.Legend at 0x1293c0100>"
      ]
     },
     "execution_count": 130,
     "metadata": {},
     "output_type": "execute_result"
    },
    {
     "data": {
      "image/png": "[encoded data removed]",
      "text/plain": [
       "<Figure size 640x480 with 1 Axes>"
      ]
     },
     "metadata": {},
     "output_type": "display_data"
    }
   ],
   "source": [
    "# Plot train and test histories\n",
    "plt.plot(loss_train_history, label = 'loss_train')\n",
    "plt.plot(loss_test_history, label = 'loss_test')\n",
    "\n",
    "# Set title and labels\n",
    "plt.title('Loss')\n",
    "plt.ylabel('MSE Loss')\n",
    "plt.xlabel('Epochs')\n",
    "\n",
    "# Change limits\n",
    "plt.ylim(ymin = 2800, ymax = 3000)\n",
    "\n",
    "# Generate legend\n",
    "plt.legend()"
   ]
  },
  {
   "cell_type": "markdown",
   "metadata": {},
   "source": [
    "❓ How would you adjust the early stopping criteria to these fluctuations?\n",
    "\n",
    "<details>\n",
    "    <summary>Hint</summary>\n",
    "\n",
    "To avoid early stopping too early due to the stochastic nature of the mini-batch descent, we could add a \"patience\" term to stop only after the val loss is increased for a sustained period of \"patience\" # of epochs.\n",
    "</details>"
   ]
  },
  {
   "cell_type": "markdown",
   "metadata": {},
   "source": [
    "## Conclusion: a new way to check for overfitting"
   ]
  },
  {
   "cell_type": "markdown",
   "metadata": {},
   "source": [
    "<img src=\"https://wagon-public-datasets.s3-eu-west-1.amazonaws.com/05-Machine-Learning/04-Under-the-Hood/underfitting_overfitting_at_a_glance.webp\" width=800>"
   ]
  },
  {
   "cell_type": "markdown",
   "metadata": {},
   "source": [
    "📚 Read more about:\n",
    "\n",
    "- [Underfitting and overfitting](https://towardsdatascience.com/overfitting-vs-underfitting-a-complete-example-d05dd7e19765)\n",
    "- [Gradient Descent in Python](https://towardsdatascience.com/gradient-descent-in-python-a0d07285742f)"
   ]
  }
 ],
 "metadata": {
  "kernelspec": {
   "display_name": "Python 3 (ipykernel)",
   "language": "python",
   "name": "python3"
  },
  "language_info": {
   "codemirror_mode": {
    "name": "ipython",
    "version": 3
   },
   "file_extension": ".py",
   "mimetype": "text/x-python",
   "name": "python",
   "nbconvert_exporter": "python",
   "pygments_lexer": "ipython3",
   "version": "3.10.6"
  },
  "toc": {
   "base_numbering": 1,
   "nav_menu": {},
   "number_sections": true,
   "sideBar": true,
   "skip_h1_title": false,
   "title_cell": "Table of Contents",
   "title_sidebar": "Contents",
   "toc_cell": false,
   "toc_position": {},
   "toc_section_display": true,
   "toc_window_display": false
  }
 },
 "nbformat": 4,
 "nbformat_minor": 4
}
