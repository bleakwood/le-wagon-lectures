{
 "cells": [
  {
   "cell_type": "code",
   "execution_count": 26,
   "id": "96392870",
   "metadata": {},
   "outputs": [],
   "source": [
    "from sklearn import datasets\n",
    "import pandas as pd\n",
    "import matplotlib.pyplot as plt\n",
    "from sklearn.linear_model import Ridge, Lasso, LinearRegression\n",
    "# Train and CV-score model for each combination\n",
    "from sklearn.linear_model import ElasticNet\n",
    "from sklearn.metrics import r2_score\n",
    "from sklearn.model_selection import cross_val_score"
   ]
  },
  {
   "cell_type": "code",
   "execution_count": 3,
   "id": "d87a7eaf",
   "metadata": {},
   "outputs": [
    {
     "data": {
      "text/html": [
       "<div>\n",
       "<style scoped>\n",
       "    .dataframe tbody tr th:only-of-type {\n",
       "        vertical-align: middle;\n",
       "    }\n",
       "\n",
       "    .dataframe tbody tr th {\n",
       "        vertical-align: top;\n",
       "    }\n",
       "\n",
       "    .dataframe thead th {\n",
       "        text-align: right;\n",
       "    }\n",
       "</style>\n",
       "<table border=\"1\" class=\"dataframe\">\n",
       "  <thead>\n",
       "    <tr style=\"text-align: right;\">\n",
       "      <th></th>\n",
       "      <th>age</th>\n",
       "      <th>sex</th>\n",
       "      <th>bmi</th>\n",
       "      <th>bp</th>\n",
       "      <th>s1</th>\n",
       "      <th>s2</th>\n",
       "      <th>s3</th>\n",
       "      <th>s4</th>\n",
       "      <th>s5</th>\n",
       "      <th>s6</th>\n",
       "    </tr>\n",
       "  </thead>\n",
       "  <tbody>\n",
       "    <tr>\n",
       "      <th>0</th>\n",
       "      <td>0.038076</td>\n",
       "      <td>0.050680</td>\n",
       "      <td>0.061696</td>\n",
       "      <td>0.021872</td>\n",
       "      <td>-0.044223</td>\n",
       "      <td>-0.034821</td>\n",
       "      <td>-0.043401</td>\n",
       "      <td>-0.002592</td>\n",
       "      <td>0.019907</td>\n",
       "      <td>-0.017646</td>\n",
       "    </tr>\n",
       "    <tr>\n",
       "      <th>1</th>\n",
       "      <td>-0.001882</td>\n",
       "      <td>-0.044642</td>\n",
       "      <td>-0.051474</td>\n",
       "      <td>-0.026328</td>\n",
       "      <td>-0.008449</td>\n",
       "      <td>-0.019163</td>\n",
       "      <td>0.074412</td>\n",
       "      <td>-0.039493</td>\n",
       "      <td>-0.068332</td>\n",
       "      <td>-0.092204</td>\n",
       "    </tr>\n",
       "    <tr>\n",
       "      <th>2</th>\n",
       "      <td>0.085299</td>\n",
       "      <td>0.050680</td>\n",
       "      <td>0.044451</td>\n",
       "      <td>-0.005670</td>\n",
       "      <td>-0.045599</td>\n",
       "      <td>-0.034194</td>\n",
       "      <td>-0.032356</td>\n",
       "      <td>-0.002592</td>\n",
       "      <td>0.002861</td>\n",
       "      <td>-0.025930</td>\n",
       "    </tr>\n",
       "    <tr>\n",
       "      <th>3</th>\n",
       "      <td>-0.089063</td>\n",
       "      <td>-0.044642</td>\n",
       "      <td>-0.011595</td>\n",
       "      <td>-0.036656</td>\n",
       "      <td>0.012191</td>\n",
       "      <td>0.024991</td>\n",
       "      <td>-0.036038</td>\n",
       "      <td>0.034309</td>\n",
       "      <td>0.022688</td>\n",
       "      <td>-0.009362</td>\n",
       "    </tr>\n",
       "    <tr>\n",
       "      <th>4</th>\n",
       "      <td>0.005383</td>\n",
       "      <td>-0.044642</td>\n",
       "      <td>-0.036385</td>\n",
       "      <td>0.021872</td>\n",
       "      <td>0.003935</td>\n",
       "      <td>0.015596</td>\n",
       "      <td>0.008142</td>\n",
       "      <td>-0.002592</td>\n",
       "      <td>-0.031988</td>\n",
       "      <td>-0.046641</td>\n",
       "    </tr>\n",
       "  </tbody>\n",
       "</table>\n",
       "</div>"
      ],
      "text/plain": [
       "        age       sex       bmi        bp        s1        s2        s3  \\\n",
       "0  0.038076  0.050680  0.061696  0.021872 -0.044223 -0.034821 -0.043401   \n",
       "1 -0.001882 -0.044642 -0.051474 -0.026328 -0.008449 -0.019163  0.074412   \n",
       "2  0.085299  0.050680  0.044451 -0.005670 -0.045599 -0.034194 -0.032356   \n",
       "3 -0.089063 -0.044642 -0.011595 -0.036656  0.012191  0.024991 -0.036038   \n",
       "4  0.005383 -0.044642 -0.036385  0.021872  0.003935  0.015596  0.008142   \n",
       "\n",
       "         s4        s5        s6  \n",
       "0 -0.002592  0.019907 -0.017646  \n",
       "1 -0.039493 -0.068332 -0.092204  \n",
       "2 -0.002592  0.002861 -0.025930  \n",
       "3  0.034309  0.022688 -0.009362  \n",
       "4 -0.002592 -0.031988 -0.046641  "
      ]
     },
     "execution_count": 3,
     "metadata": {},
     "output_type": "execute_result"
    }
   ],
   "source": [
    "X, y = datasets.load_diabetes(return_X_y=True, as_frame=True)\n",
    "X.head()"
   ]
  },
  {
   "cell_type": "code",
   "execution_count": 7,
   "id": "362aa018",
   "metadata": {},
   "outputs": [
    {
     "data": {
      "text/html": [
       "<style type=\"text/css\">\n",
       "#T_227a3_row0_col0, #T_227a3_row0_col1, #T_227a3_row1_col0, #T_227a3_row1_col1, #T_227a3_row1_col2, #T_227a3_row2_col0, #T_227a3_row2_col1, #T_227a3_row2_col2, #T_227a3_row3_col0, #T_227a3_row3_col1, #T_227a3_row3_col2, #T_227a3_row4_col0, #T_227a3_row4_col1, #T_227a3_row5_col0, #T_227a3_row5_col1, #T_227a3_row6_col0, #T_227a3_row6_col1, #T_227a3_row6_col2, #T_227a3_row7_col0, #T_227a3_row7_col1, #T_227a3_row8_col0, #T_227a3_row8_col1, #T_227a3_row8_col2, #T_227a3_row9_col0, #T_227a3_row9_col1 {\n",
       "  color: black;\n",
       "}\n",
       "#T_227a3_row0_col2, #T_227a3_row4_col2, #T_227a3_row5_col2, #T_227a3_row7_col2, #T_227a3_row9_col2 {\n",
       "  color: red;\n",
       "}\n",
       "</style>\n",
       "<table id=\"T_227a3\">\n",
       "  <thead>\n",
       "    <tr>\n",
       "      <th class=\"blank level0\" >&nbsp;</th>\n",
       "      <th id=\"T_227a3_level0_col0\" class=\"col_heading level0 col0\" >coef_linreg</th>\n",
       "      <th id=\"T_227a3_level0_col1\" class=\"col_heading level0 col1\" >coef_ridge</th>\n",
       "      <th id=\"T_227a3_level0_col2\" class=\"col_heading level0 col2\" >coef_lasso</th>\n",
       "    </tr>\n",
       "  </thead>\n",
       "  <tbody>\n",
       "    <tr>\n",
       "      <th id=\"T_227a3_level0_row0\" class=\"row_heading level0 row0\" >age</th>\n",
       "      <td id=\"T_227a3_row0_col0\" class=\"data row0 col0\" >-10</td>\n",
       "      <td id=\"T_227a3_row0_col1\" class=\"data row0 col1\" >7</td>\n",
       "      <td id=\"T_227a3_row0_col2\" class=\"data row0 col2\" >0</td>\n",
       "    </tr>\n",
       "    <tr>\n",
       "      <th id=\"T_227a3_level0_row1\" class=\"row_heading level0 row1\" >sex</th>\n",
       "      <td id=\"T_227a3_row1_col0\" class=\"data row1 col0\" >-239</td>\n",
       "      <td id=\"T_227a3_row1_col1\" class=\"data row1 col1\" >-182</td>\n",
       "      <td id=\"T_227a3_row1_col2\" class=\"data row1 col2\" >-75</td>\n",
       "    </tr>\n",
       "    <tr>\n",
       "      <th id=\"T_227a3_level0_row2\" class=\"row_heading level0 row2\" >bmi</th>\n",
       "      <td id=\"T_227a3_row2_col0\" class=\"data row2 col0\" >519</td>\n",
       "      <td id=\"T_227a3_row2_col1\" class=\"data row2 col1\" >457</td>\n",
       "      <td id=\"T_227a3_row2_col2\" class=\"data row2 col2\" >511</td>\n",
       "    </tr>\n",
       "    <tr>\n",
       "      <th id=\"T_227a3_level0_row3\" class=\"row_heading level0 row3\" >bp</th>\n",
       "      <td id=\"T_227a3_row3_col0\" class=\"data row3 col0\" >324</td>\n",
       "      <td id=\"T_227a3_row3_col1\" class=\"data row3 col1\" >284</td>\n",
       "      <td id=\"T_227a3_row3_col2\" class=\"data row3 col2\" >234</td>\n",
       "    </tr>\n",
       "    <tr>\n",
       "      <th id=\"T_227a3_level0_row4\" class=\"row_heading level0 row4\" >s1</th>\n",
       "      <td id=\"T_227a3_row4_col0\" class=\"data row4 col0\" >-792</td>\n",
       "      <td id=\"T_227a3_row4_col1\" class=\"data row4 col1\" >-48</td>\n",
       "      <td id=\"T_227a3_row4_col2\" class=\"data row4 col2\" >0</td>\n",
       "    </tr>\n",
       "    <tr>\n",
       "      <th id=\"T_227a3_level0_row5\" class=\"row_heading level0 row5\" >s2</th>\n",
       "      <td id=\"T_227a3_row5_col0\" class=\"data row5 col0\" >476</td>\n",
       "      <td id=\"T_227a3_row5_col1\" class=\"data row5 col1\" >-78</td>\n",
       "      <td id=\"T_227a3_row5_col2\" class=\"data row5 col2\" >0</td>\n",
       "    </tr>\n",
       "    <tr>\n",
       "      <th id=\"T_227a3_level0_row6\" class=\"row_heading level0 row6\" >s3</th>\n",
       "      <td id=\"T_227a3_row6_col0\" class=\"data row6 col0\" >101</td>\n",
       "      <td id=\"T_227a3_row6_col1\" class=\"data row6 col1\" >-189</td>\n",
       "      <td id=\"T_227a3_row6_col2\" class=\"data row6 col2\" >-170</td>\n",
       "    </tr>\n",
       "    <tr>\n",
       "      <th id=\"T_227a3_level0_row7\" class=\"row_heading level0 row7\" >s4</th>\n",
       "      <td id=\"T_227a3_row7_col0\" class=\"data row7 col0\" >177</td>\n",
       "      <td id=\"T_227a3_row7_col1\" class=\"data row7 col1\" >119</td>\n",
       "      <td id=\"T_227a3_row7_col2\" class=\"data row7 col2\" >0</td>\n",
       "    </tr>\n",
       "    <tr>\n",
       "      <th id=\"T_227a3_level0_row8\" class=\"row_heading level0 row8\" >s5</th>\n",
       "      <td id=\"T_227a3_row8_col0\" class=\"data row8 col0\" >751</td>\n",
       "      <td id=\"T_227a3_row8_col1\" class=\"data row8 col1\" >400</td>\n",
       "      <td id=\"T_227a3_row8_col2\" class=\"data row8 col2\" >450</td>\n",
       "    </tr>\n",
       "    <tr>\n",
       "      <th id=\"T_227a3_level0_row9\" class=\"row_heading level0 row9\" >s6</th>\n",
       "      <td id=\"T_227a3_row9_col0\" class=\"data row9 col0\" >67</td>\n",
       "      <td id=\"T_227a3_row9_col1\" class=\"data row9 col1\" >97</td>\n",
       "      <td id=\"T_227a3_row9_col2\" class=\"data row9 col2\" >0</td>\n",
       "    </tr>\n",
       "  </tbody>\n",
       "</table>\n"
      ],
      "text/plain": [
       "<pandas.io.formats.style.Styler at 0x12706af20>"
      ]
     },
     "execution_count": 7,
     "metadata": {},
     "output_type": "execute_result"
    }
   ],
   "source": [
    "from sklearn.linear_model import Ridge, Lasso, LinearRegression\n",
    "\n",
    "linreg = LinearRegression().fit(X, y)\n",
    "ridge = Ridge(alpha=0.2).fit(X, y)\n",
    "lasso = Lasso(alpha=0.2).fit(X, y)\n",
    "\n",
    "coefs = pd.DataFrame({\n",
    "    \"coef_linreg\": pd.Series(linreg.coef_, index = X.columns),\n",
    "    \"coef_ridge\": pd.Series(ridge.coef_, index = X.columns),\n",
    "    \"coef_lasso\": pd.Series(lasso.coef_, index= X.columns)})\\\n",
    "\n",
    "coefs\\\n",
    "    .applymap(lambda x: int(x))\\\n",
    "    .style.applymap(lambda x: 'color: red' if x == 0 else 'color: black')"
   ]
  },
  {
   "cell_type": "code",
   "execution_count": 4,
   "id": "60371b27",
   "metadata": {},
   "outputs": [
    {
     "data": {
      "text/html": [
       "<style type=\"text/css\">\n",
       "#T_b9b37_row0_col0, #T_b9b37_row0_col1, #T_b9b37_row1_col0, #T_b9b37_row1_col1, #T_b9b37_row2_col0, #T_b9b37_row2_col1, #T_b9b37_row2_col2, #T_b9b37_row3_col0, #T_b9b37_row3_col1, #T_b9b37_row3_col2, #T_b9b37_row4_col0, #T_b9b37_row4_col1, #T_b9b37_row5_col0, #T_b9b37_row5_col1, #T_b9b37_row6_col0, #T_b9b37_row6_col1, #T_b9b37_row6_col2, #T_b9b37_row7_col0, #T_b9b37_row7_col1, #T_b9b37_row8_col0, #T_b9b37_row8_col1, #T_b9b37_row8_col2, #T_b9b37_row9_col0, #T_b9b37_row9_col1 {\n",
       "  color: black;\n",
       "}\n",
       "#T_b9b37_row0_col2, #T_b9b37_row1_col2, #T_b9b37_row4_col2, #T_b9b37_row5_col2, #T_b9b37_row7_col2, #T_b9b37_row9_col2 {\n",
       "  color: red;\n",
       "}\n",
       "</style>\n",
       "<table id=\"T_b9b37\">\n",
       "  <thead>\n",
       "    <tr>\n",
       "      <th class=\"blank level0\" >&nbsp;</th>\n",
       "      <th id=\"T_b9b37_level0_col0\" class=\"col_heading level0 col0\" >coef_linreg</th>\n",
       "      <th id=\"T_b9b37_level0_col1\" class=\"col_heading level0 col1\" >coef_ridge</th>\n",
       "      <th id=\"T_b9b37_level0_col2\" class=\"col_heading level0 col2\" >coef_lasso</th>\n",
       "    </tr>\n",
       "  </thead>\n",
       "  <tbody>\n",
       "    <tr>\n",
       "      <th id=\"T_b9b37_level0_row0\" class=\"row_heading level0 row0\" >age</th>\n",
       "      <td id=\"T_b9b37_row0_col0\" class=\"data row0 col0\" >-10</td>\n",
       "      <td id=\"T_b9b37_row0_col1\" class=\"data row0 col1\" >22</td>\n",
       "      <td id=\"T_b9b37_row0_col2\" class=\"data row0 col2\" >0</td>\n",
       "    </tr>\n",
       "    <tr>\n",
       "      <th id=\"T_b9b37_level0_row1\" class=\"row_heading level0 row1\" >sex</th>\n",
       "      <td id=\"T_b9b37_row1_col0\" class=\"data row1 col0\" >-239</td>\n",
       "      <td id=\"T_b9b37_row1_col1\" class=\"data row1 col1\" >-118</td>\n",
       "      <td id=\"T_b9b37_row1_col2\" class=\"data row1 col2\" >0</td>\n",
       "    </tr>\n",
       "    <tr>\n",
       "      <th id=\"T_b9b37_level0_row2\" class=\"row_heading level0 row2\" >bmi</th>\n",
       "      <td id=\"T_b9b37_row2_col0\" class=\"data row2 col0\" >519</td>\n",
       "      <td id=\"T_b9b37_row2_col1\" class=\"data row2 col1\" >364</td>\n",
       "      <td id=\"T_b9b37_row2_col2\" class=\"data row2 col2\" >454</td>\n",
       "    </tr>\n",
       "    <tr>\n",
       "      <th id=\"T_b9b37_level0_row3\" class=\"row_heading level0 row3\" >bp</th>\n",
       "      <td id=\"T_b9b37_row3_col0\" class=\"data row3 col0\" >324</td>\n",
       "      <td id=\"T_b9b37_row3_col1\" class=\"data row3 col1\" >234</td>\n",
       "      <td id=\"T_b9b37_row3_col2\" class=\"data row3 col2\" >109</td>\n",
       "    </tr>\n",
       "    <tr>\n",
       "      <th id=\"T_b9b37_level0_row4\" class=\"row_heading level0 row4\" >s1</th>\n",
       "      <td id=\"T_b9b37_row4_col0\" class=\"data row4 col0\" >-792</td>\n",
       "      <td id=\"T_b9b37_row4_col1\" class=\"data row4 col1\" >-9</td>\n",
       "      <td id=\"T_b9b37_row4_col2\" class=\"data row4 col2\" >0</td>\n",
       "    </tr>\n",
       "    <tr>\n",
       "      <th id=\"T_b9b37_level0_row5\" class=\"row_heading level0 row5\" >s2</th>\n",
       "      <td id=\"T_b9b37_row5_col0\" class=\"data row5 col0\" >476</td>\n",
       "      <td id=\"T_b9b37_row5_col1\" class=\"data row5 col1\" >-51</td>\n",
       "      <td id=\"T_b9b37_row5_col2\" class=\"data row5 col2\" >0</td>\n",
       "    </tr>\n",
       "    <tr>\n",
       "      <th id=\"T_b9b37_level0_row6\" class=\"row_heading level0 row6\" >s3</th>\n",
       "      <td id=\"T_b9b37_row6_col0\" class=\"data row6 col0\" >101</td>\n",
       "      <td id=\"T_b9b37_row6_col1\" class=\"data row6 col1\" >-169</td>\n",
       "      <td id=\"T_b9b37_row6_col2\" class=\"data row6 col2\" >-31</td>\n",
       "    </tr>\n",
       "    <tr>\n",
       "      <th id=\"T_b9b37_level0_row7\" class=\"row_heading level0 row7\" >s4</th>\n",
       "      <td id=\"T_b9b37_row7_col0\" class=\"data row7 col0\" >177</td>\n",
       "      <td id=\"T_b9b37_row7_col1\" class=\"data row7 col1\" >121</td>\n",
       "      <td id=\"T_b9b37_row7_col2\" class=\"data row7 col2\" >0</td>\n",
       "    </tr>\n",
       "    <tr>\n",
       "      <th id=\"T_b9b37_level0_row8\" class=\"row_heading level0 row8\" >s5</th>\n",
       "      <td id=\"T_b9b37_row8_col0\" class=\"data row8 col0\" >751</td>\n",
       "      <td id=\"T_b9b37_row8_col1\" class=\"data row8 col1\" >311</td>\n",
       "      <td id=\"T_b9b37_row8_col2\" class=\"data row8 col2\" >392</td>\n",
       "    </tr>\n",
       "    <tr>\n",
       "      <th id=\"T_b9b37_level0_row9\" class=\"row_heading level0 row9\" >s6</th>\n",
       "      <td id=\"T_b9b37_row9_col0\" class=\"data row9 col0\" >67</td>\n",
       "      <td id=\"T_b9b37_row9_col1\" class=\"data row9 col1\" >112</td>\n",
       "      <td id=\"T_b9b37_row9_col2\" class=\"data row9 col2\" >0</td>\n",
       "    </tr>\n",
       "  </tbody>\n",
       "</table>\n"
      ],
      "text/plain": [
       "<pandas.io.formats.style.Styler at 0x106381de0>"
      ]
     },
     "execution_count": 4,
     "metadata": {},
     "output_type": "execute_result"
    }
   ],
   "source": [
    "linreg = LinearRegression().fit(X, y)\n",
    "ridge = Ridge(alpha=0.6).fit(X, y)\n",
    "lasso = Lasso(alpha=0.6).fit(X, y)\n",
    "\n",
    "coefs = pd.DataFrame({\n",
    "    \"coef_linreg\": pd.Series(linreg.coef_, index = X.columns),\n",
    "    \"coef_ridge\": pd.Series(ridge.coef_, index = X.columns),\n",
    "    \"coef_lasso\": pd.Series(lasso.coef_, index= X.columns)})\\\n",
    "\n",
    "coefs\\\n",
    "    .applymap(lambda x: int(x))\\\n",
    "    .style.applymap(lambda x: 'color: red' if x == 0 else 'color: black')"
   ]
  },
  {
   "cell_type": "code",
   "execution_count": 5,
   "id": "74b4a5f1",
   "metadata": {},
   "outputs": [],
   "source": [
    "from sklearn.linear_model import ElasticNet\n",
    "model = ElasticNet(alpha=1, l1_ratio=0.2)"
   ]
  },
  {
   "cell_type": "code",
   "execution_count": 7,
   "id": "0b77679a",
   "metadata": {},
   "outputs": [
    {
     "data": {
      "text/html": [
       "<style>#sk-container-id-1 {color: black;background-color: white;}#sk-container-id-1 pre{padding: 0;}#sk-container-id-1 div.sk-toggleable {background-color: white;}#sk-container-id-1 label.sk-toggleable__label {cursor: pointer;display: block;width: 100%;margin-bottom: 0;padding: 0.3em;box-sizing: border-box;text-align: center;}#sk-container-id-1 label.sk-toggleable__label-arrow:before {content: \"▸\";float: left;margin-right: 0.25em;color: #696969;}#sk-container-id-1 label.sk-toggleable__label-arrow:hover:before {color: black;}#sk-container-id-1 div.sk-estimator:hover label.sk-toggleable__label-arrow:before {color: black;}#sk-container-id-1 div.sk-toggleable__content {max-height: 0;max-width: 0;overflow: hidden;text-align: left;background-color: #f0f8ff;}#sk-container-id-1 div.sk-toggleable__content pre {margin: 0.2em;color: black;border-radius: 0.25em;background-color: #f0f8ff;}#sk-container-id-1 input.sk-toggleable__control:checked~div.sk-toggleable__content {max-height: 200px;max-width: 100%;overflow: auto;}#sk-container-id-1 input.sk-toggleable__control:checked~label.sk-toggleable__label-arrow:before {content: \"▾\";}#sk-container-id-1 div.sk-estimator input.sk-toggleable__control:checked~label.sk-toggleable__label {background-color: #d4ebff;}#sk-container-id-1 div.sk-label input.sk-toggleable__control:checked~label.sk-toggleable__label {background-color: #d4ebff;}#sk-container-id-1 input.sk-hidden--visually {border: 0;clip: rect(1px 1px 1px 1px);clip: rect(1px, 1px, 1px, 1px);height: 1px;margin: -1px;overflow: hidden;padding: 0;position: absolute;width: 1px;}#sk-container-id-1 div.sk-estimator {font-family: monospace;background-color: #f0f8ff;border: 1px dotted black;border-radius: 0.25em;box-sizing: border-box;margin-bottom: 0.5em;}#sk-container-id-1 div.sk-estimator:hover {background-color: #d4ebff;}#sk-container-id-1 div.sk-parallel-item::after {content: \"\";width: 100%;border-bottom: 1px solid gray;flex-grow: 1;}#sk-container-id-1 div.sk-label:hover label.sk-toggleable__label {background-color: #d4ebff;}#sk-container-id-1 div.sk-serial::before {content: \"\";position: absolute;border-left: 1px solid gray;box-sizing: border-box;top: 0;bottom: 0;left: 50%;z-index: 0;}#sk-container-id-1 div.sk-serial {display: flex;flex-direction: column;align-items: center;background-color: white;padding-right: 0.2em;padding-left: 0.2em;position: relative;}#sk-container-id-1 div.sk-item {position: relative;z-index: 1;}#sk-container-id-1 div.sk-parallel {display: flex;align-items: stretch;justify-content: center;background-color: white;position: relative;}#sk-container-id-1 div.sk-item::before, #sk-container-id-1 div.sk-parallel-item::before {content: \"\";position: absolute;border-left: 1px solid gray;box-sizing: border-box;top: 0;bottom: 0;left: 50%;z-index: -1;}#sk-container-id-1 div.sk-parallel-item {display: flex;flex-direction: column;z-index: 1;position: relative;background-color: white;}#sk-container-id-1 div.sk-parallel-item:first-child::after {align-self: flex-end;width: 50%;}#sk-container-id-1 div.sk-parallel-item:last-child::after {align-self: flex-start;width: 50%;}#sk-container-id-1 div.sk-parallel-item:only-child::after {width: 0;}#sk-container-id-1 div.sk-dashed-wrapped {border: 1px dashed gray;margin: 0 0.4em 0.5em 0.4em;box-sizing: border-box;padding-bottom: 0.4em;background-color: white;}#sk-container-id-1 div.sk-label label {font-family: monospace;font-weight: bold;display: inline-block;line-height: 1.2em;}#sk-container-id-1 div.sk-label-container {text-align: center;}#sk-container-id-1 div.sk-container {/* jupyter's `normalize.less` sets `[hidden] { display: none; }` but bootstrap.min.css set `[hidden] { display: none !important; }` so we also need the `!important` here to be able to override the default hidden behavior on the sphinx rendered scikit-learn.org. See: https://github.com/scikit-learn/scikit-learn/issues/21755 */display: inline-block !important;position: relative;}#sk-container-id-1 div.sk-text-repr-fallback {display: none;}</style><div id=\"sk-container-id-1\" class=\"sk-top-container\"><div class=\"sk-text-repr-fallback\"><pre>ElasticNet(alpha=1, l1_ratio=0.2)</pre><b>In a Jupyter environment, please rerun this cell to show the HTML representation or trust the notebook. <br />On GitHub, the HTML representation is unable to render, please try loading this page with nbviewer.org.</b></div><div class=\"sk-container\" hidden><div class=\"sk-item\"><div class=\"sk-estimator sk-toggleable\"><input class=\"sk-toggleable__control sk-hidden--visually\" id=\"sk-estimator-id-1\" type=\"checkbox\" checked><label for=\"sk-estimator-id-1\" class=\"sk-toggleable__label sk-toggleable__label-arrow\">ElasticNet</label><div class=\"sk-toggleable__content\"><pre>ElasticNet(alpha=1, l1_ratio=0.2)</pre></div></div></div></div></div>"
      ],
      "text/plain": [
       "ElasticNet(alpha=1, l1_ratio=0.2)"
      ]
     },
     "execution_count": 7,
     "metadata": {},
     "output_type": "execute_result"
    }
   ],
   "source": [
    "model.fit(X, y)"
   ]
  },
  {
   "cell_type": "code",
   "execution_count": 12,
   "id": "39b52577",
   "metadata": {},
   "outputs": [
    {
     "data": {
      "text/plain": [
       "<1x10 sparse matrix of type '<class 'numpy.float64'>'\n",
       "\twith 9 stored elements in Compressed Sparse Row format>"
      ]
     },
     "execution_count": 12,
     "metadata": {},
     "output_type": "execute_result"
    }
   ],
   "source": [
    "pd.DataFrame(model.sparse_coef_)"
   ]
  },
  {
   "cell_type": "code",
   "execution_count": 6,
   "id": "005041e2",
   "metadata": {},
   "outputs": [
    {
     "data": {
      "text/html": [
       "<table class=\"simpletable\">\n",
       "<caption>OLS Regression Results</caption>\n",
       "<tr>\n",
       "  <th>Dep. Variable:</th>         <td>target</td>      <th>  R-squared:         </th> <td>   0.518</td>\n",
       "</tr>\n",
       "<tr>\n",
       "  <th>Model:</th>                   <td>OLS</td>       <th>  Adj. R-squared:    </th> <td>   0.507</td>\n",
       "</tr>\n",
       "<tr>\n",
       "  <th>Method:</th>             <td>Least Squares</td>  <th>  F-statistic:       </th> <td>   46.27</td>\n",
       "</tr>\n",
       "<tr>\n",
       "  <th>Date:</th>             <td>Fri, 04 Aug 2023</td> <th>  Prob (F-statistic):</th> <td>3.83e-62</td>\n",
       "</tr>\n",
       "<tr>\n",
       "  <th>Time:</th>                 <td>09:45:59</td>     <th>  Log-Likelihood:    </th> <td> -2386.0</td>\n",
       "</tr>\n",
       "<tr>\n",
       "  <th>No. Observations:</th>      <td>   442</td>      <th>  AIC:               </th> <td>   4794.</td>\n",
       "</tr>\n",
       "<tr>\n",
       "  <th>Df Residuals:</th>          <td>   431</td>      <th>  BIC:               </th> <td>   4839.</td>\n",
       "</tr>\n",
       "<tr>\n",
       "  <th>Df Model:</th>              <td>    10</td>      <th>                     </th>     <td> </td>   \n",
       "</tr>\n",
       "<tr>\n",
       "  <th>Covariance Type:</th>      <td>nonrobust</td>    <th>                     </th>     <td> </td>   \n",
       "</tr>\n",
       "</table>\n",
       "<table class=\"simpletable\">\n",
       "<tr>\n",
       "    <td></td>       <th>coef</th>     <th>std err</th>      <th>t</th>      <th>P>|t|</th>  <th>[0.025</th>    <th>0.975]</th>  \n",
       "</tr>\n",
       "<tr>\n",
       "  <th>const</th> <td>  152.1335</td> <td>    2.576</td> <td>   59.061</td> <td> 0.000</td> <td>  147.071</td> <td>  157.196</td>\n",
       "</tr>\n",
       "<tr>\n",
       "  <th>age</th>   <td>  -10.0099</td> <td>   59.749</td> <td>   -0.168</td> <td> 0.867</td> <td> -127.446</td> <td>  107.426</td>\n",
       "</tr>\n",
       "<tr>\n",
       "  <th>sex</th>   <td> -239.8156</td> <td>   61.222</td> <td>   -3.917</td> <td> 0.000</td> <td> -360.147</td> <td> -119.484</td>\n",
       "</tr>\n",
       "<tr>\n",
       "  <th>bmi</th>   <td>  519.8459</td> <td>   66.533</td> <td>    7.813</td> <td> 0.000</td> <td>  389.076</td> <td>  650.616</td>\n",
       "</tr>\n",
       "<tr>\n",
       "  <th>bp</th>    <td>  324.3846</td> <td>   65.422</td> <td>    4.958</td> <td> 0.000</td> <td>  195.799</td> <td>  452.970</td>\n",
       "</tr>\n",
       "<tr>\n",
       "  <th>s1</th>    <td> -792.1756</td> <td>  416.680</td> <td>   -1.901</td> <td> 0.058</td> <td>-1611.153</td> <td>   26.802</td>\n",
       "</tr>\n",
       "<tr>\n",
       "  <th>s2</th>    <td>  476.7390</td> <td>  339.030</td> <td>    1.406</td> <td> 0.160</td> <td> -189.620</td> <td> 1143.098</td>\n",
       "</tr>\n",
       "<tr>\n",
       "  <th>s3</th>    <td>  101.0433</td> <td>  212.531</td> <td>    0.475</td> <td> 0.635</td> <td> -316.684</td> <td>  518.770</td>\n",
       "</tr>\n",
       "<tr>\n",
       "  <th>s4</th>    <td>  177.0632</td> <td>  161.476</td> <td>    1.097</td> <td> 0.273</td> <td> -140.315</td> <td>  494.441</td>\n",
       "</tr>\n",
       "<tr>\n",
       "  <th>s5</th>    <td>  751.2737</td> <td>  171.900</td> <td>    4.370</td> <td> 0.000</td> <td>  413.407</td> <td> 1089.140</td>\n",
       "</tr>\n",
       "<tr>\n",
       "  <th>s6</th>    <td>   67.6267</td> <td>   65.984</td> <td>    1.025</td> <td> 0.306</td> <td>  -62.064</td> <td>  197.318</td>\n",
       "</tr>\n",
       "</table>\n",
       "<table class=\"simpletable\">\n",
       "<tr>\n",
       "  <th>Omnibus:</th>       <td> 1.506</td> <th>  Durbin-Watson:     </th> <td>   2.029</td>\n",
       "</tr>\n",
       "<tr>\n",
       "  <th>Prob(Omnibus):</th> <td> 0.471</td> <th>  Jarque-Bera (JB):  </th> <td>   1.404</td>\n",
       "</tr>\n",
       "<tr>\n",
       "  <th>Skew:</th>          <td> 0.017</td> <th>  Prob(JB):          </th> <td>   0.496</td>\n",
       "</tr>\n",
       "<tr>\n",
       "  <th>Kurtosis:</th>      <td> 2.726</td> <th>  Cond. No.          </th> <td>    227.</td>\n",
       "</tr>\n",
       "</table><br/><br/>Notes:<br/>[1] Standard Errors assume that the covariance matrix of the errors is correctly specified."
      ],
      "text/plain": [
       "<class 'statsmodels.iolib.summary.Summary'>\n",
       "\"\"\"\n",
       "                            OLS Regression Results                            \n",
       "==============================================================================\n",
       "Dep. Variable:                 target   R-squared:                       0.518\n",
       "Model:                            OLS   Adj. R-squared:                  0.507\n",
       "Method:                 Least Squares   F-statistic:                     46.27\n",
       "Date:                Fri, 04 Aug 2023   Prob (F-statistic):           3.83e-62\n",
       "Time:                        09:45:59   Log-Likelihood:                -2386.0\n",
       "No. Observations:                 442   AIC:                             4794.\n",
       "Df Residuals:                     431   BIC:                             4839.\n",
       "Df Model:                          10                                         \n",
       "Covariance Type:            nonrobust                                         \n",
       "==============================================================================\n",
       "                 coef    std err          t      P>|t|      [0.025      0.975]\n",
       "------------------------------------------------------------------------------\n",
       "const        152.1335      2.576     59.061      0.000     147.071     157.196\n",
       "age          -10.0099     59.749     -0.168      0.867    -127.446     107.426\n",
       "sex         -239.8156     61.222     -3.917      0.000    -360.147    -119.484\n",
       "bmi          519.8459     66.533      7.813      0.000     389.076     650.616\n",
       "bp           324.3846     65.422      4.958      0.000     195.799     452.970\n",
       "s1          -792.1756    416.680     -1.901      0.058   -1611.153      26.802\n",
       "s2           476.7390    339.030      1.406      0.160    -189.620    1143.098\n",
       "s3           101.0433    212.531      0.475      0.635    -316.684     518.770\n",
       "s4           177.0632    161.476      1.097      0.273    -140.315     494.441\n",
       "s5           751.2737    171.900      4.370      0.000     413.407    1089.140\n",
       "s6            67.6267     65.984      1.025      0.306     -62.064     197.318\n",
       "==============================================================================\n",
       "Omnibus:                        1.506   Durbin-Watson:                   2.029\n",
       "Prob(Omnibus):                  0.471   Jarque-Bera (JB):                1.404\n",
       "Skew:                           0.017   Prob(JB):                        0.496\n",
       "Kurtosis:                       2.726   Cond. No.                         227.\n",
       "==============================================================================\n",
       "\n",
       "Notes:\n",
       "[1] Standard Errors assume that the covariance matrix of the errors is correctly specified.\n",
       "\"\"\""
      ]
     },
     "execution_count": 6,
     "metadata": {},
     "output_type": "execute_result"
    }
   ],
   "source": [
    "import statsmodels.api as sm\n",
    "\n",
    "ols = sm.OLS(y, sm.add_constant(X)).fit()\n",
    "ols.summary()"
   ]
  },
  {
   "cell_type": "code",
   "execution_count": 13,
   "id": "82241d10",
   "metadata": {},
   "outputs": [],
   "source": [
    "from sklearn.model_selection import train_test_split\n",
    "\n",
    "X_train, X_test, y_train, y_test = train_test_split(X, y, test_size=.20, random_state=1)"
   ]
  },
  {
   "cell_type": "code",
   "execution_count": 15,
   "id": "c1be029d",
   "metadata": {},
   "outputs": [
    {
     "name": "stdout",
     "output_type": "stream",
     "text": [
      "\u001b[31mERROR: Could not find a version that satisfies the requirement itertools (from versions: none)\u001b[0m\u001b[31m\r\n",
      "\u001b[0m\u001b[31mERROR: No matching distribution found for itertools\u001b[0m\u001b[31m\r\n",
      "\u001b[0m\r\n",
      "\u001b[1m[\u001b[0m\u001b[34;49mnotice\u001b[0m\u001b[1;39;49m]\u001b[0m\u001b[39;49m A new release of pip is available: \u001b[0m\u001b[31;49m23.1.2\u001b[0m\u001b[39;49m -> \u001b[0m\u001b[32;49m23.2.1\u001b[0m\r\n",
      "\u001b[1m[\u001b[0m\u001b[34;49mnotice\u001b[0m\u001b[1;39;49m]\u001b[0m\u001b[39;49m To update, run: \u001b[0m\u001b[32;49mpython3.10 -m pip install --upgrade pip\u001b[0m\r\n"
     ]
    }
   ],
   "source": [
    "!pip install itertools"
   ]
  },
  {
   "cell_type": "code",
   "execution_count": 20,
   "id": "db90e15c",
   "metadata": {},
   "outputs": [
    {
     "data": {
      "text/plain": [
       "[(0.01, 0.2),\n",
       " (0.01, 0.5),\n",
       " (0.01, 0.8),\n",
       " (0.1, 0.2),\n",
       " (0.1, 0.5),\n",
       " (0.1, 0.8),\n",
       " (1, 0.2),\n",
       " (1, 0.5),\n",
       " (1, 0.8)]"
      ]
     },
     "execution_count": 20,
     "metadata": {},
     "output_type": "execute_result"
    }
   ],
   "source": [
    "list(hyperparams)"
   ]
  },
  {
   "cell_type": "code",
   "execution_count": 18,
   "id": "d76da75c",
   "metadata": {},
   "outputs": [],
   "source": [
    "# Select hyperparam values to try\n",
    "\n",
    "alphas = [0.01, 0.1, 1] # L1 + L2 \n",
    "l1_ratios = [0.2, 0.5, 0.8] # L1 / L2 ratio\n",
    "\n",
    "# create all combinations [(0.01, 0.2), (0.01, 0.5), (...)]\n",
    "import itertools\n",
    "hyperparams = itertools.product(alphas, l1_ratios) "
   ]
  },
  {
   "cell_type": "code",
   "execution_count": 10,
   "id": "2ddb8e85",
   "metadata": {},
   "outputs": [
    {
     "name": "stdout",
     "output_type": "stream",
     "text": [
      "alpha: 0.01, l1_ratio: 0.2,   r2: 0.3097093011229858\n",
      "alpha: 0.01, l1_ratio: 0.5,   r2: 0.36553389455838525\n",
      "alpha: 0.01, l1_ratio: 0.8,   r2: 0.44169590096847544\n",
      "alpha: 0.1, l1_ratio: 0.2,   r2: 0.0460745278512346\n",
      "alpha: 0.1, l1_ratio: 0.5,   r2: 0.08029085880552811\n",
      "alpha: 0.1, l1_ratio: 0.8,   r2: 0.17781841389792175\n",
      "alpha: 1, l1_ratio: 0.2,   r2: -0.021420175696800325\n",
      "alpha: 1, l1_ratio: 0.5,   r2: -0.019482185329917502\n",
      "alpha: 1, l1_ratio: 0.8,   r2: -0.0114266833108428\n"
     ]
    }
   ],
   "source": [
    "\n",
    "\n",
    "for hyperparam in hyperparams:\n",
    "    alpha = hyperparam[0]\n",
    "    l1_ratio = hyperparam[1]\n",
    "\n",
    "    model = ElasticNet(alpha=alpha, l1_ratio=l1_ratio)\n",
    "\n",
    "    r2 = cross_val_score(model, X_train, y_train, cv=5).mean()\n",
    "\n",
    "    print(f\"alpha: {alpha}, l1_ratio: {l1_ratio},   r2: {r2}\")"
   ]
  },
  {
   "cell_type": "code",
   "execution_count": 21,
   "id": "3ccdaaff",
   "metadata": {},
   "outputs": [],
   "source": [
    "from sklearn.model_selection import GridSearchCV\n",
    "\n",
    "# Train/Test split\n",
    "X_train, X_test, y_train, y_test = train_test_split(X, y, test_size=0.20, random_state=1)\n",
    "\n",
    "# Instantiate model\n",
    "model = ElasticNet()\n",
    "\n",
    "# Hyperparameter Grid\n",
    "grid = {\n",
    "    'alpha': [0.01, 0.1, 1], \n",
    "    'l1_ratio': [0.2, 0.5, 0.8]\n",
    "}\n",
    "\n",
    "# Instantiate Grid Search\n",
    "search = GridSearchCV(\n",
    "    model,\n",
    "    grid, \n",
    "    scoring = 'r2',\n",
    "    cv = 5,\n",
    "    n_jobs=-1 # parallelize computation\n",
    ") \n",
    "\n",
    "# Fit data to Grid Search\n",
    "search.fit(X_train, y_train);"
   ]
  },
  {
   "cell_type": "code",
   "execution_count": 23,
   "id": "095750f5",
   "metadata": {},
   "outputs": [
    {
     "data": {
      "text/plain": [
       "{'alpha': 0.01, 'l1_ratio': 0.8}"
      ]
     },
     "execution_count": 23,
     "metadata": {},
     "output_type": "execute_result"
    }
   ],
   "source": [
    "# Best score\n",
    "search.best_score_\n",
    "\n",
    "# Best Params\n",
    "search.best_params_\n",
    "\n",
    "# Best estimator\n",
    "# search.best_estimator_"
   ]
  },
  {
   "cell_type": "code",
   "execution_count": 13,
   "id": "500eb3ab",
   "metadata": {},
   "outputs": [
    {
     "data": {
      "text/plain": [
       "0.44169590096847544"
      ]
     },
     "execution_count": 13,
     "metadata": {},
     "output_type": "execute_result"
    }
   ],
   "source": [
    "search.best_score_"
   ]
  },
  {
   "cell_type": "code",
   "execution_count": 31,
   "id": "b6b3e250",
   "metadata": {},
   "outputs": [
    {
     "data": {
      "image/png": "[encoded data removed]",
      "text/plain": [
       "<Figure size 640x480 with 1 Axes>"
      ]
     },
     "metadata": {},
     "output_type": "display_data"
    }
   ],
   "source": [
    "# dist = stats.uniform(1, 100) # same\n",
    "\n",
    "dist = stats.norm(10, 2) # Coarse grain search\n",
    "\n",
    "r = dist.rvs(size=10000) # Random draws\n",
    "plt.hist(r);"
   ]
  },
  {
   "cell_type": "code",
   "execution_count": 14,
   "id": "a0cb4b15",
   "metadata": {},
   "outputs": [
    {
     "data": {
      "text/plain": [
       "{'alpha': 0.01, 'l1_ratio': 0.8}"
      ]
     },
     "execution_count": 14,
     "metadata": {},
     "output_type": "execute_result"
    }
   ],
   "source": [
    "search.best_params_"
   ]
  },
  {
   "cell_type": "code",
   "execution_count": 24,
   "id": "95923639",
   "metadata": {},
   "outputs": [
    {
     "data": {
      "text/html": [
       "<style>#sk-container-id-2 {color: black;background-color: white;}#sk-container-id-2 pre{padding: 0;}#sk-container-id-2 div.sk-toggleable {background-color: white;}#sk-container-id-2 label.sk-toggleable__label {cursor: pointer;display: block;width: 100%;margin-bottom: 0;padding: 0.3em;box-sizing: border-box;text-align: center;}#sk-container-id-2 label.sk-toggleable__label-arrow:before {content: \"▸\";float: left;margin-right: 0.25em;color: #696969;}#sk-container-id-2 label.sk-toggleable__label-arrow:hover:before {color: black;}#sk-container-id-2 div.sk-estimator:hover label.sk-toggleable__label-arrow:before {color: black;}#sk-container-id-2 div.sk-toggleable__content {max-height: 0;max-width: 0;overflow: hidden;text-align: left;background-color: #f0f8ff;}#sk-container-id-2 div.sk-toggleable__content pre {margin: 0.2em;color: black;border-radius: 0.25em;background-color: #f0f8ff;}#sk-container-id-2 input.sk-toggleable__control:checked~div.sk-toggleable__content {max-height: 200px;max-width: 100%;overflow: auto;}#sk-container-id-2 input.sk-toggleable__control:checked~label.sk-toggleable__label-arrow:before {content: \"▾\";}#sk-container-id-2 div.sk-estimator input.sk-toggleable__control:checked~label.sk-toggleable__label {background-color: #d4ebff;}#sk-container-id-2 div.sk-label input.sk-toggleable__control:checked~label.sk-toggleable__label {background-color: #d4ebff;}#sk-container-id-2 input.sk-hidden--visually {border: 0;clip: rect(1px 1px 1px 1px);clip: rect(1px, 1px, 1px, 1px);height: 1px;margin: -1px;overflow: hidden;padding: 0;position: absolute;width: 1px;}#sk-container-id-2 div.sk-estimator {font-family: monospace;background-color: #f0f8ff;border: 1px dotted black;border-radius: 0.25em;box-sizing: border-box;margin-bottom: 0.5em;}#sk-container-id-2 div.sk-estimator:hover {background-color: #d4ebff;}#sk-container-id-2 div.sk-parallel-item::after {content: \"\";width: 100%;border-bottom: 1px solid gray;flex-grow: 1;}#sk-container-id-2 div.sk-label:hover label.sk-toggleable__label {background-color: #d4ebff;}#sk-container-id-2 div.sk-serial::before {content: \"\";position: absolute;border-left: 1px solid gray;box-sizing: border-box;top: 0;bottom: 0;left: 50%;z-index: 0;}#sk-container-id-2 div.sk-serial {display: flex;flex-direction: column;align-items: center;background-color: white;padding-right: 0.2em;padding-left: 0.2em;position: relative;}#sk-container-id-2 div.sk-item {position: relative;z-index: 1;}#sk-container-id-2 div.sk-parallel {display: flex;align-items: stretch;justify-content: center;background-color: white;position: relative;}#sk-container-id-2 div.sk-item::before, #sk-container-id-2 div.sk-parallel-item::before {content: \"\";position: absolute;border-left: 1px solid gray;box-sizing: border-box;top: 0;bottom: 0;left: 50%;z-index: -1;}#sk-container-id-2 div.sk-parallel-item {display: flex;flex-direction: column;z-index: 1;position: relative;background-color: white;}#sk-container-id-2 div.sk-parallel-item:first-child::after {align-self: flex-end;width: 50%;}#sk-container-id-2 div.sk-parallel-item:last-child::after {align-self: flex-start;width: 50%;}#sk-container-id-2 div.sk-parallel-item:only-child::after {width: 0;}#sk-container-id-2 div.sk-dashed-wrapped {border: 1px dashed gray;margin: 0 0.4em 0.5em 0.4em;box-sizing: border-box;padding-bottom: 0.4em;background-color: white;}#sk-container-id-2 div.sk-label label {font-family: monospace;font-weight: bold;display: inline-block;line-height: 1.2em;}#sk-container-id-2 div.sk-label-container {text-align: center;}#sk-container-id-2 div.sk-container {/* jupyter's `normalize.less` sets `[hidden] { display: none; }` but bootstrap.min.css set `[hidden] { display: none !important; }` so we also need the `!important` here to be able to override the default hidden behavior on the sphinx rendered scikit-learn.org. See: https://github.com/scikit-learn/scikit-learn/issues/21755 */display: inline-block !important;position: relative;}#sk-container-id-2 div.sk-text-repr-fallback {display: none;}</style><div id=\"sk-container-id-2\" class=\"sk-top-container\"><div class=\"sk-text-repr-fallback\"><pre>ElasticNet(alpha=0.001, l1_ratio=0.752759944120145)</pre><b>In a Jupyter environment, please rerun this cell to show the HTML representation or trust the notebook. <br />On GitHub, the HTML representation is unable to render, please try loading this page with nbviewer.org.</b></div><div class=\"sk-container\" hidden><div class=\"sk-item\"><div class=\"sk-estimator sk-toggleable\"><input class=\"sk-toggleable__control sk-hidden--visually\" id=\"sk-estimator-id-2\" type=\"checkbox\" checked><label for=\"sk-estimator-id-2\" class=\"sk-toggleable__label sk-toggleable__label-arrow\">ElasticNet</label><div class=\"sk-toggleable__content\"><pre>ElasticNet(alpha=0.001, l1_ratio=0.752759944120145)</pre></div></div></div></div></div>"
      ],
      "text/plain": [
       "ElasticNet(alpha=0.001, l1_ratio=0.752759944120145)"
      ]
     },
     "execution_count": 24,
     "metadata": {},
     "output_type": "execute_result"
    }
   ],
   "source": [
    "from sklearn.model_selection import RandomizedSearchCV\n",
    "from scipy import stats\n",
    "\n",
    "# Instantiate model\n",
    "model = ElasticNet()\n",
    "\n",
    "# Hyperparameter Grid\n",
    "grid = {'l1_ratio': stats.uniform(0, 1), 'alpha': [0.001, 0.01, 0.1, 1]}\n",
    "\n",
    "# Instantiate Grid Search\n",
    "search = RandomizedSearchCV(\n",
    "    model,\n",
    "    grid, \n",
    "    scoring='r2',\n",
    "    n_iter=100,  # number of draws\n",
    "    cv=5, n_jobs=-1\n",
    ")\n",
    "\n",
    "# Fit data to Grid Search\n",
    "search.fit(X_train, y_train)\n",
    "search.best_estimator_"
   ]
  },
  {
   "cell_type": "code",
   "execution_count": 27,
   "id": "77a30143",
   "metadata": {},
   "outputs": [
    {
     "data": {
      "text/plain": [
       "0.4814836260094628"
      ]
     },
     "execution_count": 27,
     "metadata": {},
     "output_type": "execute_result"
    }
   ],
   "source": [
    "model = ElasticNet(alpha=0.001, l1_ratio=0.752759944120145)\n",
    "\n",
    "r2 = cross_val_score(model, X_train, y_train, cv=5).mean()\n",
    "r2"
   ]
  },
  {
   "cell_type": "code",
   "execution_count": 32,
   "id": "584fec5d",
   "metadata": {},
   "outputs": [],
   "source": [
    "from sklearn.svm import SVC\n",
    "svc = SVC(kernel='linear', C=10)\n",
    "\n",
    "# equivalent but with SGD solver\n",
    "from sklearn.linear_model import SGDClassifier\n",
    "svc_bis = SGDClassifier(loss='hinge', penalty='l2', alpha=1/10)"
   ]
  },
  {
   "cell_type": "code",
   "execution_count": 18,
   "id": "ccafedb2",
   "metadata": {},
   "outputs": [
    {
     "data": {
      "image/png": "[encoded data removed]",
      "text/plain": [
       "<Figure size 500x300 with 1 Axes>"
      ]
     },
     "metadata": {},
     "output_type": "display_data"
    }
   ],
   "source": [
    "from scipy import stats\n",
    "\n",
    "plt.figure(figsize=(5, 3))\n",
    "\n",
    "dist = stats.norm(10, 2) # if you have a best guess (say: 10)\n",
    "\n",
    "dist = stats.randint(1,100) # if you have no idea\n",
    "dist = stats.uniform(1, 100) # same\n",
    "\n",
    "dist = stats.loguniform(0.01, 1) # Coarse grain search\n",
    "\n",
    "r = dist.rvs(size=10000) # Random draws\n",
    "plt.hist(r);"
   ]
  },
  {
   "cell_type": "code",
   "execution_count": null,
   "id": "d04c86e1",
   "metadata": {},
   "outputs": [],
   "source": []
  }
 ],
 "metadata": {
  "kernelspec": {
   "display_name": "Python 3 (ipykernel)",
   "language": "python",
   "name": "python3"
  },
  "language_info": {
   "codemirror_mode": {
    "name": "ipython",
    "version": 3
   },
   "file_extension": ".py",
   "mimetype": "text/x-python",
   "name": "python",
   "nbconvert_exporter": "python",
   "pygments_lexer": "ipython3",
   "version": "3.10.6"
  },
  "toc": {
   "base_numbering": 1,
   "nav_menu": {},
   "number_sections": true,
   "sideBar": true,
   "skip_h1_title": false,
   "title_cell": "Table of Contents",
   "title_sidebar": "Contents",
   "toc_cell": false,
   "toc_position": {},
   "toc_section_display": true,
   "toc_window_display": false
  }
 },
 "nbformat": 4,
 "nbformat_minor": 5
}
