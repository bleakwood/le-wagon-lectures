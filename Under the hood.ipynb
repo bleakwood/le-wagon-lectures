{
 "cells": [
  {
   "cell_type": "code",
   "execution_count": 25,
   "metadata": {},
   "outputs": [],
   "source": [
    "import pandas as pd\n",
    "import numpy as np\n",
    "\n",
    "d = {'weight': [0.7, 2.4, 2.8], 'height': [1.5, 1.8, 3.2]}\n",
    "data = pd.DataFrame(data=d)"
   ]
  },
  {
   "cell_type": "code",
   "execution_count": 6,
   "metadata": {},
   "outputs": [
    {
     "data": {
      "text/html": [
       "<div>\n",
       "<style scoped>\n",
       "    .dataframe tbody tr th:only-of-type {\n",
       "        vertical-align: middle;\n",
       "    }\n",
       "\n",
       "    .dataframe tbody tr th {\n",
       "        vertical-align: top;\n",
       "    }\n",
       "\n",
       "    .dataframe thead th {\n",
       "        text-align: right;\n",
       "    }\n",
       "</style>\n",
       "<table border=\"1\" class=\"dataframe\">\n",
       "  <thead>\n",
       "    <tr style=\"text-align: right;\">\n",
       "      <th></th>\n",
       "      <th>weight</th>\n",
       "      <th>height</th>\n",
       "    </tr>\n",
       "  </thead>\n",
       "  <tbody>\n",
       "    <tr>\n",
       "      <th>0</th>\n",
       "      <td>0.7</td>\n",
       "      <td>1.5</td>\n",
       "    </tr>\n",
       "    <tr>\n",
       "      <th>1</th>\n",
       "      <td>2.4</td>\n",
       "      <td>1.8</td>\n",
       "    </tr>\n",
       "    <tr>\n",
       "      <th>2</th>\n",
       "      <td>2.8</td>\n",
       "      <td>3.2</td>\n",
       "    </tr>\n",
       "  </tbody>\n",
       "</table>\n",
       "</div>"
      ],
      "text/plain": [
       "   weight  height\n",
       "0     0.7     1.5\n",
       "1     2.4     1.8\n",
       "2     2.8     3.2"
      ]
     },
     "execution_count": 6,
     "metadata": {},
     "output_type": "execute_result"
    }
   ],
   "source": [
    "data"
   ]
  },
  {
   "cell_type": "code",
   "execution_count": 8,
   "metadata": {},
   "outputs": [
    {
     "data": {
      "text/plain": [
       "LinearRegression()"
      ]
     },
     "execution_count": 8,
     "metadata": {},
     "output_type": "execute_result"
    }
   ],
   "source": [
    "from sklearn.linear_model import LinearRegression\n",
    "\n",
    "# Instanciate Linear model\n",
    "model = LinearRegression()\n",
    "\n",
    "# Train Linear Model\n",
    "model.fit(data[['weight']], data['height'])"
   ]
  },
  {
   "cell_type": "code",
   "execution_count": 12,
   "metadata": {},
   "outputs": [
    {
     "name": "stdout",
     "output_type": "stream",
     "text": [
      "beta_0 intercept = 0.9434316353887398\n",
      "beta_1 slope = 0.6219839142091154\n"
     ]
    }
   ],
   "source": [
    "print('beta_0 intercept =', model.intercept_)\n",
    "print('beta_1 slope =', model.coef_[0])"
   ]
  },
  {
   "cell_type": "code",
   "execution_count": 13,
   "metadata": {},
   "outputs": [],
   "source": [
    "X = data['weight']\n",
    "y = data['height']"
   ]
  },
  {
   "cell_type": "code",
   "execution_count": 23,
   "metadata": {},
   "outputs": [
    {
     "data": {
      "text/plain": [
       "3.1588640000000012"
      ]
     },
     "execution_count": 23,
     "metadata": {},
     "output_type": "execute_result"
    }
   ],
   "source": [
    "b1 = 0.64 # b1 fixed at 0.64\n",
    "eta = 0.1 # Learning rate fixed \n",
    "\n",
    "# Hypothesis function h\n",
    "def h(x,b0):\n",
    "    return b0 + b1*x \n",
    "\n",
    "# Initialize intercept at 0 for this example\n",
    "b0_epoch0 = 0\n",
    "\n",
    "# L(b0_epoch_0)\n",
    "np.sum((y-h(X,b0_epoch0)) ** 2)"
   ]
  },
  {
   "cell_type": "code",
   "execution_count": 26,
   "metadata": {},
   "outputs": [
    {
     "data": {
      "text/plain": [
       "-5.448"
      ]
     },
     "execution_count": 26,
     "metadata": {},
     "output_type": "execute_result"
    }
   ],
   "source": [
    "# Step 1: Compute the derivative of the Loss function at b0_epoch_0\n",
    "derivative = np.sum(-2*(y-h(X,b0_epoch0)))\n",
    "derivative"
   ]
  },
  {
   "cell_type": "code",
   "execution_count": 27,
   "metadata": {},
   "outputs": [
    {
     "data": {
      "text/plain": [
       "0.5448000000000001"
      ]
     },
     "execution_count": 27,
     "metadata": {},
     "output_type": "execute_result"
    }
   ],
   "source": [
    "# Step 2: Update the intercept\n",
    "b0_epoch1 = b0_epoch0 - (eta * derivative)\n",
    "\n",
    "b0_epoch1"
   ]
  },
  {
   "cell_type": "code",
   "execution_count": 29,
   "metadata": {},
   "outputs": [
    {
     "data": {
      "text/plain": [
       "0.7627200000000002"
      ]
     },
     "execution_count": 29,
     "metadata": {},
     "output_type": "execute_result"
    }
   ],
   "source": [
    "# Step1: Compute the new derivative at b0_epoch1\n",
    "derivative = np.sum(-2*(y-h(X,b0_epoch1)))\n",
    "\n",
    "# Step2: Update the previsouly updated intercept\n",
    "b0_epoch2 = b0_epoch1 - eta * derivative\n",
    "b0_epoch2"
   ]
  },
  {
   "cell_type": "code",
   "execution_count": 30,
   "metadata": {},
   "outputs": [
    {
     "name": "stdout",
     "output_type": "stream",
     "text": [
      "b0 epoch 0: 0.2816000000000001\n",
      "b0 epoch 0: 0.27808000000000005\n",
      "b0 epoch 0: 0.432864\n",
      "b0 epoch 1: 0.5566912\n",
      "b0 epoch 1: 0.4981529600000001\n",
      "b0 epoch 1: 0.6801223680000001\n",
      "b0 epoch 2: 0.8256978944000002\n",
      "b0 epoch 2: 0.8709583155200001\n",
      "b0 epoch 2: 0.7495666524160001\n",
      "b0 epoch 3: 0.8812533219328001\n",
      "b0 epoch 3: 0.9154026575462402\n",
      "b0 epoch 3: 0.785122126036992\n",
      "b0 epoch 4: 0.9096977008295938\n",
      "b0 epoch 4: 0.780558160663675\n",
      "b0 epoch 4: 0.83484652853094\n"
     ]
    }
   ],
   "source": [
    "b0 = 0\n",
    "eta = 0.1\n",
    "n_epoch = 5 # We have to choose when to stop\n",
    "\n",
    "for epoch in range(n_epoch):    \n",
    "    # Loop randomly over all 3 data points in our example\n",
    "    for i in np.random.permutation(3):\n",
    "        \n",
    "        # Select a minibatch (of size 1)\n",
    "        X_mini = X[i]\n",
    "        \n",
    "        # Compute gradient of the loss at b_0\n",
    "        y_pred = h(X_mini,b0)\n",
    "        y_true = y[i]\n",
    "        derivative = -2*(y_true-y_pred)\n",
    "        \n",
    "        # Update b_0\n",
    "        b0 = b0 - eta * derivative        \n",
    "        print(f'b0 epoch {epoch}:', b0)"
   ]
  },
  {
   "cell_type": "code",
   "execution_count": 42,
   "metadata": {},
   "outputs": [
    {
     "data": {
      "text/plain": [
       "(1000,)"
      ]
     },
     "execution_count": 42,
     "metadata": {},
     "output_type": "execute_result"
    }
   ],
   "source": [
    "X[i].shape"
   ]
  },
  {
   "cell_type": "code",
   "execution_count": 35,
   "metadata": {},
   "outputs": [],
   "source": [
    "from sklearn.linear_model import SGDRegressor, LinearRegression\n",
    "\n",
    "lin_reg = LinearRegression() # OLS solved by matrix inversion (SVD method)\n",
    "\n",
    "lin_reg_sgd = SGDRegressor(loss='squared_error') # OLS solved by SGD"
   ]
  },
  {
   "cell_type": "code",
   "execution_count": 36,
   "metadata": {},
   "outputs": [],
   "source": [
    "from sklearn.datasets import make_regression\n",
    "\n",
    "# Create a \"fake problem\" to solve\n",
    "X, y = make_regression(n_samples=10000, n_features=1000)"
   ]
  },
  {
   "cell_type": "code",
   "execution_count": 37,
   "metadata": {},
   "outputs": [
    {
     "name": "stdout",
     "output_type": "stream",
     "text": [
      "CPU times: user 2.21 s, sys: 110 ms, total: 2.32 s\n",
      "Wall time: 1.54 s\n"
     ]
    },
    {
     "data": {
      "text/plain": [
       "LinearRegression()"
      ]
     },
     "execution_count": 37,
     "metadata": {},
     "output_type": "execute_result"
    }
   ],
   "source": [
    "%%time\n",
    "lin_reg.fit(X,y)"
   ]
  },
  {
   "cell_type": "code",
   "execution_count": 38,
   "metadata": {},
   "outputs": [
    {
     "name": "stdout",
     "output_type": "stream",
     "text": [
      "CPU times: user 199 ms, sys: 4.99 ms, total: 204 ms\n",
      "Wall time: 214 ms\n"
     ]
    },
    {
     "data": {
      "text/plain": [
       "SGDRegressor()"
      ]
     },
     "execution_count": 38,
     "metadata": {},
     "output_type": "execute_result"
    }
   ],
   "source": [
    "%%time\n",
    "lin_reg_sgd.fit(X,y)"
   ]
  },
  {
   "cell_type": "code",
   "execution_count": 46,
   "metadata": {},
   "outputs": [
    {
     "data": {
      "text/html": [
       "<img src=\"images/800px-Courbe_niveau.svg.png\" width=\"350\"/>"
      ],
      "text/plain": [
       "<IPython.core.display.Image object>"
      ]
     },
     "execution_count": 46,
     "metadata": {},
     "output_type": "execute_result"
    }
   ],
   "source": [
    "from IPython.display import Image\n",
    "Image(url= \"images/800px-Courbe_niveau.svg.png\", width=350)"
   ]
  },
  {
   "cell_type": "code",
   "execution_count": null,
   "metadata": {},
   "outputs": [],
   "source": []
  }
 ],
 "metadata": {
  "kernelspec": {
   "display_name": "Python 3",
   "language": "python",
   "name": "python3"
  },
  "language_info": {
   "codemirror_mode": {
    "name": "ipython",
    "version": 3
   },
   "file_extension": ".py",
   "mimetype": "text/x-python",
   "name": "python",
   "nbconvert_exporter": "python",
   "pygments_lexer": "ipython3",
   "version": "3.7.12"
  }
 },
 "nbformat": 4,
 "nbformat_minor": 4
}
