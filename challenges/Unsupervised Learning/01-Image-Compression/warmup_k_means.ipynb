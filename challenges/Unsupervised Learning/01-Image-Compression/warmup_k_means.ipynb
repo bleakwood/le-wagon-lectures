{
 "cells": [
  {
   "cell_type": "markdown",
   "metadata": {},
   "source": [
    "# K-Means Clustering"
   ]
  },
  {
   "cell_type": "markdown",
   "metadata": {},
   "source": [
    "This challenge will help you gain intuition on how a **K-means** clustering works.  "
   ]
  },
  {
   "cell_type": "code",
   "execution_count": 5,
   "metadata": {},
   "outputs": [],
   "source": [
    "import numpy as np\n",
    "import pandas as pd\n",
    "import matplotlib.pyplot as plt\n",
    "import seaborn as sns\n",
    "from sklearn.datasets import make_blobs"
   ]
  },
  {
   "cell_type": "markdown",
   "metadata": {},
   "source": [
    "## 1) Generate Data"
   ]
  },
  {
   "cell_type": "markdown",
   "metadata": {},
   "source": [
    "To make sure that our data actually contains relevant clusters, we will generate it ourselves.\n",
    "\n",
    "To do so, we will use [`make_blobs`](https://scikit-learn.org/stable/modules/generated/sklearn.datasets.make_blobs.html) from `sklearn`.  \n",
    "\n",
    "We want a dataset with **500 observations**, **2 features** and **4 clusters**.  \n",
    "\n",
    "We use *random_state=42* so that you can compare results with your buddy.\n",
    "\n",
    "👇 Run the cell below to generate your data"
   ]
  },
  {
   "cell_type": "code",
   "execution_count": 6,
   "metadata": {},
   "outputs": [],
   "source": [
    "random_state=42\n",
    "\n",
    "# Generate data\n",
    "X, y = make_blobs(n_samples=500, centers=4, random_state=random_state)"
   ]
  },
  {
   "cell_type": "code",
   "execution_count": 16,
   "metadata": {},
   "outputs": [
    {
     "data": {
      "text/plain": [
       "0     -7.689054\n",
       "1     -9.576514\n",
       "2      6.829682\n",
       "3     -2.901306\n",
       "4     -5.678413\n",
       "         ...   \n",
       "495   -7.438972\n",
       "496   -2.586299\n",
       "497   -7.215412\n",
       "498   -7.402350\n",
       "499    5.159225\n",
       "Name: 0, Length: 500, dtype: float64"
      ]
     },
     "execution_count": 16,
     "metadata": {},
     "output_type": "execute_result"
    }
   ],
   "source": [
    "pd.DataFrame(X).iloc[:,0]"
   ]
  },
  {
   "cell_type": "code",
   "execution_count": 19,
   "metadata": {},
   "outputs": [
    {
     "data": {
      "text/plain": [
       "array([3, 2, 1, 0, 2, 2, 3, 2, 1, 2, 1, 0, 1, 0, 2, 1, 0, 3, 3, 0, 1, 0,\n",
       "       1, 3, 3, 2, 2, 3, 3, 0, 2, 0, 0, 0, 2, 2, 1, 1, 3, 3, 2, 1, 0, 0,\n",
       "       0, 1, 1, 1, 2, 3, 2, 0, 3, 2, 1, 0, 0, 3, 2, 3, 3, 0, 2, 3, 1, 2,\n",
       "       2, 3, 1, 2, 1, 2, 2, 3, 0, 3, 0, 2, 1, 0, 2, 1, 2, 0, 3, 3, 3, 3,\n",
       "       1, 0, 3, 2, 1, 2, 1, 3, 0, 1, 0, 3, 1, 1, 1, 3, 3, 0, 0, 3, 0, 3,\n",
       "       2, 3, 3, 3, 3, 2, 1, 3, 2, 2, 0, 1, 2, 1, 3, 1, 1, 2, 2, 3, 3, 1,\n",
       "       1, 2, 1, 3, 3, 3, 1, 1, 2, 3, 1, 1, 2, 3, 3, 0, 0, 0, 2, 2, 1, 1,\n",
       "       0, 3, 0, 3, 2, 2, 3, 3, 1, 1, 2, 0, 1, 2, 3, 3, 2, 0, 0, 3, 3, 0,\n",
       "       0, 2, 2, 2, 0, 3, 0, 0, 3, 3, 0, 1, 0, 2, 2, 3, 3, 2, 0, 2, 0, 0,\n",
       "       3, 2, 0, 0, 2, 3, 1, 3, 2, 1, 1, 3, 3, 2, 3, 0, 0, 2, 0, 3, 0, 1,\n",
       "       1, 0, 3, 0, 1, 0, 0, 2, 2, 1, 2, 1, 0, 2, 3, 2, 0, 2, 1, 1, 1, 2,\n",
       "       0, 1, 3, 3, 1, 0, 0, 2, 0, 0, 0, 0, 1, 1, 3, 0, 2, 1, 0, 0, 3, 0,\n",
       "       2, 2, 1, 0, 1, 2, 0, 0, 1, 3, 0, 0, 0, 1, 3, 2, 0, 1, 1, 0, 2, 0,\n",
       "       1, 3, 1, 2, 2, 0, 0, 1, 3, 1, 3, 1, 2, 1, 2, 3, 1, 1, 0, 1, 2, 2,\n",
       "       1, 1, 2, 3, 1, 1, 1, 2, 3, 1, 1, 1, 3, 1, 1, 3, 3, 3, 2, 3, 3, 3,\n",
       "       3, 3, 0, 3, 1, 3, 0, 0, 3, 1, 1, 1, 0, 0, 2, 0, 2, 0, 1, 2, 2, 1,\n",
       "       2, 3, 3, 2, 3, 0, 2, 0, 1, 0, 2, 2, 3, 1, 2, 1, 1, 3, 0, 2, 1, 2,\n",
       "       3, 1, 3, 1, 3, 3, 2, 3, 0, 2, 3, 2, 0, 2, 3, 2, 3, 1, 0, 0, 2, 2,\n",
       "       1, 0, 0, 0, 1, 3, 2, 0, 1, 1, 2, 3, 2, 2, 2, 0, 1, 2, 0, 1, 0, 0,\n",
       "       1, 0, 1, 0, 3, 2, 1, 0, 2, 3, 0, 1, 1, 2, 2, 2, 3, 2, 1, 3, 0, 0,\n",
       "       3, 1, 3, 1, 0, 2, 2, 2, 0, 1, 1, 3, 0, 2, 2, 2, 1, 2, 0, 1, 3, 1,\n",
       "       2, 1, 0, 1, 0, 1, 2, 0, 3, 3, 0, 0, 3, 3, 0, 2, 1, 2, 1, 0, 3, 3,\n",
       "       0, 2, 3, 3, 1, 3, 3, 0, 3, 2, 0, 3, 0, 2, 2, 1])"
      ]
     },
     "execution_count": 19,
     "metadata": {},
     "output_type": "execute_result"
    }
   ],
   "source": [
    "y"
   ]
  },
  {
   "cell_type": "code",
   "execution_count": 23,
   "metadata": {
    "tags": [
     "challengify"
    ]
   },
   "outputs": [
    {
     "data": {
      "text/plain": [
       "Text(0, 0.5, 'Feature 1')"
      ]
     },
     "execution_count": 23,
     "metadata": {},
     "output_type": "execute_result"
    },
    {
     "data": {
      "image/png": "[encoded data removed]",
      "text/plain": [
       "<Figure size 936x360 with 1 Axes>"
      ]
     },
     "metadata": {
      "needs_background": "light"
     },
     "output_type": "display_data"
    }
   ],
   "source": [
    "plt.figure(figsize=(13,5))\n",
    "\n",
    "plt.subplot(1,2,1)\n",
    "plt.scatter(pd.DataFrame(X).iloc[:,0], pd.DataFrame(X).iloc[:,1], c=y)\n",
    "plt.title('KMeans clustering'); plt.xlabel('Feature 0'); plt.ylabel('Feature 1')"
   ]
  },
  {
   "cell_type": "markdown",
   "metadata": {},
   "source": [
    "❓ Make a scatter plot of your two features against each other  \n",
    "❓ Color the points according to their corresponding  value in `y`\n",
    "\n",
    "<details span=\"markdown\">\n",
    "    <summary>💡 Help</summary>\n",
    "\n",
    "- Recall the color argument:\n",
    " - `c` for matplotlib  \n",
    " - `hue` for seaborn \n",
    "\n",
    "---\n",
    "</details>"
   ]
  },
  {
   "cell_type": "markdown",
   "metadata": {},
   "source": [
    "👆 You should see 4 distinct clusters, each with a different color.  \n",
    "\n",
    "Training a KNN Classifier on `X` with `y` as target would give great results.\n",
    "\n",
    "However today is about **Unsupervised Learning**\n",
    "\n",
    "Let's assume that we never knew about `y` and only received `X` to work with.  \n",
    "\n",
    "We only have 2 features and no target 😱  \n",
    "\n",
    "**What can we can achieve with only `X` ?**  🤔"
   ]
  },
  {
   "cell_type": "markdown",
   "metadata": {},
   "source": [
    "## 2) Apply K-Means"
   ]
  },
  {
   "cell_type": "markdown",
   "metadata": {},
   "source": [
    "Your goal is to find the **number of clusters** that best matches the structure of your data.  \n",
    "\n",
    "\n",
    "👉Import `KMeans` from `sklearn` and initiate a model with the parameters:\n",
    "- `n_clusters=2`,\n",
    "- `random_state=42`\n",
    "\n",
    "❓Fit the model on your `X`  \n",
    "❓ Get your predictions and store them in a `y_pred` variable.  "
   ]
  },
  {
   "cell_type": "code",
   "execution_count": 24,
   "metadata": {
    "tags": [
     "challengify"
    ]
   },
   "outputs": [
    {
     "data": {
      "text/plain": [
       "KMeans(n_clusters=2, random_state=42)"
      ]
     },
     "execution_count": 24,
     "metadata": {},
     "output_type": "execute_result"
    }
   ],
   "source": [
    "from sklearn.cluster import KMeans\n",
    "\n",
    "# Fit K-means\n",
    "km = KMeans(n_clusters=2, random_state=42)\n",
    "km.fit(X)"
   ]
  },
  {
   "cell_type": "code",
   "execution_count": 25,
   "metadata": {},
   "outputs": [
    {
     "data": {
      "text/plain": [
       "array([1, 0, 1, 1, 0, 0, 1, 0, 1, 0, 1, 1, 1, 1, 0, 1, 1, 1, 1, 1, 1, 1,\n",
       "       1, 1, 1, 0, 0, 1, 1, 1, 0, 1, 1, 1, 0, 0, 1, 1, 1, 1, 0, 1, 1, 1,\n",
       "       1, 1, 1, 1, 0, 1, 0, 1, 1, 0, 1, 1, 1, 1, 0, 1, 1, 1, 0, 1, 1, 0,\n",
       "       0, 1, 1, 0, 1, 0, 0, 1, 1, 1, 1, 0, 1, 1, 0, 1, 0, 1, 1, 1, 1, 1,\n",
       "       1, 1, 1, 0, 1, 0, 1, 1, 1, 1, 1, 1, 1, 1, 1, 1, 1, 1, 1, 1, 1, 1,\n",
       "       0, 1, 1, 1, 1, 0, 1, 1, 0, 0, 1, 1, 0, 1, 1, 1, 1, 0, 0, 1, 1, 1,\n",
       "       1, 0, 1, 1, 1, 1, 1, 1, 0, 1, 1, 1, 0, 1, 1, 1, 1, 1, 0, 0, 1, 1,\n",
       "       1, 1, 1, 1, 0, 0, 1, 1, 1, 1, 0, 1, 1, 0, 1, 1, 0, 1, 1, 1, 1, 1,\n",
       "       1, 0, 0, 0, 1, 1, 1, 1, 1, 1, 1, 1, 1, 0, 0, 1, 1, 0, 1, 0, 1, 1,\n",
       "       1, 0, 1, 1, 0, 1, 1, 1, 0, 1, 1, 1, 1, 0, 1, 1, 1, 0, 1, 1, 1, 1,\n",
       "       1, 1, 1, 1, 1, 1, 1, 0, 0, 1, 0, 1, 1, 0, 1, 0, 1, 0, 1, 1, 1, 0,\n",
       "       1, 1, 1, 1, 1, 1, 1, 0, 1, 1, 1, 1, 1, 1, 1, 1, 0, 1, 1, 1, 1, 1,\n",
       "       0, 0, 1, 1, 1, 0, 1, 1, 1, 1, 1, 1, 1, 1, 1, 0, 1, 1, 1, 1, 0, 1,\n",
       "       1, 1, 1, 0, 0, 1, 1, 1, 1, 1, 1, 1, 0, 1, 0, 1, 1, 1, 1, 1, 0, 0,\n",
       "       1, 1, 0, 1, 1, 1, 1, 0, 1, 1, 1, 1, 1, 1, 1, 1, 1, 1, 0, 1, 1, 1,\n",
       "       1, 1, 1, 1, 1, 1, 1, 1, 1, 1, 1, 1, 1, 1, 0, 1, 0, 1, 1, 0, 0, 1,\n",
       "       0, 1, 1, 0, 1, 1, 0, 1, 1, 1, 0, 0, 1, 1, 0, 1, 1, 1, 1, 0, 1, 0,\n",
       "       1, 1, 1, 1, 1, 1, 0, 1, 1, 0, 1, 0, 1, 0, 1, 0, 1, 1, 1, 1, 0, 0,\n",
       "       1, 1, 1, 1, 1, 1, 0, 1, 1, 1, 0, 1, 0, 0, 0, 1, 1, 0, 1, 1, 1, 1,\n",
       "       1, 1, 1, 1, 1, 0, 1, 1, 0, 1, 1, 1, 1, 0, 0, 0, 1, 0, 1, 1, 1, 1,\n",
       "       1, 1, 1, 1, 1, 0, 0, 0, 1, 1, 1, 1, 1, 0, 0, 0, 1, 0, 1, 1, 1, 1,\n",
       "       0, 1, 1, 1, 1, 1, 0, 1, 1, 1, 1, 1, 1, 1, 1, 0, 1, 0, 1, 1, 1, 1,\n",
       "       1, 0, 1, 1, 1, 1, 1, 1, 1, 0, 1, 1, 1, 0, 0, 1], dtype=int32)"
      ]
     },
     "execution_count": 25,
     "metadata": {},
     "output_type": "execute_result"
    }
   ],
   "source": [
    "km.labels_"
   ]
  },
  {
   "cell_type": "markdown",
   "metadata": {},
   "source": [
    "👆 The predictions are a vector of cluster assignment for each observation.  \n",
    "With `n_clusters=2` each observation in `X` will be associated to either one of two clusters."
   ]
  },
  {
   "cell_type": "markdown",
   "metadata": {},
   "source": [
    "❓ Make a scatter plot of your two features against each other  \n",
    "❓ Color the points according the predicted cluster in `y_pred`"
   ]
  },
  {
   "cell_type": "code",
   "execution_count": 26,
   "metadata": {
    "tags": [
     "challengify"
    ]
   },
   "outputs": [
    {
     "data": {
      "text/plain": [
       "Text(0, 0.5, 'Feature 1')"
      ]
     },
     "execution_count": 26,
     "metadata": {},
     "output_type": "execute_result"
    },
    {
     "data": {
      "image/png": "[encoded data removed]",
      "text/plain": [
       "<Figure size 936x360 with 1 Axes>"
      ]
     },
     "metadata": {
      "needs_background": "light"
     },
     "output_type": "display_data"
    }
   ],
   "source": [
    "plt.figure(figsize=(13,5))\n",
    "\n",
    "plt.subplot(1,2,1)\n",
    "plt.scatter(pd.DataFrame(X).iloc[:,0], pd.DataFrame(X).iloc[:,1], c=km.labels_)\n",
    "plt.title('KMeans clustering'); plt.xlabel('Feature 0'); plt.ylabel('Feature 1')"
   ]
  },
  {
   "cell_type": "markdown",
   "metadata": {},
   "source": [
    "👆 You can still see 4 distinct clusters, however the color only show 2. 😱\n",
    "\n",
    "That's exactly what we asked for when giving `n_clusters=2` to our **Kmeans**.\n",
    "\n",
    "We asked our algorithm to assign each observation to one of two centroids, hence one of two clusters only.\n",
    "\n",
    "**This clustering around 2 centers is clearly no optimal, we can do better** 💪"
   ]
  },
  {
   "cell_type": "markdown",
   "metadata": {},
   "source": [
    "### 🧪 Test your code"
   ]
  },
  {
   "cell_type": "code",
   "execution_count": null,
   "metadata": {},
   "outputs": [],
   "source": [
    "from nbresult import ChallengeResult\n",
    "\n",
    "result = ChallengeResult('two_means', clusters=y_pred)\n",
    "result.write()\n",
    "print(result.check())"
   ]
  },
  {
   "cell_type": "markdown",
   "metadata": {},
   "source": [
    "## 3) Find the optimal number of clusters  \n",
    "*The Elbow Method*"
   ]
  },
  {
   "cell_type": "markdown",
   "metadata": {},
   "source": [
    "Once fitted, the `KMeans` instance gains an attribute named `inertia_`.\n",
    "\n",
    "It represents the **sum of squared distances of observations to their associated (closest) cluster center**. \n",
    "\n",
    "So the lower, the better.  "
   ]
  },
  {
   "cell_type": "code",
   "execution_count": 27,
   "metadata": {},
   "outputs": [
    {
     "data": {
      "text/plain": [
       "15737.083577865003"
      ]
     },
     "execution_count": 27,
     "metadata": {},
     "output_type": "execute_result"
    }
   ],
   "source": [
    "KMeans(n_clusters=2, random_state=random_state).fit(X).inertia_"
   ]
  },
  {
   "cell_type": "markdown",
   "metadata": {},
   "source": [
    "👆 Think of this in comparison to the Sum of Squared Errors in a Linear Regression 👇  \n",
    "\n",
    "- `SSE` of a `Linear Regression` 👉 `Sum of squared distances between observations and the regression line`  \n",
    "\n",
    "- `Inertia` of a `KMeans Clustering` 👉 `Sum of distances between observations and their closest centroid`"
   ]
  },
  {
   "cell_type": "markdown",
   "metadata": {},
   "source": [
    "One way for us to find the optimal number of clusters is a heuristic: the **Elbow Method**.  \n",
    "\n",
    "We have to try several number of clusters and look at the inertia obtained for each one.  \n",
    "\n",
    "Let's do it to get the intuition! ⚙️🧠\n",
    "\n",
    "❓ Fit a `KMeans` for every number of clusters between 1 and 10, for each one, save the inertia in a list `wcss`"
   ]
  },
  {
   "cell_type": "code",
   "execution_count": 29,
   "metadata": {},
   "outputs": [],
   "source": [
    "# Apply the elbow method to find the optimal number of clusters.\n",
    "wcss = []\n",
    "clusters = list(range(1, 11))\n",
    "pass  # YOUR CODE HERE\n",
    "\n",
    "# distortions = []\n",
    "# K = range(1,10)\n",
    "for k in clusters:\n",
    "    km = KMeans(n_clusters=k)\n",
    "    km.fit(X)\n",
    "    wcss.append(km.inertia_)"
   ]
  },
  {
   "cell_type": "markdown",
   "metadata": {},
   "source": [
    "❓  Plot the inertias in `wcss` against their corresponding number of clusters ❓"
   ]
  },
  {
   "cell_type": "code",
   "execution_count": 31,
   "metadata": {
    "tags": [
     "challengify"
    ]
   },
   "outputs": [
    {
     "data": {
      "text/plain": [
       "Text(0.5, 0, 'k cluster number')"
      ]
     },
     "execution_count": 31,
     "metadata": {},
     "output_type": "execute_result"
    },
    {
     "data": {
      "image/png": "[encoded data removed]",
      "text/plain": [
       "<Figure size 432x288 with 1 Axes>"
      ]
     },
     "metadata": {
      "needs_background": "light"
     },
     "output_type": "display_data"
    }
   ],
   "source": [
    "plt.plot(clusters, wcss)\n",
    "plt.xlabel('k cluster number')"
   ]
  },
  {
   "cell_type": "markdown",
   "metadata": {},
   "source": [
    "👆 We clearly see an Elbow at 4 clusters.  "
   ]
  },
  {
   "cell_type": "markdown",
   "metadata": {},
   "source": [
    "## 3) K-Means with optimal clusters"
   ]
  },
  {
   "cell_type": "markdown",
   "metadata": {},
   "source": [
    "With the optimal number of clusters know, it's time to fit a last `KMeans`.\n",
    "\n",
    "❓ Fit a `KMeans` with `n_clusters=4` on your `X`, store the predictions in `y_pred`  \n",
    "\n",
    "❓ Make a scatter plot of your two features against each other, and color the points  according the predicted cluster in `y_pred`"
   ]
  },
  {
   "cell_type": "code",
   "execution_count": 33,
   "metadata": {
    "tags": [
     "challengify"
    ]
   },
   "outputs": [],
   "source": [
    "km = KMeans(n_clusters=4, random_state=42)\n",
    "km.fit(X)\n",
    "\n",
    "y_pred = km.labels_"
   ]
  },
  {
   "cell_type": "markdown",
   "metadata": {},
   "source": [
    "That is clustering at its best \t🏆  \n",
    "We successfully identified **4 clusters** among our observations.  "
   ]
  },
  {
   "cell_type": "markdown",
   "metadata": {},
   "source": [
    "**Notes:** Scaling features before clustering is not always necessary, but it rarely hurts 😇  \n",
    "You can check these [detailed answers](https://datascience.stackexchange.com/questions/6715/is-it-necessary-to-standardize-your-data-before-clustering) to go further."
   ]
  },
  {
   "cell_type": "markdown",
   "metadata": {},
   "source": [
    "🏁 **Don't forget to push your notebook.**  \n",
    "\n",
    "Proceed the challenges of the day and come back here if you have time 😉"
   ]
  },
  {
   "cell_type": "markdown",
   "metadata": {},
   "source": [
    "## 4 - Optional) Hierarchical Clustering"
   ]
  },
  {
   "cell_type": "markdown",
   "metadata": {},
   "source": [
    "An other method that will help us find the optimal number of clusters is called [Hierarchical Clustering](https://en.wikipedia.org/wiki/Hierarchical_clustering).\n",
    "\n",
    "👉 Plot the **dendrogram** of the hierarchical clustering.\n",
    "\n",
    "You will need the help of two scipy classes found in its [cluster.hierarchy](https://docs.scipy.org/doc/scipy/reference/cluster.hierarchy.html) module:\n",
    "- [linkage](https://docs.scipy.org/doc/scipy/reference/generated/scipy.cluster.hierarchy.linkage.html#scipy.cluster.hierarchy.linkage)\n",
    "- [dendrogram](https://docs.scipy.org/doc/scipy/reference/generated/scipy.cluster.hierarchy.dendrogram.html#scipy.cluster.hierarchy.dendrogram)\n",
    "\n",
    "The linkage actually does the hierarchical clustering with a bottom-up approach: each observation starts in its own cluster.  \n",
    "\n",
    "At each iteration the algorithm will choose clusters to merge, the last iteration occurs when a single cluster is formed.  \n",
    "\n",
    "Here we will use Ward's method, which minimizes the total within-cluster variance.  \n",
    "So at each iteration the algorithm will find the pair of clusters which merging will minimize the within-cluster variance. \n",
    "\n",
    "A dendrogram is just a diagram representing a tree-like structure, it allows us to visualize the linkage.  \n",
    "\n",
    "<br>\n",
    "<details span=\"markdown\">\n",
    "    <summary>💡 Solution</summary>\n",
    "\n",
    "```python\n",
    "from scipy.cluster.hierarchy import dendrogram, linkage\n",
    "\n",
    "Z = linkage(X, method='ward')\n",
    "\n",
    "plt.figure(figsize=(20, 10))\n",
    "dendrogram(Z, color_threshold=50)\n",
    "plt.title('Dendrogram')\n",
    "plt.ylabel('Euclidean distances')\n",
    "plt.xticks([]);\n",
    "```\n",
    "---\n",
    "</details>\n"
   ]
  },
  {
   "cell_type": "code",
   "execution_count": null,
   "metadata": {},
   "outputs": [],
   "source": [
    "from scipy.cluster.hierarchy import dendrogram, linkage\n",
    "pass  # YOUR CODE HERE"
   ]
  },
  {
   "cell_type": "markdown",
   "metadata": {},
   "source": [
    "We can still see 4 distinct clusters  \n",
    "\n",
    "🤔 Why did we used the *Ward method* here?\n",
    "\n",
    "💡 Because it is the same objective function than K-means, which tries to minimize the inertia (i.e. the within cluster variance)"
   ]
  },
  {
   "cell_type": "markdown",
   "metadata": {},
   "source": [
    "### Insights on Hierarchical Clustering"
   ]
  },
  {
   "cell_type": "markdown",
   "metadata": {},
   "source": [
    "👉 Watch this video to better understand hierarchical clustering: https://www.youtube.com/watch?v=7xHsRkOdVwo\n",
    "\n",
    "👉 Hierarchical clustering is considered *greedy*, meaning that it is likely to yield a local optima and miss the big picture\n",
    "\n",
    "👉 Note that there exist other clustering linkages (ie. other ways to measure distance between two clusters) <img src=https://editor.analyticsvidhya.com/uploads/40351linkages.PNG>"
   ]
  }
 ],
 "metadata": {
  "kernelspec": {
   "display_name": "Python 3 (ipykernel)",
   "language": "python",
   "name": "python3"
  },
  "language_info": {
   "codemirror_mode": {
    "name": "ipython",
    "version": 3
   },
   "file_extension": ".py",
   "mimetype": "text/x-python",
   "name": "python",
   "nbconvert_exporter": "python",
   "pygments_lexer": "ipython3",
   "version": "3.7.12"
  }
 },
 "nbformat": 4,
 "nbformat_minor": 2
}
