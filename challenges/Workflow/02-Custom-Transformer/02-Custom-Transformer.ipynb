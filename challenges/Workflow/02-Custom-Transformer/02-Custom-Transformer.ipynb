{
 "cells": [
  {
   "cell_type": "markdown",
   "metadata": {},
   "source": [
    "# Custom Transformer"
   ]
  },
  {
   "cell_type": "code",
   "execution_count": 3,
   "metadata": {},
   "outputs": [],
   "source": [
    "import seaborn as sns\n",
    "import pandas as pd\n",
    "import numpy as np\n",
    "from sklearn import set_config; set_config(display='diagram')"
   ]
  },
  {
   "cell_type": "markdown",
   "metadata": {},
   "source": [
    "👇 Consider the following dataset"
   ]
  },
  {
   "cell_type": "code",
   "execution_count": 4,
   "metadata": {},
   "outputs": [
    {
     "data": {
      "text/html": [
       "<div>\n",
       "<style scoped>\n",
       "    .dataframe tbody tr th:only-of-type {\n",
       "        vertical-align: middle;\n",
       "    }\n",
       "\n",
       "    .dataframe tbody tr th {\n",
       "        vertical-align: top;\n",
       "    }\n",
       "\n",
       "    .dataframe thead th {\n",
       "        text-align: right;\n",
       "    }\n",
       "</style>\n",
       "<table border=\"1\" class=\"dataframe\">\n",
       "  <thead>\n",
       "    <tr style=\"text-align: right;\">\n",
       "      <th></th>\n",
       "      <th>customer_state</th>\n",
       "      <th>seller_state</th>\n",
       "      <th>product_weight_g</th>\n",
       "      <th>product_length_cm</th>\n",
       "      <th>product_height_cm</th>\n",
       "      <th>product_width_cm</th>\n",
       "      <th>days_until_delivery</th>\n",
       "    </tr>\n",
       "  </thead>\n",
       "  <tbody>\n",
       "    <tr>\n",
       "      <th>0</th>\n",
       "      <td>RJ</td>\n",
       "      <td>SP</td>\n",
       "      <td>1825</td>\n",
       "      <td>53</td>\n",
       "      <td>10</td>\n",
       "      <td>40</td>\n",
       "      <td>9</td>\n",
       "    </tr>\n",
       "    <tr>\n",
       "      <th>1</th>\n",
       "      <td>RJ</td>\n",
       "      <td>SP</td>\n",
       "      <td>700</td>\n",
       "      <td>65</td>\n",
       "      <td>18</td>\n",
       "      <td>28</td>\n",
       "      <td>9</td>\n",
       "    </tr>\n",
       "    <tr>\n",
       "      <th>2</th>\n",
       "      <td>RJ</td>\n",
       "      <td>SP</td>\n",
       "      <td>1825</td>\n",
       "      <td>53</td>\n",
       "      <td>10</td>\n",
       "      <td>40</td>\n",
       "      <td>11</td>\n",
       "    </tr>\n",
       "    <tr>\n",
       "      <th>3</th>\n",
       "      <td>RJ</td>\n",
       "      <td>SP</td>\n",
       "      <td>1825</td>\n",
       "      <td>53</td>\n",
       "      <td>10</td>\n",
       "      <td>40</td>\n",
       "      <td>12</td>\n",
       "    </tr>\n",
       "    <tr>\n",
       "      <th>4</th>\n",
       "      <td>RJ</td>\n",
       "      <td>SP</td>\n",
       "      <td>1825</td>\n",
       "      <td>53</td>\n",
       "      <td>10</td>\n",
       "      <td>40</td>\n",
       "      <td>14</td>\n",
       "    </tr>\n",
       "  </tbody>\n",
       "</table>\n",
       "</div>"
      ],
      "text/plain": [
       "  customer_state seller_state  product_weight_g  product_length_cm  \\\n",
       "0             RJ           SP              1825                 53   \n",
       "1             RJ           SP               700                 65   \n",
       "2             RJ           SP              1825                 53   \n",
       "3             RJ           SP              1825                 53   \n",
       "4             RJ           SP              1825                 53   \n",
       "\n",
       "   product_height_cm  product_width_cm  days_until_delivery  \n",
       "0                 10                40                    9  \n",
       "1                 18                28                    9  \n",
       "2                 10                40                   11  \n",
       "3                 10                40                   12  \n",
       "4                 10                40                   14  "
      ]
     },
     "execution_count": 4,
     "metadata": {},
     "output_type": "execute_result"
    }
   ],
   "source": [
    "import pandas as pd\n",
    "\n",
    "data = pd.read_csv(\"data.csv\")\n",
    "data.head()"
   ]
  },
  {
   "cell_type": "code",
   "execution_count": 74,
   "metadata": {},
   "outputs": [
    {
     "data": {
      "text/html": [
       "<div>\n",
       "<style scoped>\n",
       "    .dataframe tbody tr th:only-of-type {\n",
       "        vertical-align: middle;\n",
       "    }\n",
       "\n",
       "    .dataframe tbody tr th {\n",
       "        vertical-align: top;\n",
       "    }\n",
       "\n",
       "    .dataframe thead th {\n",
       "        text-align: right;\n",
       "    }\n",
       "</style>\n",
       "<table border=\"1\" class=\"dataframe\">\n",
       "  <thead>\n",
       "    <tr style=\"text-align: right;\">\n",
       "      <th></th>\n",
       "      <th>customer_state</th>\n",
       "      <th>seller_state</th>\n",
       "      <th>product_weight_g</th>\n",
       "      <th>product_length_cm</th>\n",
       "      <th>product_height_cm</th>\n",
       "      <th>product_width_cm</th>\n",
       "    </tr>\n",
       "  </thead>\n",
       "  <tbody>\n",
       "    <tr>\n",
       "      <th>0</th>\n",
       "      <td>RJ</td>\n",
       "      <td>SP</td>\n",
       "      <td>1825</td>\n",
       "      <td>53</td>\n",
       "      <td>10</td>\n",
       "      <td>40</td>\n",
       "    </tr>\n",
       "    <tr>\n",
       "      <th>1</th>\n",
       "      <td>RJ</td>\n",
       "      <td>SP</td>\n",
       "      <td>700</td>\n",
       "      <td>65</td>\n",
       "      <td>18</td>\n",
       "      <td>28</td>\n",
       "    </tr>\n",
       "    <tr>\n",
       "      <th>2</th>\n",
       "      <td>RJ</td>\n",
       "      <td>SP</td>\n",
       "      <td>1825</td>\n",
       "      <td>53</td>\n",
       "      <td>10</td>\n",
       "      <td>40</td>\n",
       "    </tr>\n",
       "    <tr>\n",
       "      <th>3</th>\n",
       "      <td>RJ</td>\n",
       "      <td>SP</td>\n",
       "      <td>1825</td>\n",
       "      <td>53</td>\n",
       "      <td>10</td>\n",
       "      <td>40</td>\n",
       "    </tr>\n",
       "    <tr>\n",
       "      <th>4</th>\n",
       "      <td>RJ</td>\n",
       "      <td>SP</td>\n",
       "      <td>1825</td>\n",
       "      <td>53</td>\n",
       "      <td>10</td>\n",
       "      <td>40</td>\n",
       "    </tr>\n",
       "    <tr>\n",
       "      <th>...</th>\n",
       "      <td>...</td>\n",
       "      <td>...</td>\n",
       "      <td>...</td>\n",
       "      <td>...</td>\n",
       "      <td>...</td>\n",
       "      <td>...</td>\n",
       "    </tr>\n",
       "    <tr>\n",
       "      <th>895</th>\n",
       "      <td>PR</td>\n",
       "      <td>SP</td>\n",
       "      <td>6325</td>\n",
       "      <td>37</td>\n",
       "      <td>41</td>\n",
       "      <td>37</td>\n",
       "    </tr>\n",
       "    <tr>\n",
       "      <th>896</th>\n",
       "      <td>PA</td>\n",
       "      <td>SP</td>\n",
       "      <td>1825</td>\n",
       "      <td>44</td>\n",
       "      <td>14</td>\n",
       "      <td>34</td>\n",
       "    </tr>\n",
       "    <tr>\n",
       "      <th>897</th>\n",
       "      <td>SP</td>\n",
       "      <td>SP</td>\n",
       "      <td>8000</td>\n",
       "      <td>53</td>\n",
       "      <td>74</td>\n",
       "      <td>18</td>\n",
       "    </tr>\n",
       "    <tr>\n",
       "      <th>898</th>\n",
       "      <td>RJ</td>\n",
       "      <td>SP</td>\n",
       "      <td>13867</td>\n",
       "      <td>101</td>\n",
       "      <td>8</td>\n",
       "      <td>57</td>\n",
       "    </tr>\n",
       "    <tr>\n",
       "      <th>899</th>\n",
       "      <td>SP</td>\n",
       "      <td>SP</td>\n",
       "      <td>12160</td>\n",
       "      <td>56</td>\n",
       "      <td>51</td>\n",
       "      <td>28</td>\n",
       "    </tr>\n",
       "  </tbody>\n",
       "</table>\n",
       "<p>900 rows × 6 columns</p>\n",
       "</div>"
      ],
      "text/plain": [
       "    customer_state seller_state  product_weight_g  product_length_cm  \\\n",
       "0               RJ           SP              1825                 53   \n",
       "1               RJ           SP               700                 65   \n",
       "2               RJ           SP              1825                 53   \n",
       "3               RJ           SP              1825                 53   \n",
       "4               RJ           SP              1825                 53   \n",
       "..             ...          ...               ...                ...   \n",
       "895             PR           SP              6325                 37   \n",
       "896             PA           SP              1825                 44   \n",
       "897             SP           SP              8000                 53   \n",
       "898             RJ           SP             13867                101   \n",
       "899             SP           SP             12160                 56   \n",
       "\n",
       "     product_height_cm  product_width_cm  \n",
       "0                   10                40  \n",
       "1                   18                28  \n",
       "2                   10                40  \n",
       "3                   10                40  \n",
       "4                   10                40  \n",
       "..                 ...               ...  \n",
       "895                 41                37  \n",
       "896                 14                34  \n",
       "897                 74                18  \n",
       "898                  8                57  \n",
       "899                 51                28  \n",
       "\n",
       "[900 rows x 6 columns]"
      ]
     },
     "execution_count": 74,
     "metadata": {},
     "output_type": "execute_result"
    }
   ],
   "source": [
    "X_train"
   ]
  },
  {
   "cell_type": "code",
   "execution_count": 150,
   "metadata": {},
   "outputs": [],
   "source": [
    "X = data.drop(columns='days_until_delivery')\n",
    "y = data['days_until_delivery']\n",
    "\n",
    "X_train = X[:900]\n",
    "y_train = y[:900]\n",
    "X_test = X[900:]\n",
    "y_test = y[900:]"
   ]
  },
  {
   "cell_type": "code",
   "execution_count": 114,
   "metadata": {},
   "outputs": [
    {
     "data": {
      "text/plain": [
       "customer_state       object\n",
       "seller_state         object\n",
       "product_weight_g      int64\n",
       "product_length_cm     int64\n",
       "product_height_cm     int64\n",
       "product_width_cm      int64\n",
       "dtype: object"
      ]
     },
     "execution_count": 114,
     "metadata": {},
     "output_type": "execute_result"
    }
   ],
   "source": [
    "X_train.dtypes"
   ]
  },
  {
   "cell_type": "markdown",
   "metadata": {},
   "source": [
    "- Each observation of the dataset represents an item being delivered from a  `seller_state` to a `customer_state`. \n",
    "- Other columns describe the packaging properties of each item.\n",
    "\n",
    "🎯 The target is the number of days between the order and the delivery."
   ]
  },
  {
   "cell_type": "code",
   "execution_count": 5,
   "metadata": {},
   "outputs": [
    {
     "data": {
      "text/plain": [
       "<AxesSubplot:xlabel='days_until_delivery', ylabel='Count'>"
      ]
     },
     "execution_count": 5,
     "metadata": {},
     "output_type": "execute_result"
    },
    {
     "data": {
      "image/png": "[encoded data removed]",
      "text/plain": [
       "<Figure size 432x288 with 1 Axes>"
      ]
     },
     "metadata": {
      "needs_background": "light"
     },
     "output_type": "display_data"
    }
   ],
   "source": [
    "# Check target\n",
    "sns.histplot(data.days_until_delivery)"
   ]
  },
  {
   "cell_type": "markdown",
   "metadata": {},
   "source": [
    "## 1. Pipeline"
   ]
  },
  {
   "cell_type": "markdown",
   "metadata": {},
   "source": [
    "👇 Create a scikit-learn pipeline named `pipe`:\n",
    "\n",
    "- Engineer a `volume` feature from the dimensions features\n",
    "- Preserve the original product dimensions features for training\n",
    "- Scale all numerical features\n",
    "- Encode the categorical features\n",
    "- Add a default `Ridge` regression estimator"
   ]
  },
  {
   "cell_type": "markdown",
   "metadata": {},
   "source": [
    "<details><summary>Hints</summary>\n",
    "\n",
    "- There are many ways to create your preprocessed matrix (using `ColumnTransformer` and/or `FeatureUnion`). \n",
    "    \n",
    "- If your transformed feature matrix look wierd, it may be stored as \"sparse\" by the default behavior of `OneHotEncoder(sparse=True)`. Use `.todense()` to turn it back to a dense matrix\n",
    "\n",
    "</details>"
   ]
  },
  {
   "cell_type": "code",
   "execution_count": 86,
   "metadata": {},
   "outputs": [
    {
     "data": {
      "text/html": [
       "<style>#sk-c238a125-de3f-4928-ac0a-6ecb979ba1d8 {color: black;background-color: white;}#sk-c238a125-de3f-4928-ac0a-6ecb979ba1d8 pre{padding: 0;}#sk-c238a125-de3f-4928-ac0a-6ecb979ba1d8 div.sk-toggleable {background-color: white;}#sk-c238a125-de3f-4928-ac0a-6ecb979ba1d8 label.sk-toggleable__label {cursor: pointer;display: block;width: 100%;margin-bottom: 0;padding: 0.3em;box-sizing: border-box;text-align: center;}#sk-c238a125-de3f-4928-ac0a-6ecb979ba1d8 label.sk-toggleable__label-arrow:before {content: \"▸\";float: left;margin-right: 0.25em;color: #696969;}#sk-c238a125-de3f-4928-ac0a-6ecb979ba1d8 label.sk-toggleable__label-arrow:hover:before {color: black;}#sk-c238a125-de3f-4928-ac0a-6ecb979ba1d8 div.sk-estimator:hover label.sk-toggleable__label-arrow:before {color: black;}#sk-c238a125-de3f-4928-ac0a-6ecb979ba1d8 div.sk-toggleable__content {max-height: 0;max-width: 0;overflow: hidden;text-align: left;background-color: #f0f8ff;}#sk-c238a125-de3f-4928-ac0a-6ecb979ba1d8 div.sk-toggleable__content pre {margin: 0.2em;color: black;border-radius: 0.25em;background-color: #f0f8ff;}#sk-c238a125-de3f-4928-ac0a-6ecb979ba1d8 input.sk-toggleable__control:checked~div.sk-toggleable__content {max-height: 200px;max-width: 100%;overflow: auto;}#sk-c238a125-de3f-4928-ac0a-6ecb979ba1d8 input.sk-toggleable__control:checked~label.sk-toggleable__label-arrow:before {content: \"▾\";}#sk-c238a125-de3f-4928-ac0a-6ecb979ba1d8 div.sk-estimator input.sk-toggleable__control:checked~label.sk-toggleable__label {background-color: #d4ebff;}#sk-c238a125-de3f-4928-ac0a-6ecb979ba1d8 div.sk-label input.sk-toggleable__control:checked~label.sk-toggleable__label {background-color: #d4ebff;}#sk-c238a125-de3f-4928-ac0a-6ecb979ba1d8 input.sk-hidden--visually {border: 0;clip: rect(1px 1px 1px 1px);clip: rect(1px, 1px, 1px, 1px);height: 1px;margin: -1px;overflow: hidden;padding: 0;position: absolute;width: 1px;}#sk-c238a125-de3f-4928-ac0a-6ecb979ba1d8 div.sk-estimator {font-family: monospace;background-color: #f0f8ff;border: 1px dotted black;border-radius: 0.25em;box-sizing: border-box;margin-bottom: 0.5em;}#sk-c238a125-de3f-4928-ac0a-6ecb979ba1d8 div.sk-estimator:hover {background-color: #d4ebff;}#sk-c238a125-de3f-4928-ac0a-6ecb979ba1d8 div.sk-parallel-item::after {content: \"\";width: 100%;border-bottom: 1px solid gray;flex-grow: 1;}#sk-c238a125-de3f-4928-ac0a-6ecb979ba1d8 div.sk-label:hover label.sk-toggleable__label {background-color: #d4ebff;}#sk-c238a125-de3f-4928-ac0a-6ecb979ba1d8 div.sk-serial::before {content: \"\";position: absolute;border-left: 1px solid gray;box-sizing: border-box;top: 2em;bottom: 0;left: 50%;}#sk-c238a125-de3f-4928-ac0a-6ecb979ba1d8 div.sk-serial {display: flex;flex-direction: column;align-items: center;background-color: white;padding-right: 0.2em;padding-left: 0.2em;}#sk-c238a125-de3f-4928-ac0a-6ecb979ba1d8 div.sk-item {z-index: 1;}#sk-c238a125-de3f-4928-ac0a-6ecb979ba1d8 div.sk-parallel {display: flex;align-items: stretch;justify-content: center;background-color: white;}#sk-c238a125-de3f-4928-ac0a-6ecb979ba1d8 div.sk-parallel::before {content: \"\";position: absolute;border-left: 1px solid gray;box-sizing: border-box;top: 2em;bottom: 0;left: 50%;}#sk-c238a125-de3f-4928-ac0a-6ecb979ba1d8 div.sk-parallel-item {display: flex;flex-direction: column;position: relative;background-color: white;}#sk-c238a125-de3f-4928-ac0a-6ecb979ba1d8 div.sk-parallel-item:first-child::after {align-self: flex-end;width: 50%;}#sk-c238a125-de3f-4928-ac0a-6ecb979ba1d8 div.sk-parallel-item:last-child::after {align-self: flex-start;width: 50%;}#sk-c238a125-de3f-4928-ac0a-6ecb979ba1d8 div.sk-parallel-item:only-child::after {width: 0;}#sk-c238a125-de3f-4928-ac0a-6ecb979ba1d8 div.sk-dashed-wrapped {border: 1px dashed gray;margin: 0 0.4em 0.5em 0.4em;box-sizing: border-box;padding-bottom: 0.4em;background-color: white;position: relative;}#sk-c238a125-de3f-4928-ac0a-6ecb979ba1d8 div.sk-label label {font-family: monospace;font-weight: bold;background-color: white;display: inline-block;line-height: 1.2em;}#sk-c238a125-de3f-4928-ac0a-6ecb979ba1d8 div.sk-label-container {position: relative;z-index: 2;text-align: center;}#sk-c238a125-de3f-4928-ac0a-6ecb979ba1d8 div.sk-container {/* jupyter's `normalize.less` sets `[hidden] { display: none; }` but bootstrap.min.css set `[hidden] { display: none !important; }` so we also need the `!important` here to be able to override the default hidden behavior on the sphinx rendered scikit-learn.org. See: https://github.com/scikit-learn/scikit-learn/issues/21755 */display: inline-block !important;position: relative;}#sk-c238a125-de3f-4928-ac0a-6ecb979ba1d8 div.sk-text-repr-fallback {display: none;}</style><div id=\"sk-c238a125-de3f-4928-ac0a-6ecb979ba1d8\" class=\"sk-top-container\"><div class=\"sk-text-repr-fallback\"><pre>Pipeline(steps=[(&#x27;featureunion&#x27;,\n",
       "                 FeatureUnion(transformer_list=[(&#x27;columntransformer&#x27;,\n",
       "                                                 ColumnTransformer(remainder=&#x27;passthrough&#x27;,\n",
       "                                                                   transformers=[(&#x27;pipeline&#x27;,\n",
       "                                                                                  Pipeline(steps=[(&#x27;scaler&#x27;,\n",
       "                                                                                                   StandardScaler())]),\n",
       "                                                                                  [&#x27;product_weight_g&#x27;,\n",
       "                                                                                   &#x27;product_length_cm&#x27;,\n",
       "                                                                                   &#x27;product_height_cm&#x27;,\n",
       "                                                                                   &#x27;product_width_cm&#x27;]),\n",
       "                                                                                 (&#x27;onehotencoder&#x27;,\n",
       "                                                                                  OneHotEncoder(handle_unknown=&#x27;ignore&#x27;),\n",
       "                                                                                  [&#x27;seller_state&#x27;])])),\n",
       "                                                (&#x27;functiontransformer&#x27;,\n",
       "                                                 FunctionTransformer(func=&lt;function &lt;lambda&gt; at 0x12cc6c8c0&gt;))])),\n",
       "                (&#x27;ridge&#x27;, Ridge())])</pre><b>Please rerun this cell to show the HTML repr or trust the notebook.</b></div><div class=\"sk-container\" hidden><div class=\"sk-item sk-dashed-wrapped\"><div class=\"sk-label-container\"><div class=\"sk-label sk-toggleable\"><input class=\"sk-toggleable__control sk-hidden--visually\" id=\"073d58bd-d781-487d-b742-31f7fa1b1c14\" type=\"checkbox\" ><label for=\"073d58bd-d781-487d-b742-31f7fa1b1c14\" class=\"sk-toggleable__label sk-toggleable__label-arrow\">Pipeline</label><div class=\"sk-toggleable__content\"><pre>Pipeline(steps=[(&#x27;featureunion&#x27;,\n",
       "                 FeatureUnion(transformer_list=[(&#x27;columntransformer&#x27;,\n",
       "                                                 ColumnTransformer(remainder=&#x27;passthrough&#x27;,\n",
       "                                                                   transformers=[(&#x27;pipeline&#x27;,\n",
       "                                                                                  Pipeline(steps=[(&#x27;scaler&#x27;,\n",
       "                                                                                                   StandardScaler())]),\n",
       "                                                                                  [&#x27;product_weight_g&#x27;,\n",
       "                                                                                   &#x27;product_length_cm&#x27;,\n",
       "                                                                                   &#x27;product_height_cm&#x27;,\n",
       "                                                                                   &#x27;product_width_cm&#x27;]),\n",
       "                                                                                 (&#x27;onehotencoder&#x27;,\n",
       "                                                                                  OneHotEncoder(handle_unknown=&#x27;ignore&#x27;),\n",
       "                                                                                  [&#x27;seller_state&#x27;])])),\n",
       "                                                (&#x27;functiontransformer&#x27;,\n",
       "                                                 FunctionTransformer(func=&lt;function &lt;lambda&gt; at 0x12cc6c8c0&gt;))])),\n",
       "                (&#x27;ridge&#x27;, Ridge())])</pre></div></div></div><div class=\"sk-serial\"><div class=\"sk-item sk-dashed-wrapped\"><div class=\"sk-label-container\"><div class=\"sk-label sk-toggleable\"><input class=\"sk-toggleable__control sk-hidden--visually\" id=\"9e9bf2cb-038a-4845-bed6-8df0c3c8fc76\" type=\"checkbox\" ><label for=\"9e9bf2cb-038a-4845-bed6-8df0c3c8fc76\" class=\"sk-toggleable__label sk-toggleable__label-arrow\">featureunion: FeatureUnion</label><div class=\"sk-toggleable__content\"><pre>FeatureUnion(transformer_list=[(&#x27;columntransformer&#x27;,\n",
       "                                ColumnTransformer(remainder=&#x27;passthrough&#x27;,\n",
       "                                                  transformers=[(&#x27;pipeline&#x27;,\n",
       "                                                                 Pipeline(steps=[(&#x27;scaler&#x27;,\n",
       "                                                                                  StandardScaler())]),\n",
       "                                                                 [&#x27;product_weight_g&#x27;,\n",
       "                                                                  &#x27;product_length_cm&#x27;,\n",
       "                                                                  &#x27;product_height_cm&#x27;,\n",
       "                                                                  &#x27;product_width_cm&#x27;]),\n",
       "                                                                (&#x27;onehotencoder&#x27;,\n",
       "                                                                 OneHotEncoder(handle_unknown=&#x27;ignore&#x27;),\n",
       "                                                                 [&#x27;seller_state&#x27;])])),\n",
       "                               (&#x27;functiontransformer&#x27;,\n",
       "                                FunctionTransformer(func=&lt;function &lt;lambda&gt; at 0x12cc6c8c0&gt;))])</pre></div></div></div><div class=\"sk-parallel\"><div class=\"sk-parallel-item\"><div class=\"sk-item\"><div class=\"sk-label-container\"><div class=\"sk-label sk-toggleable\"><label>columntransformer</label></div></div><div class=\"sk-serial\"><div class=\"sk-item sk-dashed-wrapped\"><div class=\"sk-parallel\"><div class=\"sk-parallel-item\"><div class=\"sk-item\"><div class=\"sk-label-container\"><div class=\"sk-label sk-toggleable\"><input class=\"sk-toggleable__control sk-hidden--visually\" id=\"3796375e-9269-4a7e-b367-1533042e0b82\" type=\"checkbox\" ><label for=\"3796375e-9269-4a7e-b367-1533042e0b82\" class=\"sk-toggleable__label sk-toggleable__label-arrow\">pipeline</label><div class=\"sk-toggleable__content\"><pre>[&#x27;product_weight_g&#x27;, &#x27;product_length_cm&#x27;, &#x27;product_height_cm&#x27;, &#x27;product_width_cm&#x27;]</pre></div></div></div><div class=\"sk-serial\"><div class=\"sk-item\"><div class=\"sk-serial\"><div class=\"sk-item\"><div class=\"sk-estimator sk-toggleable\"><input class=\"sk-toggleable__control sk-hidden--visually\" id=\"a9c40835-1062-4f1d-b097-1a1f2a744686\" type=\"checkbox\" ><label for=\"a9c40835-1062-4f1d-b097-1a1f2a744686\" class=\"sk-toggleable__label sk-toggleable__label-arrow\">StandardScaler</label><div class=\"sk-toggleable__content\"><pre>StandardScaler()</pre></div></div></div></div></div></div></div></div><div class=\"sk-parallel-item\"><div class=\"sk-item\"><div class=\"sk-label-container\"><div class=\"sk-label sk-toggleable\"><input class=\"sk-toggleable__control sk-hidden--visually\" id=\"5cdd1070-5ffb-42b2-9969-73d83bd68caa\" type=\"checkbox\" ><label for=\"5cdd1070-5ffb-42b2-9969-73d83bd68caa\" class=\"sk-toggleable__label sk-toggleable__label-arrow\">onehotencoder</label><div class=\"sk-toggleable__content\"><pre>[&#x27;seller_state&#x27;]</pre></div></div></div><div class=\"sk-serial\"><div class=\"sk-item\"><div class=\"sk-estimator sk-toggleable\"><input class=\"sk-toggleable__control sk-hidden--visually\" id=\"b5e4c5c2-884f-4c87-a0ce-422b7ca55bb4\" type=\"checkbox\" ><label for=\"b5e4c5c2-884f-4c87-a0ce-422b7ca55bb4\" class=\"sk-toggleable__label sk-toggleable__label-arrow\">OneHotEncoder</label><div class=\"sk-toggleable__content\"><pre>OneHotEncoder(handle_unknown=&#x27;ignore&#x27;)</pre></div></div></div></div></div></div><div class=\"sk-parallel-item\"><div class=\"sk-item\"><div class=\"sk-label-container\"><div class=\"sk-label sk-toggleable\"><input class=\"sk-toggleable__control sk-hidden--visually\" id=\"e13fe597-ea7d-4730-a347-27938f630029\" type=\"checkbox\" ><label for=\"e13fe597-ea7d-4730-a347-27938f630029\" class=\"sk-toggleable__label sk-toggleable__label-arrow\">remainder</label><div class=\"sk-toggleable__content\"><pre></pre></div></div></div><div class=\"sk-serial\"><div class=\"sk-item\"><div class=\"sk-estimator sk-toggleable\"><input class=\"sk-toggleable__control sk-hidden--visually\" id=\"cb7f61d9-de6f-4ed3-8483-c2870ce38aa6\" type=\"checkbox\" ><label for=\"cb7f61d9-de6f-4ed3-8483-c2870ce38aa6\" class=\"sk-toggleable__label sk-toggleable__label-arrow\">passthrough</label><div class=\"sk-toggleable__content\"><pre>passthrough</pre></div></div></div></div></div></div></div></div></div></div></div><div class=\"sk-parallel-item\"><div class=\"sk-item\"><div class=\"sk-label-container\"><div class=\"sk-label sk-toggleable\"><label>functiontransformer</label></div></div><div class=\"sk-serial\"><div class=\"sk-item\"><div class=\"sk-estimator sk-toggleable\"><input class=\"sk-toggleable__control sk-hidden--visually\" id=\"c60e5dda-9748-4eff-8e6c-b66dfd806701\" type=\"checkbox\" ><label for=\"c60e5dda-9748-4eff-8e6c-b66dfd806701\" class=\"sk-toggleable__label sk-toggleable__label-arrow\">FunctionTransformer</label><div class=\"sk-toggleable__content\"><pre>FunctionTransformer(func=&lt;function &lt;lambda&gt; at 0x12cc6c8c0&gt;)</pre></div></div></div></div></div></div></div></div><div class=\"sk-item\"><div class=\"sk-estimator sk-toggleable\"><input class=\"sk-toggleable__control sk-hidden--visually\" id=\"6e319c7f-487f-495d-99e9-55e9ea44565d\" type=\"checkbox\" ><label for=\"6e319c7f-487f-495d-99e9-55e9ea44565d\" class=\"sk-toggleable__label sk-toggleable__label-arrow\">Ridge</label><div class=\"sk-toggleable__content\"><pre>Ridge()</pre></div></div></div></div></div></div></div>"
      ],
      "text/plain": [
       "Pipeline(steps=[('featureunion',\n",
       "                 FeatureUnion(transformer_list=[('columntransformer',\n",
       "                                                 ColumnTransformer(remainder='passthrough',\n",
       "                                                                   transformers=[('pipeline',\n",
       "                                                                                  Pipeline(steps=[('scaler',\n",
       "                                                                                                   StandardScaler())]),\n",
       "                                                                                  ['product_weight_g',\n",
       "                                                                                   'product_length_cm',\n",
       "                                                                                   'product_height_cm',\n",
       "                                                                                   'product_width_cm']),\n",
       "                                                                                 ('onehotencoder',\n",
       "                                                                                  OneHotEncoder(handle_unknown='ignore'),\n",
       "                                                                                  ['seller_state'])])),\n",
       "                                                ('functiontransformer',\n",
       "                                                 FunctionTransformer(func=<function <lambda> at 0x12cc6c8c0>))])),\n",
       "                ('ridge', Ridge())])"
      ]
     },
     "execution_count": 86,
     "metadata": {},
     "output_type": "execute_result"
    }
   ],
   "source": [
    "from sklearn.linear_model import Ridge\n",
    "from sklearn.pipeline import Pipeline\n",
    "from sklearn.pipeline import make_pipeline\n",
    "from sklearn.pipeline import make_union\n",
    "from sklearn.compose import make_column_transformer\n",
    "from sklearn.compose import make_column_selector\n",
    "from sklearn.preprocessing import OneHotEncoder\n",
    "from sklearn.impute import SimpleImputer\n",
    "from sklearn.preprocessing import StandardScaler\n",
    "from sklearn.compose import ColumnTransformer\n",
    "from sklearn.preprocessing import FunctionTransformer\n",
    "\n",
    "# Preprocessor\n",
    "\n",
    "volume_constructor = FunctionTransformer(lambda df: pd.DataFrame(df[\"product_length_cm\"] * df[\"product_height_cm\"] * df['product_width_cm']))\n",
    "\n",
    "num_transformer = Pipeline([\n",
    "    ('scaler', StandardScaler())\n",
    "])\n",
    "\n",
    "# Encode categorical values\n",
    "cat_transformer = OneHotEncoder(handle_unknown='ignore')\n",
    "\n",
    "# Parallelize \"num_transformer\" and \"cat_transfomer\"\n",
    "\n",
    "preprocessor = make_column_transformer(\n",
    "    (num_transformer, ['product_weight_g', 'product_length_cm', 'product_height_cm', 'product_width_cm']),\n",
    "    (cat_transformer, ['seller_state']),\n",
    "    remainder='passthrough'\n",
    ")\n",
    "\n",
    "# SimpleImputer.get_feature_names_out = (lambda self, names = None: self.feature_names_in_)\n",
    "\n",
    "# preprocessor.fit(X_train)\n",
    "# X_train_transformed = preprocessor.transform(X_train)\n",
    "# preprocessor.get_feature_names_out()\n",
    "preproc_full = make_union(preprocessor, volume_constructor)\n",
    "# preproc_full\n",
    "\n",
    "pipe = make_pipeline(preproc_full, Ridge())\n",
    "pipe\n",
    "# display(X_train.head(3))\n",
    "# pd.DataFrame(X_train_transformed).head(3)\n",
    "# preproc_full"
   ]
  },
  {
   "cell_type": "code",
   "execution_count": 165,
   "metadata": {},
   "outputs": [
    {
     "data": {
      "text/html": [
       "<style>#sk-444fc871-6a2f-40c2-994f-c3a196f14739 {color: black;background-color: white;}#sk-444fc871-6a2f-40c2-994f-c3a196f14739 pre{padding: 0;}#sk-444fc871-6a2f-40c2-994f-c3a196f14739 div.sk-toggleable {background-color: white;}#sk-444fc871-6a2f-40c2-994f-c3a196f14739 label.sk-toggleable__label {cursor: pointer;display: block;width: 100%;margin-bottom: 0;padding: 0.3em;box-sizing: border-box;text-align: center;}#sk-444fc871-6a2f-40c2-994f-c3a196f14739 label.sk-toggleable__label-arrow:before {content: \"▸\";float: left;margin-right: 0.25em;color: #696969;}#sk-444fc871-6a2f-40c2-994f-c3a196f14739 label.sk-toggleable__label-arrow:hover:before {color: black;}#sk-444fc871-6a2f-40c2-994f-c3a196f14739 div.sk-estimator:hover label.sk-toggleable__label-arrow:before {color: black;}#sk-444fc871-6a2f-40c2-994f-c3a196f14739 div.sk-toggleable__content {max-height: 0;max-width: 0;overflow: hidden;text-align: left;background-color: #f0f8ff;}#sk-444fc871-6a2f-40c2-994f-c3a196f14739 div.sk-toggleable__content pre {margin: 0.2em;color: black;border-radius: 0.25em;background-color: #f0f8ff;}#sk-444fc871-6a2f-40c2-994f-c3a196f14739 input.sk-toggleable__control:checked~div.sk-toggleable__content {max-height: 200px;max-width: 100%;overflow: auto;}#sk-444fc871-6a2f-40c2-994f-c3a196f14739 input.sk-toggleable__control:checked~label.sk-toggleable__label-arrow:before {content: \"▾\";}#sk-444fc871-6a2f-40c2-994f-c3a196f14739 div.sk-estimator input.sk-toggleable__control:checked~label.sk-toggleable__label {background-color: #d4ebff;}#sk-444fc871-6a2f-40c2-994f-c3a196f14739 div.sk-label input.sk-toggleable__control:checked~label.sk-toggleable__label {background-color: #d4ebff;}#sk-444fc871-6a2f-40c2-994f-c3a196f14739 input.sk-hidden--visually {border: 0;clip: rect(1px 1px 1px 1px);clip: rect(1px, 1px, 1px, 1px);height: 1px;margin: -1px;overflow: hidden;padding: 0;position: absolute;width: 1px;}#sk-444fc871-6a2f-40c2-994f-c3a196f14739 div.sk-estimator {font-family: monospace;background-color: #f0f8ff;border: 1px dotted black;border-radius: 0.25em;box-sizing: border-box;margin-bottom: 0.5em;}#sk-444fc871-6a2f-40c2-994f-c3a196f14739 div.sk-estimator:hover {background-color: #d4ebff;}#sk-444fc871-6a2f-40c2-994f-c3a196f14739 div.sk-parallel-item::after {content: \"\";width: 100%;border-bottom: 1px solid gray;flex-grow: 1;}#sk-444fc871-6a2f-40c2-994f-c3a196f14739 div.sk-label:hover label.sk-toggleable__label {background-color: #d4ebff;}#sk-444fc871-6a2f-40c2-994f-c3a196f14739 div.sk-serial::before {content: \"\";position: absolute;border-left: 1px solid gray;box-sizing: border-box;top: 2em;bottom: 0;left: 50%;}#sk-444fc871-6a2f-40c2-994f-c3a196f14739 div.sk-serial {display: flex;flex-direction: column;align-items: center;background-color: white;padding-right: 0.2em;padding-left: 0.2em;}#sk-444fc871-6a2f-40c2-994f-c3a196f14739 div.sk-item {z-index: 1;}#sk-444fc871-6a2f-40c2-994f-c3a196f14739 div.sk-parallel {display: flex;align-items: stretch;justify-content: center;background-color: white;}#sk-444fc871-6a2f-40c2-994f-c3a196f14739 div.sk-parallel::before {content: \"\";position: absolute;border-left: 1px solid gray;box-sizing: border-box;top: 2em;bottom: 0;left: 50%;}#sk-444fc871-6a2f-40c2-994f-c3a196f14739 div.sk-parallel-item {display: flex;flex-direction: column;position: relative;background-color: white;}#sk-444fc871-6a2f-40c2-994f-c3a196f14739 div.sk-parallel-item:first-child::after {align-self: flex-end;width: 50%;}#sk-444fc871-6a2f-40c2-994f-c3a196f14739 div.sk-parallel-item:last-child::after {align-self: flex-start;width: 50%;}#sk-444fc871-6a2f-40c2-994f-c3a196f14739 div.sk-parallel-item:only-child::after {width: 0;}#sk-444fc871-6a2f-40c2-994f-c3a196f14739 div.sk-dashed-wrapped {border: 1px dashed gray;margin: 0 0.4em 0.5em 0.4em;box-sizing: border-box;padding-bottom: 0.4em;background-color: white;position: relative;}#sk-444fc871-6a2f-40c2-994f-c3a196f14739 div.sk-label label {font-family: monospace;font-weight: bold;background-color: white;display: inline-block;line-height: 1.2em;}#sk-444fc871-6a2f-40c2-994f-c3a196f14739 div.sk-label-container {position: relative;z-index: 2;text-align: center;}#sk-444fc871-6a2f-40c2-994f-c3a196f14739 div.sk-container {/* jupyter's `normalize.less` sets `[hidden] { display: none; }` but bootstrap.min.css set `[hidden] { display: none !important; }` so we also need the `!important` here to be able to override the default hidden behavior on the sphinx rendered scikit-learn.org. See: https://github.com/scikit-learn/scikit-learn/issues/21755 */display: inline-block !important;position: relative;}#sk-444fc871-6a2f-40c2-994f-c3a196f14739 div.sk-text-repr-fallback {display: none;}</style><div id=\"sk-444fc871-6a2f-40c2-994f-c3a196f14739\" class=\"sk-top-container\"><div class=\"sk-text-repr-fallback\"><pre>Pipeline(steps=[(&#x27;featureunion&#x27;,\n",
       "                 FeatureUnion(transformer_list=[(&#x27;preprocess&#x27;,\n",
       "                                                 ColumnTransformer(remainder=&#x27;passthrough&#x27;,\n",
       "                                                                   transformers=[(&#x27;columntransformer&#x27;,\n",
       "                                                                                  ColumnTransformer(transformers=[(&#x27;columntransformer&#x27;,\n",
       "                                                                                                                   ColumnTransformer(transformers=[(&#x27;columntransformer&#x27;,\n",
       "                                                                                                                                                    ColumnTransformer(transformers=[(&#x27;columntransformer&#x27;,\n",
       "                                                                                                                                                                                     ColumnTransformer(transformers=[(&#x27;col...\n",
       "                                                                                  &lt;sklearn.compose._column_transformer.make_column_selector object at 0x12ca9b2d0&gt;),\n",
       "                                                                                 (&#x27;onehotencoder&#x27;,\n",
       "                                                                                  OneHotEncoder(handle_unknown=&#x27;ignore&#x27;,\n",
       "                                                                                                sparse=False),\n",
       "                                                                                  &lt;sklearn.compose._column_transformer.make_column_selector object at 0x12cd3e450&gt;)])),\n",
       "                                                (&#x27;compute_volume&#x27;,\n",
       "                                                 Pipeline(steps=[(&#x27;compute_volume&#x27;,\n",
       "                                                                  FunctionTransformer(func=&lt;function multiply at 0x12cd94b90&gt;)),\n",
       "                                                                 (&#x27;scale_volume&#x27;,\n",
       "                                                                  MinMaxScaler())]))])),\n",
       "                (&#x27;ridge&#x27;, Ridge())])</pre><b>Please rerun this cell to show the HTML repr or trust the notebook.</b></div><div class=\"sk-container\" hidden><div class=\"sk-item sk-dashed-wrapped\"><div class=\"sk-label-container\"><div class=\"sk-label sk-toggleable\"><input class=\"sk-toggleable__control sk-hidden--visually\" id=\"e3c5ddb8-66d6-4739-9801-25a023117432\" type=\"checkbox\" ><label for=\"e3c5ddb8-66d6-4739-9801-25a023117432\" class=\"sk-toggleable__label sk-toggleable__label-arrow\">Pipeline</label><div class=\"sk-toggleable__content\"><pre>Pipeline(steps=[(&#x27;featureunion&#x27;,\n",
       "                 FeatureUnion(transformer_list=[(&#x27;preprocess&#x27;,\n",
       "                                                 ColumnTransformer(remainder=&#x27;passthrough&#x27;,\n",
       "                                                                   transformers=[(&#x27;columntransformer&#x27;,\n",
       "                                                                                  ColumnTransformer(transformers=[(&#x27;columntransformer&#x27;,\n",
       "                                                                                                                   ColumnTransformer(transformers=[(&#x27;columntransformer&#x27;,\n",
       "                                                                                                                                                    ColumnTransformer(transformers=[(&#x27;columntransformer&#x27;,\n",
       "                                                                                                                                                                                     ColumnTransformer(transformers=[(&#x27;col...\n",
       "                                                                                  &lt;sklearn.compose._column_transformer.make_column_selector object at 0x12ca9b2d0&gt;),\n",
       "                                                                                 (&#x27;onehotencoder&#x27;,\n",
       "                                                                                  OneHotEncoder(handle_unknown=&#x27;ignore&#x27;,\n",
       "                                                                                                sparse=False),\n",
       "                                                                                  &lt;sklearn.compose._column_transformer.make_column_selector object at 0x12cd3e450&gt;)])),\n",
       "                                                (&#x27;compute_volume&#x27;,\n",
       "                                                 Pipeline(steps=[(&#x27;compute_volume&#x27;,\n",
       "                                                                  FunctionTransformer(func=&lt;function multiply at 0x12cd94b90&gt;)),\n",
       "                                                                 (&#x27;scale_volume&#x27;,\n",
       "                                                                  MinMaxScaler())]))])),\n",
       "                (&#x27;ridge&#x27;, Ridge())])</pre></div></div></div><div class=\"sk-serial\"><div class=\"sk-item sk-dashed-wrapped\"><div class=\"sk-label-container\"><div class=\"sk-label sk-toggleable\"><input class=\"sk-toggleable__control sk-hidden--visually\" id=\"64ef1ead-4a13-4f5f-b1c9-7c05568bcef2\" type=\"checkbox\" ><label for=\"64ef1ead-4a13-4f5f-b1c9-7c05568bcef2\" class=\"sk-toggleable__label sk-toggleable__label-arrow\">featureunion: FeatureUnion</label><div class=\"sk-toggleable__content\"><pre>FeatureUnion(transformer_list=[(&#x27;preprocess&#x27;,\n",
       "                                ColumnTransformer(remainder=&#x27;passthrough&#x27;,\n",
       "                                                  transformers=[(&#x27;columntransformer&#x27;,\n",
       "                                                                 ColumnTransformer(transformers=[(&#x27;columntransformer&#x27;,\n",
       "                                                                                                  ColumnTransformer(transformers=[(&#x27;columntransformer&#x27;,\n",
       "                                                                                                                                   ColumnTransformer(transformers=[(&#x27;columntransformer&#x27;,\n",
       "                                                                                                                                                                    ColumnTransformer(transformers=[(&#x27;columntransformer&#x27;,\n",
       "                                                                                                                                                                                                     ColumnTransforme...\n",
       "                                                                 &lt;sklearn.compose._column_transformer.make_column_selector object at 0x12ca9b2d0&gt;),\n",
       "                                                                (&#x27;onehotencoder&#x27;,\n",
       "                                                                 OneHotEncoder(handle_unknown=&#x27;ignore&#x27;,\n",
       "                                                                               sparse=False),\n",
       "                                                                 &lt;sklearn.compose._column_transformer.make_column_selector object at 0x12cd3e450&gt;)])),\n",
       "                               (&#x27;compute_volume&#x27;,\n",
       "                                Pipeline(steps=[(&#x27;compute_volume&#x27;,\n",
       "                                                 FunctionTransformer(func=&lt;function multiply at 0x12cd94b90&gt;)),\n",
       "                                                (&#x27;scale_volume&#x27;,\n",
       "                                                 MinMaxScaler())]))])</pre></div></div></div><div class=\"sk-parallel\"><div class=\"sk-parallel-item\"><div class=\"sk-item\"><div class=\"sk-label-container\"><div class=\"sk-label sk-toggleable\"><label>preprocess</label></div></div><div class=\"sk-serial\"><div class=\"sk-item sk-dashed-wrapped\"><div class=\"sk-parallel\"><div class=\"sk-parallel-item\"><div class=\"sk-item\"><div class=\"sk-label-container\"><div class=\"sk-label sk-toggleable\"><input class=\"sk-toggleable__control sk-hidden--visually\" id=\"2b492c37-7db3-48cb-a9cc-c33e2c682b0a\" type=\"checkbox\" ><label for=\"2b492c37-7db3-48cb-a9cc-c33e2c682b0a\" class=\"sk-toggleable__label sk-toggleable__label-arrow\">columntransformer</label><div class=\"sk-toggleable__content\"><pre>&lt;sklearn.compose._column_transformer.make_column_selector object at 0x12ca9b2d0&gt;</pre></div></div></div><div class=\"sk-serial\"><div class=\"sk-item sk-dashed-wrapped\"><div class=\"sk-parallel\"><div class=\"sk-parallel-item\"><div class=\"sk-item\"><div class=\"sk-label-container\"><div class=\"sk-label sk-toggleable\"><input class=\"sk-toggleable__control sk-hidden--visually\" id=\"cde4caba-f39e-4f38-9bc9-292c49ef6b7e\" type=\"checkbox\" ><label for=\"cde4caba-f39e-4f38-9bc9-292c49ef6b7e\" class=\"sk-toggleable__label sk-toggleable__label-arrow\">columntransformer</label><div class=\"sk-toggleable__content\"><pre>&lt;sklearn.compose._column_transformer.make_column_selector object at 0x12ce36dd0&gt;</pre></div></div></div><div class=\"sk-serial\"><div class=\"sk-item sk-dashed-wrapped\"><div class=\"sk-parallel\"><div class=\"sk-parallel-item\"><div class=\"sk-item\"><div class=\"sk-label-container\"><div class=\"sk-label sk-toggleable\"><input class=\"sk-toggleable__control sk-hidden--visually\" id=\"2325c488-a589-4bf4-98df-ba787ef6a068\" type=\"checkbox\" ><label for=\"2325c488-a589-4bf4-98df-ba787ef6a068\" class=\"sk-toggleable__label sk-toggleable__label-arrow\">columntransformer</label><div class=\"sk-toggleable__content\"><pre>&lt;sklearn.compose._column_transformer.make_column_selector object at 0x12ce66490&gt;</pre></div></div></div><div class=\"sk-serial\"><div class=\"sk-item sk-dashed-wrapped\"><div class=\"sk-parallel\"><div class=\"sk-parallel-item\"><div class=\"sk-item\"><div class=\"sk-label-container\"><div class=\"sk-label sk-toggleable\"><input class=\"sk-toggleable__control sk-hidden--visually\" id=\"288ba3ad-8986-46a0-8d2d-82bf23dea1c6\" type=\"checkbox\" ><label for=\"288ba3ad-8986-46a0-8d2d-82bf23dea1c6\" class=\"sk-toggleable__label sk-toggleable__label-arrow\">columntransformer</label><div class=\"sk-toggleable__content\"><pre>&lt;sklearn.compose._column_transformer.make_column_selector object at 0x12ce67690&gt;</pre></div></div></div><div class=\"sk-serial\"><div class=\"sk-item sk-dashed-wrapped\"><div class=\"sk-parallel\"><div class=\"sk-parallel-item\"><div class=\"sk-item\"><div class=\"sk-label-container\"><div class=\"sk-label sk-toggleable\"><input class=\"sk-toggleable__control sk-hidden--visually\" id=\"780e96a8-7b81-4043-8e95-b094ba21490a\" type=\"checkbox\" ><label for=\"780e96a8-7b81-4043-8e95-b094ba21490a\" class=\"sk-toggleable__label sk-toggleable__label-arrow\">columntransformer</label><div class=\"sk-toggleable__content\"><pre>&lt;sklearn.compose._column_transformer.make_column_selector object at 0x12ce67050&gt;</pre></div></div></div><div class=\"sk-serial\"><div class=\"sk-item sk-dashed-wrapped\"><div class=\"sk-parallel\"><div class=\"sk-parallel-item\"><div class=\"sk-item\"><div class=\"sk-label-container\"><div class=\"sk-label sk-toggleable\"><input class=\"sk-toggleable__control sk-hidden--visually\" id=\"b751682a-19c1-4499-aed8-f7a00d2e09ad\" type=\"checkbox\" ><label for=\"b751682a-19c1-4499-aed8-f7a00d2e09ad\" class=\"sk-toggleable__label sk-toggleable__label-arrow\">pipeline</label><div class=\"sk-toggleable__content\"><pre>&lt;sklearn.compose._column_transformer.make_column_selector object at 0x12ce76bd0&gt;</pre></div></div></div><div class=\"sk-serial\"><div class=\"sk-item\"><div class=\"sk-serial\"><div class=\"sk-item\"><div class=\"sk-estimator sk-toggleable\"><input class=\"sk-toggleable__control sk-hidden--visually\" id=\"3852b803-83ac-44bb-a55d-efe722c1ac4c\" type=\"checkbox\" ><label for=\"3852b803-83ac-44bb-a55d-efe722c1ac4c\" class=\"sk-toggleable__label sk-toggleable__label-arrow\">StandardScaler</label><div class=\"sk-toggleable__content\"><pre>StandardScaler()</pre></div></div></div></div></div></div></div></div></div></div></div></div></div></div></div></div></div></div></div></div></div></div></div></div></div></div></div></div></div></div></div></div></div><div class=\"sk-parallel-item\"><div class=\"sk-item\"><div class=\"sk-label-container\"><div class=\"sk-label sk-toggleable\"><input class=\"sk-toggleable__control sk-hidden--visually\" id=\"f2ddf4e3-1479-4b60-8a2d-a092d0846be5\" type=\"checkbox\" ><label for=\"f2ddf4e3-1479-4b60-8a2d-a092d0846be5\" class=\"sk-toggleable__label sk-toggleable__label-arrow\">onehotencoder</label><div class=\"sk-toggleable__content\"><pre>&lt;sklearn.compose._column_transformer.make_column_selector object at 0x12cd3e450&gt;</pre></div></div></div><div class=\"sk-serial\"><div class=\"sk-item\"><div class=\"sk-estimator sk-toggleable\"><input class=\"sk-toggleable__control sk-hidden--visually\" id=\"4d9fb4c1-5381-4b44-bc23-d45a5e0014ec\" type=\"checkbox\" ><label for=\"4d9fb4c1-5381-4b44-bc23-d45a5e0014ec\" class=\"sk-toggleable__label sk-toggleable__label-arrow\">OneHotEncoder</label><div class=\"sk-toggleable__content\"><pre>OneHotEncoder(handle_unknown=&#x27;ignore&#x27;, sparse=False)</pre></div></div></div></div></div></div><div class=\"sk-parallel-item\"><div class=\"sk-item\"><div class=\"sk-label-container\"><div class=\"sk-label sk-toggleable\"><input class=\"sk-toggleable__control sk-hidden--visually\" id=\"a82caf97-4ace-4b14-890f-19dc1631f1be\" type=\"checkbox\" ><label for=\"a82caf97-4ace-4b14-890f-19dc1631f1be\" class=\"sk-toggleable__label sk-toggleable__label-arrow\">remainder</label><div class=\"sk-toggleable__content\"><pre>[]</pre></div></div></div><div class=\"sk-serial\"><div class=\"sk-item\"><div class=\"sk-estimator sk-toggleable\"><input class=\"sk-toggleable__control sk-hidden--visually\" id=\"ba5f8f9c-938b-4d83-9b19-1e401a7ee60d\" type=\"checkbox\" ><label for=\"ba5f8f9c-938b-4d83-9b19-1e401a7ee60d\" class=\"sk-toggleable__label sk-toggleable__label-arrow\">passthrough</label><div class=\"sk-toggleable__content\"><pre>passthrough</pre></div></div></div></div></div></div></div></div></div></div></div><div class=\"sk-parallel-item\"><div class=\"sk-item\"><div class=\"sk-label-container\"><div class=\"sk-label sk-toggleable\"><label>compute_volume</label></div></div><div class=\"sk-serial\"><div class=\"sk-item\"><div class=\"sk-serial\"><div class=\"sk-item\"><div class=\"sk-estimator sk-toggleable\"><input class=\"sk-toggleable__control sk-hidden--visually\" id=\"d1690a67-1fca-4b53-9311-ddfc64488ed0\" type=\"checkbox\" ><label for=\"d1690a67-1fca-4b53-9311-ddfc64488ed0\" class=\"sk-toggleable__label sk-toggleable__label-arrow\">FunctionTransformer</label><div class=\"sk-toggleable__content\"><pre>FunctionTransformer(func=&lt;function multiply at 0x12cd94b90&gt;)</pre></div></div></div><div class=\"sk-item\"><div class=\"sk-estimator sk-toggleable\"><input class=\"sk-toggleable__control sk-hidden--visually\" id=\"f92bbeb1-d6f4-4a5c-b579-cc8d65cf9635\" type=\"checkbox\" ><label for=\"f92bbeb1-d6f4-4a5c-b579-cc8d65cf9635\" class=\"sk-toggleable__label sk-toggleable__label-arrow\">MinMaxScaler</label><div class=\"sk-toggleable__content\"><pre>MinMaxScaler()</pre></div></div></div></div></div></div></div></div></div></div><div class=\"sk-item\"><div class=\"sk-estimator sk-toggleable\"><input class=\"sk-toggleable__control sk-hidden--visually\" id=\"4356165d-e76b-4e67-b3e6-f616c2320503\" type=\"checkbox\" ><label for=\"4356165d-e76b-4e67-b3e6-f616c2320503\" class=\"sk-toggleable__label sk-toggleable__label-arrow\">Ridge</label><div class=\"sk-toggleable__content\"><pre>Ridge()</pre></div></div></div></div></div></div></div>"
      ],
      "text/plain": [
       "Pipeline(steps=[('featureunion',\n",
       "                 FeatureUnion(transformer_list=[('preprocess',\n",
       "                                                 ColumnTransformer(remainder='passthrough',\n",
       "                                                                   transformers=[('columntransformer',\n",
       "                                                                                  ColumnTransformer(transformers=[('columntransformer',\n",
       "                                                                                                                   ColumnTransformer(transformers=[('columntransformer',\n",
       "                                                                                                                                                    ColumnTransformer(transformers=[('columntransformer',\n",
       "                                                                                                                                                                                     ColumnTransformer(transformers=[('col...\n",
       "                                                                                  <sklearn.compose._column_transformer.make_column_selector object at 0x12ca9b2d0>),\n",
       "                                                                                 ('onehotencoder',\n",
       "                                                                                  OneHotEncoder(handle_unknown='ignore',\n",
       "                                                                                                sparse=False),\n",
       "                                                                                  <sklearn.compose._column_transformer.make_column_selector object at 0x12cd3e450>)])),\n",
       "                                                ('compute_volume',\n",
       "                                                 Pipeline(steps=[('compute_volume',\n",
       "                                                                  FunctionTransformer(func=<function multiply at 0x12cd94b90>)),\n",
       "                                                                 ('scale_volume',\n",
       "                                                                  MinMaxScaler())]))])),\n",
       "                ('ridge', Ridge())])"
      ]
     },
     "execution_count": 165,
     "metadata": {},
     "output_type": "execute_result"
    }
   ],
   "source": [
    "# enc = OneHotEncoder(handle_unknown='ignore', sparse=False)\n",
    "# enc.fit(X_train[['customer_state']])\n",
    "# enc.categories_\n",
    "\n",
    "from sklearn.preprocessing import StandardScaler, MinMaxScaler\n",
    "\n",
    "def multiply(df):\n",
    "    return pd.DataFrame(\n",
    "        df['product_length_cm'] * df['product_height_cm'] * df['product_width_cm'])\n",
    "    \n",
    "volume_computer = Pipeline([\n",
    "    ('compute_volume', FunctionTransformer(multiply)),\n",
    "    ('scale_volume', MinMaxScaler())\n",
    "])\n",
    "\n",
    "cat_transformer = OneHotEncoder(handle_unknown='ignore', sparse=False)\n",
    "cat_col = make_column_selector(dtype_include=['object'])\n",
    "num_col = make_column_selector(dtype_include=['int64'])\n",
    "\n",
    "preprocessor = make_column_transformer(\n",
    "    (num_transformer, num_col),\n",
    "    (cat_transformer, cat_col),\n",
    "    remainder='passthrough'\n",
    ")\n",
    "\n",
    "union = FeatureUnion([\n",
    "    ('preprocess', preprocessor), # columns 0-8\n",
    "    ('compute_volume', volume_computer) # new colum 9\n",
    "])\n",
    "\n",
    "pipe = make_pipeline(union, Ridge())\n",
    "# pipe = make_pipeline(volume_computer, preproc_basic)\n",
    "\n",
    "# volume_computer.fit(X_train)\n",
    "# pipe.transform(X_train[['customer_state']])\n",
    "\n",
    "pipe.fit(X_train, y_train)\n",
    "\n",
    "# display(X_train.head(3))\n",
    "# display(pd.DataFrame(X_train_transformed).head(3))"
   ]
  },
  {
   "cell_type": "code",
   "execution_count": 167,
   "metadata": {},
   "outputs": [
    {
     "data": {
      "text/html": [
       "<div>\n",
       "<style scoped>\n",
       "    .dataframe tbody tr th:only-of-type {\n",
       "        vertical-align: middle;\n",
       "    }\n",
       "\n",
       "    .dataframe tbody tr th {\n",
       "        vertical-align: top;\n",
       "    }\n",
       "\n",
       "    .dataframe thead th {\n",
       "        text-align: right;\n",
       "    }\n",
       "</style>\n",
       "<table border=\"1\" class=\"dataframe\">\n",
       "  <thead>\n",
       "    <tr style=\"text-align: right;\">\n",
       "      <th></th>\n",
       "      <th>0</th>\n",
       "      <th>1</th>\n",
       "      <th>2</th>\n",
       "      <th>3</th>\n",
       "      <th>4</th>\n",
       "      <th>5</th>\n",
       "      <th>6</th>\n",
       "      <th>7</th>\n",
       "      <th>8</th>\n",
       "      <th>9</th>\n",
       "      <th>...</th>\n",
       "      <th>20</th>\n",
       "      <th>21</th>\n",
       "      <th>22</th>\n",
       "      <th>23</th>\n",
       "      <th>24</th>\n",
       "      <th>25</th>\n",
       "      <th>26</th>\n",
       "      <th>27</th>\n",
       "      <th>28</th>\n",
       "      <th>29</th>\n",
       "    </tr>\n",
       "  </thead>\n",
       "  <tbody>\n",
       "    <tr>\n",
       "      <th>0</th>\n",
       "      <td>-1.151475</td>\n",
       "      <td>0.013818</td>\n",
       "      <td>-1.376550</td>\n",
       "      <td>0.731243</td>\n",
       "      <td>0.0</td>\n",
       "      <td>0.0</td>\n",
       "      <td>0.0</td>\n",
       "      <td>0.0</td>\n",
       "      <td>0.0</td>\n",
       "      <td>0.0</td>\n",
       "      <td>...</td>\n",
       "      <td>1.0</td>\n",
       "      <td>0.0</td>\n",
       "      <td>0.0</td>\n",
       "      <td>0.0</td>\n",
       "      <td>0.0</td>\n",
       "      <td>0.0</td>\n",
       "      <td>0.0</td>\n",
       "      <td>0.0</td>\n",
       "      <td>1.0</td>\n",
       "      <td>0.075199</td>\n",
       "    </tr>\n",
       "    <tr>\n",
       "      <th>1</th>\n",
       "      <td>-1.350053</td>\n",
       "      <td>1.015395</td>\n",
       "      <td>-1.005998</td>\n",
       "      <td>-0.235394</td>\n",
       "      <td>0.0</td>\n",
       "      <td>0.0</td>\n",
       "      <td>0.0</td>\n",
       "      <td>0.0</td>\n",
       "      <td>0.0</td>\n",
       "      <td>0.0</td>\n",
       "      <td>...</td>\n",
       "      <td>1.0</td>\n",
       "      <td>0.0</td>\n",
       "      <td>0.0</td>\n",
       "      <td>0.0</td>\n",
       "      <td>0.0</td>\n",
       "      <td>0.0</td>\n",
       "      <td>0.0</td>\n",
       "      <td>0.0</td>\n",
       "      <td>1.0</td>\n",
       "      <td>0.121439</td>\n",
       "    </tr>\n",
       "    <tr>\n",
       "      <th>2</th>\n",
       "      <td>-1.151475</td>\n",
       "      <td>0.013818</td>\n",
       "      <td>-1.376550</td>\n",
       "      <td>0.731243</td>\n",
       "      <td>0.0</td>\n",
       "      <td>0.0</td>\n",
       "      <td>0.0</td>\n",
       "      <td>0.0</td>\n",
       "      <td>0.0</td>\n",
       "      <td>0.0</td>\n",
       "      <td>...</td>\n",
       "      <td>1.0</td>\n",
       "      <td>0.0</td>\n",
       "      <td>0.0</td>\n",
       "      <td>0.0</td>\n",
       "      <td>0.0</td>\n",
       "      <td>0.0</td>\n",
       "      <td>0.0</td>\n",
       "      <td>0.0</td>\n",
       "      <td>1.0</td>\n",
       "      <td>0.075199</td>\n",
       "    </tr>\n",
       "  </tbody>\n",
       "</table>\n",
       "<p>3 rows × 30 columns</p>\n",
       "</div>"
      ],
      "text/plain": [
       "         0         1         2         3    4    5    6    7    8    9   ...  \\\n",
       "0 -1.151475  0.013818 -1.376550  0.731243  0.0  0.0  0.0  0.0  0.0  0.0  ...   \n",
       "1 -1.350053  1.015395 -1.005998 -0.235394  0.0  0.0  0.0  0.0  0.0  0.0  ...   \n",
       "2 -1.151475  0.013818 -1.376550  0.731243  0.0  0.0  0.0  0.0  0.0  0.0  ...   \n",
       "\n",
       "    20   21   22   23   24   25   26   27   28        29  \n",
       "0  1.0  0.0  0.0  0.0  0.0  0.0  0.0  0.0  1.0  0.075199  \n",
       "1  1.0  0.0  0.0  0.0  0.0  0.0  0.0  0.0  1.0  0.121439  \n",
       "2  1.0  0.0  0.0  0.0  0.0  0.0  0.0  0.0  1.0  0.075199  \n",
       "\n",
       "[3 rows x 30 columns]"
      ]
     },
     "metadata": {},
     "output_type": "display_data"
    }
   ],
   "source": [
    "display(pd.DataFrame(union.fit_transform(X_train)).head(3))"
   ]
  },
  {
   "cell_type": "code",
   "execution_count": 169,
   "metadata": {},
   "outputs": [
    {
     "data": {
      "text/plain": [
       "0.24190796520164604"
      ]
     },
     "execution_count": 169,
     "metadata": {},
     "output_type": "execute_result"
    }
   ],
   "source": [
    "pipe.fit(X_train, y_train)\n",
    "pipe.predict(X_test.iloc[0:2])\n",
    "\n",
    "# Score model\n",
    "pipe.score(X_test,y_test)"
   ]
  },
  {
   "cell_type": "code",
   "execution_count": 170,
   "metadata": {},
   "outputs": [
    {
     "data": {
      "text/html": [
       "<div>\n",
       "<style scoped>\n",
       "    .dataframe tbody tr th:only-of-type {\n",
       "        vertical-align: middle;\n",
       "    }\n",
       "\n",
       "    .dataframe tbody tr th {\n",
       "        vertical-align: top;\n",
       "    }\n",
       "\n",
       "    .dataframe thead th {\n",
       "        text-align: right;\n",
       "    }\n",
       "</style>\n",
       "<table border=\"1\" class=\"dataframe\">\n",
       "  <thead>\n",
       "    <tr style=\"text-align: right;\">\n",
       "      <th></th>\n",
       "      <th>customer_state</th>\n",
       "      <th>seller_state</th>\n",
       "      <th>product_weight_g</th>\n",
       "      <th>product_length_cm</th>\n",
       "      <th>product_height_cm</th>\n",
       "      <th>product_width_cm</th>\n",
       "    </tr>\n",
       "  </thead>\n",
       "  <tbody>\n",
       "    <tr>\n",
       "      <th>0</th>\n",
       "      <td>RJ</td>\n",
       "      <td>SP</td>\n",
       "      <td>1825</td>\n",
       "      <td>53</td>\n",
       "      <td>10</td>\n",
       "      <td>40</td>\n",
       "    </tr>\n",
       "  </tbody>\n",
       "</table>\n",
       "</div>"
      ],
      "text/plain": [
       "  customer_state seller_state  product_weight_g  product_length_cm  \\\n",
       "0             RJ           SP              1825                 53   \n",
       "\n",
       "   product_height_cm  product_width_cm  \n",
       "0                 10                40  "
      ]
     },
     "execution_count": 170,
     "metadata": {},
     "output_type": "execute_result"
    }
   ],
   "source": [
    "new_data = pd.read_csv(\"data_new.csv\")\n",
    "new_data"
   ]
  },
  {
   "cell_type": "markdown",
   "metadata": {},
   "source": [
    "#### 🧪 Test your pipe"
   ]
  },
  {
   "cell_type": "code",
   "execution_count": 14,
   "metadata": {},
   "outputs": [
    {
     "name": "stdout",
     "output_type": "stream",
     "text": [
      "\n"
     ]
    }
   ],
   "source": [
    "from nbresult import ChallengeResult\n",
    "\n",
    "pipe_test = pipe\n",
    "\n",
    "# Check that it doesn't crash\n",
    "assert pipe_test.fit(X,y)\n",
    "\n",
    "result = ChallengeResult('pipe', \n",
    "                         shape = pipe_test[:-1].fit_transform(X).shape\n",
    ")\n",
    "result.write()\n",
    "print(result.check())"
   ]
  },
  {
   "cell_type": "markdown",
   "metadata": {},
   "source": [
    "## 2. Train and Predict"
   ]
  },
  {
   "cell_type": "markdown",
   "metadata": {},
   "source": [
    "👇 Let's imagine `data` is your entire training set.\n",
    "\n",
    "- `cross_validate` your pipeline on this dataset (❗️low r2 score are expected)\n",
    "- Now, imagine you just received an new order `new_data`: predict it's duration of delivery in a variable `prediction`"
   ]
  },
  {
   "cell_type": "code",
   "execution_count": 15,
   "metadata": {},
   "outputs": [
    {
     "data": {
      "text/html": [
       "<div>\n",
       "<style scoped>\n",
       "    .dataframe tbody tr th:only-of-type {\n",
       "        vertical-align: middle;\n",
       "    }\n",
       "\n",
       "    .dataframe tbody tr th {\n",
       "        vertical-align: top;\n",
       "    }\n",
       "\n",
       "    .dataframe thead th {\n",
       "        text-align: right;\n",
       "    }\n",
       "</style>\n",
       "<table border=\"1\" class=\"dataframe\">\n",
       "  <thead>\n",
       "    <tr style=\"text-align: right;\">\n",
       "      <th></th>\n",
       "      <th>customer_state</th>\n",
       "      <th>seller_state</th>\n",
       "      <th>product_weight_g</th>\n",
       "      <th>product_length_cm</th>\n",
       "      <th>product_height_cm</th>\n",
       "      <th>product_width_cm</th>\n",
       "    </tr>\n",
       "  </thead>\n",
       "  <tbody>\n",
       "    <tr>\n",
       "      <th>0</th>\n",
       "      <td>RJ</td>\n",
       "      <td>SP</td>\n",
       "      <td>1825</td>\n",
       "      <td>53</td>\n",
       "      <td>10</td>\n",
       "      <td>40</td>\n",
       "    </tr>\n",
       "  </tbody>\n",
       "</table>\n",
       "</div>"
      ],
      "text/plain": [
       "  customer_state seller_state  product_weight_g  product_length_cm  \\\n",
       "0             RJ           SP              1825                 53   \n",
       "\n",
       "   product_height_cm  product_width_cm  \n",
       "0                 10                40  "
      ]
     },
     "execution_count": 15,
     "metadata": {},
     "output_type": "execute_result"
    }
   ],
   "source": [
    "new_data = pd.read_csv(\"data_new.csv\")\n",
    "new_data"
   ]
  },
  {
   "cell_type": "code",
   "execution_count": null,
   "metadata": {},
   "outputs": [],
   "source": [
    "# YOUR CODE HERE"
   ]
  },
  {
   "cell_type": "code",
   "execution_count": null,
   "metadata": {},
   "outputs": [],
   "source": [
    "from nbresult import ChallengeResult\n",
    "\n",
    "result = ChallengeResult('prediction',\n",
    "    prediction = prediction\n",
    ")\n",
    "result.write()\n",
    "print(result.check())\n"
   ]
  },
  {
   "cell_type": "markdown",
   "metadata": {},
   "source": [
    "🏁 Congratulation. Don't forget to add, commit and push your notebook."
   ]
  },
  {
   "cell_type": "code",
   "execution_count": null,
   "metadata": {},
   "outputs": [],
   "source": []
  }
 ],
 "metadata": {
  "kernelspec": {
   "display_name": "Python 3",
   "language": "python",
   "name": "python3"
  },
  "language_info": {
   "codemirror_mode": {
    "name": "ipython",
    "version": 3
   },
   "file_extension": ".py",
   "mimetype": "text/x-python",
   "name": "python",
   "nbconvert_exporter": "python",
   "pygments_lexer": "ipython3",
   "version": "3.7.12"
  }
 },
 "nbformat": 4,
 "nbformat_minor": 4
}
