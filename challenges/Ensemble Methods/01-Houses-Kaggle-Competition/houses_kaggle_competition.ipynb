{
 "cells": [
  {
   "cell_type": "code",
   "execution_count": 1,
   "metadata": {},
   "outputs": [],
   "source": [
    "# Use this cell to regroup all your imports\n",
    "import pandas as pd\n",
    "import numpy as np\n",
    "import matplotlib.pyplot as plt\n",
    "import seaborn as sns\n",
    "from sklearn import set_config; set_config(display='diagram')"
   ]
  },
  {
   "cell_type": "markdown",
   "metadata": {},
   "source": [
    "# 🏆 Le Wagon Kaggle Batch Challenge"
   ]
  },
  {
   "cell_type": "markdown",
   "metadata": {},
   "source": [
    "<img src='https://github.com/lewagon/data-images/blob/master/ML/kaggle-batch-challenge.png?raw=true' width=600>"
   ]
  },
  {
   "cell_type": "markdown",
   "metadata": {},
   "source": [
    "🏆 Welcome to your first Kaggle competition!\n",
    "\n",
    "Your objective is to **submit an answer online** to the open competition - [House Prices - Advanced Regression Techniques](https://www.kaggle.com/c/house-prices-advanced-regression-techniques/data)\n",
    "\n",
    "- Fortunately, you have already come across the house dataset in the bootcamp!\n",
    "- You will be semi-guided up to a **baseline model**\n",
    "- Only after will you be free to improve & refine your models\n",
    "- We will approach the problem through **pipelines** (the best practice to take!)\n",
    "\n",
    "A word on Kaggle:\n",
    "- Kaggle will rank your submission amongst all participants!\n",
    "- But don't worry, everyone is publicly removed from the leaderboard after 2 months\n",
    "- You can make up to 10 submissions per day"
   ]
  },
  {
   "cell_type": "markdown",
   "metadata": {},
   "source": [
    "🧹 Today is the perfect day to practice keeping your long notebook **tidy** 🧹\n",
    "- \"Collapse all headings\" from the \"command palette\" (`Cmd + Shift + P`)\n",
    "- Stay idempotent (`Restart & Run All` should never crash)\n",
    "- Name and delete variables carefully"
   ]
  },
  {
   "cell_type": "markdown",
   "metadata": {},
   "source": [
    "# Setup Kaggle\n",
    "\n",
    "👉 Create an account on Kaggle if you want to participate in the competition. \n",
    "\n",
    "👉 Join the [House Prices Challenge](https://www.kaggle.com/c/house-prices-advanced-regression-techniques/data) \n",
    "\n",
    "👉 Write down your Kaggle `username` in the [result spreadsheet here](https://docs.google.com/spreadsheets/d/1ZEBKwa_k1Ytb0WCOh-Nopq3eaezwBNu1SAqKXEXRguc/edit#gid=0) (pick the correct batch!)\n",
    "\n",
    "**Your whole class will compete as a group against the team of TAs**"
   ]
  },
  {
   "cell_type": "markdown",
   "metadata": {},
   "source": [
    "# Load"
   ]
  },
  {
   "cell_type": "markdown",
   "metadata": {},
   "source": [
    "In the challenge instructions, you should have already executed the steps to download everything you need from Kaggle into your current notebook folder:\n",
    "\n",
    "- `train.csv` is your (1460 * 81) training set containing `X` and `y`\n",
    "- `test.csv` is your (1459 * 80) testing set without the associated target `y` 😈\n",
    "- `sample_submission.csv` describing the format required to submit your answer\n",
    "- `data_description.txt` describing all columns\n",
    "\n",
    "Your goal is to predict the `y_pred` missing from your test set and submit it to discover your test_score & ranking"
   ]
  },
  {
   "cell_type": "markdown",
   "metadata": {},
   "source": [
    "❓ Load the training dataset in a DataFrame `data` and create your `X` and `y`. Inspect their shape"
   ]
  },
  {
   "cell_type": "code",
   "execution_count": 8,
   "metadata": {
    "tags": [
     "challengify"
    ]
   },
   "outputs": [],
   "source": [
    "data = pd.read_csv('data/train.csv', index_col='Id')"
   ]
  },
  {
   "cell_type": "code",
   "execution_count": 132,
   "metadata": {},
   "outputs": [],
   "source": [
    "X = data.drop(columns='SalePrice')\n",
    "y = data['SalePrice']\n",
    "X_train = X[:1100]\n",
    "y_train = y[:1100]\n",
    "X_test = X[1100:]\n",
    "y_test = y[1100:]"
   ]
  },
  {
   "cell_type": "markdown",
   "metadata": {},
   "source": [
    "## 🐣 1. BASELINE"
   ]
  },
  {
   "cell_type": "markdown",
   "metadata": {},
   "source": [
    "### 1.1 Initial feature overview"
   ]
  },
  {
   "cell_type": "markdown",
   "metadata": {},
   "source": [
    "80 features is too much to deal with one-by-one for a first baseline pipeline! Let's treat them solely based on their `dtype`:\n",
    "\n",
    "❓ How many numerical features vs. categorical features do we have? "
   ]
  },
  {
   "cell_type": "code",
   "execution_count": 33,
   "metadata": {
    "tags": [
     "challengify"
    ]
   },
   "outputs": [
    {
     "name": "stdout",
     "output_type": "stream",
     "text": [
      "int64 34\n",
      "O 43\n",
      "float64 3\n"
     ]
    }
   ],
   "source": [
    "for t in ['int64', 'O', 'float64']:\n",
    "    print(t, data.dtypes.to_list().count(t))"
   ]
  },
  {
   "cell_type": "code",
   "execution_count": 120,
   "metadata": {},
   "outputs": [
    {
     "data": {
      "text/plain": [
       "MSSubClass         int64\n",
       "MSZoning          object\n",
       "LotFrontage      float64\n",
       "LotArea            int64\n",
       "Street            object\n",
       "                  ...   \n",
       "MoSold             int64\n",
       "YrSold             int64\n",
       "SaleType          object\n",
       "SaleCondition     object\n",
       "SalePrice          int64\n",
       "Length: 80, dtype: object"
      ]
     },
     "execution_count": 120,
     "metadata": {},
     "output_type": "execute_result"
    }
   ],
   "source": [
    "data.dtypes"
   ]
  },
  {
   "cell_type": "code",
   "execution_count": null,
   "metadata": {},
   "outputs": [],
   "source": [
    "counter\n",
    "for f_name in featurenames:\n",
    "    for 'pipeline' in f_name:\n",
    "        "
   ]
  },
  {
   "cell_type": "markdown",
   "metadata": {},
   "source": [
    "❓ Store the Series `feat_categorical_nunique` containing the number of **unique values** for each categorical feature in our training set. How many unique categories are there in total ?"
   ]
  },
  {
   "cell_type": "code",
   "execution_count": 83,
   "metadata": {
    "tags": [
     "challengify"
    ]
   },
   "outputs": [],
   "source": [
    "d = {}\n",
    "for c in data[:1]:\n",
    "    if data.dtypes[c] == 'object':\n",
    "        d[c] = len(data[c].value_counts().to_dict().keys())\n",
    "ser = pd.Series(data=d, index=d.keys())"
   ]
  },
  {
   "cell_type": "code",
   "execution_count": 122,
   "metadata": {},
   "outputs": [
    {
     "name": "stdout",
     "output_type": "stream",
     "text": [
      "RL         1151\n",
      "RM          218\n",
      "FV           65\n",
      "RH           16\n",
      "C (all)      10\n",
      "Name: MSZoning, dtype: int64\n",
      "Pave    1454\n",
      "Grvl       6\n",
      "Name: Street, dtype: int64\n",
      "Grvl    50\n",
      "Pave    41\n",
      "Name: Alley, dtype: int64\n",
      "Reg    925\n",
      "IR1    484\n",
      "IR2     41\n",
      "IR3     10\n",
      "Name: LotShape, dtype: int64\n",
      "Lvl    1311\n",
      "Bnk      63\n",
      "HLS      50\n",
      "Low      36\n",
      "Name: LandContour, dtype: int64\n",
      "AllPub    1459\n",
      "NoSeWa       1\n",
      "Name: Utilities, dtype: int64\n",
      "Inside     1052\n",
      "Corner      263\n",
      "CulDSac      94\n",
      "FR2          47\n",
      "FR3           4\n",
      "Name: LotConfig, dtype: int64\n",
      "Gtl    1382\n",
      "Mod      65\n",
      "Sev      13\n",
      "Name: LandSlope, dtype: int64\n",
      "NAmes      225\n",
      "CollgCr    150\n",
      "OldTown    113\n",
      "Edwards    100\n",
      "Somerst     86\n",
      "Gilbert     79\n",
      "NridgHt     77\n",
      "Sawyer      74\n",
      "NWAmes      73\n",
      "SawyerW     59\n",
      "BrkSide     58\n",
      "Crawfor     51\n",
      "Mitchel     49\n",
      "NoRidge     41\n",
      "Timber      38\n",
      "IDOTRR      37\n",
      "ClearCr     28\n",
      "StoneBr     25\n",
      "SWISU       25\n",
      "MeadowV     17\n",
      "Blmngtn     17\n",
      "BrDale      16\n",
      "Veenker     11\n",
      "NPkVill      9\n",
      "Blueste      2\n",
      "Name: Neighborhood, dtype: int64\n",
      "Norm      1260\n",
      "Feedr       81\n",
      "Artery      48\n",
      "RRAn        26\n",
      "PosN        19\n",
      "RRAe        11\n",
      "PosA         8\n",
      "RRNn         5\n",
      "RRNe         2\n",
      "Name: Condition1, dtype: int64\n",
      "Norm      1445\n",
      "Feedr        6\n",
      "Artery       2\n",
      "RRNn         2\n",
      "PosN         2\n",
      "PosA         1\n",
      "RRAn         1\n",
      "RRAe         1\n",
      "Name: Condition2, dtype: int64\n",
      "1Fam      1220\n",
      "TwnhsE     114\n",
      "Duplex      52\n",
      "Twnhs       43\n",
      "2fmCon      31\n",
      "Name: BldgType, dtype: int64\n",
      "1Story    726\n",
      "2Story    445\n",
      "1.5Fin    154\n",
      "SLvl       65\n",
      "SFoyer     37\n",
      "1.5Unf     14\n",
      "2.5Unf     11\n",
      "2.5Fin      8\n",
      "Name: HouseStyle, dtype: int64\n",
      "Gable      1141\n",
      "Hip         286\n",
      "Flat         13\n",
      "Gambrel      11\n",
      "Mansard       7\n",
      "Shed          2\n",
      "Name: RoofStyle, dtype: int64\n",
      "CompShg    1434\n",
      "Tar&Grv      11\n",
      "WdShngl       6\n",
      "WdShake       5\n",
      "Metal         1\n",
      "Membran       1\n",
      "Roll          1\n",
      "ClyTile       1\n",
      "Name: RoofMatl, dtype: int64\n",
      "VinylSd    515\n",
      "HdBoard    222\n",
      "MetalSd    220\n",
      "Wd Sdng    206\n",
      "Plywood    108\n",
      "CemntBd     61\n",
      "BrkFace     50\n",
      "WdShing     26\n",
      "Stucco      25\n",
      "AsbShng     20\n",
      "BrkComm      2\n",
      "Stone        2\n",
      "AsphShn      1\n",
      "ImStucc      1\n",
      "CBlock       1\n",
      "Name: Exterior1st, dtype: int64\n",
      "VinylSd    504\n",
      "MetalSd    214\n",
      "HdBoard    207\n",
      "Wd Sdng    197\n",
      "Plywood    142\n",
      "CmentBd     60\n",
      "Wd Shng     38\n",
      "Stucco      26\n",
      "BrkFace     25\n",
      "AsbShng     20\n",
      "ImStucc     10\n",
      "Brk Cmn      7\n",
      "Stone        5\n",
      "AsphShn      3\n",
      "Other        1\n",
      "CBlock       1\n",
      "Name: Exterior2nd, dtype: int64\n",
      "None       864\n",
      "BrkFace    445\n",
      "Stone      128\n",
      "BrkCmn      15\n",
      "Name: MasVnrType, dtype: int64\n",
      "TA    906\n",
      "Gd    488\n",
      "Ex     52\n",
      "Fa     14\n",
      "Name: ExterQual, dtype: int64\n",
      "TA    1282\n",
      "Gd     146\n",
      "Fa      28\n",
      "Ex       3\n",
      "Po       1\n",
      "Name: ExterCond, dtype: int64\n",
      "PConc     647\n",
      "CBlock    634\n",
      "BrkTil    146\n",
      "Slab       24\n",
      "Stone       6\n",
      "Wood        3\n",
      "Name: Foundation, dtype: int64\n",
      "TA    649\n",
      "Gd    618\n",
      "Ex    121\n",
      "Fa     35\n",
      "Name: BsmtQual, dtype: int64\n",
      "TA    1311\n",
      "Gd      65\n",
      "Fa      45\n",
      "Po       2\n",
      "Name: BsmtCond, dtype: int64\n",
      "No    953\n",
      "Av    221\n",
      "Gd    134\n",
      "Mn    114\n",
      "Name: BsmtExposure, dtype: int64\n",
      "Unf    430\n",
      "GLQ    418\n",
      "ALQ    220\n",
      "BLQ    148\n",
      "Rec    133\n",
      "LwQ     74\n",
      "Name: BsmtFinType1, dtype: int64\n",
      "Unf    1256\n",
      "Rec      54\n",
      "LwQ      46\n",
      "BLQ      33\n",
      "ALQ      19\n",
      "GLQ      14\n",
      "Name: BsmtFinType2, dtype: int64\n",
      "GasA     1428\n",
      "GasW       18\n",
      "Grav        7\n",
      "Wall        4\n",
      "OthW        2\n",
      "Floor       1\n",
      "Name: Heating, dtype: int64\n",
      "Ex    741\n",
      "TA    428\n",
      "Gd    241\n",
      "Fa     49\n",
      "Po      1\n",
      "Name: HeatingQC, dtype: int64\n",
      "Y    1365\n",
      "N      95\n",
      "Name: CentralAir, dtype: int64\n",
      "SBrkr    1334\n",
      "FuseA      94\n",
      "FuseF      27\n",
      "FuseP       3\n",
      "Mix         1\n",
      "Name: Electrical, dtype: int64\n",
      "TA    735\n",
      "Gd    586\n",
      "Ex    100\n",
      "Fa     39\n",
      "Name: KitchenQual, dtype: int64\n",
      "Typ     1360\n",
      "Min2      34\n",
      "Min1      31\n",
      "Mod       15\n",
      "Maj1      14\n",
      "Maj2       5\n",
      "Sev        1\n",
      "Name: Functional, dtype: int64\n",
      "Gd    380\n",
      "TA    313\n",
      "Fa     33\n",
      "Ex     24\n",
      "Po     20\n",
      "Name: FireplaceQu, dtype: int64\n",
      "Attchd     870\n",
      "Detchd     387\n",
      "BuiltIn     88\n",
      "Basment     19\n",
      "CarPort      9\n",
      "2Types       6\n",
      "Name: GarageType, dtype: int64\n",
      "Unf    605\n",
      "RFn    422\n",
      "Fin    352\n",
      "Name: GarageFinish, dtype: int64\n",
      "TA    1311\n",
      "Fa      48\n",
      "Gd      14\n",
      "Ex       3\n",
      "Po       3\n",
      "Name: GarageQual, dtype: int64\n",
      "TA    1326\n",
      "Fa      35\n",
      "Gd       9\n",
      "Po       7\n",
      "Ex       2\n",
      "Name: GarageCond, dtype: int64\n",
      "Y    1340\n",
      "N      90\n",
      "P      30\n",
      "Name: PavedDrive, dtype: int64\n",
      "Gd    3\n",
      "Ex    2\n",
      "Fa    2\n",
      "Name: PoolQC, dtype: int64\n",
      "MnPrv    157\n",
      "GdPrv     59\n",
      "GdWo      54\n",
      "MnWw      11\n",
      "Name: Fence, dtype: int64\n",
      "Shed    49\n",
      "Gar2     2\n",
      "Othr     2\n",
      "TenC     1\n",
      "Name: MiscFeature, dtype: int64\n",
      "WD       1267\n",
      "New       122\n",
      "COD        43\n",
      "ConLD       9\n",
      "ConLI       5\n",
      "ConLw       5\n",
      "CWD         4\n",
      "Oth         3\n",
      "Con         2\n",
      "Name: SaleType, dtype: int64\n",
      "Normal     1198\n",
      "Partial     125\n",
      "Abnorml     101\n",
      "Family       20\n",
      "Alloca       12\n",
      "AdjLand       4\n",
      "Name: SaleCondition, dtype: int64\n"
     ]
    }
   ],
   "source": [
    "for c in data[:1]:\n",
    "    if data.dtypes[c] == 'object':\n",
    "        print(data[c].value_counts())"
   ]
  },
  {
   "cell_type": "code",
   "execution_count": 91,
   "metadata": {},
   "outputs": [],
   "source": [
    "feat_categorical_nunique = data.select_dtypes(include='object').nunique()"
   ]
  },
  {
   "cell_type": "code",
   "execution_count": 121,
   "metadata": {},
   "outputs": [
    {
     "data": {
      "text/plain": [
       "MSZoning          5\n",
       "Street            2\n",
       "Alley             2\n",
       "LotShape          4\n",
       "LandContour       4\n",
       "Utilities         2\n",
       "LotConfig         5\n",
       "LandSlope         3\n",
       "Neighborhood     25\n",
       "Condition1        9\n",
       "Condition2        8\n",
       "BldgType          5\n",
       "HouseStyle        8\n",
       "RoofStyle         6\n",
       "RoofMatl          8\n",
       "Exterior1st      15\n",
       "Exterior2nd      16\n",
       "MasVnrType        4\n",
       "ExterQual         4\n",
       "ExterCond         5\n",
       "Foundation        6\n",
       "BsmtQual          4\n",
       "BsmtCond          4\n",
       "BsmtExposure      4\n",
       "BsmtFinType1      6\n",
       "BsmtFinType2      6\n",
       "Heating           6\n",
       "HeatingQC         5\n",
       "CentralAir        2\n",
       "Electrical        5\n",
       "KitchenQual       4\n",
       "Functional        7\n",
       "FireplaceQu       5\n",
       "GarageType        6\n",
       "GarageFinish      3\n",
       "GarageQual        5\n",
       "GarageCond        5\n",
       "PavedDrive        3\n",
       "PoolQC            3\n",
       "Fence             4\n",
       "MiscFeature       4\n",
       "SaleType          9\n",
       "SaleCondition     6\n",
       "dtype: int64"
      ]
     },
     "execution_count": 121,
     "metadata": {},
     "output_type": "execute_result"
    }
   ],
   "source": [
    "feat_categorical_nunique"
   ]
  },
  {
   "cell_type": "markdown",
   "metadata": {},
   "source": [
    "🤔 If we were to `OneHotEncode` all categorical features, our feature matrix `X_preproc` would become pretty big and sparse, with almost 300 (highly correlated) features for only 1400 observations. Ideally, we should aim at feeding our model with ~50 features max (📚 Read this [rule of thumb](https://datascience.stackexchange.com/a/11480/98300))"
   ]
  },
  {
   "cell_type": "markdown",
   "metadata": {},
   "source": [
    "We know 2 main strategies to reduce the number of categorical features post-preprocessing:\n",
    "- **[Remove](https://scikit-learn.org/stable/modules/classes.html#module-sklearn.feature_selection)** features that bring too little explanation to our model. This may require statistical analysis of feature importance \n",
    "- **[Ordinally encode](https://scikit-learn.org/stable/modules/generated/sklearn.preprocessing.OrdinalEncoder.html)** (instead of one-hot-encode) categorical features into integers. However this forces a notion of \"order\" (1>2>3...) that can be detrimental if not set properly!"
   ]
  },
  {
   "cell_type": "markdown",
   "metadata": {},
   "source": [
    "❓ Plot the **histogram** of number of unique value per categorical feature. Do you see some quick wins?"
   ]
  },
  {
   "cell_type": "code",
   "execution_count": 95,
   "metadata": {
    "tags": [
     "challengify"
    ]
   },
   "outputs": [
    {
     "data": {
      "text/plain": [
       "<AxesSubplot:ylabel='Frequency'>"
      ]
     },
     "execution_count": 95,
     "metadata": {},
     "output_type": "execute_result"
    },
    {
     "data": {
      "image/png": "[encoded data removed]",
      "text/plain": [
       "<Figure size 432x288 with 1 Axes>"
      ]
     },
     "metadata": {
      "needs_background": "light"
     },
     "output_type": "display_data"
    }
   ],
   "source": [
    "feat_categorical_nunique.plot.hist()"
   ]
  },
  {
   "cell_type": "markdown",
   "metadata": {},
   "source": [
    "💡 As a starter, what about simply **removing** all features that have **7 unique values or more**, and one-hot-encode every other? Let's keep ordinal encoding and statistical feature selection for the next iteration of our pipeline.\n",
    "\n",
    "❓ Store features names to OHE in a list `feat_categorical_small` below. How many features will be OHE?"
   ]
  },
  {
   "cell_type": "code",
   "execution_count": 144,
   "metadata": {
    "tags": [
     "challengify"
    ]
   },
   "outputs": [],
   "source": [
    "feat_categorical_small = feat_categorical_nunique.loc[feat_categorical_nunique<7].index.to_list()"
   ]
  },
  {
   "cell_type": "code",
   "execution_count": 145,
   "metadata": {
    "tags": [
     "challengify"
    ]
   },
   "outputs": [
    {
     "data": {
      "text/plain": [
       "['MSZoning',\n",
       " 'Street',\n",
       " 'Alley',\n",
       " 'LotShape',\n",
       " 'LandContour',\n",
       " 'Utilities',\n",
       " 'LotConfig',\n",
       " 'LandSlope',\n",
       " 'BldgType',\n",
       " 'RoofStyle',\n",
       " 'MasVnrType',\n",
       " 'ExterQual',\n",
       " 'ExterCond',\n",
       " 'Foundation',\n",
       " 'BsmtQual',\n",
       " 'BsmtCond',\n",
       " 'BsmtExposure',\n",
       " 'BsmtFinType1',\n",
       " 'BsmtFinType2',\n",
       " 'Heating',\n",
       " 'HeatingQC',\n",
       " 'CentralAir',\n",
       " 'Electrical',\n",
       " 'KitchenQual',\n",
       " 'FireplaceQu',\n",
       " 'GarageType',\n",
       " 'GarageFinish',\n",
       " 'GarageQual',\n",
       " 'GarageCond',\n",
       " 'PavedDrive',\n",
       " 'PoolQC',\n",
       " 'Fence',\n",
       " 'MiscFeature',\n",
       " 'SaleCondition']"
      ]
     },
     "execution_count": 145,
     "metadata": {},
     "output_type": "execute_result"
    }
   ],
   "source": [
    "feat_categorical_small"
   ]
  },
  {
   "cell_type": "markdown",
   "metadata": {},
   "source": [
    "🧪 Test your code below (and clear the cell once it passed)"
   ]
  },
  {
   "cell_type": "code",
   "execution_count": 114,
   "metadata": {},
   "outputs": [
    {
     "name": "stdout",
     "output_type": "stream",
     "text": [
      "\n"
     ]
    }
   ],
   "source": [
    "from nbresult import ChallengeResult\n",
    "result = ChallengeResult('features_overview',\n",
    "    n=len(feat_categorical_small))\n",
    "result.write(); print(result.check())"
   ]
  },
  {
   "cell_type": "markdown",
   "metadata": {},
   "source": [
    "### 1.2 Baseline pipe"
   ]
  },
  {
   "cell_type": "markdown",
   "metadata": {},
   "source": [
    "#### a) Preprocessing"
   ]
  },
  {
   "cell_type": "markdown",
   "metadata": {},
   "source": [
    "❓ Let's code the basic preprocessing pipeline described below. Save it under `preproc_baseline`.\n",
    "\n",
    "For categorical features\n",
    "- Simple-Impute with most frequent values\n",
    "- One-Hot-Encode features that have less than 7 unique values to start with\n",
    "- Drop all others features\n",
    "\n",
    "\n",
    "As for numerical features\n",
    "- Simple-Impute with strategy 'mean'\n",
    "- Min-Max Scale \n",
    "\n",
    "\n",
    "<details>\n",
    "    <summary>ℹ️ Click here for a pro tip</summary>\n",
    "\n",
    "If you are confident, you can try sklearn's shorter syntax `make_pipeline` or `make_column_transformer` instead of the longer syntax `Pipeline` or `ColumnTransformer` if you want to avoid giving names manually to every steps.\n",
    "</details>"
   ]
  },
  {
   "cell_type": "code",
   "execution_count": 196,
   "metadata": {
    "tags": [
     "challengify"
    ]
   },
   "outputs": [
    {
     "data": {
      "text/html": [
       "<style>#sk-4b071199-74f1-409f-b094-561e74486f2f {color: black;background-color: white;}#sk-4b071199-74f1-409f-b094-561e74486f2f pre{padding: 0;}#sk-4b071199-74f1-409f-b094-561e74486f2f div.sk-toggleable {background-color: white;}#sk-4b071199-74f1-409f-b094-561e74486f2f label.sk-toggleable__label {cursor: pointer;display: block;width: 100%;margin-bottom: 0;padding: 0.3em;box-sizing: border-box;text-align: center;}#sk-4b071199-74f1-409f-b094-561e74486f2f label.sk-toggleable__label-arrow:before {content: \"▸\";float: left;margin-right: 0.25em;color: #696969;}#sk-4b071199-74f1-409f-b094-561e74486f2f label.sk-toggleable__label-arrow:hover:before {color: black;}#sk-4b071199-74f1-409f-b094-561e74486f2f div.sk-estimator:hover label.sk-toggleable__label-arrow:before {color: black;}#sk-4b071199-74f1-409f-b094-561e74486f2f div.sk-toggleable__content {max-height: 0;max-width: 0;overflow: hidden;text-align: left;background-color: #f0f8ff;}#sk-4b071199-74f1-409f-b094-561e74486f2f div.sk-toggleable__content pre {margin: 0.2em;color: black;border-radius: 0.25em;background-color: #f0f8ff;}#sk-4b071199-74f1-409f-b094-561e74486f2f input.sk-toggleable__control:checked~div.sk-toggleable__content {max-height: 200px;max-width: 100%;overflow: auto;}#sk-4b071199-74f1-409f-b094-561e74486f2f input.sk-toggleable__control:checked~label.sk-toggleable__label-arrow:before {content: \"▾\";}#sk-4b071199-74f1-409f-b094-561e74486f2f div.sk-estimator input.sk-toggleable__control:checked~label.sk-toggleable__label {background-color: #d4ebff;}#sk-4b071199-74f1-409f-b094-561e74486f2f div.sk-label input.sk-toggleable__control:checked~label.sk-toggleable__label {background-color: #d4ebff;}#sk-4b071199-74f1-409f-b094-561e74486f2f input.sk-hidden--visually {border: 0;clip: rect(1px 1px 1px 1px);clip: rect(1px, 1px, 1px, 1px);height: 1px;margin: -1px;overflow: hidden;padding: 0;position: absolute;width: 1px;}#sk-4b071199-74f1-409f-b094-561e74486f2f div.sk-estimator {font-family: monospace;background-color: #f0f8ff;border: 1px dotted black;border-radius: 0.25em;box-sizing: border-box;margin-bottom: 0.5em;}#sk-4b071199-74f1-409f-b094-561e74486f2f div.sk-estimator:hover {background-color: #d4ebff;}#sk-4b071199-74f1-409f-b094-561e74486f2f div.sk-parallel-item::after {content: \"\";width: 100%;border-bottom: 1px solid gray;flex-grow: 1;}#sk-4b071199-74f1-409f-b094-561e74486f2f div.sk-label:hover label.sk-toggleable__label {background-color: #d4ebff;}#sk-4b071199-74f1-409f-b094-561e74486f2f div.sk-serial::before {content: \"\";position: absolute;border-left: 1px solid gray;box-sizing: border-box;top: 2em;bottom: 0;left: 50%;}#sk-4b071199-74f1-409f-b094-561e74486f2f div.sk-serial {display: flex;flex-direction: column;align-items: center;background-color: white;padding-right: 0.2em;padding-left: 0.2em;}#sk-4b071199-74f1-409f-b094-561e74486f2f div.sk-item {z-index: 1;}#sk-4b071199-74f1-409f-b094-561e74486f2f div.sk-parallel {display: flex;align-items: stretch;justify-content: center;background-color: white;}#sk-4b071199-74f1-409f-b094-561e74486f2f div.sk-parallel::before {content: \"\";position: absolute;border-left: 1px solid gray;box-sizing: border-box;top: 2em;bottom: 0;left: 50%;}#sk-4b071199-74f1-409f-b094-561e74486f2f div.sk-parallel-item {display: flex;flex-direction: column;position: relative;background-color: white;}#sk-4b071199-74f1-409f-b094-561e74486f2f div.sk-parallel-item:first-child::after {align-self: flex-end;width: 50%;}#sk-4b071199-74f1-409f-b094-561e74486f2f div.sk-parallel-item:last-child::after {align-self: flex-start;width: 50%;}#sk-4b071199-74f1-409f-b094-561e74486f2f div.sk-parallel-item:only-child::after {width: 0;}#sk-4b071199-74f1-409f-b094-561e74486f2f div.sk-dashed-wrapped {border: 1px dashed gray;margin: 0 0.4em 0.5em 0.4em;box-sizing: border-box;padding-bottom: 0.4em;background-color: white;position: relative;}#sk-4b071199-74f1-409f-b094-561e74486f2f div.sk-label label {font-family: monospace;font-weight: bold;background-color: white;display: inline-block;line-height: 1.2em;}#sk-4b071199-74f1-409f-b094-561e74486f2f div.sk-label-container {position: relative;z-index: 2;text-align: center;}#sk-4b071199-74f1-409f-b094-561e74486f2f div.sk-container {/* jupyter's `normalize.less` sets `[hidden] { display: none; }` but bootstrap.min.css set `[hidden] { display: none !important; }` so we also need the `!important` here to be able to override the default hidden behavior on the sphinx rendered scikit-learn.org. See: https://github.com/scikit-learn/scikit-learn/issues/21755 */display: inline-block !important;position: relative;}#sk-4b071199-74f1-409f-b094-561e74486f2f div.sk-text-repr-fallback {display: none;}</style><div id=\"sk-4b071199-74f1-409f-b094-561e74486f2f\" class=\"sk-top-container\"><div class=\"sk-text-repr-fallback\"><pre>ColumnTransformer(transformers=[(&#x27;num_tr&#x27;,\n",
       "                                 Pipeline(steps=[(&#x27;simpleimputer&#x27;,\n",
       "                                                  SimpleImputer()),\n",
       "                                                 (&#x27;minmaxscaler&#x27;,\n",
       "                                                  MinMaxScaler())]),\n",
       "                                 &lt;sklearn.compose._column_transformer.make_column_selector object at 0x1263c9ad0&gt;),\n",
       "                                (&#x27;cat_tr&#x27;,\n",
       "                                 Pipeline(steps=[(&#x27;simpleimputer&#x27;,\n",
       "                                                  SimpleImputer(strategy=&#x27;most_frequent&#x27;)),\n",
       "                                                 (&#x27;onehotencoder&#x27;,\n",
       "                                                  OneHotEncoder(handle_unknown=&#x27;ignore&#x27;,\n",
       "                                                                sparse...\n",
       "                                 [&#x27;MSZoning&#x27;, &#x27;Street&#x27;, &#x27;Alley&#x27;, &#x27;LotShape&#x27;,\n",
       "                                  &#x27;LandContour&#x27;, &#x27;Utilities&#x27;, &#x27;LotConfig&#x27;,\n",
       "                                  &#x27;LandSlope&#x27;, &#x27;BldgType&#x27;, &#x27;RoofStyle&#x27;,\n",
       "                                  &#x27;MasVnrType&#x27;, &#x27;ExterQual&#x27;, &#x27;ExterCond&#x27;,\n",
       "                                  &#x27;Foundation&#x27;, &#x27;BsmtQual&#x27;, &#x27;BsmtCond&#x27;,\n",
       "                                  &#x27;BsmtExposure&#x27;, &#x27;BsmtFinType1&#x27;,\n",
       "                                  &#x27;BsmtFinType2&#x27;, &#x27;Heating&#x27;, &#x27;HeatingQC&#x27;,\n",
       "                                  &#x27;CentralAir&#x27;, &#x27;Electrical&#x27;, &#x27;KitchenQual&#x27;,\n",
       "                                  &#x27;FireplaceQu&#x27;, &#x27;GarageType&#x27;, &#x27;GarageFinish&#x27;,\n",
       "                                  &#x27;GarageQual&#x27;, &#x27;GarageCond&#x27;, &#x27;PavedDrive&#x27;, ...])])</pre><b>Please rerun this cell to show the HTML repr or trust the notebook.</b></div><div class=\"sk-container\" hidden><div class=\"sk-item sk-dashed-wrapped\"><div class=\"sk-label-container\"><div class=\"sk-label sk-toggleable\"><input class=\"sk-toggleable__control sk-hidden--visually\" id=\"744a0a9c-7056-4ded-924a-8be99e9cefc5\" type=\"checkbox\" ><label for=\"744a0a9c-7056-4ded-924a-8be99e9cefc5\" class=\"sk-toggleable__label sk-toggleable__label-arrow\">ColumnTransformer</label><div class=\"sk-toggleable__content\"><pre>ColumnTransformer(transformers=[(&#x27;num_tr&#x27;,\n",
       "                                 Pipeline(steps=[(&#x27;simpleimputer&#x27;,\n",
       "                                                  SimpleImputer()),\n",
       "                                                 (&#x27;minmaxscaler&#x27;,\n",
       "                                                  MinMaxScaler())]),\n",
       "                                 &lt;sklearn.compose._column_transformer.make_column_selector object at 0x1263c9ad0&gt;),\n",
       "                                (&#x27;cat_tr&#x27;,\n",
       "                                 Pipeline(steps=[(&#x27;simpleimputer&#x27;,\n",
       "                                                  SimpleImputer(strategy=&#x27;most_frequent&#x27;)),\n",
       "                                                 (&#x27;onehotencoder&#x27;,\n",
       "                                                  OneHotEncoder(handle_unknown=&#x27;ignore&#x27;,\n",
       "                                                                sparse...\n",
       "                                 [&#x27;MSZoning&#x27;, &#x27;Street&#x27;, &#x27;Alley&#x27;, &#x27;LotShape&#x27;,\n",
       "                                  &#x27;LandContour&#x27;, &#x27;Utilities&#x27;, &#x27;LotConfig&#x27;,\n",
       "                                  &#x27;LandSlope&#x27;, &#x27;BldgType&#x27;, &#x27;RoofStyle&#x27;,\n",
       "                                  &#x27;MasVnrType&#x27;, &#x27;ExterQual&#x27;, &#x27;ExterCond&#x27;,\n",
       "                                  &#x27;Foundation&#x27;, &#x27;BsmtQual&#x27;, &#x27;BsmtCond&#x27;,\n",
       "                                  &#x27;BsmtExposure&#x27;, &#x27;BsmtFinType1&#x27;,\n",
       "                                  &#x27;BsmtFinType2&#x27;, &#x27;Heating&#x27;, &#x27;HeatingQC&#x27;,\n",
       "                                  &#x27;CentralAir&#x27;, &#x27;Electrical&#x27;, &#x27;KitchenQual&#x27;,\n",
       "                                  &#x27;FireplaceQu&#x27;, &#x27;GarageType&#x27;, &#x27;GarageFinish&#x27;,\n",
       "                                  &#x27;GarageQual&#x27;, &#x27;GarageCond&#x27;, &#x27;PavedDrive&#x27;, ...])])</pre></div></div></div><div class=\"sk-parallel\"><div class=\"sk-parallel-item\"><div class=\"sk-item\"><div class=\"sk-label-container\"><div class=\"sk-label sk-toggleable\"><input class=\"sk-toggleable__control sk-hidden--visually\" id=\"917258c8-9e76-48b6-9d77-d11a08e6b18f\" type=\"checkbox\" ><label for=\"917258c8-9e76-48b6-9d77-d11a08e6b18f\" class=\"sk-toggleable__label sk-toggleable__label-arrow\">num_tr</label><div class=\"sk-toggleable__content\"><pre>&lt;sklearn.compose._column_transformer.make_column_selector object at 0x1263c9ad0&gt;</pre></div></div></div><div class=\"sk-serial\"><div class=\"sk-item\"><div class=\"sk-serial\"><div class=\"sk-item\"><div class=\"sk-estimator sk-toggleable\"><input class=\"sk-toggleable__control sk-hidden--visually\" id=\"65f08d23-63d6-4d29-b09c-8c1482e46ff4\" type=\"checkbox\" ><label for=\"65f08d23-63d6-4d29-b09c-8c1482e46ff4\" class=\"sk-toggleable__label sk-toggleable__label-arrow\">SimpleImputer</label><div class=\"sk-toggleable__content\"><pre>SimpleImputer()</pre></div></div></div><div class=\"sk-item\"><div class=\"sk-estimator sk-toggleable\"><input class=\"sk-toggleable__control sk-hidden--visually\" id=\"2443da7d-46f2-4c17-bbfd-b8b612fb6dbf\" type=\"checkbox\" ><label for=\"2443da7d-46f2-4c17-bbfd-b8b612fb6dbf\" class=\"sk-toggleable__label sk-toggleable__label-arrow\">MinMaxScaler</label><div class=\"sk-toggleable__content\"><pre>MinMaxScaler()</pre></div></div></div></div></div></div></div></div><div class=\"sk-parallel-item\"><div class=\"sk-item\"><div class=\"sk-label-container\"><div class=\"sk-label sk-toggleable\"><input class=\"sk-toggleable__control sk-hidden--visually\" id=\"e74e7afa-a92b-412e-803d-4a4b1f140084\" type=\"checkbox\" ><label for=\"e74e7afa-a92b-412e-803d-4a4b1f140084\" class=\"sk-toggleable__label sk-toggleable__label-arrow\">cat_tr</label><div class=\"sk-toggleable__content\"><pre>[&#x27;MSZoning&#x27;, &#x27;Street&#x27;, &#x27;Alley&#x27;, &#x27;LotShape&#x27;, &#x27;LandContour&#x27;, &#x27;Utilities&#x27;, &#x27;LotConfig&#x27;, &#x27;LandSlope&#x27;, &#x27;BldgType&#x27;, &#x27;RoofStyle&#x27;, &#x27;MasVnrType&#x27;, &#x27;ExterQual&#x27;, &#x27;ExterCond&#x27;, &#x27;Foundation&#x27;, &#x27;BsmtQual&#x27;, &#x27;BsmtCond&#x27;, &#x27;BsmtExposure&#x27;, &#x27;BsmtFinType1&#x27;, &#x27;BsmtFinType2&#x27;, &#x27;Heating&#x27;, &#x27;HeatingQC&#x27;, &#x27;CentralAir&#x27;, &#x27;Electrical&#x27;, &#x27;KitchenQual&#x27;, &#x27;FireplaceQu&#x27;, &#x27;GarageType&#x27;, &#x27;GarageFinish&#x27;, &#x27;GarageQual&#x27;, &#x27;GarageCond&#x27;, &#x27;PavedDrive&#x27;, &#x27;PoolQC&#x27;, &#x27;Fence&#x27;, &#x27;MiscFeature&#x27;, &#x27;SaleCondition&#x27;]</pre></div></div></div><div class=\"sk-serial\"><div class=\"sk-item\"><div class=\"sk-serial\"><div class=\"sk-item\"><div class=\"sk-estimator sk-toggleable\"><input class=\"sk-toggleable__control sk-hidden--visually\" id=\"047421e0-6ab0-4f3a-8f86-2fe4d370a659\" type=\"checkbox\" ><label for=\"047421e0-6ab0-4f3a-8f86-2fe4d370a659\" class=\"sk-toggleable__label sk-toggleable__label-arrow\">SimpleImputer</label><div class=\"sk-toggleable__content\"><pre>SimpleImputer(strategy=&#x27;most_frequent&#x27;)</pre></div></div></div><div class=\"sk-item\"><div class=\"sk-estimator sk-toggleable\"><input class=\"sk-toggleable__control sk-hidden--visually\" id=\"f3af622e-ec6c-44d6-ba94-b63209eb3203\" type=\"checkbox\" ><label for=\"f3af622e-ec6c-44d6-ba94-b63209eb3203\" class=\"sk-toggleable__label sk-toggleable__label-arrow\">OneHotEncoder</label><div class=\"sk-toggleable__content\"><pre>OneHotEncoder(handle_unknown=&#x27;ignore&#x27;, sparse=&#x27;False&#x27;)</pre></div></div></div></div></div></div></div></div></div></div></div></div>"
      ],
      "text/plain": [
       "ColumnTransformer(transformers=[('num_tr',\n",
       "                                 Pipeline(steps=[('simpleimputer',\n",
       "                                                  SimpleImputer()),\n",
       "                                                 ('minmaxscaler',\n",
       "                                                  MinMaxScaler())]),\n",
       "                                 <sklearn.compose._column_transformer.make_column_selector object at 0x1263c9ad0>),\n",
       "                                ('cat_tr',\n",
       "                                 Pipeline(steps=[('simpleimputer',\n",
       "                                                  SimpleImputer(strategy='most_frequent')),\n",
       "                                                 ('onehotencoder',\n",
       "                                                  OneHotEncoder(handle_unknown='ignore',\n",
       "                                                                sparse...\n",
       "                                 ['MSZoning', 'Street', 'Alley', 'LotShape',\n",
       "                                  'LandContour', 'Utilities', 'LotConfig',\n",
       "                                  'LandSlope', 'BldgType', 'RoofStyle',\n",
       "                                  'MasVnrType', 'ExterQual', 'ExterCond',\n",
       "                                  'Foundation', 'BsmtQual', 'BsmtCond',\n",
       "                                  'BsmtExposure', 'BsmtFinType1',\n",
       "                                  'BsmtFinType2', 'Heating', 'HeatingQC',\n",
       "                                  'CentralAir', 'Electrical', 'KitchenQual',\n",
       "                                  'FireplaceQu', 'GarageType', 'GarageFinish',\n",
       "                                  'GarageQual', 'GarageCond', 'PavedDrive', ...])])"
      ]
     },
     "execution_count": 196,
     "metadata": {},
     "output_type": "execute_result"
    }
   ],
   "source": [
    "from sklearn.preprocessing import MinMaxScaler, StandardScaler\n",
    "from sklearn.impute import SimpleImputer\n",
    "from sklearn.pipeline import make_pipeline\n",
    "from sklearn.preprocessing import OneHotEncoder\n",
    "from sklearn.compose import ColumnTransformer, make_column_transformer, make_column_selector\n",
    "\n",
    "num_transformer = make_pipeline(SimpleImputer(strategy='mean'), MinMaxScaler())\n",
    "cat_transformer = make_pipeline(\n",
    "    SimpleImputer(strategy='most_frequent'),\n",
    "    OneHotEncoder(handle_unknown='ignore', sparse='False')\n",
    ")\n",
    "\n",
    "preprocessor = ColumnTransformer([\n",
    "    ('num_tr', num_transformer, make_column_selector(dtype_include=['float64', 'int64'])),\n",
    "    ('cat_tr', cat_transformer, feat_categorical_small)],\n",
    "    remainder='drop'\n",
    ")\n",
    "\n",
    "preprocessor"
   ]
  },
  {
   "cell_type": "code",
   "execution_count": 147,
   "metadata": {},
   "outputs": [
    {
     "data": {
      "text/plain": [
       "['MSZoning',\n",
       " 'Street',\n",
       " 'Alley',\n",
       " 'LotShape',\n",
       " 'LandContour',\n",
       " 'Utilities',\n",
       " 'LotConfig',\n",
       " 'LandSlope',\n",
       " 'BldgType',\n",
       " 'RoofStyle',\n",
       " 'MasVnrType',\n",
       " 'ExterQual',\n",
       " 'ExterCond',\n",
       " 'Foundation',\n",
       " 'BsmtQual',\n",
       " 'BsmtCond',\n",
       " 'BsmtExposure',\n",
       " 'BsmtFinType1',\n",
       " 'BsmtFinType2',\n",
       " 'Heating',\n",
       " 'HeatingQC',\n",
       " 'CentralAir',\n",
       " 'Electrical',\n",
       " 'KitchenQual',\n",
       " 'FireplaceQu',\n",
       " 'GarageType',\n",
       " 'GarageFinish',\n",
       " 'GarageQual',\n",
       " 'GarageCond',\n",
       " 'PavedDrive',\n",
       " 'PoolQC',\n",
       " 'Fence',\n",
       " 'MiscFeature',\n",
       " 'SaleCondition']"
      ]
     },
     "execution_count": 147,
     "metadata": {},
     "output_type": "execute_result"
    }
   ],
   "source": [
    "feat_categorical_small"
   ]
  },
  {
   "cell_type": "markdown",
   "metadata": {},
   "source": [
    "❓ Look at the **shape** of your preprocessed dataframe and save it to `shape_preproc_baseline` variable"
   ]
  },
  {
   "cell_type": "code",
   "execution_count": 148,
   "metadata": {
    "tags": [
     "challengify"
    ]
   },
   "outputs": [
    {
     "data": {
      "text/plain": [
       "(1460, 183)"
      ]
     },
     "execution_count": 148,
     "metadata": {},
     "output_type": "execute_result"
    }
   ],
   "source": [
    "preprocessor.fit_transform(X).shape"
   ]
  },
  {
   "cell_type": "markdown",
   "metadata": {},
   "source": [
    "🧪 Test your code below"
   ]
  },
  {
   "cell_type": "code",
   "execution_count": null,
   "metadata": {},
   "outputs": [],
   "source": [
    "from nbresult import ChallengeResult\n",
    "result = ChallengeResult('preproc_baseline',\n",
    "    shape=shape_preproc_baseline)\n",
    "result.write()\n",
    "print(result.check())"
   ]
  },
  {
   "cell_type": "markdown",
   "metadata": {},
   "source": [
    "#### b) Add estimator"
   ]
  },
  {
   "cell_type": "markdown",
   "metadata": {},
   "source": [
    "❓ Add a simple Decision Tree model to your `preproc_baseline` and store it to `pipe_baseline` variable."
   ]
  },
  {
   "cell_type": "code",
   "execution_count": 151,
   "metadata": {
    "tags": [
     "challengify"
    ]
   },
   "outputs": [
    {
     "data": {
      "text/html": [
       "<style>#sk-2f55f19a-f70b-47d0-aba8-8cf28c00374b {color: black;background-color: white;}#sk-2f55f19a-f70b-47d0-aba8-8cf28c00374b pre{padding: 0;}#sk-2f55f19a-f70b-47d0-aba8-8cf28c00374b div.sk-toggleable {background-color: white;}#sk-2f55f19a-f70b-47d0-aba8-8cf28c00374b label.sk-toggleable__label {cursor: pointer;display: block;width: 100%;margin-bottom: 0;padding: 0.3em;box-sizing: border-box;text-align: center;}#sk-2f55f19a-f70b-47d0-aba8-8cf28c00374b label.sk-toggleable__label-arrow:before {content: \"▸\";float: left;margin-right: 0.25em;color: #696969;}#sk-2f55f19a-f70b-47d0-aba8-8cf28c00374b label.sk-toggleable__label-arrow:hover:before {color: black;}#sk-2f55f19a-f70b-47d0-aba8-8cf28c00374b div.sk-estimator:hover label.sk-toggleable__label-arrow:before {color: black;}#sk-2f55f19a-f70b-47d0-aba8-8cf28c00374b div.sk-toggleable__content {max-height: 0;max-width: 0;overflow: hidden;text-align: left;background-color: #f0f8ff;}#sk-2f55f19a-f70b-47d0-aba8-8cf28c00374b div.sk-toggleable__content pre {margin: 0.2em;color: black;border-radius: 0.25em;background-color: #f0f8ff;}#sk-2f55f19a-f70b-47d0-aba8-8cf28c00374b input.sk-toggleable__control:checked~div.sk-toggleable__content {max-height: 200px;max-width: 100%;overflow: auto;}#sk-2f55f19a-f70b-47d0-aba8-8cf28c00374b input.sk-toggleable__control:checked~label.sk-toggleable__label-arrow:before {content: \"▾\";}#sk-2f55f19a-f70b-47d0-aba8-8cf28c00374b div.sk-estimator input.sk-toggleable__control:checked~label.sk-toggleable__label {background-color: #d4ebff;}#sk-2f55f19a-f70b-47d0-aba8-8cf28c00374b div.sk-label input.sk-toggleable__control:checked~label.sk-toggleable__label {background-color: #d4ebff;}#sk-2f55f19a-f70b-47d0-aba8-8cf28c00374b input.sk-hidden--visually {border: 0;clip: rect(1px 1px 1px 1px);clip: rect(1px, 1px, 1px, 1px);height: 1px;margin: -1px;overflow: hidden;padding: 0;position: absolute;width: 1px;}#sk-2f55f19a-f70b-47d0-aba8-8cf28c00374b div.sk-estimator {font-family: monospace;background-color: #f0f8ff;border: 1px dotted black;border-radius: 0.25em;box-sizing: border-box;margin-bottom: 0.5em;}#sk-2f55f19a-f70b-47d0-aba8-8cf28c00374b div.sk-estimator:hover {background-color: #d4ebff;}#sk-2f55f19a-f70b-47d0-aba8-8cf28c00374b div.sk-parallel-item::after {content: \"\";width: 100%;border-bottom: 1px solid gray;flex-grow: 1;}#sk-2f55f19a-f70b-47d0-aba8-8cf28c00374b div.sk-label:hover label.sk-toggleable__label {background-color: #d4ebff;}#sk-2f55f19a-f70b-47d0-aba8-8cf28c00374b div.sk-serial::before {content: \"\";position: absolute;border-left: 1px solid gray;box-sizing: border-box;top: 2em;bottom: 0;left: 50%;}#sk-2f55f19a-f70b-47d0-aba8-8cf28c00374b div.sk-serial {display: flex;flex-direction: column;align-items: center;background-color: white;padding-right: 0.2em;padding-left: 0.2em;}#sk-2f55f19a-f70b-47d0-aba8-8cf28c00374b div.sk-item {z-index: 1;}#sk-2f55f19a-f70b-47d0-aba8-8cf28c00374b div.sk-parallel {display: flex;align-items: stretch;justify-content: center;background-color: white;}#sk-2f55f19a-f70b-47d0-aba8-8cf28c00374b div.sk-parallel::before {content: \"\";position: absolute;border-left: 1px solid gray;box-sizing: border-box;top: 2em;bottom: 0;left: 50%;}#sk-2f55f19a-f70b-47d0-aba8-8cf28c00374b div.sk-parallel-item {display: flex;flex-direction: column;position: relative;background-color: white;}#sk-2f55f19a-f70b-47d0-aba8-8cf28c00374b div.sk-parallel-item:first-child::after {align-self: flex-end;width: 50%;}#sk-2f55f19a-f70b-47d0-aba8-8cf28c00374b div.sk-parallel-item:last-child::after {align-self: flex-start;width: 50%;}#sk-2f55f19a-f70b-47d0-aba8-8cf28c00374b div.sk-parallel-item:only-child::after {width: 0;}#sk-2f55f19a-f70b-47d0-aba8-8cf28c00374b div.sk-dashed-wrapped {border: 1px dashed gray;margin: 0 0.4em 0.5em 0.4em;box-sizing: border-box;padding-bottom: 0.4em;background-color: white;position: relative;}#sk-2f55f19a-f70b-47d0-aba8-8cf28c00374b div.sk-label label {font-family: monospace;font-weight: bold;background-color: white;display: inline-block;line-height: 1.2em;}#sk-2f55f19a-f70b-47d0-aba8-8cf28c00374b div.sk-label-container {position: relative;z-index: 2;text-align: center;}#sk-2f55f19a-f70b-47d0-aba8-8cf28c00374b div.sk-container {/* jupyter's `normalize.less` sets `[hidden] { display: none; }` but bootstrap.min.css set `[hidden] { display: none !important; }` so we also need the `!important` here to be able to override the default hidden behavior on the sphinx rendered scikit-learn.org. See: https://github.com/scikit-learn/scikit-learn/issues/21755 */display: inline-block !important;position: relative;}#sk-2f55f19a-f70b-47d0-aba8-8cf28c00374b div.sk-text-repr-fallback {display: none;}</style><div id=\"sk-2f55f19a-f70b-47d0-aba8-8cf28c00374b\" class=\"sk-top-container\"><div class=\"sk-text-repr-fallback\"><pre>Pipeline(steps=[(&#x27;columntransformer&#x27;,\n",
       "                 ColumnTransformer(transformers=[(&#x27;num_tr&#x27;,\n",
       "                                                  Pipeline(steps=[(&#x27;simpleimputer&#x27;,\n",
       "                                                                   SimpleImputer()),\n",
       "                                                                  (&#x27;minmaxscaler&#x27;,\n",
       "                                                                   MinMaxScaler())]),\n",
       "                                                  &lt;sklearn.compose._column_transformer.make_column_selector object at 0x125b2ea50&gt;),\n",
       "                                                 (&#x27;cat_tr&#x27;,\n",
       "                                                  Pipeline(steps=[(&#x27;simpleimputer&#x27;,\n",
       "                                                                   SimpleImputer(strategy=&#x27;most_frequent&#x27;)),\n",
       "                                                                  (&#x27;onehotencoder&#x27;,\n",
       "                                                                   OneHotE...\n",
       "                                                   &#x27;LotConfig&#x27;, &#x27;LandSlope&#x27;,\n",
       "                                                   &#x27;BldgType&#x27;, &#x27;RoofStyle&#x27;,\n",
       "                                                   &#x27;MasVnrType&#x27;, &#x27;ExterQual&#x27;,\n",
       "                                                   &#x27;ExterCond&#x27;, &#x27;Foundation&#x27;,\n",
       "                                                   &#x27;BsmtQual&#x27;, &#x27;BsmtCond&#x27;,\n",
       "                                                   &#x27;BsmtExposure&#x27;,\n",
       "                                                   &#x27;BsmtFinType1&#x27;,\n",
       "                                                   &#x27;BsmtFinType2&#x27;, &#x27;Heating&#x27;,\n",
       "                                                   &#x27;HeatingQC&#x27;, &#x27;CentralAir&#x27;,\n",
       "                                                   &#x27;Electrical&#x27;, &#x27;KitchenQual&#x27;,\n",
       "                                                   &#x27;FireplaceQu&#x27;, &#x27;GarageType&#x27;,\n",
       "                                                   &#x27;GarageFinish&#x27;, &#x27;GarageQual&#x27;,\n",
       "                                                   &#x27;GarageCond&#x27;, &#x27;PavedDrive&#x27;, ...])])),\n",
       "                (&#x27;decisiontreeregressor&#x27;, DecisionTreeRegressor())])</pre><b>Please rerun this cell to show the HTML repr or trust the notebook.</b></div><div class=\"sk-container\" hidden><div class=\"sk-item sk-dashed-wrapped\"><div class=\"sk-label-container\"><div class=\"sk-label sk-toggleable\"><input class=\"sk-toggleable__control sk-hidden--visually\" id=\"b974e870-38ec-40f1-a1d5-c31e78509777\" type=\"checkbox\" ><label for=\"b974e870-38ec-40f1-a1d5-c31e78509777\" class=\"sk-toggleable__label sk-toggleable__label-arrow\">Pipeline</label><div class=\"sk-toggleable__content\"><pre>Pipeline(steps=[(&#x27;columntransformer&#x27;,\n",
       "                 ColumnTransformer(transformers=[(&#x27;num_tr&#x27;,\n",
       "                                                  Pipeline(steps=[(&#x27;simpleimputer&#x27;,\n",
       "                                                                   SimpleImputer()),\n",
       "                                                                  (&#x27;minmaxscaler&#x27;,\n",
       "                                                                   MinMaxScaler())]),\n",
       "                                                  &lt;sklearn.compose._column_transformer.make_column_selector object at 0x125b2ea50&gt;),\n",
       "                                                 (&#x27;cat_tr&#x27;,\n",
       "                                                  Pipeline(steps=[(&#x27;simpleimputer&#x27;,\n",
       "                                                                   SimpleImputer(strategy=&#x27;most_frequent&#x27;)),\n",
       "                                                                  (&#x27;onehotencoder&#x27;,\n",
       "                                                                   OneHotE...\n",
       "                                                   &#x27;LotConfig&#x27;, &#x27;LandSlope&#x27;,\n",
       "                                                   &#x27;BldgType&#x27;, &#x27;RoofStyle&#x27;,\n",
       "                                                   &#x27;MasVnrType&#x27;, &#x27;ExterQual&#x27;,\n",
       "                                                   &#x27;ExterCond&#x27;, &#x27;Foundation&#x27;,\n",
       "                                                   &#x27;BsmtQual&#x27;, &#x27;BsmtCond&#x27;,\n",
       "                                                   &#x27;BsmtExposure&#x27;,\n",
       "                                                   &#x27;BsmtFinType1&#x27;,\n",
       "                                                   &#x27;BsmtFinType2&#x27;, &#x27;Heating&#x27;,\n",
       "                                                   &#x27;HeatingQC&#x27;, &#x27;CentralAir&#x27;,\n",
       "                                                   &#x27;Electrical&#x27;, &#x27;KitchenQual&#x27;,\n",
       "                                                   &#x27;FireplaceQu&#x27;, &#x27;GarageType&#x27;,\n",
       "                                                   &#x27;GarageFinish&#x27;, &#x27;GarageQual&#x27;,\n",
       "                                                   &#x27;GarageCond&#x27;, &#x27;PavedDrive&#x27;, ...])])),\n",
       "                (&#x27;decisiontreeregressor&#x27;, DecisionTreeRegressor())])</pre></div></div></div><div class=\"sk-serial\"><div class=\"sk-item sk-dashed-wrapped\"><div class=\"sk-label-container\"><div class=\"sk-label sk-toggleable\"><input class=\"sk-toggleable__control sk-hidden--visually\" id=\"26613463-6e4d-4b0b-b0d9-b4eb6b17ce19\" type=\"checkbox\" ><label for=\"26613463-6e4d-4b0b-b0d9-b4eb6b17ce19\" class=\"sk-toggleable__label sk-toggleable__label-arrow\">columntransformer: ColumnTransformer</label><div class=\"sk-toggleable__content\"><pre>ColumnTransformer(transformers=[(&#x27;num_tr&#x27;,\n",
       "                                 Pipeline(steps=[(&#x27;simpleimputer&#x27;,\n",
       "                                                  SimpleImputer()),\n",
       "                                                 (&#x27;minmaxscaler&#x27;,\n",
       "                                                  MinMaxScaler())]),\n",
       "                                 &lt;sklearn.compose._column_transformer.make_column_selector object at 0x125b2ea50&gt;),\n",
       "                                (&#x27;cat_tr&#x27;,\n",
       "                                 Pipeline(steps=[(&#x27;simpleimputer&#x27;,\n",
       "                                                  SimpleImputer(strategy=&#x27;most_frequent&#x27;)),\n",
       "                                                 (&#x27;onehotencoder&#x27;,\n",
       "                                                  OneHotEncoder(handle_unknown=&#x27;ignore&#x27;,\n",
       "                                                                sparse...\n",
       "                                 [&#x27;MSZoning&#x27;, &#x27;Street&#x27;, &#x27;Alley&#x27;, &#x27;LotShape&#x27;,\n",
       "                                  &#x27;LandContour&#x27;, &#x27;Utilities&#x27;, &#x27;LotConfig&#x27;,\n",
       "                                  &#x27;LandSlope&#x27;, &#x27;BldgType&#x27;, &#x27;RoofStyle&#x27;,\n",
       "                                  &#x27;MasVnrType&#x27;, &#x27;ExterQual&#x27;, &#x27;ExterCond&#x27;,\n",
       "                                  &#x27;Foundation&#x27;, &#x27;BsmtQual&#x27;, &#x27;BsmtCond&#x27;,\n",
       "                                  &#x27;BsmtExposure&#x27;, &#x27;BsmtFinType1&#x27;,\n",
       "                                  &#x27;BsmtFinType2&#x27;, &#x27;Heating&#x27;, &#x27;HeatingQC&#x27;,\n",
       "                                  &#x27;CentralAir&#x27;, &#x27;Electrical&#x27;, &#x27;KitchenQual&#x27;,\n",
       "                                  &#x27;FireplaceQu&#x27;, &#x27;GarageType&#x27;, &#x27;GarageFinish&#x27;,\n",
       "                                  &#x27;GarageQual&#x27;, &#x27;GarageCond&#x27;, &#x27;PavedDrive&#x27;, ...])])</pre></div></div></div><div class=\"sk-parallel\"><div class=\"sk-parallel-item\"><div class=\"sk-item\"><div class=\"sk-label-container\"><div class=\"sk-label sk-toggleable\"><input class=\"sk-toggleable__control sk-hidden--visually\" id=\"ed6dba83-03f6-4512-b7f1-5660ed481144\" type=\"checkbox\" ><label for=\"ed6dba83-03f6-4512-b7f1-5660ed481144\" class=\"sk-toggleable__label sk-toggleable__label-arrow\">num_tr</label><div class=\"sk-toggleable__content\"><pre>&lt;sklearn.compose._column_transformer.make_column_selector object at 0x125b2ea50&gt;</pre></div></div></div><div class=\"sk-serial\"><div class=\"sk-item\"><div class=\"sk-serial\"><div class=\"sk-item\"><div class=\"sk-estimator sk-toggleable\"><input class=\"sk-toggleable__control sk-hidden--visually\" id=\"ffd1aea7-caa9-4989-be17-228ecded7319\" type=\"checkbox\" ><label for=\"ffd1aea7-caa9-4989-be17-228ecded7319\" class=\"sk-toggleable__label sk-toggleable__label-arrow\">SimpleImputer</label><div class=\"sk-toggleable__content\"><pre>SimpleImputer()</pre></div></div></div><div class=\"sk-item\"><div class=\"sk-estimator sk-toggleable\"><input class=\"sk-toggleable__control sk-hidden--visually\" id=\"220fd62a-51d4-4379-80d4-e28302225b42\" type=\"checkbox\" ><label for=\"220fd62a-51d4-4379-80d4-e28302225b42\" class=\"sk-toggleable__label sk-toggleable__label-arrow\">MinMaxScaler</label><div class=\"sk-toggleable__content\"><pre>MinMaxScaler()</pre></div></div></div></div></div></div></div></div><div class=\"sk-parallel-item\"><div class=\"sk-item\"><div class=\"sk-label-container\"><div class=\"sk-label sk-toggleable\"><input class=\"sk-toggleable__control sk-hidden--visually\" id=\"e0537700-1f35-4520-b118-ef2bb579aecd\" type=\"checkbox\" ><label for=\"e0537700-1f35-4520-b118-ef2bb579aecd\" class=\"sk-toggleable__label sk-toggleable__label-arrow\">cat_tr</label><div class=\"sk-toggleable__content\"><pre>[&#x27;MSZoning&#x27;, &#x27;Street&#x27;, &#x27;Alley&#x27;, &#x27;LotShape&#x27;, &#x27;LandContour&#x27;, &#x27;Utilities&#x27;, &#x27;LotConfig&#x27;, &#x27;LandSlope&#x27;, &#x27;BldgType&#x27;, &#x27;RoofStyle&#x27;, &#x27;MasVnrType&#x27;, &#x27;ExterQual&#x27;, &#x27;ExterCond&#x27;, &#x27;Foundation&#x27;, &#x27;BsmtQual&#x27;, &#x27;BsmtCond&#x27;, &#x27;BsmtExposure&#x27;, &#x27;BsmtFinType1&#x27;, &#x27;BsmtFinType2&#x27;, &#x27;Heating&#x27;, &#x27;HeatingQC&#x27;, &#x27;CentralAir&#x27;, &#x27;Electrical&#x27;, &#x27;KitchenQual&#x27;, &#x27;FireplaceQu&#x27;, &#x27;GarageType&#x27;, &#x27;GarageFinish&#x27;, &#x27;GarageQual&#x27;, &#x27;GarageCond&#x27;, &#x27;PavedDrive&#x27;, &#x27;PoolQC&#x27;, &#x27;Fence&#x27;, &#x27;MiscFeature&#x27;, &#x27;SaleCondition&#x27;]</pre></div></div></div><div class=\"sk-serial\"><div class=\"sk-item\"><div class=\"sk-serial\"><div class=\"sk-item\"><div class=\"sk-estimator sk-toggleable\"><input class=\"sk-toggleable__control sk-hidden--visually\" id=\"833c4f2a-7897-4f8a-b5ab-e1652512962f\" type=\"checkbox\" ><label for=\"833c4f2a-7897-4f8a-b5ab-e1652512962f\" class=\"sk-toggleable__label sk-toggleable__label-arrow\">SimpleImputer</label><div class=\"sk-toggleable__content\"><pre>SimpleImputer(strategy=&#x27;most_frequent&#x27;)</pre></div></div></div><div class=\"sk-item\"><div class=\"sk-estimator sk-toggleable\"><input class=\"sk-toggleable__control sk-hidden--visually\" id=\"4107d435-17a2-4c23-a1fc-3097ca55f85c\" type=\"checkbox\" ><label for=\"4107d435-17a2-4c23-a1fc-3097ca55f85c\" class=\"sk-toggleable__label sk-toggleable__label-arrow\">OneHotEncoder</label><div class=\"sk-toggleable__content\"><pre>OneHotEncoder(handle_unknown=&#x27;ignore&#x27;, sparse=&#x27;False&#x27;)</pre></div></div></div></div></div></div></div></div></div></div><div class=\"sk-item\"><div class=\"sk-estimator sk-toggleable\"><input class=\"sk-toggleable__control sk-hidden--visually\" id=\"204c83e9-6adf-405b-8236-7762eff86c09\" type=\"checkbox\" ><label for=\"204c83e9-6adf-405b-8236-7762eff86c09\" class=\"sk-toggleable__label sk-toggleable__label-arrow\">DecisionTreeRegressor</label><div class=\"sk-toggleable__content\"><pre>DecisionTreeRegressor()</pre></div></div></div></div></div></div></div>"
      ],
      "text/plain": [
       "Pipeline(steps=[('columntransformer',\n",
       "                 ColumnTransformer(transformers=[('num_tr',\n",
       "                                                  Pipeline(steps=[('simpleimputer',\n",
       "                                                                   SimpleImputer()),\n",
       "                                                                  ('minmaxscaler',\n",
       "                                                                   MinMaxScaler())]),\n",
       "                                                  <sklearn.compose._column_transformer.make_column_selector object at 0x125b2ea50>),\n",
       "                                                 ('cat_tr',\n",
       "                                                  Pipeline(steps=[('simpleimputer',\n",
       "                                                                   SimpleImputer(strategy='most_frequent')),\n",
       "                                                                  ('onehotencoder',\n",
       "                                                                   OneHotE...\n",
       "                                                   'LotConfig', 'LandSlope',\n",
       "                                                   'BldgType', 'RoofStyle',\n",
       "                                                   'MasVnrType', 'ExterQual',\n",
       "                                                   'ExterCond', 'Foundation',\n",
       "                                                   'BsmtQual', 'BsmtCond',\n",
       "                                                   'BsmtExposure',\n",
       "                                                   'BsmtFinType1',\n",
       "                                                   'BsmtFinType2', 'Heating',\n",
       "                                                   'HeatingQC', 'CentralAir',\n",
       "                                                   'Electrical', 'KitchenQual',\n",
       "                                                   'FireplaceQu', 'GarageType',\n",
       "                                                   'GarageFinish', 'GarageQual',\n",
       "                                                   'GarageCond', 'PavedDrive', ...])])),\n",
       "                ('decisiontreeregressor', DecisionTreeRegressor())])"
      ]
     },
     "execution_count": 151,
     "metadata": {},
     "output_type": "execute_result"
    }
   ],
   "source": [
    "from sklearn.tree import DecisionTreeRegressor\n",
    "pipe_baseline = make_pipeline(preprocessor, DecisionTreeRegressor())\n",
    "pipe_baseline"
   ]
  },
  {
   "cell_type": "code",
   "execution_count": 155,
   "metadata": {},
   "outputs": [],
   "source": [
    "from sklearn.metrics import mean_squared_log_error\n",
    "from sklearn.metrics import make_scorer\n",
    "def root_mean_squared_log_error(y_true, y_pred):\n",
    "    t = np.array(y_true)\n",
    "    p = np.array(y_pred)\n",
    "    log_error = np.log(1+t) - np.log(1+p)\n",
    "    return ((log_error**2).mean())**0.5\n",
    "\n",
    "# This is our metric to minimize\n",
    "rmsle = make_scorer(root_mean_squared_log_error)\n",
    "\n",
    "# This is our score to maximize\n",
    "rmsle_neg = make_scorer(lambda y_true, y_pred: -1 * root_mean_squared_log_error(y_true, y_pred))"
   ]
  },
  {
   "cell_type": "code",
   "execution_count": 158,
   "metadata": {},
   "outputs": [
    {
     "data": {
      "text/plain": [
       "0.2111631149761653"
      ]
     },
     "execution_count": 158,
     "metadata": {},
     "output_type": "execute_result"
    }
   ],
   "source": [
    "from sklearn.model_selection import cross_val_score\n",
    "score_baseline = cross_val_score(pipe_baseline, X, y, cv=5, scoring=rmsle).mean()\n",
    "score_baseline"
   ]
  },
  {
   "cell_type": "markdown",
   "metadata": {},
   "source": [
    "#### c) Cross-Validate"
   ]
  },
  {
   "cell_type": "markdown",
   "metadata": {},
   "source": [
    "❓ Read the Kaggle [contest evaluation rules](https://www.kaggle.com/c/house-prices-advanced-regression-techniques/overview/evaluation) \n",
    "- Which performance metric do you need? Is it readily available in sklearn?\n",
    "- We will need to create our custom `sklearn.metrics.scorer` object so as to pass to any cross-validation or grid search as below\n",
    "\n",
    "\n",
    "👉 Create a scorer called `rmsle` using [`make_scorer`](https://scikit-learn.org/stable/modules/generated/sklearn.metrics.make_scorer.html) that can be passed as a value for the `scoring` kwarg as below:\n",
    "```python\n",
    "cross_val_score(pipe_baseline, X, y, cv=5, scoring=rmsle)\n",
    "```\n",
    "👉 Create also the negative version `rmsle_neg` which is best when _maximized_. This will come handy later as `GridSearchCV` always tries to _maximize_ a score\n",
    "```python\n",
    "GridSearchCV(pipe_baseline, param_grid=..., cv=5, scoring=rmsle_neg)\n",
    "```"
   ]
  },
  {
   "cell_type": "markdown",
   "metadata": {},
   "source": [
    "$$\\text{RMSLE}(y, \\hat{y}) = \\sqrt{\\frac{1}{n_\\text{samples}} \\sum_{i=0}^{n_\\text{samples} - 1} (\\log_e (1 + y_i) - \\log_e (1 + \\hat{y}_i) )^2.}$$"
   ]
  },
  {
   "cell_type": "code",
   "execution_count": null,
   "metadata": {
    "tags": [
     "challengify"
    ]
   },
   "outputs": [],
   "source": [
    "# YOUR CODE HERE"
   ]
  },
  {
   "cell_type": "markdown",
   "metadata": {},
   "source": [
    "❓5-fold cross-validate your `pipe_baseline` using this metric to get a first glance at your baseline performance.    \n",
    "\n",
    "Store your mean score as `score_baseline`"
   ]
  },
  {
   "cell_type": "code",
   "execution_count": null,
   "metadata": {
    "tags": [
     "challengify"
    ]
   },
   "outputs": [],
   "source": []
  },
  {
   "cell_type": "markdown",
   "metadata": {},
   "source": [
    "#### d) Predict baseline"
   ]
  },
  {
   "cell_type": "markdown",
   "metadata": {},
   "source": [
    "❓ Predict `y_pred_baseline` from the Kaggle `test.csv` dataset you stored in the `data` folder."
   ]
  },
  {
   "cell_type": "code",
   "execution_count": 162,
   "metadata": {
    "tags": [
     "challengify"
    ]
   },
   "outputs": [
    {
     "data": {
      "text/plain": [
       "array([129000., 155000., 192000., ..., 139000., 103200., 192000.])"
      ]
     },
     "execution_count": 162,
     "metadata": {},
     "output_type": "execute_result"
    }
   ],
   "source": [
    "X_test = pd.read_csv('data/test.csv')\n",
    "y_test = pipe_baseline.predict(X_test)\n",
    "y_test"
   ]
  },
  {
   "cell_type": "markdown",
   "metadata": {},
   "source": [
    "❓ Finally, store your CSV ready to be submitted as `submission_baseline.csv` in the `data` folder. **Carefully read** the Kaggle required format and test it below (you don't need to submit this baseline online for now)."
   ]
  },
  {
   "cell_type": "code",
   "execution_count": 254,
   "metadata": {
    "tags": [
     "challengify"
    ]
   },
   "outputs": [],
   "source": [
    "submission = pd.read_csv('data/sample_submission.csv')"
   ]
  },
  {
   "cell_type": "code",
   "execution_count": 255,
   "metadata": {},
   "outputs": [],
   "source": [
    "submission['SalePrice'] = pipe_stacking.predict(X_test)"
   ]
  },
  {
   "cell_type": "code",
   "execution_count": 256,
   "metadata": {},
   "outputs": [],
   "source": [
    "submission.to_csv('data/submission_baseline.csv', index=False)"
   ]
  },
  {
   "cell_type": "markdown",
   "metadata": {},
   "source": [
    "🧪 Test your code"
   ]
  },
  {
   "cell_type": "code",
   "execution_count": 171,
   "metadata": {},
   "outputs": [
    {
     "name": "stdout",
     "output_type": "stream",
     "text": [
      "\n"
     ]
    }
   ],
   "source": [
    "from nbresult import ChallengeResult\n",
    "tmp = pd.read_csv(\"data/submission_baseline.csv\")\n",
    "result = ChallengeResult('submission_baseline',\n",
    "    score_baseline = score_baseline,\n",
    "    submission_shape = tmp.shape,\n",
    "    submission_columns = list(tmp.columns),\n",
    "    submission_dtypes = str(list(tmp.dtypes)),\n",
    ")\n",
    "result.write()\n",
    "print(result.check())"
   ]
  },
  {
   "cell_type": "code",
   "execution_count": 176,
   "metadata": {},
   "outputs": [
    {
     "data": {
      "text/plain": [
       "Id\n",
       "1       208500\n",
       "2       181500\n",
       "3       223500\n",
       "4       140000\n",
       "5       250000\n",
       "         ...  \n",
       "1456    175000\n",
       "1457    210000\n",
       "1458    266500\n",
       "1459    142125\n",
       "1460    147500\n",
       "Name: SalePrice, Length: 1460, dtype: int64"
      ]
     },
     "execution_count": 176,
     "metadata": {},
     "output_type": "execute_result"
    }
   ],
   "source": [
    "y"
   ]
  },
  {
   "cell_type": "code",
   "execution_count": 177,
   "metadata": {},
   "outputs": [
    {
     "data": {
      "text/html": [
       "<style>#sk-9b018fca-0659-4f5c-84fe-af90400eb95e {color: black;background-color: white;}#sk-9b018fca-0659-4f5c-84fe-af90400eb95e pre{padding: 0;}#sk-9b018fca-0659-4f5c-84fe-af90400eb95e div.sk-toggleable {background-color: white;}#sk-9b018fca-0659-4f5c-84fe-af90400eb95e label.sk-toggleable__label {cursor: pointer;display: block;width: 100%;margin-bottom: 0;padding: 0.3em;box-sizing: border-box;text-align: center;}#sk-9b018fca-0659-4f5c-84fe-af90400eb95e label.sk-toggleable__label-arrow:before {content: \"▸\";float: left;margin-right: 0.25em;color: #696969;}#sk-9b018fca-0659-4f5c-84fe-af90400eb95e label.sk-toggleable__label-arrow:hover:before {color: black;}#sk-9b018fca-0659-4f5c-84fe-af90400eb95e div.sk-estimator:hover label.sk-toggleable__label-arrow:before {color: black;}#sk-9b018fca-0659-4f5c-84fe-af90400eb95e div.sk-toggleable__content {max-height: 0;max-width: 0;overflow: hidden;text-align: left;background-color: #f0f8ff;}#sk-9b018fca-0659-4f5c-84fe-af90400eb95e div.sk-toggleable__content pre {margin: 0.2em;color: black;border-radius: 0.25em;background-color: #f0f8ff;}#sk-9b018fca-0659-4f5c-84fe-af90400eb95e input.sk-toggleable__control:checked~div.sk-toggleable__content {max-height: 200px;max-width: 100%;overflow: auto;}#sk-9b018fca-0659-4f5c-84fe-af90400eb95e input.sk-toggleable__control:checked~label.sk-toggleable__label-arrow:before {content: \"▾\";}#sk-9b018fca-0659-4f5c-84fe-af90400eb95e div.sk-estimator input.sk-toggleable__control:checked~label.sk-toggleable__label {background-color: #d4ebff;}#sk-9b018fca-0659-4f5c-84fe-af90400eb95e div.sk-label input.sk-toggleable__control:checked~label.sk-toggleable__label {background-color: #d4ebff;}#sk-9b018fca-0659-4f5c-84fe-af90400eb95e input.sk-hidden--visually {border: 0;clip: rect(1px 1px 1px 1px);clip: rect(1px, 1px, 1px, 1px);height: 1px;margin: -1px;overflow: hidden;padding: 0;position: absolute;width: 1px;}#sk-9b018fca-0659-4f5c-84fe-af90400eb95e div.sk-estimator {font-family: monospace;background-color: #f0f8ff;border: 1px dotted black;border-radius: 0.25em;box-sizing: border-box;margin-bottom: 0.5em;}#sk-9b018fca-0659-4f5c-84fe-af90400eb95e div.sk-estimator:hover {background-color: #d4ebff;}#sk-9b018fca-0659-4f5c-84fe-af90400eb95e div.sk-parallel-item::after {content: \"\";width: 100%;border-bottom: 1px solid gray;flex-grow: 1;}#sk-9b018fca-0659-4f5c-84fe-af90400eb95e div.sk-label:hover label.sk-toggleable__label {background-color: #d4ebff;}#sk-9b018fca-0659-4f5c-84fe-af90400eb95e div.sk-serial::before {content: \"\";position: absolute;border-left: 1px solid gray;box-sizing: border-box;top: 2em;bottom: 0;left: 50%;}#sk-9b018fca-0659-4f5c-84fe-af90400eb95e div.sk-serial {display: flex;flex-direction: column;align-items: center;background-color: white;padding-right: 0.2em;padding-left: 0.2em;}#sk-9b018fca-0659-4f5c-84fe-af90400eb95e div.sk-item {z-index: 1;}#sk-9b018fca-0659-4f5c-84fe-af90400eb95e div.sk-parallel {display: flex;align-items: stretch;justify-content: center;background-color: white;}#sk-9b018fca-0659-4f5c-84fe-af90400eb95e div.sk-parallel::before {content: \"\";position: absolute;border-left: 1px solid gray;box-sizing: border-box;top: 2em;bottom: 0;left: 50%;}#sk-9b018fca-0659-4f5c-84fe-af90400eb95e div.sk-parallel-item {display: flex;flex-direction: column;position: relative;background-color: white;}#sk-9b018fca-0659-4f5c-84fe-af90400eb95e div.sk-parallel-item:first-child::after {align-self: flex-end;width: 50%;}#sk-9b018fca-0659-4f5c-84fe-af90400eb95e div.sk-parallel-item:last-child::after {align-self: flex-start;width: 50%;}#sk-9b018fca-0659-4f5c-84fe-af90400eb95e div.sk-parallel-item:only-child::after {width: 0;}#sk-9b018fca-0659-4f5c-84fe-af90400eb95e div.sk-dashed-wrapped {border: 1px dashed gray;margin: 0 0.4em 0.5em 0.4em;box-sizing: border-box;padding-bottom: 0.4em;background-color: white;position: relative;}#sk-9b018fca-0659-4f5c-84fe-af90400eb95e div.sk-label label {font-family: monospace;font-weight: bold;background-color: white;display: inline-block;line-height: 1.2em;}#sk-9b018fca-0659-4f5c-84fe-af90400eb95e div.sk-label-container {position: relative;z-index: 2;text-align: center;}#sk-9b018fca-0659-4f5c-84fe-af90400eb95e div.sk-container {/* jupyter's `normalize.less` sets `[hidden] { display: none; }` but bootstrap.min.css set `[hidden] { display: none !important; }` so we also need the `!important` here to be able to override the default hidden behavior on the sphinx rendered scikit-learn.org. See: https://github.com/scikit-learn/scikit-learn/issues/21755 */display: inline-block !important;position: relative;}#sk-9b018fca-0659-4f5c-84fe-af90400eb95e div.sk-text-repr-fallback {display: none;}</style><div id=\"sk-9b018fca-0659-4f5c-84fe-af90400eb95e\" class=\"sk-top-container\"><div class=\"sk-text-repr-fallback\"><pre>Pipeline(steps=[(&#x27;columntransformer&#x27;,\n",
       "                 ColumnTransformer(transformers=[(&#x27;num_tr&#x27;,\n",
       "                                                  Pipeline(steps=[(&#x27;simpleimputer&#x27;,\n",
       "                                                                   SimpleImputer()),\n",
       "                                                                  (&#x27;minmaxscaler&#x27;,\n",
       "                                                                   MinMaxScaler())]),\n",
       "                                                  &lt;sklearn.compose._column_transformer.make_column_selector object at 0x125b2ea50&gt;),\n",
       "                                                 (&#x27;cat_tr&#x27;,\n",
       "                                                  Pipeline(steps=[(&#x27;simpleimputer&#x27;,\n",
       "                                                                   SimpleImputer(strategy=&#x27;most_frequent&#x27;)),\n",
       "                                                                  (&#x27;onehotencoder&#x27;,\n",
       "                                                                   OneHotE...\n",
       "                                                   &#x27;LotConfig&#x27;, &#x27;LandSlope&#x27;,\n",
       "                                                   &#x27;BldgType&#x27;, &#x27;RoofStyle&#x27;,\n",
       "                                                   &#x27;MasVnrType&#x27;, &#x27;ExterQual&#x27;,\n",
       "                                                   &#x27;ExterCond&#x27;, &#x27;Foundation&#x27;,\n",
       "                                                   &#x27;BsmtQual&#x27;, &#x27;BsmtCond&#x27;,\n",
       "                                                   &#x27;BsmtExposure&#x27;,\n",
       "                                                   &#x27;BsmtFinType1&#x27;,\n",
       "                                                   &#x27;BsmtFinType2&#x27;, &#x27;Heating&#x27;,\n",
       "                                                   &#x27;HeatingQC&#x27;, &#x27;CentralAir&#x27;,\n",
       "                                                   &#x27;Electrical&#x27;, &#x27;KitchenQual&#x27;,\n",
       "                                                   &#x27;FireplaceQu&#x27;, &#x27;GarageType&#x27;,\n",
       "                                                   &#x27;GarageFinish&#x27;, &#x27;GarageQual&#x27;,\n",
       "                                                   &#x27;GarageCond&#x27;, &#x27;PavedDrive&#x27;, ...])])),\n",
       "                (&#x27;randomforestregressor&#x27;, RandomForestRegressor())])</pre><b>Please rerun this cell to show the HTML repr or trust the notebook.</b></div><div class=\"sk-container\" hidden><div class=\"sk-item sk-dashed-wrapped\"><div class=\"sk-label-container\"><div class=\"sk-label sk-toggleable\"><input class=\"sk-toggleable__control sk-hidden--visually\" id=\"f88897fd-7ca7-4ab2-9bbe-7d0b7240cbb6\" type=\"checkbox\" ><label for=\"f88897fd-7ca7-4ab2-9bbe-7d0b7240cbb6\" class=\"sk-toggleable__label sk-toggleable__label-arrow\">Pipeline</label><div class=\"sk-toggleable__content\"><pre>Pipeline(steps=[(&#x27;columntransformer&#x27;,\n",
       "                 ColumnTransformer(transformers=[(&#x27;num_tr&#x27;,\n",
       "                                                  Pipeline(steps=[(&#x27;simpleimputer&#x27;,\n",
       "                                                                   SimpleImputer()),\n",
       "                                                                  (&#x27;minmaxscaler&#x27;,\n",
       "                                                                   MinMaxScaler())]),\n",
       "                                                  &lt;sklearn.compose._column_transformer.make_column_selector object at 0x125b2ea50&gt;),\n",
       "                                                 (&#x27;cat_tr&#x27;,\n",
       "                                                  Pipeline(steps=[(&#x27;simpleimputer&#x27;,\n",
       "                                                                   SimpleImputer(strategy=&#x27;most_frequent&#x27;)),\n",
       "                                                                  (&#x27;onehotencoder&#x27;,\n",
       "                                                                   OneHotE...\n",
       "                                                   &#x27;LotConfig&#x27;, &#x27;LandSlope&#x27;,\n",
       "                                                   &#x27;BldgType&#x27;, &#x27;RoofStyle&#x27;,\n",
       "                                                   &#x27;MasVnrType&#x27;, &#x27;ExterQual&#x27;,\n",
       "                                                   &#x27;ExterCond&#x27;, &#x27;Foundation&#x27;,\n",
       "                                                   &#x27;BsmtQual&#x27;, &#x27;BsmtCond&#x27;,\n",
       "                                                   &#x27;BsmtExposure&#x27;,\n",
       "                                                   &#x27;BsmtFinType1&#x27;,\n",
       "                                                   &#x27;BsmtFinType2&#x27;, &#x27;Heating&#x27;,\n",
       "                                                   &#x27;HeatingQC&#x27;, &#x27;CentralAir&#x27;,\n",
       "                                                   &#x27;Electrical&#x27;, &#x27;KitchenQual&#x27;,\n",
       "                                                   &#x27;FireplaceQu&#x27;, &#x27;GarageType&#x27;,\n",
       "                                                   &#x27;GarageFinish&#x27;, &#x27;GarageQual&#x27;,\n",
       "                                                   &#x27;GarageCond&#x27;, &#x27;PavedDrive&#x27;, ...])])),\n",
       "                (&#x27;randomforestregressor&#x27;, RandomForestRegressor())])</pre></div></div></div><div class=\"sk-serial\"><div class=\"sk-item sk-dashed-wrapped\"><div class=\"sk-label-container\"><div class=\"sk-label sk-toggleable\"><input class=\"sk-toggleable__control sk-hidden--visually\" id=\"48ca99cc-9cb3-4333-886d-a6af2190d008\" type=\"checkbox\" ><label for=\"48ca99cc-9cb3-4333-886d-a6af2190d008\" class=\"sk-toggleable__label sk-toggleable__label-arrow\">columntransformer: ColumnTransformer</label><div class=\"sk-toggleable__content\"><pre>ColumnTransformer(transformers=[(&#x27;num_tr&#x27;,\n",
       "                                 Pipeline(steps=[(&#x27;simpleimputer&#x27;,\n",
       "                                                  SimpleImputer()),\n",
       "                                                 (&#x27;minmaxscaler&#x27;,\n",
       "                                                  MinMaxScaler())]),\n",
       "                                 &lt;sklearn.compose._column_transformer.make_column_selector object at 0x125b2ea50&gt;),\n",
       "                                (&#x27;cat_tr&#x27;,\n",
       "                                 Pipeline(steps=[(&#x27;simpleimputer&#x27;,\n",
       "                                                  SimpleImputer(strategy=&#x27;most_frequent&#x27;)),\n",
       "                                                 (&#x27;onehotencoder&#x27;,\n",
       "                                                  OneHotEncoder(handle_unknown=&#x27;ignore&#x27;,\n",
       "                                                                sparse...\n",
       "                                 [&#x27;MSZoning&#x27;, &#x27;Street&#x27;, &#x27;Alley&#x27;, &#x27;LotShape&#x27;,\n",
       "                                  &#x27;LandContour&#x27;, &#x27;Utilities&#x27;, &#x27;LotConfig&#x27;,\n",
       "                                  &#x27;LandSlope&#x27;, &#x27;BldgType&#x27;, &#x27;RoofStyle&#x27;,\n",
       "                                  &#x27;MasVnrType&#x27;, &#x27;ExterQual&#x27;, &#x27;ExterCond&#x27;,\n",
       "                                  &#x27;Foundation&#x27;, &#x27;BsmtQual&#x27;, &#x27;BsmtCond&#x27;,\n",
       "                                  &#x27;BsmtExposure&#x27;, &#x27;BsmtFinType1&#x27;,\n",
       "                                  &#x27;BsmtFinType2&#x27;, &#x27;Heating&#x27;, &#x27;HeatingQC&#x27;,\n",
       "                                  &#x27;CentralAir&#x27;, &#x27;Electrical&#x27;, &#x27;KitchenQual&#x27;,\n",
       "                                  &#x27;FireplaceQu&#x27;, &#x27;GarageType&#x27;, &#x27;GarageFinish&#x27;,\n",
       "                                  &#x27;GarageQual&#x27;, &#x27;GarageCond&#x27;, &#x27;PavedDrive&#x27;, ...])])</pre></div></div></div><div class=\"sk-parallel\"><div class=\"sk-parallel-item\"><div class=\"sk-item\"><div class=\"sk-label-container\"><div class=\"sk-label sk-toggleable\"><input class=\"sk-toggleable__control sk-hidden--visually\" id=\"dfc6ede4-3054-451d-a628-7ac48cd9274b\" type=\"checkbox\" ><label for=\"dfc6ede4-3054-451d-a628-7ac48cd9274b\" class=\"sk-toggleable__label sk-toggleable__label-arrow\">num_tr</label><div class=\"sk-toggleable__content\"><pre>&lt;sklearn.compose._column_transformer.make_column_selector object at 0x125b2ea50&gt;</pre></div></div></div><div class=\"sk-serial\"><div class=\"sk-item\"><div class=\"sk-serial\"><div class=\"sk-item\"><div class=\"sk-estimator sk-toggleable\"><input class=\"sk-toggleable__control sk-hidden--visually\" id=\"66e59511-7d67-4df5-bfed-f8bd7f8c30dc\" type=\"checkbox\" ><label for=\"66e59511-7d67-4df5-bfed-f8bd7f8c30dc\" class=\"sk-toggleable__label sk-toggleable__label-arrow\">SimpleImputer</label><div class=\"sk-toggleable__content\"><pre>SimpleImputer()</pre></div></div></div><div class=\"sk-item\"><div class=\"sk-estimator sk-toggleable\"><input class=\"sk-toggleable__control sk-hidden--visually\" id=\"451bf4e5-154c-4b48-8f8f-d78454fd4c0c\" type=\"checkbox\" ><label for=\"451bf4e5-154c-4b48-8f8f-d78454fd4c0c\" class=\"sk-toggleable__label sk-toggleable__label-arrow\">MinMaxScaler</label><div class=\"sk-toggleable__content\"><pre>MinMaxScaler()</pre></div></div></div></div></div></div></div></div><div class=\"sk-parallel-item\"><div class=\"sk-item\"><div class=\"sk-label-container\"><div class=\"sk-label sk-toggleable\"><input class=\"sk-toggleable__control sk-hidden--visually\" id=\"dec9f381-c68f-4848-9e7b-d41ded385735\" type=\"checkbox\" ><label for=\"dec9f381-c68f-4848-9e7b-d41ded385735\" class=\"sk-toggleable__label sk-toggleable__label-arrow\">cat_tr</label><div class=\"sk-toggleable__content\"><pre>[&#x27;MSZoning&#x27;, &#x27;Street&#x27;, &#x27;Alley&#x27;, &#x27;LotShape&#x27;, &#x27;LandContour&#x27;, &#x27;Utilities&#x27;, &#x27;LotConfig&#x27;, &#x27;LandSlope&#x27;, &#x27;BldgType&#x27;, &#x27;RoofStyle&#x27;, &#x27;MasVnrType&#x27;, &#x27;ExterQual&#x27;, &#x27;ExterCond&#x27;, &#x27;Foundation&#x27;, &#x27;BsmtQual&#x27;, &#x27;BsmtCond&#x27;, &#x27;BsmtExposure&#x27;, &#x27;BsmtFinType1&#x27;, &#x27;BsmtFinType2&#x27;, &#x27;Heating&#x27;, &#x27;HeatingQC&#x27;, &#x27;CentralAir&#x27;, &#x27;Electrical&#x27;, &#x27;KitchenQual&#x27;, &#x27;FireplaceQu&#x27;, &#x27;GarageType&#x27;, &#x27;GarageFinish&#x27;, &#x27;GarageQual&#x27;, &#x27;GarageCond&#x27;, &#x27;PavedDrive&#x27;, &#x27;PoolQC&#x27;, &#x27;Fence&#x27;, &#x27;MiscFeature&#x27;, &#x27;SaleCondition&#x27;]</pre></div></div></div><div class=\"sk-serial\"><div class=\"sk-item\"><div class=\"sk-serial\"><div class=\"sk-item\"><div class=\"sk-estimator sk-toggleable\"><input class=\"sk-toggleable__control sk-hidden--visually\" id=\"c2471c3a-98ce-4175-8547-5f1c91e66610\" type=\"checkbox\" ><label for=\"c2471c3a-98ce-4175-8547-5f1c91e66610\" class=\"sk-toggleable__label sk-toggleable__label-arrow\">SimpleImputer</label><div class=\"sk-toggleable__content\"><pre>SimpleImputer(strategy=&#x27;most_frequent&#x27;)</pre></div></div></div><div class=\"sk-item\"><div class=\"sk-estimator sk-toggleable\"><input class=\"sk-toggleable__control sk-hidden--visually\" id=\"6ac5f8a3-3c70-4b48-b8a9-ac8ae299464a\" type=\"checkbox\" ><label for=\"6ac5f8a3-3c70-4b48-b8a9-ac8ae299464a\" class=\"sk-toggleable__label sk-toggleable__label-arrow\">OneHotEncoder</label><div class=\"sk-toggleable__content\"><pre>OneHotEncoder(handle_unknown=&#x27;ignore&#x27;, sparse=&#x27;False&#x27;)</pre></div></div></div></div></div></div></div></div></div></div><div class=\"sk-item\"><div class=\"sk-estimator sk-toggleable\"><input class=\"sk-toggleable__control sk-hidden--visually\" id=\"3c640b22-8e1a-4555-893e-bfbeac7b2ecf\" type=\"checkbox\" ><label for=\"3c640b22-8e1a-4555-893e-bfbeac7b2ecf\" class=\"sk-toggleable__label sk-toggleable__label-arrow\">RandomForestRegressor</label><div class=\"sk-toggleable__content\"><pre>RandomForestRegressor()</pre></div></div></div></div></div></div></div>"
      ],
      "text/plain": [
       "Pipeline(steps=[('columntransformer',\n",
       "                 ColumnTransformer(transformers=[('num_tr',\n",
       "                                                  Pipeline(steps=[('simpleimputer',\n",
       "                                                                   SimpleImputer()),\n",
       "                                                                  ('minmaxscaler',\n",
       "                                                                   MinMaxScaler())]),\n",
       "                                                  <sklearn.compose._column_transformer.make_column_selector object at 0x125b2ea50>),\n",
       "                                                 ('cat_tr',\n",
       "                                                  Pipeline(steps=[('simpleimputer',\n",
       "                                                                   SimpleImputer(strategy='most_frequent')),\n",
       "                                                                  ('onehotencoder',\n",
       "                                                                   OneHotE...\n",
       "                                                   'LotConfig', 'LandSlope',\n",
       "                                                   'BldgType', 'RoofStyle',\n",
       "                                                   'MasVnrType', 'ExterQual',\n",
       "                                                   'ExterCond', 'Foundation',\n",
       "                                                   'BsmtQual', 'BsmtCond',\n",
       "                                                   'BsmtExposure',\n",
       "                                                   'BsmtFinType1',\n",
       "                                                   'BsmtFinType2', 'Heating',\n",
       "                                                   'HeatingQC', 'CentralAir',\n",
       "                                                   'Electrical', 'KitchenQual',\n",
       "                                                   'FireplaceQu', 'GarageType',\n",
       "                                                   'GarageFinish', 'GarageQual',\n",
       "                                                   'GarageCond', 'PavedDrive', ...])])),\n",
       "                ('randomforestregressor', RandomForestRegressor())])"
      ]
     },
     "execution_count": 177,
     "metadata": {},
     "output_type": "execute_result"
    }
   ],
   "source": [
    "from sklearn.ensemble import RandomForestRegressor\n",
    "forest = RandomForestRegressor(n_estimators=100)\n",
    "pipe_rf = make_pipeline(preprocessor, forest)\n",
    "pipe_rf.fit(X, y)"
   ]
  },
  {
   "cell_type": "code",
   "execution_count": 179,
   "metadata": {},
   "outputs": [
    {
     "data": {
      "text/plain": [
       "0.1464566786476882"
      ]
     },
     "execution_count": 179,
     "metadata": {},
     "output_type": "execute_result"
    }
   ],
   "source": [
    "score_rf = cross_val_score(pipe_rf, X, y, cv=5, scoring=rmsle).mean()\n",
    "score_rf\n",
    "# plot_histogram_cv_results(cv_results)"
   ]
  },
  {
   "cell_type": "code",
   "execution_count": 180,
   "metadata": {},
   "outputs": [
    {
     "data": {
      "text/plain": [
       "{'randomforestregressor__bootstrap': False,\n",
       " 'randomforestregressor__max_features': 'auto',\n",
       " 'randomforestregressor__min_samples_leaf': 1,\n",
       " 'randomforestregressor__min_samples_split': 5,\n",
       " 'randomforestregressor__n_estimators': 50}"
      ]
     },
     "execution_count": 180,
     "metadata": {},
     "output_type": "execute_result"
    }
   ],
   "source": [
    "from sklearn.model_selection import GridSearchCV\n",
    "\n",
    "grid_search = GridSearchCV(\n",
    "    pipe_rf, \n",
    "    param_grid={\n",
    "        # Access any component of the Pipeline, as far back as you want\n",
    "        'randomforestregressor__n_estimators': [50, 100, 200],\n",
    "        'randomforestregressor__max_features': ['auto', 'sqrt'],\n",
    "        'randomforestregressor__min_samples_split': [2, 5, 10],\n",
    "        'randomforestregressor__min_samples_leaf': [1, 2, 4],\n",
    "        'randomforestregressor__bootstrap': [True, False]\n",
    "    },\n",
    "    cv=5,\n",
    "    scoring=rmsle)\n",
    "\n",
    "grid_search.fit(X, y)\n",
    "\n",
    "grid_search.best_params_"
   ]
  },
  {
   "cell_type": "code",
   "execution_count": 235,
   "metadata": {},
   "outputs": [],
   "source": [
    "pipe_tuned = "
   ]
  },
  {
   "cell_type": "code",
   "execution_count": 239,
   "metadata": {},
   "outputs": [
    {
     "data": {
      "text/plain": [
       "{'memory': None,\n",
       " 'steps': [('columntransformer',\n",
       "   ColumnTransformer(transformers=[('num_tr',\n",
       "                                    Pipeline(steps=[('simpleimputer',\n",
       "                                                     SimpleImputer()),\n",
       "                                                    ('minmaxscaler',\n",
       "                                                     MinMaxScaler())]),\n",
       "                                    <sklearn.compose._column_transformer.make_column_selector object at 0x126522a50>),\n",
       "                                   ('cat_tr',\n",
       "                                    Pipeline(steps=[('simpleimputer',\n",
       "                                                     SimpleImputer(strategy='most_frequent')),\n",
       "                                                    ('onehotencoder',\n",
       "                                                     OneHotEncoder(handle_unknown='ignore',\n",
       "                                                                   sparse...\n",
       "                                    ['MSZoning', 'Street', 'Alley', 'LotShape',\n",
       "                                     'LandContour', 'Utilities', 'LotConfig',\n",
       "                                     'LandSlope', 'BldgType', 'RoofStyle',\n",
       "                                     'MasVnrType', 'ExterQual', 'ExterCond',\n",
       "                                     'Foundation', 'BsmtQual', 'BsmtCond',\n",
       "                                     'BsmtExposure', 'BsmtFinType1',\n",
       "                                     'BsmtFinType2', 'Heating', 'HeatingQC',\n",
       "                                     'CentralAir', 'Electrical', 'KitchenQual',\n",
       "                                     'FireplaceQu', 'GarageType', 'GarageFinish',\n",
       "                                     'GarageQual', 'GarageCond', 'PavedDrive', ...])])),\n",
       "  ('xgbregressor',\n",
       "   XGBRegressor(base_score=0.5, booster='gbtree', callbacks=None,\n",
       "                colsample_bylevel=1, colsample_bynode=1, colsample_bytree=0.7,\n",
       "                early_stopping_rounds=None, enable_categorical=False,\n",
       "                eval_metric=None, gamma=0, gpu_id=-1, grow_policy='depthwise',\n",
       "                importance_type=None, interaction_constraints='',\n",
       "                learning_rate=0.01, max_bin=256, max_cat_to_onehot=4,\n",
       "                max_delta_step=0, max_depth=10, max_leaves=0, min_child_weight=1,\n",
       "                missing=nan, monotone_constraints='()', n_estimators=100, n_jobs=0,\n",
       "                num_parallel_tree=1, predictor='auto', random_state=20,\n",
       "                reg_alpha=0, reg_lambda=1, ...))],\n",
       " 'verbose': False,\n",
       " 'columntransformer': ColumnTransformer(transformers=[('num_tr',\n",
       "                                  Pipeline(steps=[('simpleimputer',\n",
       "                                                   SimpleImputer()),\n",
       "                                                  ('minmaxscaler',\n",
       "                                                   MinMaxScaler())]),\n",
       "                                  <sklearn.compose._column_transformer.make_column_selector object at 0x126522a50>),\n",
       "                                 ('cat_tr',\n",
       "                                  Pipeline(steps=[('simpleimputer',\n",
       "                                                   SimpleImputer(strategy='most_frequent')),\n",
       "                                                  ('onehotencoder',\n",
       "                                                   OneHotEncoder(handle_unknown='ignore',\n",
       "                                                                 sparse...\n",
       "                                  ['MSZoning', 'Street', 'Alley', 'LotShape',\n",
       "                                   'LandContour', 'Utilities', 'LotConfig',\n",
       "                                   'LandSlope', 'BldgType', 'RoofStyle',\n",
       "                                   'MasVnrType', 'ExterQual', 'ExterCond',\n",
       "                                   'Foundation', 'BsmtQual', 'BsmtCond',\n",
       "                                   'BsmtExposure', 'BsmtFinType1',\n",
       "                                   'BsmtFinType2', 'Heating', 'HeatingQC',\n",
       "                                   'CentralAir', 'Electrical', 'KitchenQual',\n",
       "                                   'FireplaceQu', 'GarageType', 'GarageFinish',\n",
       "                                   'GarageQual', 'GarageCond', 'PavedDrive', ...])]),\n",
       " 'xgbregressor': XGBRegressor(base_score=0.5, booster='gbtree', callbacks=None,\n",
       "              colsample_bylevel=1, colsample_bynode=1, colsample_bytree=0.7,\n",
       "              early_stopping_rounds=None, enable_categorical=False,\n",
       "              eval_metric=None, gamma=0, gpu_id=-1, grow_policy='depthwise',\n",
       "              importance_type=None, interaction_constraints='',\n",
       "              learning_rate=0.01, max_bin=256, max_cat_to_onehot=4,\n",
       "              max_delta_step=0, max_depth=10, max_leaves=0, min_child_weight=1,\n",
       "              missing=nan, monotone_constraints='()', n_estimators=100, n_jobs=0,\n",
       "              num_parallel_tree=1, predictor='auto', random_state=20,\n",
       "              reg_alpha=0, reg_lambda=1, ...),\n",
       " 'columntransformer__n_jobs': None,\n",
       " 'columntransformer__remainder': 'drop',\n",
       " 'columntransformer__sparse_threshold': 0.3,\n",
       " 'columntransformer__transformer_weights': None,\n",
       " 'columntransformer__transformers': [('num_tr',\n",
       "   Pipeline(steps=[('simpleimputer', SimpleImputer()),\n",
       "                   ('minmaxscaler', MinMaxScaler())]),\n",
       "   <sklearn.compose._column_transformer.make_column_selector at 0x126522a50>),\n",
       "  ('cat_tr',\n",
       "   Pipeline(steps=[('simpleimputer', SimpleImputer(strategy='most_frequent')),\n",
       "                   ('onehotencoder',\n",
       "                    OneHotEncoder(handle_unknown='ignore', sparse='False'))]),\n",
       "   ['MSZoning',\n",
       "    'Street',\n",
       "    'Alley',\n",
       "    'LotShape',\n",
       "    'LandContour',\n",
       "    'Utilities',\n",
       "    'LotConfig',\n",
       "    'LandSlope',\n",
       "    'BldgType',\n",
       "    'RoofStyle',\n",
       "    'MasVnrType',\n",
       "    'ExterQual',\n",
       "    'ExterCond',\n",
       "    'Foundation',\n",
       "    'BsmtQual',\n",
       "    'BsmtCond',\n",
       "    'BsmtExposure',\n",
       "    'BsmtFinType1',\n",
       "    'BsmtFinType2',\n",
       "    'Heating',\n",
       "    'HeatingQC',\n",
       "    'CentralAir',\n",
       "    'Electrical',\n",
       "    'KitchenQual',\n",
       "    'FireplaceQu',\n",
       "    'GarageType',\n",
       "    'GarageFinish',\n",
       "    'GarageQual',\n",
       "    'GarageCond',\n",
       "    'PavedDrive',\n",
       "    'PoolQC',\n",
       "    'Fence',\n",
       "    'MiscFeature',\n",
       "    'SaleCondition'])],\n",
       " 'columntransformer__verbose': False,\n",
       " 'columntransformer__verbose_feature_names_out': True,\n",
       " 'columntransformer__num_tr': Pipeline(steps=[('simpleimputer', SimpleImputer()),\n",
       "                 ('minmaxscaler', MinMaxScaler())]),\n",
       " 'columntransformer__cat_tr': Pipeline(steps=[('simpleimputer', SimpleImputer(strategy='most_frequent')),\n",
       "                 ('onehotencoder',\n",
       "                  OneHotEncoder(handle_unknown='ignore', sparse='False'))]),\n",
       " 'columntransformer__num_tr__memory': None,\n",
       " 'columntransformer__num_tr__steps': [('simpleimputer', SimpleImputer()),\n",
       "  ('minmaxscaler', MinMaxScaler())],\n",
       " 'columntransformer__num_tr__verbose': False,\n",
       " 'columntransformer__num_tr__simpleimputer': SimpleImputer(),\n",
       " 'columntransformer__num_tr__minmaxscaler': MinMaxScaler(),\n",
       " 'columntransformer__num_tr__simpleimputer__add_indicator': False,\n",
       " 'columntransformer__num_tr__simpleimputer__copy': True,\n",
       " 'columntransformer__num_tr__simpleimputer__fill_value': None,\n",
       " 'columntransformer__num_tr__simpleimputer__missing_values': nan,\n",
       " 'columntransformer__num_tr__simpleimputer__strategy': 'mean',\n",
       " 'columntransformer__num_tr__simpleimputer__verbose': 0,\n",
       " 'columntransformer__num_tr__minmaxscaler__clip': False,\n",
       " 'columntransformer__num_tr__minmaxscaler__copy': True,\n",
       " 'columntransformer__num_tr__minmaxscaler__feature_range': (0, 1),\n",
       " 'columntransformer__cat_tr__memory': None,\n",
       " 'columntransformer__cat_tr__steps': [('simpleimputer',\n",
       "   SimpleImputer(strategy='most_frequent')),\n",
       "  ('onehotencoder', OneHotEncoder(handle_unknown='ignore', sparse='False'))],\n",
       " 'columntransformer__cat_tr__verbose': False,\n",
       " 'columntransformer__cat_tr__simpleimputer': SimpleImputer(strategy='most_frequent'),\n",
       " 'columntransformer__cat_tr__onehotencoder': OneHotEncoder(handle_unknown='ignore', sparse='False'),\n",
       " 'columntransformer__cat_tr__simpleimputer__add_indicator': False,\n",
       " 'columntransformer__cat_tr__simpleimputer__copy': True,\n",
       " 'columntransformer__cat_tr__simpleimputer__fill_value': None,\n",
       " 'columntransformer__cat_tr__simpleimputer__missing_values': nan,\n",
       " 'columntransformer__cat_tr__simpleimputer__strategy': 'most_frequent',\n",
       " 'columntransformer__cat_tr__simpleimputer__verbose': 0,\n",
       " 'columntransformer__cat_tr__onehotencoder__categories': 'auto',\n",
       " 'columntransformer__cat_tr__onehotencoder__drop': None,\n",
       " 'columntransformer__cat_tr__onehotencoder__dtype': numpy.float64,\n",
       " 'columntransformer__cat_tr__onehotencoder__handle_unknown': 'ignore',\n",
       " 'columntransformer__cat_tr__onehotencoder__sparse': 'False',\n",
       " 'xgbregressor__objective': 'reg:squarederror',\n",
       " 'xgbregressor__base_score': 0.5,\n",
       " 'xgbregressor__booster': 'gbtree',\n",
       " 'xgbregressor__callbacks': None,\n",
       " 'xgbregressor__colsample_bylevel': 1,\n",
       " 'xgbregressor__colsample_bynode': 1,\n",
       " 'xgbregressor__colsample_bytree': 0.7,\n",
       " 'xgbregressor__early_stopping_rounds': None,\n",
       " 'xgbregressor__enable_categorical': False,\n",
       " 'xgbregressor__eval_metric': None,\n",
       " 'xgbregressor__gamma': 0,\n",
       " 'xgbregressor__gpu_id': -1,\n",
       " 'xgbregressor__grow_policy': 'depthwise',\n",
       " 'xgbregressor__importance_type': None,\n",
       " 'xgbregressor__interaction_constraints': '',\n",
       " 'xgbregressor__learning_rate': 0.01,\n",
       " 'xgbregressor__max_bin': 256,\n",
       " 'xgbregressor__max_cat_to_onehot': 4,\n",
       " 'xgbregressor__max_delta_step': 0,\n",
       " 'xgbregressor__max_depth': 10,\n",
       " 'xgbregressor__max_leaves': 0,\n",
       " 'xgbregressor__min_child_weight': 1,\n",
       " 'xgbregressor__missing': nan,\n",
       " 'xgbregressor__monotone_constraints': '()',\n",
       " 'xgbregressor__n_estimators': 100,\n",
       " 'xgbregressor__n_jobs': 0,\n",
       " 'xgbregressor__num_parallel_tree': 1,\n",
       " 'xgbregressor__predictor': 'auto',\n",
       " 'xgbregressor__random_state': 20,\n",
       " 'xgbregressor__reg_alpha': 0,\n",
       " 'xgbregressor__reg_lambda': 1,\n",
       " 'xgbregressor__sampling_method': 'uniform',\n",
       " 'xgbregressor__scale_pos_weight': 1,\n",
       " 'xgbregressor__subsample': 1,\n",
       " 'xgbregressor__tree_method': 'exact',\n",
       " 'xgbregressor__validate_parameters': 1,\n",
       " 'xgbregressor__verbosity': None,\n",
       " 'xgbregressor__seed': 20}"
      ]
     },
     "execution_count": 239,
     "metadata": {},
     "output_type": "execute_result"
    }
   ],
   "source": [
    "pipe_tuned.get_params()"
   ]
  },
  {
   "cell_type": "code",
   "execution_count": 236,
   "metadata": {},
   "outputs": [
    {
     "data": {
      "text/html": [
       "<style>#sk-752ad380-5ed1-4874-b28a-f983d972ad83 {color: black;background-color: white;}#sk-752ad380-5ed1-4874-b28a-f983d972ad83 pre{padding: 0;}#sk-752ad380-5ed1-4874-b28a-f983d972ad83 div.sk-toggleable {background-color: white;}#sk-752ad380-5ed1-4874-b28a-f983d972ad83 label.sk-toggleable__label {cursor: pointer;display: block;width: 100%;margin-bottom: 0;padding: 0.3em;box-sizing: border-box;text-align: center;}#sk-752ad380-5ed1-4874-b28a-f983d972ad83 label.sk-toggleable__label-arrow:before {content: \"▸\";float: left;margin-right: 0.25em;color: #696969;}#sk-752ad380-5ed1-4874-b28a-f983d972ad83 label.sk-toggleable__label-arrow:hover:before {color: black;}#sk-752ad380-5ed1-4874-b28a-f983d972ad83 div.sk-estimator:hover label.sk-toggleable__label-arrow:before {color: black;}#sk-752ad380-5ed1-4874-b28a-f983d972ad83 div.sk-toggleable__content {max-height: 0;max-width: 0;overflow: hidden;text-align: left;background-color: #f0f8ff;}#sk-752ad380-5ed1-4874-b28a-f983d972ad83 div.sk-toggleable__content pre {margin: 0.2em;color: black;border-radius: 0.25em;background-color: #f0f8ff;}#sk-752ad380-5ed1-4874-b28a-f983d972ad83 input.sk-toggleable__control:checked~div.sk-toggleable__content {max-height: 200px;max-width: 100%;overflow: auto;}#sk-752ad380-5ed1-4874-b28a-f983d972ad83 input.sk-toggleable__control:checked~label.sk-toggleable__label-arrow:before {content: \"▾\";}#sk-752ad380-5ed1-4874-b28a-f983d972ad83 div.sk-estimator input.sk-toggleable__control:checked~label.sk-toggleable__label {background-color: #d4ebff;}#sk-752ad380-5ed1-4874-b28a-f983d972ad83 div.sk-label input.sk-toggleable__control:checked~label.sk-toggleable__label {background-color: #d4ebff;}#sk-752ad380-5ed1-4874-b28a-f983d972ad83 input.sk-hidden--visually {border: 0;clip: rect(1px 1px 1px 1px);clip: rect(1px, 1px, 1px, 1px);height: 1px;margin: -1px;overflow: hidden;padding: 0;position: absolute;width: 1px;}#sk-752ad380-5ed1-4874-b28a-f983d972ad83 div.sk-estimator {font-family: monospace;background-color: #f0f8ff;border: 1px dotted black;border-radius: 0.25em;box-sizing: border-box;margin-bottom: 0.5em;}#sk-752ad380-5ed1-4874-b28a-f983d972ad83 div.sk-estimator:hover {background-color: #d4ebff;}#sk-752ad380-5ed1-4874-b28a-f983d972ad83 div.sk-parallel-item::after {content: \"\";width: 100%;border-bottom: 1px solid gray;flex-grow: 1;}#sk-752ad380-5ed1-4874-b28a-f983d972ad83 div.sk-label:hover label.sk-toggleable__label {background-color: #d4ebff;}#sk-752ad380-5ed1-4874-b28a-f983d972ad83 div.sk-serial::before {content: \"\";position: absolute;border-left: 1px solid gray;box-sizing: border-box;top: 2em;bottom: 0;left: 50%;}#sk-752ad380-5ed1-4874-b28a-f983d972ad83 div.sk-serial {display: flex;flex-direction: column;align-items: center;background-color: white;padding-right: 0.2em;padding-left: 0.2em;}#sk-752ad380-5ed1-4874-b28a-f983d972ad83 div.sk-item {z-index: 1;}#sk-752ad380-5ed1-4874-b28a-f983d972ad83 div.sk-parallel {display: flex;align-items: stretch;justify-content: center;background-color: white;}#sk-752ad380-5ed1-4874-b28a-f983d972ad83 div.sk-parallel::before {content: \"\";position: absolute;border-left: 1px solid gray;box-sizing: border-box;top: 2em;bottom: 0;left: 50%;}#sk-752ad380-5ed1-4874-b28a-f983d972ad83 div.sk-parallel-item {display: flex;flex-direction: column;position: relative;background-color: white;}#sk-752ad380-5ed1-4874-b28a-f983d972ad83 div.sk-parallel-item:first-child::after {align-self: flex-end;width: 50%;}#sk-752ad380-5ed1-4874-b28a-f983d972ad83 div.sk-parallel-item:last-child::after {align-self: flex-start;width: 50%;}#sk-752ad380-5ed1-4874-b28a-f983d972ad83 div.sk-parallel-item:only-child::after {width: 0;}#sk-752ad380-5ed1-4874-b28a-f983d972ad83 div.sk-dashed-wrapped {border: 1px dashed gray;margin: 0 0.4em 0.5em 0.4em;box-sizing: border-box;padding-bottom: 0.4em;background-color: white;position: relative;}#sk-752ad380-5ed1-4874-b28a-f983d972ad83 div.sk-label label {font-family: monospace;font-weight: bold;background-color: white;display: inline-block;line-height: 1.2em;}#sk-752ad380-5ed1-4874-b28a-f983d972ad83 div.sk-label-container {position: relative;z-index: 2;text-align: center;}#sk-752ad380-5ed1-4874-b28a-f983d972ad83 div.sk-container {/* jupyter's `normalize.less` sets `[hidden] { display: none; }` but bootstrap.min.css set `[hidden] { display: none !important; }` so we also need the `!important` here to be able to override the default hidden behavior on the sphinx rendered scikit-learn.org. See: https://github.com/scikit-learn/scikit-learn/issues/21755 */display: inline-block !important;position: relative;}#sk-752ad380-5ed1-4874-b28a-f983d972ad83 div.sk-text-repr-fallback {display: none;}</style><div id=\"sk-752ad380-5ed1-4874-b28a-f983d972ad83\" class=\"sk-top-container\"><div class=\"sk-text-repr-fallback\"><pre>Pipeline(steps=[(&#x27;columntransformer&#x27;,\n",
       "                 ColumnTransformer(transformers=[(&#x27;num_tr&#x27;,\n",
       "                                                  Pipeline(steps=[(&#x27;simpleimputer&#x27;,\n",
       "                                                                   SimpleImputer()),\n",
       "                                                                  (&#x27;minmaxscaler&#x27;,\n",
       "                                                                   MinMaxScaler())]),\n",
       "                                                  &lt;sklearn.compose._column_transformer.make_column_selector object at 0x126522a50&gt;),\n",
       "                                                 (&#x27;cat_tr&#x27;,\n",
       "                                                  Pipeline(steps=[(&#x27;simpleimputer&#x27;,\n",
       "                                                                   SimpleImputer(strategy=&#x27;most_frequent&#x27;)),\n",
       "                                                                  (&#x27;onehotencoder&#x27;,\n",
       "                                                                   OneHotE...\n",
       "                              gamma=0, gpu_id=-1, grow_policy=&#x27;depthwise&#x27;,\n",
       "                              importance_type=None, interaction_constraints=&#x27;&#x27;,\n",
       "                              learning_rate=0.01, max_bin=256,\n",
       "                              max_cat_to_onehot=4, max_delta_step=0,\n",
       "                              max_depth=10, max_leaves=0, min_child_weight=1,\n",
       "                              missing=nan, monotone_constraints=&#x27;()&#x27;,\n",
       "                              n_estimators=100, n_jobs=0, num_parallel_tree=1,\n",
       "                              predictor=&#x27;auto&#x27;, random_state=20, reg_alpha=0,\n",
       "                              reg_lambda=1, ...))])</pre><b>Please rerun this cell to show the HTML repr or trust the notebook.</b></div><div class=\"sk-container\" hidden><div class=\"sk-item sk-dashed-wrapped\"><div class=\"sk-label-container\"><div class=\"sk-label sk-toggleable\"><input class=\"sk-toggleable__control sk-hidden--visually\" id=\"d6fe6df6-50e7-49ea-bb12-f27342f9e66f\" type=\"checkbox\" ><label for=\"d6fe6df6-50e7-49ea-bb12-f27342f9e66f\" class=\"sk-toggleable__label sk-toggleable__label-arrow\">Pipeline</label><div class=\"sk-toggleable__content\"><pre>Pipeline(steps=[(&#x27;columntransformer&#x27;,\n",
       "                 ColumnTransformer(transformers=[(&#x27;num_tr&#x27;,\n",
       "                                                  Pipeline(steps=[(&#x27;simpleimputer&#x27;,\n",
       "                                                                   SimpleImputer()),\n",
       "                                                                  (&#x27;minmaxscaler&#x27;,\n",
       "                                                                   MinMaxScaler())]),\n",
       "                                                  &lt;sklearn.compose._column_transformer.make_column_selector object at 0x126522a50&gt;),\n",
       "                                                 (&#x27;cat_tr&#x27;,\n",
       "                                                  Pipeline(steps=[(&#x27;simpleimputer&#x27;,\n",
       "                                                                   SimpleImputer(strategy=&#x27;most_frequent&#x27;)),\n",
       "                                                                  (&#x27;onehotencoder&#x27;,\n",
       "                                                                   OneHotE...\n",
       "                              gamma=0, gpu_id=-1, grow_policy=&#x27;depthwise&#x27;,\n",
       "                              importance_type=None, interaction_constraints=&#x27;&#x27;,\n",
       "                              learning_rate=0.01, max_bin=256,\n",
       "                              max_cat_to_onehot=4, max_delta_step=0,\n",
       "                              max_depth=10, max_leaves=0, min_child_weight=1,\n",
       "                              missing=nan, monotone_constraints=&#x27;()&#x27;,\n",
       "                              n_estimators=100, n_jobs=0, num_parallel_tree=1,\n",
       "                              predictor=&#x27;auto&#x27;, random_state=20, reg_alpha=0,\n",
       "                              reg_lambda=1, ...))])</pre></div></div></div><div class=\"sk-serial\"><div class=\"sk-item sk-dashed-wrapped\"><div class=\"sk-label-container\"><div class=\"sk-label sk-toggleable\"><input class=\"sk-toggleable__control sk-hidden--visually\" id=\"3389e1aa-08ed-487f-a9c4-ea06d33adbf6\" type=\"checkbox\" ><label for=\"3389e1aa-08ed-487f-a9c4-ea06d33adbf6\" class=\"sk-toggleable__label sk-toggleable__label-arrow\">columntransformer: ColumnTransformer</label><div class=\"sk-toggleable__content\"><pre>ColumnTransformer(transformers=[(&#x27;num_tr&#x27;,\n",
       "                                 Pipeline(steps=[(&#x27;simpleimputer&#x27;,\n",
       "                                                  SimpleImputer()),\n",
       "                                                 (&#x27;minmaxscaler&#x27;,\n",
       "                                                  MinMaxScaler())]),\n",
       "                                 &lt;sklearn.compose._column_transformer.make_column_selector object at 0x126522a50&gt;),\n",
       "                                (&#x27;cat_tr&#x27;,\n",
       "                                 Pipeline(steps=[(&#x27;simpleimputer&#x27;,\n",
       "                                                  SimpleImputer(strategy=&#x27;most_frequent&#x27;)),\n",
       "                                                 (&#x27;onehotencoder&#x27;,\n",
       "                                                  OneHotEncoder(handle_unknown=&#x27;ignore&#x27;,\n",
       "                                                                sparse...\n",
       "                                 [&#x27;MSZoning&#x27;, &#x27;Street&#x27;, &#x27;Alley&#x27;, &#x27;LotShape&#x27;,\n",
       "                                  &#x27;LandContour&#x27;, &#x27;Utilities&#x27;, &#x27;LotConfig&#x27;,\n",
       "                                  &#x27;LandSlope&#x27;, &#x27;BldgType&#x27;, &#x27;RoofStyle&#x27;,\n",
       "                                  &#x27;MasVnrType&#x27;, &#x27;ExterQual&#x27;, &#x27;ExterCond&#x27;,\n",
       "                                  &#x27;Foundation&#x27;, &#x27;BsmtQual&#x27;, &#x27;BsmtCond&#x27;,\n",
       "                                  &#x27;BsmtExposure&#x27;, &#x27;BsmtFinType1&#x27;,\n",
       "                                  &#x27;BsmtFinType2&#x27;, &#x27;Heating&#x27;, &#x27;HeatingQC&#x27;,\n",
       "                                  &#x27;CentralAir&#x27;, &#x27;Electrical&#x27;, &#x27;KitchenQual&#x27;,\n",
       "                                  &#x27;FireplaceQu&#x27;, &#x27;GarageType&#x27;, &#x27;GarageFinish&#x27;,\n",
       "                                  &#x27;GarageQual&#x27;, &#x27;GarageCond&#x27;, &#x27;PavedDrive&#x27;, ...])])</pre></div></div></div><div class=\"sk-parallel\"><div class=\"sk-parallel-item\"><div class=\"sk-item\"><div class=\"sk-label-container\"><div class=\"sk-label sk-toggleable\"><input class=\"sk-toggleable__control sk-hidden--visually\" id=\"74ca9781-441e-40ce-8f02-01bf3f409563\" type=\"checkbox\" ><label for=\"74ca9781-441e-40ce-8f02-01bf3f409563\" class=\"sk-toggleable__label sk-toggleable__label-arrow\">num_tr</label><div class=\"sk-toggleable__content\"><pre>&lt;sklearn.compose._column_transformer.make_column_selector object at 0x126522a50&gt;</pre></div></div></div><div class=\"sk-serial\"><div class=\"sk-item\"><div class=\"sk-serial\"><div class=\"sk-item\"><div class=\"sk-estimator sk-toggleable\"><input class=\"sk-toggleable__control sk-hidden--visually\" id=\"da6e929b-f5db-448f-a51f-44d52af04a3f\" type=\"checkbox\" ><label for=\"da6e929b-f5db-448f-a51f-44d52af04a3f\" class=\"sk-toggleable__label sk-toggleable__label-arrow\">SimpleImputer</label><div class=\"sk-toggleable__content\"><pre>SimpleImputer()</pre></div></div></div><div class=\"sk-item\"><div class=\"sk-estimator sk-toggleable\"><input class=\"sk-toggleable__control sk-hidden--visually\" id=\"6245f9a5-e535-4280-8a0a-582629df6742\" type=\"checkbox\" ><label for=\"6245f9a5-e535-4280-8a0a-582629df6742\" class=\"sk-toggleable__label sk-toggleable__label-arrow\">MinMaxScaler</label><div class=\"sk-toggleable__content\"><pre>MinMaxScaler()</pre></div></div></div></div></div></div></div></div><div class=\"sk-parallel-item\"><div class=\"sk-item\"><div class=\"sk-label-container\"><div class=\"sk-label sk-toggleable\"><input class=\"sk-toggleable__control sk-hidden--visually\" id=\"8ee2def1-ebb1-4841-91bb-6d999682b257\" type=\"checkbox\" ><label for=\"8ee2def1-ebb1-4841-91bb-6d999682b257\" class=\"sk-toggleable__label sk-toggleable__label-arrow\">cat_tr</label><div class=\"sk-toggleable__content\"><pre>[&#x27;MSZoning&#x27;, &#x27;Street&#x27;, &#x27;Alley&#x27;, &#x27;LotShape&#x27;, &#x27;LandContour&#x27;, &#x27;Utilities&#x27;, &#x27;LotConfig&#x27;, &#x27;LandSlope&#x27;, &#x27;BldgType&#x27;, &#x27;RoofStyle&#x27;, &#x27;MasVnrType&#x27;, &#x27;ExterQual&#x27;, &#x27;ExterCond&#x27;, &#x27;Foundation&#x27;, &#x27;BsmtQual&#x27;, &#x27;BsmtCond&#x27;, &#x27;BsmtExposure&#x27;, &#x27;BsmtFinType1&#x27;, &#x27;BsmtFinType2&#x27;, &#x27;Heating&#x27;, &#x27;HeatingQC&#x27;, &#x27;CentralAir&#x27;, &#x27;Electrical&#x27;, &#x27;KitchenQual&#x27;, &#x27;FireplaceQu&#x27;, &#x27;GarageType&#x27;, &#x27;GarageFinish&#x27;, &#x27;GarageQual&#x27;, &#x27;GarageCond&#x27;, &#x27;PavedDrive&#x27;, &#x27;PoolQC&#x27;, &#x27;Fence&#x27;, &#x27;MiscFeature&#x27;, &#x27;SaleCondition&#x27;]</pre></div></div></div><div class=\"sk-serial\"><div class=\"sk-item\"><div class=\"sk-serial\"><div class=\"sk-item\"><div class=\"sk-estimator sk-toggleable\"><input class=\"sk-toggleable__control sk-hidden--visually\" id=\"b74d3c7b-3877-4a25-b52b-64b5e1d344ef\" type=\"checkbox\" ><label for=\"b74d3c7b-3877-4a25-b52b-64b5e1d344ef\" class=\"sk-toggleable__label sk-toggleable__label-arrow\">SimpleImputer</label><div class=\"sk-toggleable__content\"><pre>SimpleImputer(strategy=&#x27;most_frequent&#x27;)</pre></div></div></div><div class=\"sk-item\"><div class=\"sk-estimator sk-toggleable\"><input class=\"sk-toggleable__control sk-hidden--visually\" id=\"67662384-81a9-4f27-aa25-7c8bf4f20dde\" type=\"checkbox\" ><label for=\"67662384-81a9-4f27-aa25-7c8bf4f20dde\" class=\"sk-toggleable__label sk-toggleable__label-arrow\">OneHotEncoder</label><div class=\"sk-toggleable__content\"><pre>OneHotEncoder(handle_unknown=&#x27;ignore&#x27;, sparse=&#x27;False&#x27;)</pre></div></div></div></div></div></div></div></div></div></div><div class=\"sk-item\"><div class=\"sk-estimator sk-toggleable\"><input class=\"sk-toggleable__control sk-hidden--visually\" id=\"56846c41-ae3b-4314-b149-fcecc6773d75\" type=\"checkbox\" ><label for=\"56846c41-ae3b-4314-b149-fcecc6773d75\" class=\"sk-toggleable__label sk-toggleable__label-arrow\">XGBRegressor</label><div class=\"sk-toggleable__content\"><pre>XGBRegressor(base_score=0.5, booster=&#x27;gbtree&#x27;, callbacks=None,\n",
       "             colsample_bylevel=1, colsample_bynode=1, colsample_bytree=0.7,\n",
       "             early_stopping_rounds=None, enable_categorical=False,\n",
       "             eval_metric=None, gamma=0, gpu_id=-1, grow_policy=&#x27;depthwise&#x27;,\n",
       "             importance_type=None, interaction_constraints=&#x27;&#x27;,\n",
       "             learning_rate=0.01, max_bin=256, max_cat_to_onehot=4,\n",
       "             max_delta_step=0, max_depth=10, max_leaves=0, min_child_weight=1,\n",
       "             missing=nan, monotone_constraints=&#x27;()&#x27;, n_estimators=100, n_jobs=0,\n",
       "             num_parallel_tree=1, predictor=&#x27;auto&#x27;, random_state=20,\n",
       "             reg_alpha=0, reg_lambda=1, ...)</pre></div></div></div></div></div></div></div>"
      ],
      "text/plain": [
       "Pipeline(steps=[('columntransformer',\n",
       "                 ColumnTransformer(transformers=[('num_tr',\n",
       "                                                  Pipeline(steps=[('simpleimputer',\n",
       "                                                                   SimpleImputer()),\n",
       "                                                                  ('minmaxscaler',\n",
       "                                                                   MinMaxScaler())]),\n",
       "                                                  <sklearn.compose._column_transformer.make_column_selector object at 0x126522a50>),\n",
       "                                                 ('cat_tr',\n",
       "                                                  Pipeline(steps=[('simpleimputer',\n",
       "                                                                   SimpleImputer(strategy='most_frequent')),\n",
       "                                                                  ('onehotencoder',\n",
       "                                                                   OneHotE...\n",
       "                              gamma=0, gpu_id=-1, grow_policy='depthwise',\n",
       "                              importance_type=None, interaction_constraints='',\n",
       "                              learning_rate=0.01, max_bin=256,\n",
       "                              max_cat_to_onehot=4, max_delta_step=0,\n",
       "                              max_depth=10, max_leaves=0, min_child_weight=1,\n",
       "                              missing=nan, monotone_constraints='()',\n",
       "                              n_estimators=100, n_jobs=0, num_parallel_tree=1,\n",
       "                              predictor='auto', random_state=20, reg_alpha=0,\n",
       "                              reg_lambda=1, ...))])"
      ]
     },
     "execution_count": 236,
     "metadata": {},
     "output_type": "execute_result"
    }
   ],
   "source": [
    "pipe_tuned.fit(X, y)"
   ]
  },
  {
   "cell_type": "code",
   "execution_count": 237,
   "metadata": {},
   "outputs": [
    {
     "data": {
      "text/plain": [
       "0.47653696837388815"
      ]
     },
     "execution_count": 237,
     "metadata": {},
     "output_type": "execute_result"
    }
   ],
   "source": [
    "score_rf = cross_val_score(pipe_tuned, X, y, cv=5, scoring=rmsle).mean()\n",
    "score_rf"
   ]
  },
  {
   "cell_type": "code",
   "execution_count": 228,
   "metadata": {},
   "outputs": [
    {
     "data": {
      "text/plain": [
       "0.1322791163453164"
      ]
     },
     "execution_count": 228,
     "metadata": {},
     "output_type": "execute_result"
    }
   ],
   "source": [
    "from sklearn.ensemble import GradientBoostingRegressor\n",
    "model = GradientBoostingRegressor(\n",
    "    n_estimators=100, \n",
    "    learning_rate=0.1,\n",
    "    max_depth=3\n",
    ")\n",
    "\n",
    "pipe_gbr = make_pipeline(preprocessor, model)\n",
    "pipe_gbr.fit(X, y)\n",
    "\n",
    "score_rf = cross_val_score(pipe_gbr, X, y, cv=5, scoring=rmsle).mean()\n",
    "score_rf"
   ]
  },
  {
   "cell_type": "code",
   "execution_count": 229,
   "metadata": {},
   "outputs": [
    {
     "data": {
      "text/plain": [
       "array([119874.16591986, 164630.99440964, 175654.86814067, ...,\n",
       "       164628.45401552, 121199.38288631, 237908.07278496])"
      ]
     },
     "execution_count": 229,
     "metadata": {},
     "output_type": "execute_result"
    }
   ],
   "source": [
    "pipe_gbr.predict(X_test)"
   ]
  },
  {
   "cell_type": "code",
   "execution_count": 221,
   "metadata": {},
   "outputs": [],
   "source": [
    "# creating 5 different models\n",
    "# rf = RandomForestRegressor().fit(X, y)\n",
    "# dt = DecisionTreeRegressor().fit(X, y)\n",
    "# gbr = GradientBoostingRegressor().fit(X, y)\n",
    "# lr = LinearRegression().fit(X, y)\n",
    "from xgboost import XGBRegressor\n",
    "xgbr = XGBRegressor(objective='reg:squarederror')\n",
    "# xgb_reg = XGBRegressor(max_depth=10, n_estimators=100, learning_rate=0.1)"
   ]
  },
  {
   "cell_type": "code",
   "execution_count": 223,
   "metadata": {
    "scrolled": true
   },
   "outputs": [
    {
     "data": {
      "text/plain": [
       "0.13991956993205912"
      ]
     },
     "execution_count": 223,
     "metadata": {},
     "output_type": "execute_result"
    }
   ],
   "source": [
    "pipe_xgb = make_pipeline(preprocessor, xgbr)\n",
    "# pipe_xgb\n",
    "pipe_xgb.fit(X, y)\n",
    "\n",
    "score_xgb = cross_val_score(pipe_xgb, X, y, cv=5, scoring=rmsle).mean()\n",
    "score_xgb"
   ]
  },
  {
   "cell_type": "code",
   "execution_count": 226,
   "metadata": {},
   "outputs": [
    {
     "data": {
      "text/plain": [
       "{'memory': None,\n",
       " 'steps': [('columntransformer',\n",
       "   ColumnTransformer(transformers=[('num_tr',\n",
       "                                    Pipeline(steps=[('simpleimputer',\n",
       "                                                     SimpleImputer()),\n",
       "                                                    ('minmaxscaler',\n",
       "                                                     MinMaxScaler())]),\n",
       "                                    <sklearn.compose._column_transformer.make_column_selector object at 0x1263c9ad0>),\n",
       "                                   ('cat_tr',\n",
       "                                    Pipeline(steps=[('simpleimputer',\n",
       "                                                     SimpleImputer(strategy='most_frequent')),\n",
       "                                                    ('onehotencoder',\n",
       "                                                     OneHotEncoder(handle_unknown='ignore',\n",
       "                                                                   sparse...\n",
       "                                    ['MSZoning', 'Street', 'Alley', 'LotShape',\n",
       "                                     'LandContour', 'Utilities', 'LotConfig',\n",
       "                                     'LandSlope', 'BldgType', 'RoofStyle',\n",
       "                                     'MasVnrType', 'ExterQual', 'ExterCond',\n",
       "                                     'Foundation', 'BsmtQual', 'BsmtCond',\n",
       "                                     'BsmtExposure', 'BsmtFinType1',\n",
       "                                     'BsmtFinType2', 'Heating', 'HeatingQC',\n",
       "                                     'CentralAir', 'Electrical', 'KitchenQual',\n",
       "                                     'FireplaceQu', 'GarageType', 'GarageFinish',\n",
       "                                     'GarageQual', 'GarageCond', 'PavedDrive', ...])])),\n",
       "  ('xgbregressor',\n",
       "   XGBRegressor(base_score=0.5, booster='gbtree', callbacks=None,\n",
       "                colsample_bylevel=1, colsample_bynode=1, colsample_bytree=1,\n",
       "                early_stopping_rounds=None, enable_categorical=False,\n",
       "                eval_metric=None, gamma=0, gpu_id=-1, grow_policy='depthwise',\n",
       "                importance_type=None, interaction_constraints='',\n",
       "                learning_rate=0.300000012, max_bin=256, max_cat_to_onehot=4,\n",
       "                max_delta_step=0, max_depth=6, max_leaves=0, min_child_weight=1,\n",
       "                missing=nan, monotone_constraints='()', n_estimators=100, n_jobs=0,\n",
       "                num_parallel_tree=1, predictor='auto', random_state=0, reg_alpha=0,\n",
       "                reg_lambda=1, ...))],\n",
       " 'verbose': False,\n",
       " 'columntransformer': ColumnTransformer(transformers=[('num_tr',\n",
       "                                  Pipeline(steps=[('simpleimputer',\n",
       "                                                   SimpleImputer()),\n",
       "                                                  ('minmaxscaler',\n",
       "                                                   MinMaxScaler())]),\n",
       "                                  <sklearn.compose._column_transformer.make_column_selector object at 0x1263c9ad0>),\n",
       "                                 ('cat_tr',\n",
       "                                  Pipeline(steps=[('simpleimputer',\n",
       "                                                   SimpleImputer(strategy='most_frequent')),\n",
       "                                                  ('onehotencoder',\n",
       "                                                   OneHotEncoder(handle_unknown='ignore',\n",
       "                                                                 sparse...\n",
       "                                  ['MSZoning', 'Street', 'Alley', 'LotShape',\n",
       "                                   'LandContour', 'Utilities', 'LotConfig',\n",
       "                                   'LandSlope', 'BldgType', 'RoofStyle',\n",
       "                                   'MasVnrType', 'ExterQual', 'ExterCond',\n",
       "                                   'Foundation', 'BsmtQual', 'BsmtCond',\n",
       "                                   'BsmtExposure', 'BsmtFinType1',\n",
       "                                   'BsmtFinType2', 'Heating', 'HeatingQC',\n",
       "                                   'CentralAir', 'Electrical', 'KitchenQual',\n",
       "                                   'FireplaceQu', 'GarageType', 'GarageFinish',\n",
       "                                   'GarageQual', 'GarageCond', 'PavedDrive', ...])]),\n",
       " 'xgbregressor': XGBRegressor(base_score=0.5, booster='gbtree', callbacks=None,\n",
       "              colsample_bylevel=1, colsample_bynode=1, colsample_bytree=1,\n",
       "              early_stopping_rounds=None, enable_categorical=False,\n",
       "              eval_metric=None, gamma=0, gpu_id=-1, grow_policy='depthwise',\n",
       "              importance_type=None, interaction_constraints='',\n",
       "              learning_rate=0.300000012, max_bin=256, max_cat_to_onehot=4,\n",
       "              max_delta_step=0, max_depth=6, max_leaves=0, min_child_weight=1,\n",
       "              missing=nan, monotone_constraints='()', n_estimators=100, n_jobs=0,\n",
       "              num_parallel_tree=1, predictor='auto', random_state=0, reg_alpha=0,\n",
       "              reg_lambda=1, ...),\n",
       " 'columntransformer__n_jobs': None,\n",
       " 'columntransformer__remainder': 'drop',\n",
       " 'columntransformer__sparse_threshold': 0.3,\n",
       " 'columntransformer__transformer_weights': None,\n",
       " 'columntransformer__transformers': [('num_tr',\n",
       "   Pipeline(steps=[('simpleimputer', SimpleImputer()),\n",
       "                   ('minmaxscaler', MinMaxScaler())]),\n",
       "   <sklearn.compose._column_transformer.make_column_selector at 0x1263c9ad0>),\n",
       "  ('cat_tr',\n",
       "   Pipeline(steps=[('simpleimputer', SimpleImputer(strategy='most_frequent')),\n",
       "                   ('onehotencoder',\n",
       "                    OneHotEncoder(handle_unknown='ignore', sparse='False'))]),\n",
       "   ['MSZoning',\n",
       "    'Street',\n",
       "    'Alley',\n",
       "    'LotShape',\n",
       "    'LandContour',\n",
       "    'Utilities',\n",
       "    'LotConfig',\n",
       "    'LandSlope',\n",
       "    'BldgType',\n",
       "    'RoofStyle',\n",
       "    'MasVnrType',\n",
       "    'ExterQual',\n",
       "    'ExterCond',\n",
       "    'Foundation',\n",
       "    'BsmtQual',\n",
       "    'BsmtCond',\n",
       "    'BsmtExposure',\n",
       "    'BsmtFinType1',\n",
       "    'BsmtFinType2',\n",
       "    'Heating',\n",
       "    'HeatingQC',\n",
       "    'CentralAir',\n",
       "    'Electrical',\n",
       "    'KitchenQual',\n",
       "    'FireplaceQu',\n",
       "    'GarageType',\n",
       "    'GarageFinish',\n",
       "    'GarageQual',\n",
       "    'GarageCond',\n",
       "    'PavedDrive',\n",
       "    'PoolQC',\n",
       "    'Fence',\n",
       "    'MiscFeature',\n",
       "    'SaleCondition'])],\n",
       " 'columntransformer__verbose': False,\n",
       " 'columntransformer__verbose_feature_names_out': True,\n",
       " 'columntransformer__num_tr': Pipeline(steps=[('simpleimputer', SimpleImputer()),\n",
       "                 ('minmaxscaler', MinMaxScaler())]),\n",
       " 'columntransformer__cat_tr': Pipeline(steps=[('simpleimputer', SimpleImputer(strategy='most_frequent')),\n",
       "                 ('onehotencoder',\n",
       "                  OneHotEncoder(handle_unknown='ignore', sparse='False'))]),\n",
       " 'columntransformer__num_tr__memory': None,\n",
       " 'columntransformer__num_tr__steps': [('simpleimputer', SimpleImputer()),\n",
       "  ('minmaxscaler', MinMaxScaler())],\n",
       " 'columntransformer__num_tr__verbose': False,\n",
       " 'columntransformer__num_tr__simpleimputer': SimpleImputer(),\n",
       " 'columntransformer__num_tr__minmaxscaler': MinMaxScaler(),\n",
       " 'columntransformer__num_tr__simpleimputer__add_indicator': False,\n",
       " 'columntransformer__num_tr__simpleimputer__copy': True,\n",
       " 'columntransformer__num_tr__simpleimputer__fill_value': None,\n",
       " 'columntransformer__num_tr__simpleimputer__missing_values': nan,\n",
       " 'columntransformer__num_tr__simpleimputer__strategy': 'mean',\n",
       " 'columntransformer__num_tr__simpleimputer__verbose': 0,\n",
       " 'columntransformer__num_tr__minmaxscaler__clip': False,\n",
       " 'columntransformer__num_tr__minmaxscaler__copy': True,\n",
       " 'columntransformer__num_tr__minmaxscaler__feature_range': (0, 1),\n",
       " 'columntransformer__cat_tr__memory': None,\n",
       " 'columntransformer__cat_tr__steps': [('simpleimputer',\n",
       "   SimpleImputer(strategy='most_frequent')),\n",
       "  ('onehotencoder', OneHotEncoder(handle_unknown='ignore', sparse='False'))],\n",
       " 'columntransformer__cat_tr__verbose': False,\n",
       " 'columntransformer__cat_tr__simpleimputer': SimpleImputer(strategy='most_frequent'),\n",
       " 'columntransformer__cat_tr__onehotencoder': OneHotEncoder(handle_unknown='ignore', sparse='False'),\n",
       " 'columntransformer__cat_tr__simpleimputer__add_indicator': False,\n",
       " 'columntransformer__cat_tr__simpleimputer__copy': True,\n",
       " 'columntransformer__cat_tr__simpleimputer__fill_value': None,\n",
       " 'columntransformer__cat_tr__simpleimputer__missing_values': nan,\n",
       " 'columntransformer__cat_tr__simpleimputer__strategy': 'most_frequent',\n",
       " 'columntransformer__cat_tr__simpleimputer__verbose': 0,\n",
       " 'columntransformer__cat_tr__onehotencoder__categories': 'auto',\n",
       " 'columntransformer__cat_tr__onehotencoder__drop': None,\n",
       " 'columntransformer__cat_tr__onehotencoder__dtype': numpy.float64,\n",
       " 'columntransformer__cat_tr__onehotencoder__handle_unknown': 'ignore',\n",
       " 'columntransformer__cat_tr__onehotencoder__sparse': 'False',\n",
       " 'xgbregressor__objective': 'reg:squarederror',\n",
       " 'xgbregressor__base_score': 0.5,\n",
       " 'xgbregressor__booster': 'gbtree',\n",
       " 'xgbregressor__callbacks': None,\n",
       " 'xgbregressor__colsample_bylevel': 1,\n",
       " 'xgbregressor__colsample_bynode': 1,\n",
       " 'xgbregressor__colsample_bytree': 1,\n",
       " 'xgbregressor__early_stopping_rounds': None,\n",
       " 'xgbregressor__enable_categorical': False,\n",
       " 'xgbregressor__eval_metric': None,\n",
       " 'xgbregressor__gamma': 0,\n",
       " 'xgbregressor__gpu_id': -1,\n",
       " 'xgbregressor__grow_policy': 'depthwise',\n",
       " 'xgbregressor__importance_type': None,\n",
       " 'xgbregressor__interaction_constraints': '',\n",
       " 'xgbregressor__learning_rate': 0.300000012,\n",
       " 'xgbregressor__max_bin': 256,\n",
       " 'xgbregressor__max_cat_to_onehot': 4,\n",
       " 'xgbregressor__max_delta_step': 0,\n",
       " 'xgbregressor__max_depth': 6,\n",
       " 'xgbregressor__max_leaves': 0,\n",
       " 'xgbregressor__min_child_weight': 1,\n",
       " 'xgbregressor__missing': nan,\n",
       " 'xgbregressor__monotone_constraints': '()',\n",
       " 'xgbregressor__n_estimators': 100,\n",
       " 'xgbregressor__n_jobs': 0,\n",
       " 'xgbregressor__num_parallel_tree': 1,\n",
       " 'xgbregressor__predictor': 'auto',\n",
       " 'xgbregressor__random_state': 0,\n",
       " 'xgbregressor__reg_alpha': 0,\n",
       " 'xgbregressor__reg_lambda': 1,\n",
       " 'xgbregressor__sampling_method': 'uniform',\n",
       " 'xgbregressor__scale_pos_weight': 1,\n",
       " 'xgbregressor__subsample': 1,\n",
       " 'xgbregressor__tree_method': 'exact',\n",
       " 'xgbregressor__validate_parameters': 1,\n",
       " 'xgbregressor__verbosity': None}"
      ]
     },
     "execution_count": 226,
     "metadata": {},
     "output_type": "execute_result"
    }
   ],
   "source": [
    "pipe_xgb.get_params()"
   ]
  },
  {
   "cell_type": "code",
   "execution_count": 234,
   "metadata": {},
   "outputs": [
    {
     "data": {
      "text/plain": [
       "{'xgbregressor__colsample_bytree': 0.7,\n",
       " 'xgbregressor__learning_rate': 0.01,\n",
       " 'xgbregressor__max_depth': 10,\n",
       " 'xgbregressor__n_estimators': 100}"
      ]
     },
     "execution_count": 234,
     "metadata": {},
     "output_type": "execute_result"
    }
   ],
   "source": [
    "params = { 'max_depth': [3,6,10],\n",
    "           'learning_rate': [0.01, 0.05, 0.1],\n",
    "           'n_estimators': [100, 500, 1000],\n",
    "           'colsample_bytree': [0.3, 0.7]}\n",
    "xgbr = XGBRegressor(seed = 20)\n",
    "pipe_xgb = make_pipeline(preprocessor, xgbr)\n",
    "grid_search = GridSearchCV(\n",
    "    pipe_xgb,\n",
    "    param_grid={\n",
    "        # Access any component of the Pipeline, as far back as you want\n",
    "        'xgbregressor__max_depth': [3,6,10],\n",
    "        'xgbregressor__learning_rate': [0.01, 0.05, 0.1],\n",
    "        'xgbregressor__n_estimators': [100, 500, 1000],\n",
    "        'xgbregressor__colsample_bytree': [0.3, 0.7]\n",
    "    },\n",
    "    cv=5,\n",
    "    scoring=rmsle)\n",
    "grid_search.fit(X, y)\n",
    "grid_search.best_params_\n",
    "# clf.fit(X, y)"
   ]
  },
  {
   "cell_type": "code",
   "execution_count": 220,
   "metadata": {},
   "outputs": [
    {
     "data": {
      "text/plain": [
       "{'memory': None,\n",
       " 'steps': [('columntransformer',\n",
       "   ColumnTransformer(transformers=[('num_tr',\n",
       "                                    Pipeline(steps=[('simpleimputer',\n",
       "                                                     SimpleImputer()),\n",
       "                                                    ('minmaxscaler',\n",
       "                                                     MinMaxScaler())]),\n",
       "                                    <sklearn.compose._column_transformer.make_column_selector object at 0x1263c9ad0>),\n",
       "                                   ('cat_tr',\n",
       "                                    Pipeline(steps=[('simpleimputer',\n",
       "                                                     SimpleImputer(strategy='most_frequent')),\n",
       "                                                    ('onehotencoder',\n",
       "                                                     OneHotEncoder(handle_unknown='ignore',\n",
       "                                                                   sparse...\n",
       "                                    ['MSZoning', 'Street', 'Alley', 'LotShape',\n",
       "                                     'LandContour', 'Utilities', 'LotConfig',\n",
       "                                     'LandSlope', 'BldgType', 'RoofStyle',\n",
       "                                     'MasVnrType', 'ExterQual', 'ExterCond',\n",
       "                                     'Foundation', 'BsmtQual', 'BsmtCond',\n",
       "                                     'BsmtExposure', 'BsmtFinType1',\n",
       "                                     'BsmtFinType2', 'Heating', 'HeatingQC',\n",
       "                                     'CentralAir', 'Electrical', 'KitchenQual',\n",
       "                                     'FireplaceQu', 'GarageType', 'GarageFinish',\n",
       "                                     'GarageQual', 'GarageCond', 'PavedDrive', ...])])),\n",
       "  ('xgbregressor',\n",
       "   XGBRegressor(base_score=0.5, booster='gbtree', callbacks=None,\n",
       "                colsample_bylevel=1, colsample_bynode=1, colsample_bytree=1,\n",
       "                early_stopping_rounds=None, enable_categorical=False,\n",
       "                eval_metric=None, gamma=0, gpu_id=-1, grow_policy='depthwise',\n",
       "                importance_type=None, interaction_constraints='',\n",
       "                learning_rate=0.1, max_bin=256, max_cat_to_onehot=4,\n",
       "                max_delta_step=0, max_depth=10, max_leaves=0, min_child_weight=1,\n",
       "                missing=nan, monotone_constraints='()', n_estimators=100, n_jobs=0,\n",
       "                num_parallel_tree=1, predictor='auto', random_state=0, reg_alpha=0,\n",
       "                reg_lambda=1, ...))],\n",
       " 'verbose': False,\n",
       " 'columntransformer': ColumnTransformer(transformers=[('num_tr',\n",
       "                                  Pipeline(steps=[('simpleimputer',\n",
       "                                                   SimpleImputer()),\n",
       "                                                  ('minmaxscaler',\n",
       "                                                   MinMaxScaler())]),\n",
       "                                  <sklearn.compose._column_transformer.make_column_selector object at 0x1263c9ad0>),\n",
       "                                 ('cat_tr',\n",
       "                                  Pipeline(steps=[('simpleimputer',\n",
       "                                                   SimpleImputer(strategy='most_frequent')),\n",
       "                                                  ('onehotencoder',\n",
       "                                                   OneHotEncoder(handle_unknown='ignore',\n",
       "                                                                 sparse...\n",
       "                                  ['MSZoning', 'Street', 'Alley', 'LotShape',\n",
       "                                   'LandContour', 'Utilities', 'LotConfig',\n",
       "                                   'LandSlope', 'BldgType', 'RoofStyle',\n",
       "                                   'MasVnrType', 'ExterQual', 'ExterCond',\n",
       "                                   'Foundation', 'BsmtQual', 'BsmtCond',\n",
       "                                   'BsmtExposure', 'BsmtFinType1',\n",
       "                                   'BsmtFinType2', 'Heating', 'HeatingQC',\n",
       "                                   'CentralAir', 'Electrical', 'KitchenQual',\n",
       "                                   'FireplaceQu', 'GarageType', 'GarageFinish',\n",
       "                                   'GarageQual', 'GarageCond', 'PavedDrive', ...])]),\n",
       " 'xgbregressor': XGBRegressor(base_score=0.5, booster='gbtree', callbacks=None,\n",
       "              colsample_bylevel=1, colsample_bynode=1, colsample_bytree=1,\n",
       "              early_stopping_rounds=None, enable_categorical=False,\n",
       "              eval_metric=None, gamma=0, gpu_id=-1, grow_policy='depthwise',\n",
       "              importance_type=None, interaction_constraints='',\n",
       "              learning_rate=0.1, max_bin=256, max_cat_to_onehot=4,\n",
       "              max_delta_step=0, max_depth=10, max_leaves=0, min_child_weight=1,\n",
       "              missing=nan, monotone_constraints='()', n_estimators=100, n_jobs=0,\n",
       "              num_parallel_tree=1, predictor='auto', random_state=0, reg_alpha=0,\n",
       "              reg_lambda=1, ...),\n",
       " 'columntransformer__n_jobs': None,\n",
       " 'columntransformer__remainder': 'drop',\n",
       " 'columntransformer__sparse_threshold': 0.3,\n",
       " 'columntransformer__transformer_weights': None,\n",
       " 'columntransformer__transformers': [('num_tr',\n",
       "   Pipeline(steps=[('simpleimputer', SimpleImputer()),\n",
       "                   ('minmaxscaler', MinMaxScaler())]),\n",
       "   <sklearn.compose._column_transformer.make_column_selector at 0x1263c9ad0>),\n",
       "  ('cat_tr',\n",
       "   Pipeline(steps=[('simpleimputer', SimpleImputer(strategy='most_frequent')),\n",
       "                   ('onehotencoder',\n",
       "                    OneHotEncoder(handle_unknown='ignore', sparse='False'))]),\n",
       "   ['MSZoning',\n",
       "    'Street',\n",
       "    'Alley',\n",
       "    'LotShape',\n",
       "    'LandContour',\n",
       "    'Utilities',\n",
       "    'LotConfig',\n",
       "    'LandSlope',\n",
       "    'BldgType',\n",
       "    'RoofStyle',\n",
       "    'MasVnrType',\n",
       "    'ExterQual',\n",
       "    'ExterCond',\n",
       "    'Foundation',\n",
       "    'BsmtQual',\n",
       "    'BsmtCond',\n",
       "    'BsmtExposure',\n",
       "    'BsmtFinType1',\n",
       "    'BsmtFinType2',\n",
       "    'Heating',\n",
       "    'HeatingQC',\n",
       "    'CentralAir',\n",
       "    'Electrical',\n",
       "    'KitchenQual',\n",
       "    'FireplaceQu',\n",
       "    'GarageType',\n",
       "    'GarageFinish',\n",
       "    'GarageQual',\n",
       "    'GarageCond',\n",
       "    'PavedDrive',\n",
       "    'PoolQC',\n",
       "    'Fence',\n",
       "    'MiscFeature',\n",
       "    'SaleCondition'])],\n",
       " 'columntransformer__verbose': False,\n",
       " 'columntransformer__verbose_feature_names_out': True,\n",
       " 'columntransformer__num_tr': Pipeline(steps=[('simpleimputer', SimpleImputer()),\n",
       "                 ('minmaxscaler', MinMaxScaler())]),\n",
       " 'columntransformer__cat_tr': Pipeline(steps=[('simpleimputer', SimpleImputer(strategy='most_frequent')),\n",
       "                 ('onehotencoder',\n",
       "                  OneHotEncoder(handle_unknown='ignore', sparse='False'))]),\n",
       " 'columntransformer__num_tr__memory': None,\n",
       " 'columntransformer__num_tr__steps': [('simpleimputer', SimpleImputer()),\n",
       "  ('minmaxscaler', MinMaxScaler())],\n",
       " 'columntransformer__num_tr__verbose': False,\n",
       " 'columntransformer__num_tr__simpleimputer': SimpleImputer(),\n",
       " 'columntransformer__num_tr__minmaxscaler': MinMaxScaler(),\n",
       " 'columntransformer__num_tr__simpleimputer__add_indicator': False,\n",
       " 'columntransformer__num_tr__simpleimputer__copy': True,\n",
       " 'columntransformer__num_tr__simpleimputer__fill_value': None,\n",
       " 'columntransformer__num_tr__simpleimputer__missing_values': nan,\n",
       " 'columntransformer__num_tr__simpleimputer__strategy': 'mean',\n",
       " 'columntransformer__num_tr__simpleimputer__verbose': 0,\n",
       " 'columntransformer__num_tr__minmaxscaler__clip': False,\n",
       " 'columntransformer__num_tr__minmaxscaler__copy': True,\n",
       " 'columntransformer__num_tr__minmaxscaler__feature_range': (0, 1),\n",
       " 'columntransformer__cat_tr__memory': None,\n",
       " 'columntransformer__cat_tr__steps': [('simpleimputer',\n",
       "   SimpleImputer(strategy='most_frequent')),\n",
       "  ('onehotencoder', OneHotEncoder(handle_unknown='ignore', sparse='False'))],\n",
       " 'columntransformer__cat_tr__verbose': False,\n",
       " 'columntransformer__cat_tr__simpleimputer': SimpleImputer(strategy='most_frequent'),\n",
       " 'columntransformer__cat_tr__onehotencoder': OneHotEncoder(handle_unknown='ignore', sparse='False'),\n",
       " 'columntransformer__cat_tr__simpleimputer__add_indicator': False,\n",
       " 'columntransformer__cat_tr__simpleimputer__copy': True,\n",
       " 'columntransformer__cat_tr__simpleimputer__fill_value': None,\n",
       " 'columntransformer__cat_tr__simpleimputer__missing_values': nan,\n",
       " 'columntransformer__cat_tr__simpleimputer__strategy': 'most_frequent',\n",
       " 'columntransformer__cat_tr__simpleimputer__verbose': 0,\n",
       " 'columntransformer__cat_tr__onehotencoder__categories': 'auto',\n",
       " 'columntransformer__cat_tr__onehotencoder__drop': None,\n",
       " 'columntransformer__cat_tr__onehotencoder__dtype': numpy.float64,\n",
       " 'columntransformer__cat_tr__onehotencoder__handle_unknown': 'ignore',\n",
       " 'columntransformer__cat_tr__onehotencoder__sparse': 'False',\n",
       " 'xgbregressor__objective': 'reg:squarederror',\n",
       " 'xgbregressor__base_score': 0.5,\n",
       " 'xgbregressor__booster': 'gbtree',\n",
       " 'xgbregressor__callbacks': None,\n",
       " 'xgbregressor__colsample_bylevel': 1,\n",
       " 'xgbregressor__colsample_bynode': 1,\n",
       " 'xgbregressor__colsample_bytree': 1,\n",
       " 'xgbregressor__early_stopping_rounds': None,\n",
       " 'xgbregressor__enable_categorical': False,\n",
       " 'xgbregressor__eval_metric': None,\n",
       " 'xgbregressor__gamma': 0,\n",
       " 'xgbregressor__gpu_id': -1,\n",
       " 'xgbregressor__grow_policy': 'depthwise',\n",
       " 'xgbregressor__importance_type': None,\n",
       " 'xgbregressor__interaction_constraints': '',\n",
       " 'xgbregressor__learning_rate': 0.1,\n",
       " 'xgbregressor__max_bin': 256,\n",
       " 'xgbregressor__max_cat_to_onehot': 4,\n",
       " 'xgbregressor__max_delta_step': 0,\n",
       " 'xgbregressor__max_depth': 10,\n",
       " 'xgbregressor__max_leaves': 0,\n",
       " 'xgbregressor__min_child_weight': 1,\n",
       " 'xgbregressor__missing': nan,\n",
       " 'xgbregressor__monotone_constraints': '()',\n",
       " 'xgbregressor__n_estimators': 100,\n",
       " 'xgbregressor__n_jobs': 0,\n",
       " 'xgbregressor__num_parallel_tree': 1,\n",
       " 'xgbregressor__predictor': 'auto',\n",
       " 'xgbregressor__random_state': 0,\n",
       " 'xgbregressor__reg_alpha': 0,\n",
       " 'xgbregressor__reg_lambda': 1,\n",
       " 'xgbregressor__sampling_method': 'uniform',\n",
       " 'xgbregressor__scale_pos_weight': 1,\n",
       " 'xgbregressor__subsample': 1,\n",
       " 'xgbregressor__tree_method': 'exact',\n",
       " 'xgbregressor__validate_parameters': 1,\n",
       " 'xgbregressor__verbosity': None}"
      ]
     },
     "execution_count": 220,
     "metadata": {},
     "output_type": "execute_result"
    }
   ],
   "source": [
    "pipe_xgb.get_params()"
   ]
  },
  {
   "cell_type": "code",
   "execution_count": null,
   "metadata": {},
   "outputs": [],
   "source": [
    "grid_search = GridSearchCV(\n",
    "    pipe_xgb, \n",
    "    param_grid={\n",
    "        # Access any component of the Pipeline, as far back as you want\n",
    "        'xgbregressor__max_depth': ['mean', 'median'],\n",
    "        'ridge__alpha': [0.1, 0.5, 1, 5, 10]\n",
    "    },\n",
    "    cv=5,\n",
    "    scoring=\"r2\")\n",
    "\n",
    "grid_search.fit(X, y)\n",
    "\n",
    "grid_search.best_params_"
   ]
  },
  {
   "cell_type": "code",
   "execution_count": 251,
   "metadata": {},
   "outputs": [],
   "source": [
    "from sklearn.ensemble import VotingRegressor\n",
    "from sklearn.linear_model import LinearRegression\n",
    "from sklearn.ensemble import RandomForestRegressor\n",
    "from sklearn.neighbors import KNeighborsRegressor\n",
    "\n",
    "# forest = RandomForestRegressor()\n",
    "# lr = LinearRegression()\n",
    "# r3 = KNeighborsRegressor()\n",
    "\n",
    "gbt = GradientBoostingRegressor()\n",
    "# lr = LinearRegression().fit(x_train, y_train)\n",
    "xgb = XGBRegressor()\n",
    "ensemble = VotingRegressor([('gbt', gbt), ('xgb', xgb)], weights=[0.7, 0.3])\n",
    "# rf = RandomForestRegressor().fit(x_train, y_train)\n",
    "# dt = DecisionTreeRegressor().fit(x_train, y_train)\n",
    "# ensemble = "
   ]
  },
  {
   "cell_type": "code",
   "execution_count": 252,
   "metadata": {},
   "outputs": [
    {
     "data": {
      "text/html": [
       "<style>#sk-28531c21-8d19-49b6-9444-76f0159c1e43 {color: black;background-color: white;}#sk-28531c21-8d19-49b6-9444-76f0159c1e43 pre{padding: 0;}#sk-28531c21-8d19-49b6-9444-76f0159c1e43 div.sk-toggleable {background-color: white;}#sk-28531c21-8d19-49b6-9444-76f0159c1e43 label.sk-toggleable__label {cursor: pointer;display: block;width: 100%;margin-bottom: 0;padding: 0.3em;box-sizing: border-box;text-align: center;}#sk-28531c21-8d19-49b6-9444-76f0159c1e43 label.sk-toggleable__label-arrow:before {content: \"▸\";float: left;margin-right: 0.25em;color: #696969;}#sk-28531c21-8d19-49b6-9444-76f0159c1e43 label.sk-toggleable__label-arrow:hover:before {color: black;}#sk-28531c21-8d19-49b6-9444-76f0159c1e43 div.sk-estimator:hover label.sk-toggleable__label-arrow:before {color: black;}#sk-28531c21-8d19-49b6-9444-76f0159c1e43 div.sk-toggleable__content {max-height: 0;max-width: 0;overflow: hidden;text-align: left;background-color: #f0f8ff;}#sk-28531c21-8d19-49b6-9444-76f0159c1e43 div.sk-toggleable__content pre {margin: 0.2em;color: black;border-radius: 0.25em;background-color: #f0f8ff;}#sk-28531c21-8d19-49b6-9444-76f0159c1e43 input.sk-toggleable__control:checked~div.sk-toggleable__content {max-height: 200px;max-width: 100%;overflow: auto;}#sk-28531c21-8d19-49b6-9444-76f0159c1e43 input.sk-toggleable__control:checked~label.sk-toggleable__label-arrow:before {content: \"▾\";}#sk-28531c21-8d19-49b6-9444-76f0159c1e43 div.sk-estimator input.sk-toggleable__control:checked~label.sk-toggleable__label {background-color: #d4ebff;}#sk-28531c21-8d19-49b6-9444-76f0159c1e43 div.sk-label input.sk-toggleable__control:checked~label.sk-toggleable__label {background-color: #d4ebff;}#sk-28531c21-8d19-49b6-9444-76f0159c1e43 input.sk-hidden--visually {border: 0;clip: rect(1px 1px 1px 1px);clip: rect(1px, 1px, 1px, 1px);height: 1px;margin: -1px;overflow: hidden;padding: 0;position: absolute;width: 1px;}#sk-28531c21-8d19-49b6-9444-76f0159c1e43 div.sk-estimator {font-family: monospace;background-color: #f0f8ff;border: 1px dotted black;border-radius: 0.25em;box-sizing: border-box;margin-bottom: 0.5em;}#sk-28531c21-8d19-49b6-9444-76f0159c1e43 div.sk-estimator:hover {background-color: #d4ebff;}#sk-28531c21-8d19-49b6-9444-76f0159c1e43 div.sk-parallel-item::after {content: \"\";width: 100%;border-bottom: 1px solid gray;flex-grow: 1;}#sk-28531c21-8d19-49b6-9444-76f0159c1e43 div.sk-label:hover label.sk-toggleable__label {background-color: #d4ebff;}#sk-28531c21-8d19-49b6-9444-76f0159c1e43 div.sk-serial::before {content: \"\";position: absolute;border-left: 1px solid gray;box-sizing: border-box;top: 2em;bottom: 0;left: 50%;}#sk-28531c21-8d19-49b6-9444-76f0159c1e43 div.sk-serial {display: flex;flex-direction: column;align-items: center;background-color: white;padding-right: 0.2em;padding-left: 0.2em;}#sk-28531c21-8d19-49b6-9444-76f0159c1e43 div.sk-item {z-index: 1;}#sk-28531c21-8d19-49b6-9444-76f0159c1e43 div.sk-parallel {display: flex;align-items: stretch;justify-content: center;background-color: white;}#sk-28531c21-8d19-49b6-9444-76f0159c1e43 div.sk-parallel::before {content: \"\";position: absolute;border-left: 1px solid gray;box-sizing: border-box;top: 2em;bottom: 0;left: 50%;}#sk-28531c21-8d19-49b6-9444-76f0159c1e43 div.sk-parallel-item {display: flex;flex-direction: column;position: relative;background-color: white;}#sk-28531c21-8d19-49b6-9444-76f0159c1e43 div.sk-parallel-item:first-child::after {align-self: flex-end;width: 50%;}#sk-28531c21-8d19-49b6-9444-76f0159c1e43 div.sk-parallel-item:last-child::after {align-self: flex-start;width: 50%;}#sk-28531c21-8d19-49b6-9444-76f0159c1e43 div.sk-parallel-item:only-child::after {width: 0;}#sk-28531c21-8d19-49b6-9444-76f0159c1e43 div.sk-dashed-wrapped {border: 1px dashed gray;margin: 0 0.4em 0.5em 0.4em;box-sizing: border-box;padding-bottom: 0.4em;background-color: white;position: relative;}#sk-28531c21-8d19-49b6-9444-76f0159c1e43 div.sk-label label {font-family: monospace;font-weight: bold;background-color: white;display: inline-block;line-height: 1.2em;}#sk-28531c21-8d19-49b6-9444-76f0159c1e43 div.sk-label-container {position: relative;z-index: 2;text-align: center;}#sk-28531c21-8d19-49b6-9444-76f0159c1e43 div.sk-container {/* jupyter's `normalize.less` sets `[hidden] { display: none; }` but bootstrap.min.css set `[hidden] { display: none !important; }` so we also need the `!important` here to be able to override the default hidden behavior on the sphinx rendered scikit-learn.org. See: https://github.com/scikit-learn/scikit-learn/issues/21755 */display: inline-block !important;position: relative;}#sk-28531c21-8d19-49b6-9444-76f0159c1e43 div.sk-text-repr-fallback {display: none;}</style><div id=\"sk-28531c21-8d19-49b6-9444-76f0159c1e43\" class=\"sk-top-container\"><div class=\"sk-text-repr-fallback\"><pre>Pipeline(steps=[(&#x27;columntransformer&#x27;,\n",
       "                 ColumnTransformer(transformers=[(&#x27;num_tr&#x27;,\n",
       "                                                  Pipeline(steps=[(&#x27;simpleimputer&#x27;,\n",
       "                                                                   SimpleImputer()),\n",
       "                                                                  (&#x27;minmaxscaler&#x27;,\n",
       "                                                                   MinMaxScaler())]),\n",
       "                                                  &lt;sklearn.compose._column_transformer.make_column_selector object at 0x1263c9ad0&gt;),\n",
       "                                                 (&#x27;cat_tr&#x27;,\n",
       "                                                  Pipeline(steps=[(&#x27;simpleimputer&#x27;,\n",
       "                                                                   SimpleImputer(strategy=&#x27;most_frequent&#x27;)),\n",
       "                                                                  (&#x27;onehotencoder&#x27;,\n",
       "                                                                   OneHotE...\n",
       "                                                           importance_type=None,\n",
       "                                                           interaction_constraints=None,\n",
       "                                                           learning_rate=None,\n",
       "                                                           max_bin=None,\n",
       "                                                           max_cat_to_onehot=None,\n",
       "                                                           max_delta_step=None,\n",
       "                                                           max_depth=None,\n",
       "                                                           max_leaves=None,\n",
       "                                                           min_child_weight=None,\n",
       "                                                           missing=nan,\n",
       "                                                           monotone_constraints=None,\n",
       "                                                           n_estimators=100,\n",
       "                                                           n_jobs=None,\n",
       "                                                           num_parallel_tree=None,\n",
       "                                                           predictor=None,\n",
       "                                                           random_state=None,\n",
       "                                                           reg_alpha=None,\n",
       "                                                           reg_lambda=None, ...))],\n",
       "                                 weights=[0.7, 0.3]))])</pre><b>Please rerun this cell to show the HTML repr or trust the notebook.</b></div><div class=\"sk-container\" hidden><div class=\"sk-item sk-dashed-wrapped\"><div class=\"sk-label-container\"><div class=\"sk-label sk-toggleable\"><input class=\"sk-toggleable__control sk-hidden--visually\" id=\"4eea1c19-108f-4d5f-9a8e-9242aa4b9835\" type=\"checkbox\" ><label for=\"4eea1c19-108f-4d5f-9a8e-9242aa4b9835\" class=\"sk-toggleable__label sk-toggleable__label-arrow\">Pipeline</label><div class=\"sk-toggleable__content\"><pre>Pipeline(steps=[(&#x27;columntransformer&#x27;,\n",
       "                 ColumnTransformer(transformers=[(&#x27;num_tr&#x27;,\n",
       "                                                  Pipeline(steps=[(&#x27;simpleimputer&#x27;,\n",
       "                                                                   SimpleImputer()),\n",
       "                                                                  (&#x27;minmaxscaler&#x27;,\n",
       "                                                                   MinMaxScaler())]),\n",
       "                                                  &lt;sklearn.compose._column_transformer.make_column_selector object at 0x1263c9ad0&gt;),\n",
       "                                                 (&#x27;cat_tr&#x27;,\n",
       "                                                  Pipeline(steps=[(&#x27;simpleimputer&#x27;,\n",
       "                                                                   SimpleImputer(strategy=&#x27;most_frequent&#x27;)),\n",
       "                                                                  (&#x27;onehotencoder&#x27;,\n",
       "                                                                   OneHotE...\n",
       "                                                           importance_type=None,\n",
       "                                                           interaction_constraints=None,\n",
       "                                                           learning_rate=None,\n",
       "                                                           max_bin=None,\n",
       "                                                           max_cat_to_onehot=None,\n",
       "                                                           max_delta_step=None,\n",
       "                                                           max_depth=None,\n",
       "                                                           max_leaves=None,\n",
       "                                                           min_child_weight=None,\n",
       "                                                           missing=nan,\n",
       "                                                           monotone_constraints=None,\n",
       "                                                           n_estimators=100,\n",
       "                                                           n_jobs=None,\n",
       "                                                           num_parallel_tree=None,\n",
       "                                                           predictor=None,\n",
       "                                                           random_state=None,\n",
       "                                                           reg_alpha=None,\n",
       "                                                           reg_lambda=None, ...))],\n",
       "                                 weights=[0.7, 0.3]))])</pre></div></div></div><div class=\"sk-serial\"><div class=\"sk-item sk-dashed-wrapped\"><div class=\"sk-label-container\"><div class=\"sk-label sk-toggleable\"><input class=\"sk-toggleable__control sk-hidden--visually\" id=\"04b694f3-c33d-4917-be7f-6fab2bec6c30\" type=\"checkbox\" ><label for=\"04b694f3-c33d-4917-be7f-6fab2bec6c30\" class=\"sk-toggleable__label sk-toggleable__label-arrow\">columntransformer: ColumnTransformer</label><div class=\"sk-toggleable__content\"><pre>ColumnTransformer(transformers=[(&#x27;num_tr&#x27;,\n",
       "                                 Pipeline(steps=[(&#x27;simpleimputer&#x27;,\n",
       "                                                  SimpleImputer()),\n",
       "                                                 (&#x27;minmaxscaler&#x27;,\n",
       "                                                  MinMaxScaler())]),\n",
       "                                 &lt;sklearn.compose._column_transformer.make_column_selector object at 0x1263c9ad0&gt;),\n",
       "                                (&#x27;cat_tr&#x27;,\n",
       "                                 Pipeline(steps=[(&#x27;simpleimputer&#x27;,\n",
       "                                                  SimpleImputer(strategy=&#x27;most_frequent&#x27;)),\n",
       "                                                 (&#x27;onehotencoder&#x27;,\n",
       "                                                  OneHotEncoder(handle_unknown=&#x27;ignore&#x27;,\n",
       "                                                                sparse...\n",
       "                                 [&#x27;MSZoning&#x27;, &#x27;Street&#x27;, &#x27;Alley&#x27;, &#x27;LotShape&#x27;,\n",
       "                                  &#x27;LandContour&#x27;, &#x27;Utilities&#x27;, &#x27;LotConfig&#x27;,\n",
       "                                  &#x27;LandSlope&#x27;, &#x27;BldgType&#x27;, &#x27;RoofStyle&#x27;,\n",
       "                                  &#x27;MasVnrType&#x27;, &#x27;ExterQual&#x27;, &#x27;ExterCond&#x27;,\n",
       "                                  &#x27;Foundation&#x27;, &#x27;BsmtQual&#x27;, &#x27;BsmtCond&#x27;,\n",
       "                                  &#x27;BsmtExposure&#x27;, &#x27;BsmtFinType1&#x27;,\n",
       "                                  &#x27;BsmtFinType2&#x27;, &#x27;Heating&#x27;, &#x27;HeatingQC&#x27;,\n",
       "                                  &#x27;CentralAir&#x27;, &#x27;Electrical&#x27;, &#x27;KitchenQual&#x27;,\n",
       "                                  &#x27;FireplaceQu&#x27;, &#x27;GarageType&#x27;, &#x27;GarageFinish&#x27;,\n",
       "                                  &#x27;GarageQual&#x27;, &#x27;GarageCond&#x27;, &#x27;PavedDrive&#x27;, ...])])</pre></div></div></div><div class=\"sk-parallel\"><div class=\"sk-parallel-item\"><div class=\"sk-item\"><div class=\"sk-label-container\"><div class=\"sk-label sk-toggleable\"><input class=\"sk-toggleable__control sk-hidden--visually\" id=\"55d9f354-9b6c-493e-92a9-421911823470\" type=\"checkbox\" ><label for=\"55d9f354-9b6c-493e-92a9-421911823470\" class=\"sk-toggleable__label sk-toggleable__label-arrow\">num_tr</label><div class=\"sk-toggleable__content\"><pre>&lt;sklearn.compose._column_transformer.make_column_selector object at 0x1263c9ad0&gt;</pre></div></div></div><div class=\"sk-serial\"><div class=\"sk-item\"><div class=\"sk-serial\"><div class=\"sk-item\"><div class=\"sk-estimator sk-toggleable\"><input class=\"sk-toggleable__control sk-hidden--visually\" id=\"0c7681b3-cd79-4a26-871b-32553a1ccb7c\" type=\"checkbox\" ><label for=\"0c7681b3-cd79-4a26-871b-32553a1ccb7c\" class=\"sk-toggleable__label sk-toggleable__label-arrow\">SimpleImputer</label><div class=\"sk-toggleable__content\"><pre>SimpleImputer()</pre></div></div></div><div class=\"sk-item\"><div class=\"sk-estimator sk-toggleable\"><input class=\"sk-toggleable__control sk-hidden--visually\" id=\"95cdf39b-ab34-4ccb-97e7-2c4601c8dd97\" type=\"checkbox\" ><label for=\"95cdf39b-ab34-4ccb-97e7-2c4601c8dd97\" class=\"sk-toggleable__label sk-toggleable__label-arrow\">MinMaxScaler</label><div class=\"sk-toggleable__content\"><pre>MinMaxScaler()</pre></div></div></div></div></div></div></div></div><div class=\"sk-parallel-item\"><div class=\"sk-item\"><div class=\"sk-label-container\"><div class=\"sk-label sk-toggleable\"><input class=\"sk-toggleable__control sk-hidden--visually\" id=\"58d8aea6-e752-42b3-b318-d70e3ee23a22\" type=\"checkbox\" ><label for=\"58d8aea6-e752-42b3-b318-d70e3ee23a22\" class=\"sk-toggleable__label sk-toggleable__label-arrow\">cat_tr</label><div class=\"sk-toggleable__content\"><pre>[&#x27;MSZoning&#x27;, &#x27;Street&#x27;, &#x27;Alley&#x27;, &#x27;LotShape&#x27;, &#x27;LandContour&#x27;, &#x27;Utilities&#x27;, &#x27;LotConfig&#x27;, &#x27;LandSlope&#x27;, &#x27;BldgType&#x27;, &#x27;RoofStyle&#x27;, &#x27;MasVnrType&#x27;, &#x27;ExterQual&#x27;, &#x27;ExterCond&#x27;, &#x27;Foundation&#x27;, &#x27;BsmtQual&#x27;, &#x27;BsmtCond&#x27;, &#x27;BsmtExposure&#x27;, &#x27;BsmtFinType1&#x27;, &#x27;BsmtFinType2&#x27;, &#x27;Heating&#x27;, &#x27;HeatingQC&#x27;, &#x27;CentralAir&#x27;, &#x27;Electrical&#x27;, &#x27;KitchenQual&#x27;, &#x27;FireplaceQu&#x27;, &#x27;GarageType&#x27;, &#x27;GarageFinish&#x27;, &#x27;GarageQual&#x27;, &#x27;GarageCond&#x27;, &#x27;PavedDrive&#x27;, &#x27;PoolQC&#x27;, &#x27;Fence&#x27;, &#x27;MiscFeature&#x27;, &#x27;SaleCondition&#x27;]</pre></div></div></div><div class=\"sk-serial\"><div class=\"sk-item\"><div class=\"sk-serial\"><div class=\"sk-item\"><div class=\"sk-estimator sk-toggleable\"><input class=\"sk-toggleable__control sk-hidden--visually\" id=\"82b24de6-d663-4baa-84ba-17c794264e96\" type=\"checkbox\" ><label for=\"82b24de6-d663-4baa-84ba-17c794264e96\" class=\"sk-toggleable__label sk-toggleable__label-arrow\">SimpleImputer</label><div class=\"sk-toggleable__content\"><pre>SimpleImputer(strategy=&#x27;most_frequent&#x27;)</pre></div></div></div><div class=\"sk-item\"><div class=\"sk-estimator sk-toggleable\"><input class=\"sk-toggleable__control sk-hidden--visually\" id=\"50dd32f3-d49c-48b6-8535-0e2aa387d17b\" type=\"checkbox\" ><label for=\"50dd32f3-d49c-48b6-8535-0e2aa387d17b\" class=\"sk-toggleable__label sk-toggleable__label-arrow\">OneHotEncoder</label><div class=\"sk-toggleable__content\"><pre>OneHotEncoder(handle_unknown=&#x27;ignore&#x27;, sparse=&#x27;False&#x27;)</pre></div></div></div></div></div></div></div></div></div></div><div class=\"sk-item sk-dashed-wrapped\"><div class=\"sk-label-container\"><div class=\"sk-label sk-toggleable\"><input class=\"sk-toggleable__control sk-hidden--visually\" id=\"5937bc34-1e13-4b73-90f4-3260d3364396\" type=\"checkbox\" ><label for=\"5937bc34-1e13-4b73-90f4-3260d3364396\" class=\"sk-toggleable__label sk-toggleable__label-arrow\">votingregressor: VotingRegressor</label><div class=\"sk-toggleable__content\"><pre>VotingRegressor(estimators=[(&#x27;gbt&#x27;, GradientBoostingRegressor()),\n",
       "                            (&#x27;xgb&#x27;,\n",
       "                             XGBRegressor(base_score=None, booster=None,\n",
       "                                          callbacks=None,\n",
       "                                          colsample_bylevel=None,\n",
       "                                          colsample_bynode=None,\n",
       "                                          colsample_bytree=None,\n",
       "                                          early_stopping_rounds=None,\n",
       "                                          enable_categorical=False,\n",
       "                                          eval_metric=None, gamma=None,\n",
       "                                          gpu_id=None, grow_policy=None,\n",
       "                                          importance_type=None,\n",
       "                                          interaction_constraints=None,\n",
       "                                          learning_rate=None, max_bin=None,\n",
       "                                          max_cat_to_onehot=None,\n",
       "                                          max_delta_step=None, max_depth=None,\n",
       "                                          max_leaves=None,\n",
       "                                          min_child_weight=None, missing=nan,\n",
       "                                          monotone_constraints=None,\n",
       "                                          n_estimators=100, n_jobs=None,\n",
       "                                          num_parallel_tree=None,\n",
       "                                          predictor=None, random_state=None,\n",
       "                                          reg_alpha=None, reg_lambda=None, ...))],\n",
       "                weights=[0.7, 0.3])</pre></div></div></div><div class=\"sk-parallel\"><div class=\"sk-parallel-item\"><div class=\"sk-item\"><div class=\"sk-label-container\"><div class=\"sk-label sk-toggleable\"><label>gbt</label></div></div><div class=\"sk-serial\"><div class=\"sk-item\"><div class=\"sk-estimator sk-toggleable\"><input class=\"sk-toggleable__control sk-hidden--visually\" id=\"15ebe584-d0f9-4920-b8b6-a14c3ceb71b1\" type=\"checkbox\" ><label for=\"15ebe584-d0f9-4920-b8b6-a14c3ceb71b1\" class=\"sk-toggleable__label sk-toggleable__label-arrow\">GradientBoostingRegressor</label><div class=\"sk-toggleable__content\"><pre>GradientBoostingRegressor()</pre></div></div></div></div></div></div><div class=\"sk-parallel-item\"><div class=\"sk-item\"><div class=\"sk-label-container\"><div class=\"sk-label sk-toggleable\"><label>xgb</label></div></div><div class=\"sk-serial\"><div class=\"sk-item\"><div class=\"sk-estimator sk-toggleable\"><input class=\"sk-toggleable__control sk-hidden--visually\" id=\"a2f08fbc-b39b-4179-b34c-8da9dbb2fffa\" type=\"checkbox\" ><label for=\"a2f08fbc-b39b-4179-b34c-8da9dbb2fffa\" class=\"sk-toggleable__label sk-toggleable__label-arrow\">XGBRegressor</label><div class=\"sk-toggleable__content\"><pre>XGBRegressor(base_score=None, booster=None, callbacks=None,\n",
       "             colsample_bylevel=None, colsample_bynode=None,\n",
       "             colsample_bytree=None, early_stopping_rounds=None,\n",
       "             enable_categorical=False, eval_metric=None, gamma=None,\n",
       "             gpu_id=None, grow_policy=None, importance_type=None,\n",
       "             interaction_constraints=None, learning_rate=None, max_bin=None,\n",
       "             max_cat_to_onehot=None, max_delta_step=None, max_depth=None,\n",
       "             max_leaves=None, min_child_weight=None, missing=nan,\n",
       "             monotone_constraints=None, n_estimators=100, n_jobs=None,\n",
       "             num_parallel_tree=None, predictor=None, random_state=None,\n",
       "             reg_alpha=None, reg_lambda=None, ...)</pre></div></div></div></div></div></div></div></div></div></div></div></div>"
      ],
      "text/plain": [
       "Pipeline(steps=[('columntransformer',\n",
       "                 ColumnTransformer(transformers=[('num_tr',\n",
       "                                                  Pipeline(steps=[('simpleimputer',\n",
       "                                                                   SimpleImputer()),\n",
       "                                                                  ('minmaxscaler',\n",
       "                                                                   MinMaxScaler())]),\n",
       "                                                  <sklearn.compose._column_transformer.make_column_selector object at 0x1263c9ad0>),\n",
       "                                                 ('cat_tr',\n",
       "                                                  Pipeline(steps=[('simpleimputer',\n",
       "                                                                   SimpleImputer(strategy='most_frequent')),\n",
       "                                                                  ('onehotencoder',\n",
       "                                                                   OneHotE...\n",
       "                                                           importance_type=None,\n",
       "                                                           interaction_constraints=None,\n",
       "                                                           learning_rate=None,\n",
       "                                                           max_bin=None,\n",
       "                                                           max_cat_to_onehot=None,\n",
       "                                                           max_delta_step=None,\n",
       "                                                           max_depth=None,\n",
       "                                                           max_leaves=None,\n",
       "                                                           min_child_weight=None,\n",
       "                                                           missing=nan,\n",
       "                                                           monotone_constraints=None,\n",
       "                                                           n_estimators=100,\n",
       "                                                           n_jobs=None,\n",
       "                                                           num_parallel_tree=None,\n",
       "                                                           predictor=None,\n",
       "                                                           random_state=None,\n",
       "                                                           reg_alpha=None,\n",
       "                                                           reg_lambda=None, ...))],\n",
       "                                 weights=[0.7, 0.3]))])"
      ]
     },
     "execution_count": 252,
     "metadata": {},
     "output_type": "execute_result"
    }
   ],
   "source": [
    "pipe_stacking = make_pipeline(preprocessor, ensemble)\n",
    "pipe_stacking.fit(X, y)"
   ]
  },
  {
   "cell_type": "code",
   "execution_count": 249,
   "metadata": {},
   "outputs": [
    {
     "ename": "ValueError",
     "evalue": "Invalid parameter votingregressor for estimator Pipeline(steps=[('columntransformer',\n                 ColumnTransformer(transformers=[('num_tr',\n                                                  Pipeline(steps=[('simpleimputer',\n                                                                   SimpleImputer()),\n                                                                  ('minmaxscaler',\n                                                                   MinMaxScaler())]),\n                                                  <sklearn.compose._column_transformer.make_column_selector object at 0x126549250>),\n                                                 ('cat_tr',\n                                                  Pipeline(steps=[('simpleimputer',\n                                                                   SimpleImputer(strategy='most_frequent')),\n                                                                  ('onehotencoder',\n                                                                   OneHotE...\n                              gamma=None, gpu_id=None, grow_policy=None,\n                              importance_type=None,\n                              interaction_constraints=None, learning_rate=None,\n                              max_bin=None, max_cat_to_onehot=None,\n                              max_delta_step=None, max_depth=None,\n                              max_leaves=None, min_child_weight=None,\n                              missing=nan, monotone_constraints=None,\n                              n_estimators=100, n_jobs=None,\n                              num_parallel_tree=None, predictor=None,\n                              random_state=None, reg_alpha=None,\n                              reg_lambda=None, ...))]). Check the list of available parameters with `estimator.get_params().keys()`.",
     "output_type": "error",
     "traceback": [
      "\u001b[0;31m---------------------------------------------------------------------------\u001b[0m",
      "\u001b[0;31mValueError\u001b[0m                                Traceback (most recent call last)",
      "\u001b[0;32m<ipython-input-249-a42c13d6f4d9>\u001b[0m in \u001b[0;36m<module>\u001b[0;34m\u001b[0m\n\u001b[1;32m      9\u001b[0m     scoring=rmsle_neg)\n\u001b[1;32m     10\u001b[0m \u001b[0;34m\u001b[0m\u001b[0m\n\u001b[0;32m---> 11\u001b[0;31m \u001b[0mgrid_search\u001b[0m\u001b[0;34m.\u001b[0m\u001b[0mfit\u001b[0m\u001b[0;34m(\u001b[0m\u001b[0mX\u001b[0m\u001b[0;34m,\u001b[0m \u001b[0my\u001b[0m\u001b[0;34m)\u001b[0m\u001b[0;34m\u001b[0m\u001b[0;34m\u001b[0m\u001b[0m\n\u001b[0m\u001b[1;32m     12\u001b[0m \u001b[0;34m\u001b[0m\u001b[0m\n\u001b[1;32m     13\u001b[0m \u001b[0mgrid_search\u001b[0m\u001b[0;34m.\u001b[0m\u001b[0mbest_params_\u001b[0m\u001b[0;34m\u001b[0m\u001b[0;34m\u001b[0m\u001b[0m\n",
      "\u001b[0;32m/usr/local/lib/python3.7/site-packages/sklearn/model_selection/_search.py\u001b[0m in \u001b[0;36mfit\u001b[0;34m(self, X, y, groups, **fit_params)\u001b[0m\n\u001b[1;32m    889\u001b[0m                 \u001b[0;32mreturn\u001b[0m \u001b[0mresults\u001b[0m\u001b[0;34m\u001b[0m\u001b[0;34m\u001b[0m\u001b[0m\n\u001b[1;32m    890\u001b[0m \u001b[0;34m\u001b[0m\u001b[0m\n\u001b[0;32m--> 891\u001b[0;31m             \u001b[0mself\u001b[0m\u001b[0;34m.\u001b[0m\u001b[0m_run_search\u001b[0m\u001b[0;34m(\u001b[0m\u001b[0mevaluate_candidates\u001b[0m\u001b[0;34m)\u001b[0m\u001b[0;34m\u001b[0m\u001b[0;34m\u001b[0m\u001b[0m\n\u001b[0m\u001b[1;32m    892\u001b[0m \u001b[0;34m\u001b[0m\u001b[0m\n\u001b[1;32m    893\u001b[0m             \u001b[0;31m# multimetric is determined here because in the case of a callable\u001b[0m\u001b[0;34m\u001b[0m\u001b[0;34m\u001b[0m\u001b[0;34m\u001b[0m\u001b[0m\n",
      "\u001b[0;32m/usr/local/lib/python3.7/site-packages/sklearn/model_selection/_search.py\u001b[0m in \u001b[0;36m_run_search\u001b[0;34m(self, evaluate_candidates)\u001b[0m\n\u001b[1;32m   1390\u001b[0m     \u001b[0;32mdef\u001b[0m \u001b[0m_run_search\u001b[0m\u001b[0;34m(\u001b[0m\u001b[0mself\u001b[0m\u001b[0;34m,\u001b[0m \u001b[0mevaluate_candidates\u001b[0m\u001b[0;34m)\u001b[0m\u001b[0;34m:\u001b[0m\u001b[0;34m\u001b[0m\u001b[0;34m\u001b[0m\u001b[0m\n\u001b[1;32m   1391\u001b[0m         \u001b[0;34m\"\"\"Search all candidates in param_grid\"\"\"\u001b[0m\u001b[0;34m\u001b[0m\u001b[0;34m\u001b[0m\u001b[0m\n\u001b[0;32m-> 1392\u001b[0;31m         \u001b[0mevaluate_candidates\u001b[0m\u001b[0;34m(\u001b[0m\u001b[0mParameterGrid\u001b[0m\u001b[0;34m(\u001b[0m\u001b[0mself\u001b[0m\u001b[0;34m.\u001b[0m\u001b[0mparam_grid\u001b[0m\u001b[0;34m)\u001b[0m\u001b[0;34m)\u001b[0m\u001b[0;34m\u001b[0m\u001b[0;34m\u001b[0m\u001b[0m\n\u001b[0m\u001b[1;32m   1393\u001b[0m \u001b[0;34m\u001b[0m\u001b[0m\n\u001b[1;32m   1394\u001b[0m \u001b[0;34m\u001b[0m\u001b[0m\n",
      "\u001b[0;32m/usr/local/lib/python3.7/site-packages/sklearn/model_selection/_search.py\u001b[0m in \u001b[0;36mevaluate_candidates\u001b[0;34m(candidate_params, cv, more_results)\u001b[0m\n\u001b[1;32m    849\u001b[0m                     )\n\u001b[1;32m    850\u001b[0m                     for (cand_idx, parameters), (split_idx, (train, test)) in product(\n\u001b[0;32m--> 851\u001b[0;31m                         \u001b[0menumerate\u001b[0m\u001b[0;34m(\u001b[0m\u001b[0mcandidate_params\u001b[0m\u001b[0;34m)\u001b[0m\u001b[0;34m,\u001b[0m \u001b[0menumerate\u001b[0m\u001b[0;34m(\u001b[0m\u001b[0mcv\u001b[0m\u001b[0;34m.\u001b[0m\u001b[0msplit\u001b[0m\u001b[0;34m(\u001b[0m\u001b[0mX\u001b[0m\u001b[0;34m,\u001b[0m \u001b[0my\u001b[0m\u001b[0;34m,\u001b[0m \u001b[0mgroups\u001b[0m\u001b[0;34m)\u001b[0m\u001b[0;34m)\u001b[0m\u001b[0;34m\u001b[0m\u001b[0;34m\u001b[0m\u001b[0m\n\u001b[0m\u001b[1;32m    852\u001b[0m                     )\n\u001b[1;32m    853\u001b[0m                 )\n",
      "\u001b[0;32m/usr/local/lib/python3.7/site-packages/joblib/parallel.py\u001b[0m in \u001b[0;36m__call__\u001b[0;34m(self, iterable)\u001b[0m\n\u001b[1;32m   1041\u001b[0m             \u001b[0;31m# remaining jobs.\u001b[0m\u001b[0;34m\u001b[0m\u001b[0;34m\u001b[0m\u001b[0;34m\u001b[0m\u001b[0m\n\u001b[1;32m   1042\u001b[0m             \u001b[0mself\u001b[0m\u001b[0;34m.\u001b[0m\u001b[0m_iterating\u001b[0m \u001b[0;34m=\u001b[0m \u001b[0;32mFalse\u001b[0m\u001b[0;34m\u001b[0m\u001b[0;34m\u001b[0m\u001b[0m\n\u001b[0;32m-> 1043\u001b[0;31m             \u001b[0;32mif\u001b[0m \u001b[0mself\u001b[0m\u001b[0;34m.\u001b[0m\u001b[0mdispatch_one_batch\u001b[0m\u001b[0;34m(\u001b[0m\u001b[0miterator\u001b[0m\u001b[0;34m)\u001b[0m\u001b[0;34m:\u001b[0m\u001b[0;34m\u001b[0m\u001b[0;34m\u001b[0m\u001b[0m\n\u001b[0m\u001b[1;32m   1044\u001b[0m                 \u001b[0mself\u001b[0m\u001b[0;34m.\u001b[0m\u001b[0m_iterating\u001b[0m \u001b[0;34m=\u001b[0m \u001b[0mself\u001b[0m\u001b[0;34m.\u001b[0m\u001b[0m_original_iterator\u001b[0m \u001b[0;32mis\u001b[0m \u001b[0;32mnot\u001b[0m \u001b[0;32mNone\u001b[0m\u001b[0;34m\u001b[0m\u001b[0;34m\u001b[0m\u001b[0m\n\u001b[1;32m   1045\u001b[0m \u001b[0;34m\u001b[0m\u001b[0m\n",
      "\u001b[0;32m/usr/local/lib/python3.7/site-packages/joblib/parallel.py\u001b[0m in \u001b[0;36mdispatch_one_batch\u001b[0;34m(self, iterator)\u001b[0m\n\u001b[1;32m    859\u001b[0m                 \u001b[0;32mreturn\u001b[0m \u001b[0;32mFalse\u001b[0m\u001b[0;34m\u001b[0m\u001b[0;34m\u001b[0m\u001b[0m\n\u001b[1;32m    860\u001b[0m             \u001b[0;32melse\u001b[0m\u001b[0;34m:\u001b[0m\u001b[0;34m\u001b[0m\u001b[0;34m\u001b[0m\u001b[0m\n\u001b[0;32m--> 861\u001b[0;31m                 \u001b[0mself\u001b[0m\u001b[0;34m.\u001b[0m\u001b[0m_dispatch\u001b[0m\u001b[0;34m(\u001b[0m\u001b[0mtasks\u001b[0m\u001b[0;34m)\u001b[0m\u001b[0;34m\u001b[0m\u001b[0;34m\u001b[0m\u001b[0m\n\u001b[0m\u001b[1;32m    862\u001b[0m                 \u001b[0;32mreturn\u001b[0m \u001b[0;32mTrue\u001b[0m\u001b[0;34m\u001b[0m\u001b[0;34m\u001b[0m\u001b[0m\n\u001b[1;32m    863\u001b[0m \u001b[0;34m\u001b[0m\u001b[0m\n",
      "\u001b[0;32m/usr/local/lib/python3.7/site-packages/joblib/parallel.py\u001b[0m in \u001b[0;36m_dispatch\u001b[0;34m(self, batch)\u001b[0m\n\u001b[1;32m    777\u001b[0m         \u001b[0;32mwith\u001b[0m \u001b[0mself\u001b[0m\u001b[0;34m.\u001b[0m\u001b[0m_lock\u001b[0m\u001b[0;34m:\u001b[0m\u001b[0;34m\u001b[0m\u001b[0;34m\u001b[0m\u001b[0m\n\u001b[1;32m    778\u001b[0m             \u001b[0mjob_idx\u001b[0m \u001b[0;34m=\u001b[0m \u001b[0mlen\u001b[0m\u001b[0;34m(\u001b[0m\u001b[0mself\u001b[0m\u001b[0;34m.\u001b[0m\u001b[0m_jobs\u001b[0m\u001b[0;34m)\u001b[0m\u001b[0;34m\u001b[0m\u001b[0;34m\u001b[0m\u001b[0m\n\u001b[0;32m--> 779\u001b[0;31m             \u001b[0mjob\u001b[0m \u001b[0;34m=\u001b[0m \u001b[0mself\u001b[0m\u001b[0;34m.\u001b[0m\u001b[0m_backend\u001b[0m\u001b[0;34m.\u001b[0m\u001b[0mapply_async\u001b[0m\u001b[0;34m(\u001b[0m\u001b[0mbatch\u001b[0m\u001b[0;34m,\u001b[0m \u001b[0mcallback\u001b[0m\u001b[0;34m=\u001b[0m\u001b[0mcb\u001b[0m\u001b[0;34m)\u001b[0m\u001b[0;34m\u001b[0m\u001b[0;34m\u001b[0m\u001b[0m\n\u001b[0m\u001b[1;32m    780\u001b[0m             \u001b[0;31m# A job can complete so quickly than its callback is\u001b[0m\u001b[0;34m\u001b[0m\u001b[0;34m\u001b[0m\u001b[0;34m\u001b[0m\u001b[0m\n\u001b[1;32m    781\u001b[0m             \u001b[0;31m# called before we get here, causing self._jobs to\u001b[0m\u001b[0;34m\u001b[0m\u001b[0;34m\u001b[0m\u001b[0;34m\u001b[0m\u001b[0m\n",
      "\u001b[0;32m/usr/local/lib/python3.7/site-packages/joblib/_parallel_backends.py\u001b[0m in \u001b[0;36mapply_async\u001b[0;34m(self, func, callback)\u001b[0m\n\u001b[1;32m    206\u001b[0m     \u001b[0;32mdef\u001b[0m \u001b[0mapply_async\u001b[0m\u001b[0;34m(\u001b[0m\u001b[0mself\u001b[0m\u001b[0;34m,\u001b[0m \u001b[0mfunc\u001b[0m\u001b[0;34m,\u001b[0m \u001b[0mcallback\u001b[0m\u001b[0;34m=\u001b[0m\u001b[0;32mNone\u001b[0m\u001b[0;34m)\u001b[0m\u001b[0;34m:\u001b[0m\u001b[0;34m\u001b[0m\u001b[0;34m\u001b[0m\u001b[0m\n\u001b[1;32m    207\u001b[0m         \u001b[0;34m\"\"\"Schedule a func to be run\"\"\"\u001b[0m\u001b[0;34m\u001b[0m\u001b[0;34m\u001b[0m\u001b[0m\n\u001b[0;32m--> 208\u001b[0;31m         \u001b[0mresult\u001b[0m \u001b[0;34m=\u001b[0m \u001b[0mImmediateResult\u001b[0m\u001b[0;34m(\u001b[0m\u001b[0mfunc\u001b[0m\u001b[0;34m)\u001b[0m\u001b[0;34m\u001b[0m\u001b[0;34m\u001b[0m\u001b[0m\n\u001b[0m\u001b[1;32m    209\u001b[0m         \u001b[0;32mif\u001b[0m \u001b[0mcallback\u001b[0m\u001b[0;34m:\u001b[0m\u001b[0;34m\u001b[0m\u001b[0;34m\u001b[0m\u001b[0m\n\u001b[1;32m    210\u001b[0m             \u001b[0mcallback\u001b[0m\u001b[0;34m(\u001b[0m\u001b[0mresult\u001b[0m\u001b[0;34m)\u001b[0m\u001b[0;34m\u001b[0m\u001b[0;34m\u001b[0m\u001b[0m\n",
      "\u001b[0;32m/usr/local/lib/python3.7/site-packages/joblib/_parallel_backends.py\u001b[0m in \u001b[0;36m__init__\u001b[0;34m(self, batch)\u001b[0m\n\u001b[1;32m    570\u001b[0m         \u001b[0;31m# Don't delay the application, to avoid keeping the input\u001b[0m\u001b[0;34m\u001b[0m\u001b[0;34m\u001b[0m\u001b[0;34m\u001b[0m\u001b[0m\n\u001b[1;32m    571\u001b[0m         \u001b[0;31m# arguments in memory\u001b[0m\u001b[0;34m\u001b[0m\u001b[0;34m\u001b[0m\u001b[0;34m\u001b[0m\u001b[0m\n\u001b[0;32m--> 572\u001b[0;31m         \u001b[0mself\u001b[0m\u001b[0;34m.\u001b[0m\u001b[0mresults\u001b[0m \u001b[0;34m=\u001b[0m \u001b[0mbatch\u001b[0m\u001b[0;34m(\u001b[0m\u001b[0;34m)\u001b[0m\u001b[0;34m\u001b[0m\u001b[0;34m\u001b[0m\u001b[0m\n\u001b[0m\u001b[1;32m    573\u001b[0m \u001b[0;34m\u001b[0m\u001b[0m\n\u001b[1;32m    574\u001b[0m     \u001b[0;32mdef\u001b[0m \u001b[0mget\u001b[0m\u001b[0;34m(\u001b[0m\u001b[0mself\u001b[0m\u001b[0;34m)\u001b[0m\u001b[0;34m:\u001b[0m\u001b[0;34m\u001b[0m\u001b[0;34m\u001b[0m\u001b[0m\n",
      "\u001b[0;32m/usr/local/lib/python3.7/site-packages/joblib/parallel.py\u001b[0m in \u001b[0;36m__call__\u001b[0;34m(self)\u001b[0m\n\u001b[1;32m    261\u001b[0m         \u001b[0;32mwith\u001b[0m \u001b[0mparallel_backend\u001b[0m\u001b[0;34m(\u001b[0m\u001b[0mself\u001b[0m\u001b[0;34m.\u001b[0m\u001b[0m_backend\u001b[0m\u001b[0;34m,\u001b[0m \u001b[0mn_jobs\u001b[0m\u001b[0;34m=\u001b[0m\u001b[0mself\u001b[0m\u001b[0;34m.\u001b[0m\u001b[0m_n_jobs\u001b[0m\u001b[0;34m)\u001b[0m\u001b[0;34m:\u001b[0m\u001b[0;34m\u001b[0m\u001b[0;34m\u001b[0m\u001b[0m\n\u001b[1;32m    262\u001b[0m             return [func(*args, **kwargs)\n\u001b[0;32m--> 263\u001b[0;31m                     for func, args, kwargs in self.items]\n\u001b[0m\u001b[1;32m    264\u001b[0m \u001b[0;34m\u001b[0m\u001b[0m\n\u001b[1;32m    265\u001b[0m     \u001b[0;32mdef\u001b[0m \u001b[0m__reduce__\u001b[0m\u001b[0;34m(\u001b[0m\u001b[0mself\u001b[0m\u001b[0;34m)\u001b[0m\u001b[0;34m:\u001b[0m\u001b[0;34m\u001b[0m\u001b[0;34m\u001b[0m\u001b[0m\n",
      "\u001b[0;32m/usr/local/lib/python3.7/site-packages/joblib/parallel.py\u001b[0m in \u001b[0;36m<listcomp>\u001b[0;34m(.0)\u001b[0m\n\u001b[1;32m    261\u001b[0m         \u001b[0;32mwith\u001b[0m \u001b[0mparallel_backend\u001b[0m\u001b[0;34m(\u001b[0m\u001b[0mself\u001b[0m\u001b[0;34m.\u001b[0m\u001b[0m_backend\u001b[0m\u001b[0;34m,\u001b[0m \u001b[0mn_jobs\u001b[0m\u001b[0;34m=\u001b[0m\u001b[0mself\u001b[0m\u001b[0;34m.\u001b[0m\u001b[0m_n_jobs\u001b[0m\u001b[0;34m)\u001b[0m\u001b[0;34m:\u001b[0m\u001b[0;34m\u001b[0m\u001b[0;34m\u001b[0m\u001b[0m\n\u001b[1;32m    262\u001b[0m             return [func(*args, **kwargs)\n\u001b[0;32m--> 263\u001b[0;31m                     for func, args, kwargs in self.items]\n\u001b[0m\u001b[1;32m    264\u001b[0m \u001b[0;34m\u001b[0m\u001b[0m\n\u001b[1;32m    265\u001b[0m     \u001b[0;32mdef\u001b[0m \u001b[0m__reduce__\u001b[0m\u001b[0;34m(\u001b[0m\u001b[0mself\u001b[0m\u001b[0;34m)\u001b[0m\u001b[0;34m:\u001b[0m\u001b[0;34m\u001b[0m\u001b[0;34m\u001b[0m\u001b[0m\n",
      "\u001b[0;32m/usr/local/lib/python3.7/site-packages/sklearn/utils/fixes.py\u001b[0m in \u001b[0;36m__call__\u001b[0;34m(self, *args, **kwargs)\u001b[0m\n\u001b[1;32m    214\u001b[0m     \u001b[0;32mdef\u001b[0m \u001b[0m__call__\u001b[0m\u001b[0;34m(\u001b[0m\u001b[0mself\u001b[0m\u001b[0;34m,\u001b[0m \u001b[0;34m*\u001b[0m\u001b[0margs\u001b[0m\u001b[0;34m,\u001b[0m \u001b[0;34m**\u001b[0m\u001b[0mkwargs\u001b[0m\u001b[0;34m)\u001b[0m\u001b[0;34m:\u001b[0m\u001b[0;34m\u001b[0m\u001b[0;34m\u001b[0m\u001b[0m\n\u001b[1;32m    215\u001b[0m         \u001b[0;32mwith\u001b[0m \u001b[0mconfig_context\u001b[0m\u001b[0;34m(\u001b[0m\u001b[0;34m**\u001b[0m\u001b[0mself\u001b[0m\u001b[0;34m.\u001b[0m\u001b[0mconfig\u001b[0m\u001b[0;34m)\u001b[0m\u001b[0;34m:\u001b[0m\u001b[0;34m\u001b[0m\u001b[0;34m\u001b[0m\u001b[0m\n\u001b[0;32m--> 216\u001b[0;31m             \u001b[0;32mreturn\u001b[0m \u001b[0mself\u001b[0m\u001b[0;34m.\u001b[0m\u001b[0mfunction\u001b[0m\u001b[0;34m(\u001b[0m\u001b[0;34m*\u001b[0m\u001b[0margs\u001b[0m\u001b[0;34m,\u001b[0m \u001b[0;34m**\u001b[0m\u001b[0mkwargs\u001b[0m\u001b[0;34m)\u001b[0m\u001b[0;34m\u001b[0m\u001b[0;34m\u001b[0m\u001b[0m\n\u001b[0m\u001b[1;32m    217\u001b[0m \u001b[0;34m\u001b[0m\u001b[0m\n\u001b[1;32m    218\u001b[0m \u001b[0;34m\u001b[0m\u001b[0m\n",
      "\u001b[0;32m/usr/local/lib/python3.7/site-packages/sklearn/model_selection/_validation.py\u001b[0m in \u001b[0;36m_fit_and_score\u001b[0;34m(estimator, X, y, scorer, train, test, verbose, parameters, fit_params, return_train_score, return_parameters, return_n_test_samples, return_times, return_estimator, split_progress, candidate_progress, error_score)\u001b[0m\n\u001b[1;32m    666\u001b[0m             \u001b[0mcloned_parameters\u001b[0m\u001b[0;34m[\u001b[0m\u001b[0mk\u001b[0m\u001b[0;34m]\u001b[0m \u001b[0;34m=\u001b[0m \u001b[0mclone\u001b[0m\u001b[0;34m(\u001b[0m\u001b[0mv\u001b[0m\u001b[0;34m,\u001b[0m \u001b[0msafe\u001b[0m\u001b[0;34m=\u001b[0m\u001b[0;32mFalse\u001b[0m\u001b[0;34m)\u001b[0m\u001b[0;34m\u001b[0m\u001b[0;34m\u001b[0m\u001b[0m\n\u001b[1;32m    667\u001b[0m \u001b[0;34m\u001b[0m\u001b[0m\n\u001b[0;32m--> 668\u001b[0;31m         \u001b[0mestimator\u001b[0m \u001b[0;34m=\u001b[0m \u001b[0mestimator\u001b[0m\u001b[0;34m.\u001b[0m\u001b[0mset_params\u001b[0m\u001b[0;34m(\u001b[0m\u001b[0;34m**\u001b[0m\u001b[0mcloned_parameters\u001b[0m\u001b[0;34m)\u001b[0m\u001b[0;34m\u001b[0m\u001b[0;34m\u001b[0m\u001b[0m\n\u001b[0m\u001b[1;32m    669\u001b[0m \u001b[0;34m\u001b[0m\u001b[0m\n\u001b[1;32m    670\u001b[0m     \u001b[0mstart_time\u001b[0m \u001b[0;34m=\u001b[0m \u001b[0mtime\u001b[0m\u001b[0;34m.\u001b[0m\u001b[0mtime\u001b[0m\u001b[0;34m(\u001b[0m\u001b[0;34m)\u001b[0m\u001b[0;34m\u001b[0m\u001b[0;34m\u001b[0m\u001b[0m\n",
      "\u001b[0;32m/usr/local/lib/python3.7/site-packages/sklearn/pipeline.py\u001b[0m in \u001b[0;36mset_params\u001b[0;34m(self, **kwargs)\u001b[0m\n\u001b[1;32m    186\u001b[0m             \u001b[0mPipeline\u001b[0m \u001b[0;32mclass\u001b[0m \u001b[0minstance\u001b[0m\u001b[0;34m.\u001b[0m\u001b[0;34m\u001b[0m\u001b[0;34m\u001b[0m\u001b[0m\n\u001b[1;32m    187\u001b[0m         \"\"\"\n\u001b[0;32m--> 188\u001b[0;31m         \u001b[0mself\u001b[0m\u001b[0;34m.\u001b[0m\u001b[0m_set_params\u001b[0m\u001b[0;34m(\u001b[0m\u001b[0;34m\"steps\"\u001b[0m\u001b[0;34m,\u001b[0m \u001b[0;34m**\u001b[0m\u001b[0mkwargs\u001b[0m\u001b[0;34m)\u001b[0m\u001b[0;34m\u001b[0m\u001b[0;34m\u001b[0m\u001b[0m\n\u001b[0m\u001b[1;32m    189\u001b[0m         \u001b[0;32mreturn\u001b[0m \u001b[0mself\u001b[0m\u001b[0;34m\u001b[0m\u001b[0;34m\u001b[0m\u001b[0m\n\u001b[1;32m    190\u001b[0m \u001b[0;34m\u001b[0m\u001b[0m\n",
      "\u001b[0;32m/usr/local/lib/python3.7/site-packages/sklearn/utils/metaestimators.py\u001b[0m in \u001b[0;36m_set_params\u001b[0;34m(self, attr, **params)\u001b[0m\n\u001b[1;32m     52\u001b[0m                 \u001b[0mself\u001b[0m\u001b[0;34m.\u001b[0m\u001b[0m_replace_estimator\u001b[0m\u001b[0;34m(\u001b[0m\u001b[0mattr\u001b[0m\u001b[0;34m,\u001b[0m \u001b[0mname\u001b[0m\u001b[0;34m,\u001b[0m \u001b[0mparams\u001b[0m\u001b[0;34m.\u001b[0m\u001b[0mpop\u001b[0m\u001b[0;34m(\u001b[0m\u001b[0mname\u001b[0m\u001b[0;34m)\u001b[0m\u001b[0;34m)\u001b[0m\u001b[0;34m\u001b[0m\u001b[0;34m\u001b[0m\u001b[0m\n\u001b[1;32m     53\u001b[0m         \u001b[0;31m# 3. Step parameters and other initialisation arguments\u001b[0m\u001b[0;34m\u001b[0m\u001b[0;34m\u001b[0m\u001b[0;34m\u001b[0m\u001b[0m\n\u001b[0;32m---> 54\u001b[0;31m         \u001b[0msuper\u001b[0m\u001b[0;34m(\u001b[0m\u001b[0;34m)\u001b[0m\u001b[0;34m.\u001b[0m\u001b[0mset_params\u001b[0m\u001b[0;34m(\u001b[0m\u001b[0;34m**\u001b[0m\u001b[0mparams\u001b[0m\u001b[0;34m)\u001b[0m\u001b[0;34m\u001b[0m\u001b[0;34m\u001b[0m\u001b[0m\n\u001b[0m\u001b[1;32m     55\u001b[0m         \u001b[0;32mreturn\u001b[0m \u001b[0mself\u001b[0m\u001b[0;34m\u001b[0m\u001b[0;34m\u001b[0m\u001b[0m\n\u001b[1;32m     56\u001b[0m \u001b[0;34m\u001b[0m\u001b[0m\n",
      "\u001b[0;32m/usr/local/lib/python3.7/site-packages/sklearn/base.py\u001b[0m in \u001b[0;36mset_params\u001b[0;34m(self, **params)\u001b[0m\n\u001b[1;32m    246\u001b[0m                     \u001b[0;34m\"Invalid parameter %s for estimator %s. \"\u001b[0m\u001b[0;34m\u001b[0m\u001b[0;34m\u001b[0m\u001b[0m\n\u001b[1;32m    247\u001b[0m                     \u001b[0;34m\"Check the list of available parameters \"\u001b[0m\u001b[0;34m\u001b[0m\u001b[0;34m\u001b[0m\u001b[0m\n\u001b[0;32m--> 248\u001b[0;31m                     \u001b[0;34m\"with `estimator.get_params().keys()`.\"\u001b[0m \u001b[0;34m%\u001b[0m \u001b[0;34m(\u001b[0m\u001b[0mkey\u001b[0m\u001b[0;34m,\u001b[0m \u001b[0mself\u001b[0m\u001b[0;34m)\u001b[0m\u001b[0;34m\u001b[0m\u001b[0;34m\u001b[0m\u001b[0m\n\u001b[0m\u001b[1;32m    249\u001b[0m                 )\n\u001b[1;32m    250\u001b[0m \u001b[0;34m\u001b[0m\u001b[0m\n",
      "\u001b[0;31mValueError\u001b[0m: Invalid parameter votingregressor for estimator Pipeline(steps=[('columntransformer',\n                 ColumnTransformer(transformers=[('num_tr',\n                                                  Pipeline(steps=[('simpleimputer',\n                                                                   SimpleImputer()),\n                                                                  ('minmaxscaler',\n                                                                   MinMaxScaler())]),\n                                                  <sklearn.compose._column_transformer.make_column_selector object at 0x126549250>),\n                                                 ('cat_tr',\n                                                  Pipeline(steps=[('simpleimputer',\n                                                                   SimpleImputer(strategy='most_frequent')),\n                                                                  ('onehotencoder',\n                                                                   OneHotE...\n                              gamma=None, gpu_id=None, grow_policy=None,\n                              importance_type=None,\n                              interaction_constraints=None, learning_rate=None,\n                              max_bin=None, max_cat_to_onehot=None,\n                              max_delta_step=None, max_depth=None,\n                              max_leaves=None, min_child_weight=None,\n                              missing=nan, monotone_constraints=None,\n                              n_estimators=100, n_jobs=None,\n                              num_parallel_tree=None, predictor=None,\n                              random_state=None, reg_alpha=None,\n                              reg_lambda=None, ...))]). Check the list of available parameters with `estimator.get_params().keys()`."
     ]
    }
   ],
   "source": [
    "# pipe_stacking.get_params()\n",
    "grid_search = GridSearchCV(\n",
    "    pipe_xgb, \n",
    "    param_grid={\n",
    "        # Access any component of the Pipeline, as far back as you want\n",
    "        'votingregressor__weights': [[0.7, 0.3], [0.6, 0.4]],\n",
    "    },\n",
    "    cv=5,\n",
    "    scoring=rmsle_neg)\n",
    "\n",
    "grid_search.fit(X, y)\n",
    "\n",
    "grid_search.best_params_"
   ]
  },
  {
   "cell_type": "code",
   "execution_count": 253,
   "metadata": {},
   "outputs": [
    {
     "data": {
      "text/plain": [
       "0.13025901528002326"
      ]
     },
     "execution_count": 253,
     "metadata": {},
     "output_type": "execute_result"
    }
   ],
   "source": [
    "score_xgb = cross_val_score(pipe_stacking, X, y, cv=5, scoring=rmsle).mean()\n",
    "score_xgb"
   ]
  },
  {
   "cell_type": "markdown",
   "metadata": {},
   "source": [
    "## 🏋️‍♀️ 2. ITERATIONS "
   ]
  },
  {
   "cell_type": "markdown",
   "metadata": {},
   "source": [
    "🎉 🎉 Congratulation for having fully pipelined a baseline model! You will see now how much easier it is to iterate and improve performance 🚀\n",
    "\n",
    "- Your goal is to improve your prediction and submit it online **at least 30 minutes before the Recap ⏳**\n",
    "- We have some suggestions for improvements below: **Pick your battles** and **incrementally** improve your pipeline as you see fit"
   ]
  },
  {
   "cell_type": "markdown",
   "metadata": {},
   "source": [
    "**Estimators**\n",
    "\n",
    "- **Tree-based ensembles (must try today)**: Probably the best suited for problems with many categorical features\n",
    "- Stacking !\n",
    "- XGBoost !\n",
    "\n",
    "**Preprocessing** (once your first ensemble model works)\n",
    "\n",
    "- Ordinal Encoding of categorical features with a hidden notion of order in their values (e.g. \"bad\", \"average\", good\")\n",
    "- Statistical Feature Selection to remove useless features (avoid overfitting and reduce train time)\n",
    "- Predict `log(SalePrice)` instead?\n",
    "- ..."
   ]
  },
  {
   "cell_type": "markdown",
   "metadata": {},
   "source": [
    "### 2.1 Preprocessing Iteration ♲ \n",
    "(**⚠️ come back here only after you have iterated on your estimators on section 2.2)**\n",
    "\n",
    "⏩ Collapse me if you don't use me!"
   ]
  },
  {
   "cell_type": "markdown",
   "metadata": {},
   "source": [
    "#### a) Ordinal Encoding (1h)"
   ]
  },
  {
   "cell_type": "markdown",
   "metadata": {},
   "source": [
    "❓ Look at the following feature below. Couldn't it be encoded numerically in a wise manner?\n",
    "```\n",
    "ExterQual: Evaluates the quality of the material on the exterior \n",
    "\t\t\n",
    "       Ex\tExcellent\n",
    "       Gd\tGood\n",
    "       TA\tAverage/Typical\n",
    "       Fa\tFair\n",
    "       Po\tPoor\n",
    "```"
   ]
  },
  {
   "cell_type": "markdown",
   "metadata": {},
   "source": [
    "💡 Luckily, the `OrdinalEncoder` and its argument `categories`  allows us to do just that. Check it out below and make sure to understand how this works"
   ]
  },
  {
   "cell_type": "code",
   "execution_count": null,
   "metadata": {},
   "outputs": [],
   "source": [
    "# Define specific order for features\n",
    "# Note: if you change this order, it will change the output for .transform()\n",
    "feature_A_sorted_values = ['bad', 'average', 'good'] \n",
    "feature_B_sorted_values = ['dirty', 'clean', 'new']\n",
    "\n",
    "encoder = OrdinalEncoder(\n",
    "    categories=[\n",
    "        feature_A_sorted_values,\n",
    "        feature_B_sorted_values\n",
    "    ],\n",
    "    handle_unknown=\"use_encoded_value\",\n",
    "    unknown_value=-1\n",
    ")\n",
    "\n",
    "# Just some random training data\n",
    "XX = [\n",
    "    ['good', 'dirty'],\n",
    "    ['bad', 'new'],\n",
    "    ['average', 'clean'],\n",
    "]\n",
    "\n",
    "encoder.fit(XX)\n",
    "\n",
    "encoder.transform([\n",
    "        ['bad', \"dirty\"],\n",
    "        [\"average\", \"clean\"],\n",
    "        ['good', 'new'],\n",
    "        ['bad', 'oooops never seen this label before']\n",
    "])"
   ]
  },
  {
   "cell_type": "markdown",
   "metadata": {},
   "source": [
    "---\n",
    "❓ **Your turn**: split your categorical preprocessor into\n",
    "\n",
    "- `preproc_ordinal` to ordinally encode **some features** of your choice\n",
    "- `preproc_nominal` to one-hot encode the other ones\n",
    "\n",
    "\n",
    "<details>\n",
    "    <summary>Hints</summary>\n",
    "\n",
    "- You won't be able to avoid hard-coding names and ordered values of features! Be tidy!\n",
    "- It's a good practice to sort alphabetically your features to avoid bad surprises\n",
    "</details>"
   ]
  },
  {
   "cell_type": "code",
   "execution_count": null,
   "metadata": {
    "tags": [
     "challengify"
    ]
   },
   "outputs": [],
   "source": [
    "# YOUR CODE HERE"
   ]
  },
  {
   "cell_type": "markdown",
   "metadata": {},
   "source": [
    "#### b) Statistical Feature Selection (~30min)"
   ]
  },
  {
   "cell_type": "markdown",
   "metadata": {},
   "source": [
    "Our goal is to remove the least interesting features, to limit overfitting and shorten training time.  \n",
    "\n",
    "🔥 We will make use of sklearn's [feature selection](https://scikit-learn.org/stable/modules/classes.html#module-sklearn.feature_selection) transformers directly in your pipeline!\n",
    "\n",
    "❗️ We recommend you to **try only Option 1 today to start with**. Option 2 and 3 will be corrected in Recap"
   ]
  },
  {
   "cell_type": "markdown",
   "metadata": {},
   "source": [
    "##### (Option 1 - recommended) <font color=green>Univariate</font> feature selection based on their mutual information with target `y`"
   ]
  },
  {
   "cell_type": "markdown",
   "metadata": {},
   "source": [
    "- Feel free to add a `SelectPercentile` filter at the end of your `preproc` pipeline.\n",
    "- This will filter-out features that, - taken individually - least explain your target!\n",
    "- The statistical test we recommend to pass to SelectPercentile is the `mutual_info_regression`\n",
    "\n",
    "<details>\n",
    "    <summary markdown='span'>🤔 What is mutual information? Click here!</summary>\n",
    "\n",
    "- Mutual information is a *statistical* distance between two probability distributions.\n",
    "- Correlation is a *linear* distance between two random variables.\n",
    "- Mutual information is more general and measures the reduction of uncertainty in Y after observing X.\n",
    "- On the other hand, if you already know you are working with variables that are smooth (like continuous numerical variables), sometimes correlation may tell you more about them, for instance if their relationship is monotonic.\n",
    "\n",
    "See [animation](https://twitter.com/ari_seff/status/1409296508634152964)\n",
    "</details>"
   ]
  },
  {
   "cell_type": "code",
   "execution_count": null,
   "metadata": {
    "tags": [
     "challengify"
    ]
   },
   "outputs": [],
   "source": [
    "# YOUR CODE HERE"
   ]
  },
  {
   "cell_type": "markdown",
   "metadata": {},
   "source": [
    "##### (option 2) <font color=green>Multivariate</font> feature selection based their combined relationship with target `y`"
   ]
  },
  {
   "cell_type": "markdown",
   "metadata": {},
   "source": [
    "🤔 We want to remove features that, when in combination with all the others, do not really help predict our target.\n",
    "\n",
    "1️⃣ To do so, remember that we can use feature [`permutation_importance`](https://scikit-learn.org/stable/modules/permutation_importance.html) metric in combination with an estimator! It trains one pipe per feature, so as to estimate which feature makes our performance score *decrease* the most when shuffling it randomly. These would be our most important features, which we don't want to remove. \n",
    "\n",
    "The best thing is, scikit-learn allows you to integrate this methodology directly into your `preproc` pipeline thanks to the [`SequentialFeatureSelector`](https://scikit-learn.org/stable/modules/generated/sklearn.feature_selection.SequentialFeatureSelector.html) transformer: this will recursively remove least important features according to the `cross_val_score`.\n",
    "\n",
    "However, this process can take extremely long to train when you have many features.\n",
    "\n",
    "2️⃣ Alternatively, a faster way would be to make use of models that already output some measure of feature_importance when fitting them. For instance, Trees with gini-based `feature_importance_`, or Lasso regressions with L1 `coef_`. Again here, scikit-learn already has the [`SelectFromModel`](https://scikit-learn.org/stable/modules/generated/sklearn.feature_selection.SelectFromModel.html) transformer to do just that."
   ]
  },
  {
   "cell_type": "code",
   "execution_count": null,
   "metadata": {
    "tags": [
     "challengify"
    ]
   },
   "outputs": [],
   "source": [
    "# YOUR CODE HERE"
   ]
  },
  {
   "cell_type": "markdown",
   "metadata": {},
   "source": [
    "##### (option 3) <font color=green>Unsupervised</font> selection: Filter based only on the properties of `X`? "
   ]
  },
  {
   "cell_type": "markdown",
   "metadata": {},
   "source": [
    "❓ A quick win is to remove features with the lowest variance. Think about it: a feature which only has one value is useless (and has a variance of 0).  \n",
    "- Feel free to add a [`VarianceThreshold`](https://scikit-learn.org/stable/modules/generated/sklearn.feature_selection.VarianceThreshold.html) to the end of your pipeline"
   ]
  },
  {
   "cell_type": "code",
   "execution_count": null,
   "metadata": {
    "tags": [
     "challengify"
    ]
   },
   "outputs": [],
   "source": [
    "# YOUR CODE HERE"
   ]
  },
  {
   "cell_type": "markdown",
   "metadata": {},
   "source": [
    "❓ Additionally, we can check for correlation between our **numerical features** only\n",
    "\n",
    "- Use [Pearson's correlation](https://en.wikipedia.org/wiki/Pearson_correlation_coefficient) combined with a heatmap to check visually whether some **numerical** features almost entirely correlate with others. \n",
    "- Use `VIF` from statsmodels to check for features that have the highest multicollinearity"
   ]
  },
  {
   "cell_type": "code",
   "execution_count": null,
   "metadata": {
    "tags": [
     "challengify"
    ]
   },
   "outputs": [],
   "source": [
    "# YOUR CODE HERE"
   ]
  },
  {
   "cell_type": "markdown",
   "metadata": {},
   "source": [
    "❓ For **ordinal features**, we can use [Spearman's rank correlation](https://en.wikipedia.org/wiki/Spearman%27s_rank_correlation_coefficient) instead to check whether some **ordinally encoded** features are almost entirely \"ordered\" similarly to others. Feel free to plot a heatmap again"
   ]
  },
  {
   "cell_type": "code",
   "execution_count": null,
   "metadata": {
    "tags": [
     "challengify"
    ]
   },
   "outputs": [],
   "source": [
    "# YOUR CODE HERE"
   ]
  },
  {
   "cell_type": "markdown",
   "metadata": {},
   "source": [
    "❓ Now, feel free to create a \"filter\" in your pipeline that removes any feature you want beyond a given (Spearman + Pearson) correlation threshold. You'll need a custom transformer class"
   ]
  },
  {
   "cell_type": "code",
   "execution_count": null,
   "metadata": {
    "tags": [
     "challengify"
    ]
   },
   "outputs": [],
   "source": [
    "# YOUR CODE HERE"
   ]
  },
  {
   "cell_type": "markdown",
   "metadata": {},
   "source": [
    "#### e) Target engineering (15 min)"
   ]
  },
  {
   "cell_type": "markdown",
   "metadata": {},
   "source": [
    "❓ We are asked to minimize the RMS**L**E. Why don't we transform our target to directly predict its `log`?\n",
    "- Check out the histogram of the target `y`.\n",
    "- Normally distributed variables should be easier to predict with linear or parametric models. \n",
    "- Create `y_log` and your new performance metrics\n",
    "- Don't forget to take the exponent of your predictions at the end!"
   ]
  },
  {
   "cell_type": "code",
   "execution_count": null,
   "metadata": {
    "tags": [
     "challengify"
    ]
   },
   "outputs": [],
   "source": [
    "# YOUR CODE HERE"
   ]
  },
  {
   "cell_type": "markdown",
   "metadata": {},
   "source": [
    "### 2.2 Model Iteration ♻"
   ]
  },
  {
   "cell_type": "markdown",
   "metadata": {},
   "source": [
    "#### a ) Final version of the preproc pipeline\n",
    "❓ We advise you to start with a fresh definition below so you can quickly update it as need be."
   ]
  },
  {
   "cell_type": "code",
   "execution_count": null,
   "metadata": {
    "tags": [
     "challengify"
    ]
   },
   "outputs": [],
   "source": [
    "# YOUR CODE HERE"
   ]
  },
  {
   "cell_type": "markdown",
   "metadata": {},
   "source": [
    "# 🏅FINAL SUBMISSION (submit at least 30 min before Recap)"
   ]
  },
  {
   "cell_type": "markdown",
   "metadata": {},
   "source": [
    "Discover your real test score by submitting on Kaggle! \n",
    "\n",
    "👉 Write down your test score on the [result spreadsheet here](https://docs.google.com/spreadsheets/d/1ZEBKwa_k1Ytb0WCOh-Nopq3eaezwBNu1SAqKXEXRguc/edit#gid=0) (pick the correct batch!)"
   ]
  },
  {
   "cell_type": "code",
   "execution_count": null,
   "metadata": {
    "tags": [
     "challengify"
    ]
   },
   "outputs": [],
   "source": [
    "# YOUR CODE HERE"
   ]
  }
 ],
 "metadata": {
  "kernelspec": {
   "display_name": "Python 3",
   "language": "python",
   "name": "python3"
  },
  "language_info": {
   "codemirror_mode": {
    "name": "ipython",
    "version": 3
   },
   "file_extension": ".py",
   "mimetype": "text/x-python",
   "name": "python",
   "nbconvert_exporter": "python",
   "pygments_lexer": "ipython3",
   "version": "3.7.12"
  }
 },
 "nbformat": 4,
 "nbformat_minor": 4
}
